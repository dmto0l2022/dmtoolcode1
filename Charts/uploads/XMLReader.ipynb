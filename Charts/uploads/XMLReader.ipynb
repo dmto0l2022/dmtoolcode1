{
 "cells": [
  {
   "cell_type": "markdown",
   "id": "596f5662",
   "metadata": {},
   "source": [
    "# XML Reading"
   ]
  },
  {
   "cell_type": "code",
   "execution_count": 7,
   "id": "1beddd1c",
   "metadata": {},
   "outputs": [],
   "source": [
    "import pandas as pd"
   ]
  },
  {
   "cell_type": "code",
   "execution_count": 8,
   "id": "8b3733e7",
   "metadata": {},
   "outputs": [],
   "source": [
    "import xml.etree.ElementTree as ET\n",
    "tree = ET.parse('example.xml')\n",
    "root = tree.getroot()\n",
    "#dv_find = root.findall('data-values')\n",
    "#data = dv_find[0].text"
   ]
  },
  {
   "cell_type": "code",
   "execution_count": 9,
   "id": "2a70114d",
   "metadata": {},
   "outputs": [],
   "source": [
    "def find_xml_text(root_in,tag_in):\n",
    "    dv_find = root_in.findall(tag_in)\n",
    "    return dv_find[0].text"
   ]
  },
  {
   "cell_type": "code",
   "execution_count": 10,
   "id": "ff5470f0",
   "metadata": {},
   "outputs": [],
   "source": [
    "data_values = find_xml_text(root,'data-values')\n",
    "data_comment = find_xml_text(root,'data-comment')"
   ]
  },
  {
   "cell_type": "code",
   "execution_count": 11,
   "id": "edbbc12f",
   "metadata": {},
   "outputs": [],
   "source": [
    "data_label = find_xml_text(root,'data-label')\n",
    "data_reference = find_xml_text(root,'data-reference')\n",
    "date_of_announcement = find_xml_text(root,'date-of-announcement')\n",
    "date_of_run_end = find_xml_text(root,'date-of-run-end')\n",
    "date_of_run_start = find_xml_text(root,'date-of-run-start')\n",
    "default_color = find_xml_text(root,'default-color')\n",
    "\n",
    "default_style = find_xml_text(root,'default-style')\n",
    "experiment = find_xml_text(root,'experiment')\n",
    "public = find_xml_text(root,'public')\n",
    "result_type = find_xml_text(root,'result-type')\n",
    "spin_dependency = find_xml_text(root,'spin-dependency')\n",
    "x_rescale = find_xml_text(root,'x-rescale')\n",
    "x_units = find_xml_text(root,'x-units')\n",
    "y_rescale = find_xml_text(root,'y-rescale')\n",
    "y_units = find_xml_text(root,'y-units')\n",
    "year = find_xml_text(root,'year')"
   ]
  },
  {
   "cell_type": "code",
   "execution_count": 12,
   "id": "5de98b6c",
   "metadata": {},
   "outputs": [
    {
     "data": {
      "text/plain": [
       "'2008'"
      ]
     },
     "execution_count": 12,
     "metadata": {},
     "output_type": "execute_result"
    }
   ],
   "source": [
    "year"
   ]
  },
  {
   "cell_type": "code",
   "execution_count": 13,
   "id": "20a26887",
   "metadata": {},
   "outputs": [
    {
     "data": {
      "text/html": [
       "<div>\n",
       "<style scoped>\n",
       "    .dataframe tbody tr th:only-of-type {\n",
       "        vertical-align: middle;\n",
       "    }\n",
       "\n",
       "    .dataframe tbody tr th {\n",
       "        vertical-align: top;\n",
       "    }\n",
       "\n",
       "    .dataframe thead th {\n",
       "        text-align: right;\n",
       "    }\n",
       "</style>\n",
       "<table border=\"1\" class=\"dataframe\">\n",
       "  <thead>\n",
       "    <tr style=\"text-align: right;\">\n",
       "      <th></th>\n",
       "      <th>data_values</th>\n",
       "      <th>data_comment</th>\n",
       "      <th>data_label</th>\n",
       "      <th>data_reference</th>\n",
       "      <th>date_of_announcement</th>\n",
       "      <th>date_of_run_end</th>\n",
       "      <th>date_of_run_start</th>\n",
       "      <th>default_color</th>\n",
       "      <th>default_style</th>\n",
       "      <th>experiment</th>\n",
       "      <th>public</th>\n",
       "      <th>result_type</th>\n",
       "      <th>spin_dependency</th>\n",
       "      <th>x_rescale</th>\n",
       "      <th>x_units</th>\n",
       "      <th>y_rescale</th>\n",
       "      <th>y_units</th>\n",
       "      <th>year</th>\n",
       "    </tr>\n",
       "  </thead>\n",
       "  <tbody>\n",
       "    <tr>\n",
       "      <th>0</th>\n",
       "      <td>{[98.69386 2.679186e-08;117.6216 2.626349e-08;...</td>\n",
       "      <td>Markov chain monte carlo contours in CMSSM.</td>\n",
       "      <td>Trotta et. al., 2008, CMSSM Bayesian: 68% cont...</td>\n",
       "      <td>arXiv:0809.3792</td>\n",
       "      <td>2008-01-01</td>\n",
       "      <td>None</td>\n",
       "      <td>None</td>\n",
       "      <td>DkB</td>\n",
       "      <td>Fill</td>\n",
       "      <td>Theory</td>\n",
       "      <td>true</td>\n",
       "      <td>Th</td>\n",
       "      <td>SI</td>\n",
       "      <td>1</td>\n",
       "      <td>GeV</td>\n",
       "      <td>1e-36</td>\n",
       "      <td>cm^2</td>\n",
       "      <td>2008</td>\n",
       "    </tr>\n",
       "  </tbody>\n",
       "</table>\n",
       "</div>"
      ],
      "text/plain": [
       "                                         data_values  \\\n",
       "0  {[98.69386 2.679186e-08;117.6216 2.626349e-08;...   \n",
       "\n",
       "                                  data_comment  \\\n",
       "0  Markov chain monte carlo contours in CMSSM.   \n",
       "\n",
       "                                          data_label   data_reference  \\\n",
       "0  Trotta et. al., 2008, CMSSM Bayesian: 68% cont...  arXiv:0809.3792   \n",
       "\n",
       "  date_of_announcement date_of_run_end date_of_run_start default_color  \\\n",
       "0           2008-01-01            None              None           DkB   \n",
       "\n",
       "  default_style experiment public result_type spin_dependency x_rescale  \\\n",
       "0          Fill     Theory   true          Th              SI         1   \n",
       "\n",
       "  x_units y_rescale y_units  year  \n",
       "0     GeV     1e-36    cm^2  2008  "
      ]
     },
     "execution_count": 13,
     "metadata": {},
     "output_type": "execute_result"
    }
   ],
   "source": [
    "#data_df = []\n",
    "data_record = [[data_values,data_comment,data_label,data_reference,date_of_announcement,date_of_run_end,\n",
    "               date_of_run_start,default_color,default_style,experiment,\n",
    "               public,result_type,spin_dependency,x_rescale,x_units,y_rescale,\n",
    "               y_units,year\n",
    "              ]]\n",
    "data_df = pd.DataFrame.from_records(data=data_record, columns = ['data_values','data_comment','data_label','data_reference','date_of_announcement','date_of_run_end',\n",
    "               'date_of_run_start','default_color','default_style','experiment',\n",
    "               'public','result_type','spin_dependency','x_rescale','x_units','y_rescale',\n",
    "               'y_units','year'])\n",
    "data_df\n",
    "\n",
    "#data_df['id'] = df['country']\n",
    "#df.set_index('id', inplace=True, drop=False)\n",
    "#data_df.index.name = 'id'\n",
    "#data_df['id'] = data_df.index\n",
    "data_df"
   ]
  }
 ],
 "metadata": {
  "kernelspec": {
   "display_name": "Python 3",
   "language": "python",
   "name": "python3"
  },
  "language_info": {
   "codemirror_mode": {
    "name": "ipython",
    "version": 3
   },
   "file_extension": ".py",
   "mimetype": "text/x-python",
   "name": "python",
   "nbconvert_exporter": "python",
   "pygments_lexer": "ipython3",
   "version": "3.8.10"
  }
 },
 "nbformat": 4,
 "nbformat_minor": 5
}

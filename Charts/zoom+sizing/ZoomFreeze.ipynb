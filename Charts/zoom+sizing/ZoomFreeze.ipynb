{
 "cells": [
  {
   "cell_type": "code",
   "execution_count": 1,
   "id": "852e411f",
   "metadata": {},
   "outputs": [],
   "source": [
    "\n",
    "import plotly.express as px\n",
    "\n",
    "import dash\n",
    "from dash import dcc\n",
    "from dash import html\n",
    "\n",
    "import plotly.graph_objects as go\n",
    "\n",
    "\n",
    "from dash import Dash, Input, Output, State, callback\n",
    "\n",
    "from jupyter_dash import JupyterDash\n",
    "\n",
    "import dash_bootstrap_components as dbc\n",
    "COMPONENT_STYLE = \"/assets/my_component.css\"\n",
    "external_stylesheets=[dbc.themes.BOOTSTRAP]\n",
    "\n",
    "app = JupyterDash(__name__, external_stylesheets=external_stylesheets,\n",
    "                  meta_tags=[{'name': 'viewport', 'content': 'width=device-width, initial-scale=1'}],\n",
    "                 suppress_callback_exceptions=True)\n",
    "# Create server variable with Flask server object for use with gunicorn\n",
    "server = app.server"
   ]
  },
  {
   "cell_type": "code",
   "execution_count": 2,
   "id": "9f665111",
   "metadata": {},
   "outputs": [],
   "source": [
    "\n",
    "#from dash.dependencies import Input, Output, State\n",
    "import copy\n",
    "import json"
   ]
  },
  {
   "cell_type": "code",
   "execution_count": 3,
   "id": "235ccbc1",
   "metadata": {},
   "outputs": [],
   "source": [
    "FIGURE = {\n",
    "    'data': [{\n",
    "        'x': [1, 2, 3],\n",
    "        'y': [4, 3, 6],\n",
    "        'mode': 'markers',\n",
    "        'marker': {\n",
    "            'size': 8\n",
    "        }\n",
    "    }],\n",
    "    'layout': {\n",
    "        'xaxis': {},\n",
    "        'yaxis': {},\n",
    "    }\n",
    "}\n",
    "\n",
    "app.layout = html.Div([\n",
    "    html.H3('Persistent Zoom on Updates'),\n",
    "    html.Div('''\n",
    "        Try zooming into the graph (clicking and dragging on the graph),\n",
    "        then updating the text box. Notice how the graph does not zoom out\n",
    "        when the graph is updated. Switching to \"Refresh View\" will\n",
    "        redraw the graph with auto-range enabled.\n",
    "    '''),\n",
    "    dcc.Input(id='my-input'),\n",
    "    dcc.RadioItems(\n",
    "        id='lock-zoom',\n",
    "        options=[{'label': i, 'value': i} for i in ['Lock View', 'Refresh View']],\n",
    "        value='Lock View'\n",
    "    ),\n",
    "    dcc.Graph(\n",
    "        id='my-graph',\n",
    "        figure=FIGURE\n",
    "    ),\n",
    "     html.Div(id='layout-data'),\n",
    "])\n",
    "\n",
    "@app.callback(\n",
    "    [Output('my-graph', 'figure'),Output(component_id='layout-data', component_property='children')],\n",
    "    [Input('my-input', 'value'),\n",
    "     Input('lock-zoom', 'value')],\n",
    "    [State('my-graph', 'relayoutData')])\n",
    "def update_graph(value, lock_zoom, relayout_data):\n",
    "    new_figure = copy.deepcopy(FIGURE)\n",
    "    new_figure['layout']['title'] = value\n",
    "\n",
    "    # relayout_data contains data on the zoom and range actions\n",
    "    # print(relayout_data)\n",
    "    #result = relayout_data.items()\n",
    "    result = json.dumps(relayout_data)\n",
    "    if relayout_data and lock_zoom == 'Lock View':\n",
    "        if 'xaxis.range[0]' in relayout_data:\n",
    "            new_figure['layout']['xaxis']['range'] = [\n",
    "                relayout_data['xaxis.range[0]'],\n",
    "                relayout_data['xaxis.range[1]']\n",
    "            ]\n",
    "        if 'yaxis.range[0]' in relayout_data:\n",
    "            new_figure['layout']['yaxis']['range'] = [\n",
    "                relayout_data['yaxis.range[0]'],\n",
    "                relayout_data['yaxis.range[1]']\n",
    "            ]\n",
    "\n",
    "    return new_figure , result\n",
    "\n",
    "#@app.callback(\n",
    "#    Input('my-input', 'value'),\n",
    "#    Output(component_id='layout-data', component_property='children'))\n",
    "#def update_output_div(relayout_data):\n",
    "#    #result = json.dumps(relayout_data)\n",
    "#    result = relayout_data.items()\n",
    "#    return result"
   ]
  },
  {
   "cell_type": "code",
   "execution_count": 4,
   "id": "c500c4ac",
   "metadata": {},
   "outputs": [
    {
     "name": "stdout",
     "output_type": "stream",
     "text": [
      "Dash app running on http://127.0.0.1:5051/\n",
      "None\n",
      "{'xaxis.range[0]': 1.8263980917042142, 'xaxis.range[1]': 2.1815531407368143, 'yaxis.range[0]': 2.7618025751072963, 'yaxis.range[1]': 4.237339134380029}\n",
      "{'xaxis.range[0]': 1.780015902464882, 'xaxis.range[1]': 2.060959448714551}\n",
      "{'xaxis.range[0]': 1.780015902464882, 'xaxis.range[1]': 2.060959448714551}\n",
      "{'xaxis.range[0]': 1.8939835674529553, 'xaxis.range[1]': 2.116618075801749, 'yaxis.range[0]': 2.7618025751072963, 'yaxis.range[1]': 4.35321896270621}\n",
      "{'xaxis.range[0]': 1.8939835674529553, 'xaxis.range[1]': 2.116618075801749, 'yaxis.range[0]': 2.7618025751072963, 'yaxis.range[1]': 4.35321896270621}\n",
      "{'xaxis.range[0]': 0.9504373177842564, 'xaxis.range[1]': 1.0538033395176252, 'yaxis.range[0]': 3.593562310345695, 'yaxis.range[1]': 4.649356301762004}\n",
      "{'xaxis.range[0]': 0.9504373177842564, 'xaxis.range[1]': 1.0538033395176252, 'yaxis.range[0]': 3.593562310345695, 'yaxis.range[1]': 4.649356301762004}\n",
      "{'xaxis.range[0]': 0.9504373177842564, 'xaxis.range[1]': 1.0538033395176252, 'yaxis.range[0]': 3.593562310345695, 'yaxis.range[1]': 4.649356301762004}\n",
      "{'xaxis.range[0]': 0.9504373177842564, 'xaxis.range[1]': 1.0538033395176252, 'yaxis.range[0]': 3.593562310345695, 'yaxis.range[1]': 4.649356301762004}\n",
      "{'xaxis.range[0]': 0.9504373177842564, 'xaxis.range[1]': 1.0538033395176252, 'yaxis.range[0]': 3.593562310345695, 'yaxis.range[1]': 4.649356301762004}\n"
     ]
    }
   ],
   "source": [
    "##app.layout = layout3\n",
    "app.run_server(debug=True,port=5051)"
   ]
  },
  {
   "cell_type": "code",
   "execution_count": null,
   "id": "590961c8",
   "metadata": {},
   "outputs": [],
   "source": []
  }
 ],
 "metadata": {
  "kernelspec": {
   "display_name": "Python 3",
   "language": "python",
   "name": "python3"
  },
  "language_info": {
   "codemirror_mode": {
    "name": "ipython",
    "version": 3
   },
   "file_extension": ".py",
   "mimetype": "text/x-python",
   "name": "python",
   "nbconvert_exporter": "python",
   "pygments_lexer": "ipython3",
   "version": "3.8.10"
  }
 },
 "nbformat": 4,
 "nbformat_minor": 5
}

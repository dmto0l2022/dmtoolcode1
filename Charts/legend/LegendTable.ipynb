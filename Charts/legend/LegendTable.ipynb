{
 "cells": [
  {
   "cell_type": "code",
   "execution_count": 1,
   "id": "f00d8d69",
   "metadata": {},
   "outputs": [],
   "source": [
    "import pandas as pd\n",
    "import plotly.graph_objects as go  \n",
    "from plotly.subplots import make_subplots"
   ]
  },
  {
   "cell_type": "code",
   "execution_count": 12,
   "id": "9f90973d",
   "metadata": {},
   "outputs": [],
   "source": [
    "# STEP 1\n",
    "titles = list(range(1,26))\n",
    "rows = list(range(1,6))\n",
    "cols = list(range(1,6))\n",
    "fig = make_subplots(\n",
    "    column_titles = ['id','series','result','line', 'symbol'],\n",
    "    rows=5,\n",
    "    cols=5,\n",
    "    horizontal_spacing = 0.00,\n",
    "    vertical_spacing = 0.00,\n",
    "    #subplot_titles=(titles)\n",
    "    column_widths=[0.1,0.1,0.6,0.1, 0.1]\n",
    ")\n",
    "#fig.show()"
   ]
  },
  {
   "cell_type": "code",
   "execution_count": 13,
   "id": "d864c719",
   "metadata": {},
   "outputs": [
    {
     "data": {
      "application/vnd.plotly.v1+json": {
       "config": {
        "plotlyServerURL": "https://plot.ly"
       },
       "data": [],
       "layout": {
        "annotations": [
         {
          "font": {
           "size": 16
          },
          "showarrow": false,
          "text": "id",
          "x": 0.05,
          "xanchor": "center",
          "xref": "paper",
          "y": 1,
          "yanchor": "bottom",
          "yref": "paper"
         },
         {
          "font": {
           "size": 16
          },
          "showarrow": false,
          "text": "series",
          "x": 0.15000000000000002,
          "xanchor": "center",
          "xref": "paper",
          "y": 1,
          "yanchor": "bottom",
          "yref": "paper"
         },
         {
          "font": {
           "size": 16
          },
          "showarrow": false,
          "text": "result",
          "x": 0.5,
          "xanchor": "center",
          "xref": "paper",
          "y": 1,
          "yanchor": "bottom",
          "yref": "paper"
         },
         {
          "font": {
           "size": 16
          },
          "showarrow": false,
          "text": "line",
          "x": 0.8500000000000001,
          "xanchor": "center",
          "xref": "paper",
          "y": 1,
          "yanchor": "bottom",
          "yref": "paper"
         },
         {
          "font": {
           "size": 16
          },
          "showarrow": false,
          "text": "symbol",
          "x": 0.95,
          "xanchor": "center",
          "xref": "paper",
          "y": 1,
          "yanchor": "bottom",
          "yref": "paper"
         }
        ],
        "autosize": false,
        "height": 200,
        "margin": {
         "b": 0,
         "l": 0,
         "pad": 0,
         "r": 0,
         "t": 20
        },
        "paper_bgcolor": "LightSteelBlue",
        "template": {
         "data": {
          "bar": [
           {
            "error_x": {
             "color": "#2a3f5f"
            },
            "error_y": {
             "color": "#2a3f5f"
            },
            "marker": {
             "line": {
              "color": "#E5ECF6",
              "width": 0.5
             },
             "pattern": {
              "fillmode": "overlay",
              "size": 10,
              "solidity": 0.2
             }
            },
            "type": "bar"
           }
          ],
          "barpolar": [
           {
            "marker": {
             "line": {
              "color": "#E5ECF6",
              "width": 0.5
             },
             "pattern": {
              "fillmode": "overlay",
              "size": 10,
              "solidity": 0.2
             }
            },
            "type": "barpolar"
           }
          ],
          "carpet": [
           {
            "aaxis": {
             "endlinecolor": "#2a3f5f",
             "gridcolor": "white",
             "linecolor": "white",
             "minorgridcolor": "white",
             "startlinecolor": "#2a3f5f"
            },
            "baxis": {
             "endlinecolor": "#2a3f5f",
             "gridcolor": "white",
             "linecolor": "white",
             "minorgridcolor": "white",
             "startlinecolor": "#2a3f5f"
            },
            "type": "carpet"
           }
          ],
          "choropleth": [
           {
            "colorbar": {
             "outlinewidth": 0,
             "ticks": ""
            },
            "type": "choropleth"
           }
          ],
          "contour": [
           {
            "colorbar": {
             "outlinewidth": 0,
             "ticks": ""
            },
            "colorscale": [
             [
              0,
              "#0d0887"
             ],
             [
              0.1111111111111111,
              "#46039f"
             ],
             [
              0.2222222222222222,
              "#7201a8"
             ],
             [
              0.3333333333333333,
              "#9c179e"
             ],
             [
              0.4444444444444444,
              "#bd3786"
             ],
             [
              0.5555555555555556,
              "#d8576b"
             ],
             [
              0.6666666666666666,
              "#ed7953"
             ],
             [
              0.7777777777777778,
              "#fb9f3a"
             ],
             [
              0.8888888888888888,
              "#fdca26"
             ],
             [
              1,
              "#f0f921"
             ]
            ],
            "type": "contour"
           }
          ],
          "contourcarpet": [
           {
            "colorbar": {
             "outlinewidth": 0,
             "ticks": ""
            },
            "type": "contourcarpet"
           }
          ],
          "heatmap": [
           {
            "colorbar": {
             "outlinewidth": 0,
             "ticks": ""
            },
            "colorscale": [
             [
              0,
              "#0d0887"
             ],
             [
              0.1111111111111111,
              "#46039f"
             ],
             [
              0.2222222222222222,
              "#7201a8"
             ],
             [
              0.3333333333333333,
              "#9c179e"
             ],
             [
              0.4444444444444444,
              "#bd3786"
             ],
             [
              0.5555555555555556,
              "#d8576b"
             ],
             [
              0.6666666666666666,
              "#ed7953"
             ],
             [
              0.7777777777777778,
              "#fb9f3a"
             ],
             [
              0.8888888888888888,
              "#fdca26"
             ],
             [
              1,
              "#f0f921"
             ]
            ],
            "type": "heatmap"
           }
          ],
          "heatmapgl": [
           {
            "colorbar": {
             "outlinewidth": 0,
             "ticks": ""
            },
            "colorscale": [
             [
              0,
              "#0d0887"
             ],
             [
              0.1111111111111111,
              "#46039f"
             ],
             [
              0.2222222222222222,
              "#7201a8"
             ],
             [
              0.3333333333333333,
              "#9c179e"
             ],
             [
              0.4444444444444444,
              "#bd3786"
             ],
             [
              0.5555555555555556,
              "#d8576b"
             ],
             [
              0.6666666666666666,
              "#ed7953"
             ],
             [
              0.7777777777777778,
              "#fb9f3a"
             ],
             [
              0.8888888888888888,
              "#fdca26"
             ],
             [
              1,
              "#f0f921"
             ]
            ],
            "type": "heatmapgl"
           }
          ],
          "histogram": [
           {
            "marker": {
             "pattern": {
              "fillmode": "overlay",
              "size": 10,
              "solidity": 0.2
             }
            },
            "type": "histogram"
           }
          ],
          "histogram2d": [
           {
            "colorbar": {
             "outlinewidth": 0,
             "ticks": ""
            },
            "colorscale": [
             [
              0,
              "#0d0887"
             ],
             [
              0.1111111111111111,
              "#46039f"
             ],
             [
              0.2222222222222222,
              "#7201a8"
             ],
             [
              0.3333333333333333,
              "#9c179e"
             ],
             [
              0.4444444444444444,
              "#bd3786"
             ],
             [
              0.5555555555555556,
              "#d8576b"
             ],
             [
              0.6666666666666666,
              "#ed7953"
             ],
             [
              0.7777777777777778,
              "#fb9f3a"
             ],
             [
              0.8888888888888888,
              "#fdca26"
             ],
             [
              1,
              "#f0f921"
             ]
            ],
            "type": "histogram2d"
           }
          ],
          "histogram2dcontour": [
           {
            "colorbar": {
             "outlinewidth": 0,
             "ticks": ""
            },
            "colorscale": [
             [
              0,
              "#0d0887"
             ],
             [
              0.1111111111111111,
              "#46039f"
             ],
             [
              0.2222222222222222,
              "#7201a8"
             ],
             [
              0.3333333333333333,
              "#9c179e"
             ],
             [
              0.4444444444444444,
              "#bd3786"
             ],
             [
              0.5555555555555556,
              "#d8576b"
             ],
             [
              0.6666666666666666,
              "#ed7953"
             ],
             [
              0.7777777777777778,
              "#fb9f3a"
             ],
             [
              0.8888888888888888,
              "#fdca26"
             ],
             [
              1,
              "#f0f921"
             ]
            ],
            "type": "histogram2dcontour"
           }
          ],
          "mesh3d": [
           {
            "colorbar": {
             "outlinewidth": 0,
             "ticks": ""
            },
            "type": "mesh3d"
           }
          ],
          "parcoords": [
           {
            "line": {
             "colorbar": {
              "outlinewidth": 0,
              "ticks": ""
             }
            },
            "type": "parcoords"
           }
          ],
          "pie": [
           {
            "automargin": true,
            "type": "pie"
           }
          ],
          "scatter": [
           {
            "marker": {
             "colorbar": {
              "outlinewidth": 0,
              "ticks": ""
             }
            },
            "type": "scatter"
           }
          ],
          "scatter3d": [
           {
            "line": {
             "colorbar": {
              "outlinewidth": 0,
              "ticks": ""
             }
            },
            "marker": {
             "colorbar": {
              "outlinewidth": 0,
              "ticks": ""
             }
            },
            "type": "scatter3d"
           }
          ],
          "scattercarpet": [
           {
            "marker": {
             "colorbar": {
              "outlinewidth": 0,
              "ticks": ""
             }
            },
            "type": "scattercarpet"
           }
          ],
          "scattergeo": [
           {
            "marker": {
             "colorbar": {
              "outlinewidth": 0,
              "ticks": ""
             }
            },
            "type": "scattergeo"
           }
          ],
          "scattergl": [
           {
            "marker": {
             "colorbar": {
              "outlinewidth": 0,
              "ticks": ""
             }
            },
            "type": "scattergl"
           }
          ],
          "scattermapbox": [
           {
            "marker": {
             "colorbar": {
              "outlinewidth": 0,
              "ticks": ""
             }
            },
            "type": "scattermapbox"
           }
          ],
          "scatterpolar": [
           {
            "marker": {
             "colorbar": {
              "outlinewidth": 0,
              "ticks": ""
             }
            },
            "type": "scatterpolar"
           }
          ],
          "scatterpolargl": [
           {
            "marker": {
             "colorbar": {
              "outlinewidth": 0,
              "ticks": ""
             }
            },
            "type": "scatterpolargl"
           }
          ],
          "scatterternary": [
           {
            "marker": {
             "colorbar": {
              "outlinewidth": 0,
              "ticks": ""
             }
            },
            "type": "scatterternary"
           }
          ],
          "surface": [
           {
            "colorbar": {
             "outlinewidth": 0,
             "ticks": ""
            },
            "colorscale": [
             [
              0,
              "#0d0887"
             ],
             [
              0.1111111111111111,
              "#46039f"
             ],
             [
              0.2222222222222222,
              "#7201a8"
             ],
             [
              0.3333333333333333,
              "#9c179e"
             ],
             [
              0.4444444444444444,
              "#bd3786"
             ],
             [
              0.5555555555555556,
              "#d8576b"
             ],
             [
              0.6666666666666666,
              "#ed7953"
             ],
             [
              0.7777777777777778,
              "#fb9f3a"
             ],
             [
              0.8888888888888888,
              "#fdca26"
             ],
             [
              1,
              "#f0f921"
             ]
            ],
            "type": "surface"
           }
          ],
          "table": [
           {
            "cells": {
             "fill": {
              "color": "#EBF0F8"
             },
             "line": {
              "color": "white"
             }
            },
            "header": {
             "fill": {
              "color": "#C8D4E3"
             },
             "line": {
              "color": "white"
             }
            },
            "type": "table"
           }
          ]
         },
         "layout": {
          "annotationdefaults": {
           "arrowcolor": "#2a3f5f",
           "arrowhead": 0,
           "arrowwidth": 1
          },
          "autotypenumbers": "strict",
          "coloraxis": {
           "colorbar": {
            "outlinewidth": 0,
            "ticks": ""
           }
          },
          "colorscale": {
           "diverging": [
            [
             0,
             "#8e0152"
            ],
            [
             0.1,
             "#c51b7d"
            ],
            [
             0.2,
             "#de77ae"
            ],
            [
             0.3,
             "#f1b6da"
            ],
            [
             0.4,
             "#fde0ef"
            ],
            [
             0.5,
             "#f7f7f7"
            ],
            [
             0.6,
             "#e6f5d0"
            ],
            [
             0.7,
             "#b8e186"
            ],
            [
             0.8,
             "#7fbc41"
            ],
            [
             0.9,
             "#4d9221"
            ],
            [
             1,
             "#276419"
            ]
           ],
           "sequential": [
            [
             0,
             "#0d0887"
            ],
            [
             0.1111111111111111,
             "#46039f"
            ],
            [
             0.2222222222222222,
             "#7201a8"
            ],
            [
             0.3333333333333333,
             "#9c179e"
            ],
            [
             0.4444444444444444,
             "#bd3786"
            ],
            [
             0.5555555555555556,
             "#d8576b"
            ],
            [
             0.6666666666666666,
             "#ed7953"
            ],
            [
             0.7777777777777778,
             "#fb9f3a"
            ],
            [
             0.8888888888888888,
             "#fdca26"
            ],
            [
             1,
             "#f0f921"
            ]
           ],
           "sequentialminus": [
            [
             0,
             "#0d0887"
            ],
            [
             0.1111111111111111,
             "#46039f"
            ],
            [
             0.2222222222222222,
             "#7201a8"
            ],
            [
             0.3333333333333333,
             "#9c179e"
            ],
            [
             0.4444444444444444,
             "#bd3786"
            ],
            [
             0.5555555555555556,
             "#d8576b"
            ],
            [
             0.6666666666666666,
             "#ed7953"
            ],
            [
             0.7777777777777778,
             "#fb9f3a"
            ],
            [
             0.8888888888888888,
             "#fdca26"
            ],
            [
             1,
             "#f0f921"
            ]
           ]
          },
          "colorway": [
           "#636efa",
           "#EF553B",
           "#00cc96",
           "#ab63fa",
           "#FFA15A",
           "#19d3f3",
           "#FF6692",
           "#B6E880",
           "#FF97FF",
           "#FECB52"
          ],
          "font": {
           "color": "#2a3f5f"
          },
          "geo": {
           "bgcolor": "white",
           "lakecolor": "white",
           "landcolor": "#E5ECF6",
           "showlakes": true,
           "showland": true,
           "subunitcolor": "white"
          },
          "hoverlabel": {
           "align": "left"
          },
          "hovermode": "closest",
          "mapbox": {
           "style": "light"
          },
          "paper_bgcolor": "white",
          "plot_bgcolor": "#E5ECF6",
          "polar": {
           "angularaxis": {
            "gridcolor": "white",
            "linecolor": "white",
            "ticks": ""
           },
           "bgcolor": "#E5ECF6",
           "radialaxis": {
            "gridcolor": "white",
            "linecolor": "white",
            "ticks": ""
           }
          },
          "scene": {
           "xaxis": {
            "backgroundcolor": "#E5ECF6",
            "gridcolor": "white",
            "gridwidth": 2,
            "linecolor": "white",
            "showbackground": true,
            "ticks": "",
            "zerolinecolor": "white"
           },
           "yaxis": {
            "backgroundcolor": "#E5ECF6",
            "gridcolor": "white",
            "gridwidth": 2,
            "linecolor": "white",
            "showbackground": true,
            "ticks": "",
            "zerolinecolor": "white"
           },
           "zaxis": {
            "backgroundcolor": "#E5ECF6",
            "gridcolor": "white",
            "gridwidth": 2,
            "linecolor": "white",
            "showbackground": true,
            "ticks": "",
            "zerolinecolor": "white"
           }
          },
          "shapedefaults": {
           "line": {
            "color": "#2a3f5f"
           }
          },
          "ternary": {
           "aaxis": {
            "gridcolor": "white",
            "linecolor": "white",
            "ticks": ""
           },
           "baxis": {
            "gridcolor": "white",
            "linecolor": "white",
            "ticks": ""
           },
           "bgcolor": "#E5ECF6",
           "caxis": {
            "gridcolor": "white",
            "linecolor": "white",
            "ticks": ""
           }
          },
          "title": {
           "x": 0.05
          },
          "xaxis": {
           "automargin": true,
           "gridcolor": "white",
           "linecolor": "white",
           "ticks": "",
           "title": {
            "standoff": 15
           },
           "zerolinecolor": "white",
           "zerolinewidth": 2
          },
          "yaxis": {
           "automargin": true,
           "gridcolor": "white",
           "linecolor": "white",
           "ticks": "",
           "title": {
            "standoff": 15
           },
           "zerolinecolor": "white",
           "zerolinewidth": 2
          }
         }
        },
        "width": 600,
        "xaxis": {
         "anchor": "y",
         "domain": [
          0,
          0.1
         ]
        },
        "xaxis10": {
         "anchor": "y10",
         "domain": [
          0.9,
          1
         ]
        },
        "xaxis11": {
         "anchor": "y11",
         "domain": [
          0,
          0.1
         ]
        },
        "xaxis12": {
         "anchor": "y12",
         "domain": [
          0.1,
          0.2
         ]
        },
        "xaxis13": {
         "anchor": "y13",
         "domain": [
          0.2,
          0.8
         ]
        },
        "xaxis14": {
         "anchor": "y14",
         "domain": [
          0.8,
          0.9
         ]
        },
        "xaxis15": {
         "anchor": "y15",
         "domain": [
          0.9,
          1
         ]
        },
        "xaxis16": {
         "anchor": "y16",
         "domain": [
          0,
          0.1
         ]
        },
        "xaxis17": {
         "anchor": "y17",
         "domain": [
          0.1,
          0.2
         ]
        },
        "xaxis18": {
         "anchor": "y18",
         "domain": [
          0.2,
          0.8
         ]
        },
        "xaxis19": {
         "anchor": "y19",
         "domain": [
          0.8,
          0.9
         ]
        },
        "xaxis2": {
         "anchor": "y2",
         "domain": [
          0.1,
          0.2
         ]
        },
        "xaxis20": {
         "anchor": "y20",
         "domain": [
          0.9,
          1
         ]
        },
        "xaxis21": {
         "anchor": "y21",
         "domain": [
          0,
          0.1
         ]
        },
        "xaxis22": {
         "anchor": "y22",
         "domain": [
          0.1,
          0.2
         ]
        },
        "xaxis23": {
         "anchor": "y23",
         "domain": [
          0.2,
          0.8
         ]
        },
        "xaxis24": {
         "anchor": "y24",
         "domain": [
          0.8,
          0.9
         ]
        },
        "xaxis25": {
         "anchor": "y25",
         "domain": [
          0.9,
          1
         ]
        },
        "xaxis3": {
         "anchor": "y3",
         "domain": [
          0.2,
          0.8
         ]
        },
        "xaxis4": {
         "anchor": "y4",
         "domain": [
          0.8,
          0.9
         ]
        },
        "xaxis5": {
         "anchor": "y5",
         "domain": [
          0.9,
          1
         ]
        },
        "xaxis6": {
         "anchor": "y6",
         "domain": [
          0,
          0.1
         ]
        },
        "xaxis7": {
         "anchor": "y7",
         "domain": [
          0.1,
          0.2
         ]
        },
        "xaxis8": {
         "anchor": "y8",
         "domain": [
          0.2,
          0.8
         ]
        },
        "xaxis9": {
         "anchor": "y9",
         "domain": [
          0.8,
          0.9
         ]
        },
        "yaxis": {
         "anchor": "x",
         "domain": [
          0.8,
          1
         ]
        },
        "yaxis10": {
         "anchor": "x10",
         "domain": [
          0.6000000000000001,
          0.8
         ]
        },
        "yaxis11": {
         "anchor": "x11",
         "domain": [
          0.4,
          0.6000000000000001
         ]
        },
        "yaxis12": {
         "anchor": "x12",
         "domain": [
          0.4,
          0.6000000000000001
         ]
        },
        "yaxis13": {
         "anchor": "x13",
         "domain": [
          0.4,
          0.6000000000000001
         ]
        },
        "yaxis14": {
         "anchor": "x14",
         "domain": [
          0.4,
          0.6000000000000001
         ]
        },
        "yaxis15": {
         "anchor": "x15",
         "domain": [
          0.4,
          0.6000000000000001
         ]
        },
        "yaxis16": {
         "anchor": "x16",
         "domain": [
          0.2,
          0.4
         ]
        },
        "yaxis17": {
         "anchor": "x17",
         "domain": [
          0.2,
          0.4
         ]
        },
        "yaxis18": {
         "anchor": "x18",
         "domain": [
          0.2,
          0.4
         ]
        },
        "yaxis19": {
         "anchor": "x19",
         "domain": [
          0.2,
          0.4
         ]
        },
        "yaxis2": {
         "anchor": "x2",
         "domain": [
          0.8,
          1
         ]
        },
        "yaxis20": {
         "anchor": "x20",
         "domain": [
          0.2,
          0.4
         ]
        },
        "yaxis21": {
         "anchor": "x21",
         "domain": [
          0,
          0.2
         ]
        },
        "yaxis22": {
         "anchor": "x22",
         "domain": [
          0,
          0.2
         ]
        },
        "yaxis23": {
         "anchor": "x23",
         "domain": [
          0,
          0.2
         ]
        },
        "yaxis24": {
         "anchor": "x24",
         "domain": [
          0,
          0.2
         ]
        },
        "yaxis25": {
         "anchor": "x25",
         "domain": [
          0,
          0.2
         ]
        },
        "yaxis3": {
         "anchor": "x3",
         "domain": [
          0.8,
          1
         ]
        },
        "yaxis4": {
         "anchor": "x4",
         "domain": [
          0.8,
          1
         ]
        },
        "yaxis5": {
         "anchor": "x5",
         "domain": [
          0.8,
          1
         ]
        },
        "yaxis6": {
         "anchor": "x6",
         "domain": [
          0.6000000000000001,
          0.8
         ]
        },
        "yaxis7": {
         "anchor": "x7",
         "domain": [
          0.6000000000000001,
          0.8
         ]
        },
        "yaxis8": {
         "anchor": "x8",
         "domain": [
          0.6000000000000001,
          0.8
         ]
        },
        "yaxis9": {
         "anchor": "x9",
         "domain": [
          0.6000000000000001,
          0.8
         ]
        }
       }
      },
      "text/html": [
       "<div>                            <div id=\"1cc2971f-f630-47af-9ba1-6580eed982ec\" class=\"plotly-graph-div\" style=\"height:200px; width:600px;\"></div>            <script type=\"text/javascript\">                require([\"plotly\"], function(Plotly) {                    window.PLOTLYENV=window.PLOTLYENV || {};                                    if (document.getElementById(\"1cc2971f-f630-47af-9ba1-6580eed982ec\")) {                    Plotly.newPlot(                        \"1cc2971f-f630-47af-9ba1-6580eed982ec\",                        [],                        {\"template\":{\"data\":{\"bar\":[{\"error_x\":{\"color\":\"#2a3f5f\"},\"error_y\":{\"color\":\"#2a3f5f\"},\"marker\":{\"line\":{\"color\":\"#E5ECF6\",\"width\":0.5},\"pattern\":{\"fillmode\":\"overlay\",\"size\":10,\"solidity\":0.2}},\"type\":\"bar\"}],\"barpolar\":[{\"marker\":{\"line\":{\"color\":\"#E5ECF6\",\"width\":0.5},\"pattern\":{\"fillmode\":\"overlay\",\"size\":10,\"solidity\":0.2}},\"type\":\"barpolar\"}],\"carpet\":[{\"aaxis\":{\"endlinecolor\":\"#2a3f5f\",\"gridcolor\":\"white\",\"linecolor\":\"white\",\"minorgridcolor\":\"white\",\"startlinecolor\":\"#2a3f5f\"},\"baxis\":{\"endlinecolor\":\"#2a3f5f\",\"gridcolor\":\"white\",\"linecolor\":\"white\",\"minorgridcolor\":\"white\",\"startlinecolor\":\"#2a3f5f\"},\"type\":\"carpet\"}],\"choropleth\":[{\"colorbar\":{\"outlinewidth\":0,\"ticks\":\"\"},\"type\":\"choropleth\"}],\"contour\":[{\"colorbar\":{\"outlinewidth\":0,\"ticks\":\"\"},\"colorscale\":[[0.0,\"#0d0887\"],[0.1111111111111111,\"#46039f\"],[0.2222222222222222,\"#7201a8\"],[0.3333333333333333,\"#9c179e\"],[0.4444444444444444,\"#bd3786\"],[0.5555555555555556,\"#d8576b\"],[0.6666666666666666,\"#ed7953\"],[0.7777777777777778,\"#fb9f3a\"],[0.8888888888888888,\"#fdca26\"],[1.0,\"#f0f921\"]],\"type\":\"contour\"}],\"contourcarpet\":[{\"colorbar\":{\"outlinewidth\":0,\"ticks\":\"\"},\"type\":\"contourcarpet\"}],\"heatmap\":[{\"colorbar\":{\"outlinewidth\":0,\"ticks\":\"\"},\"colorscale\":[[0.0,\"#0d0887\"],[0.1111111111111111,\"#46039f\"],[0.2222222222222222,\"#7201a8\"],[0.3333333333333333,\"#9c179e\"],[0.4444444444444444,\"#bd3786\"],[0.5555555555555556,\"#d8576b\"],[0.6666666666666666,\"#ed7953\"],[0.7777777777777778,\"#fb9f3a\"],[0.8888888888888888,\"#fdca26\"],[1.0,\"#f0f921\"]],\"type\":\"heatmap\"}],\"heatmapgl\":[{\"colorbar\":{\"outlinewidth\":0,\"ticks\":\"\"},\"colorscale\":[[0.0,\"#0d0887\"],[0.1111111111111111,\"#46039f\"],[0.2222222222222222,\"#7201a8\"],[0.3333333333333333,\"#9c179e\"],[0.4444444444444444,\"#bd3786\"],[0.5555555555555556,\"#d8576b\"],[0.6666666666666666,\"#ed7953\"],[0.7777777777777778,\"#fb9f3a\"],[0.8888888888888888,\"#fdca26\"],[1.0,\"#f0f921\"]],\"type\":\"heatmapgl\"}],\"histogram\":[{\"marker\":{\"pattern\":{\"fillmode\":\"overlay\",\"size\":10,\"solidity\":0.2}},\"type\":\"histogram\"}],\"histogram2d\":[{\"colorbar\":{\"outlinewidth\":0,\"ticks\":\"\"},\"colorscale\":[[0.0,\"#0d0887\"],[0.1111111111111111,\"#46039f\"],[0.2222222222222222,\"#7201a8\"],[0.3333333333333333,\"#9c179e\"],[0.4444444444444444,\"#bd3786\"],[0.5555555555555556,\"#d8576b\"],[0.6666666666666666,\"#ed7953\"],[0.7777777777777778,\"#fb9f3a\"],[0.8888888888888888,\"#fdca26\"],[1.0,\"#f0f921\"]],\"type\":\"histogram2d\"}],\"histogram2dcontour\":[{\"colorbar\":{\"outlinewidth\":0,\"ticks\":\"\"},\"colorscale\":[[0.0,\"#0d0887\"],[0.1111111111111111,\"#46039f\"],[0.2222222222222222,\"#7201a8\"],[0.3333333333333333,\"#9c179e\"],[0.4444444444444444,\"#bd3786\"],[0.5555555555555556,\"#d8576b\"],[0.6666666666666666,\"#ed7953\"],[0.7777777777777778,\"#fb9f3a\"],[0.8888888888888888,\"#fdca26\"],[1.0,\"#f0f921\"]],\"type\":\"histogram2dcontour\"}],\"mesh3d\":[{\"colorbar\":{\"outlinewidth\":0,\"ticks\":\"\"},\"type\":\"mesh3d\"}],\"parcoords\":[{\"line\":{\"colorbar\":{\"outlinewidth\":0,\"ticks\":\"\"}},\"type\":\"parcoords\"}],\"pie\":[{\"automargin\":true,\"type\":\"pie\"}],\"scatter\":[{\"marker\":{\"colorbar\":{\"outlinewidth\":0,\"ticks\":\"\"}},\"type\":\"scatter\"}],\"scatter3d\":[{\"line\":{\"colorbar\":{\"outlinewidth\":0,\"ticks\":\"\"}},\"marker\":{\"colorbar\":{\"outlinewidth\":0,\"ticks\":\"\"}},\"type\":\"scatter3d\"}],\"scattercarpet\":[{\"marker\":{\"colorbar\":{\"outlinewidth\":0,\"ticks\":\"\"}},\"type\":\"scattercarpet\"}],\"scattergeo\":[{\"marker\":{\"colorbar\":{\"outlinewidth\":0,\"ticks\":\"\"}},\"type\":\"scattergeo\"}],\"scattergl\":[{\"marker\":{\"colorbar\":{\"outlinewidth\":0,\"ticks\":\"\"}},\"type\":\"scattergl\"}],\"scattermapbox\":[{\"marker\":{\"colorbar\":{\"outlinewidth\":0,\"ticks\":\"\"}},\"type\":\"scattermapbox\"}],\"scatterpolar\":[{\"marker\":{\"colorbar\":{\"outlinewidth\":0,\"ticks\":\"\"}},\"type\":\"scatterpolar\"}],\"scatterpolargl\":[{\"marker\":{\"colorbar\":{\"outlinewidth\":0,\"ticks\":\"\"}},\"type\":\"scatterpolargl\"}],\"scatterternary\":[{\"marker\":{\"colorbar\":{\"outlinewidth\":0,\"ticks\":\"\"}},\"type\":\"scatterternary\"}],\"surface\":[{\"colorbar\":{\"outlinewidth\":0,\"ticks\":\"\"},\"colorscale\":[[0.0,\"#0d0887\"],[0.1111111111111111,\"#46039f\"],[0.2222222222222222,\"#7201a8\"],[0.3333333333333333,\"#9c179e\"],[0.4444444444444444,\"#bd3786\"],[0.5555555555555556,\"#d8576b\"],[0.6666666666666666,\"#ed7953\"],[0.7777777777777778,\"#fb9f3a\"],[0.8888888888888888,\"#fdca26\"],[1.0,\"#f0f921\"]],\"type\":\"surface\"}],\"table\":[{\"cells\":{\"fill\":{\"color\":\"#EBF0F8\"},\"line\":{\"color\":\"white\"}},\"header\":{\"fill\":{\"color\":\"#C8D4E3\"},\"line\":{\"color\":\"white\"}},\"type\":\"table\"}]},\"layout\":{\"annotationdefaults\":{\"arrowcolor\":\"#2a3f5f\",\"arrowhead\":0,\"arrowwidth\":1},\"autotypenumbers\":\"strict\",\"coloraxis\":{\"colorbar\":{\"outlinewidth\":0,\"ticks\":\"\"}},\"colorscale\":{\"diverging\":[[0,\"#8e0152\"],[0.1,\"#c51b7d\"],[0.2,\"#de77ae\"],[0.3,\"#f1b6da\"],[0.4,\"#fde0ef\"],[0.5,\"#f7f7f7\"],[0.6,\"#e6f5d0\"],[0.7,\"#b8e186\"],[0.8,\"#7fbc41\"],[0.9,\"#4d9221\"],[1,\"#276419\"]],\"sequential\":[[0.0,\"#0d0887\"],[0.1111111111111111,\"#46039f\"],[0.2222222222222222,\"#7201a8\"],[0.3333333333333333,\"#9c179e\"],[0.4444444444444444,\"#bd3786\"],[0.5555555555555556,\"#d8576b\"],[0.6666666666666666,\"#ed7953\"],[0.7777777777777778,\"#fb9f3a\"],[0.8888888888888888,\"#fdca26\"],[1.0,\"#f0f921\"]],\"sequentialminus\":[[0.0,\"#0d0887\"],[0.1111111111111111,\"#46039f\"],[0.2222222222222222,\"#7201a8\"],[0.3333333333333333,\"#9c179e\"],[0.4444444444444444,\"#bd3786\"],[0.5555555555555556,\"#d8576b\"],[0.6666666666666666,\"#ed7953\"],[0.7777777777777778,\"#fb9f3a\"],[0.8888888888888888,\"#fdca26\"],[1.0,\"#f0f921\"]]},\"colorway\":[\"#636efa\",\"#EF553B\",\"#00cc96\",\"#ab63fa\",\"#FFA15A\",\"#19d3f3\",\"#FF6692\",\"#B6E880\",\"#FF97FF\",\"#FECB52\"],\"font\":{\"color\":\"#2a3f5f\"},\"geo\":{\"bgcolor\":\"white\",\"lakecolor\":\"white\",\"landcolor\":\"#E5ECF6\",\"showlakes\":true,\"showland\":true,\"subunitcolor\":\"white\"},\"hoverlabel\":{\"align\":\"left\"},\"hovermode\":\"closest\",\"mapbox\":{\"style\":\"light\"},\"paper_bgcolor\":\"white\",\"plot_bgcolor\":\"#E5ECF6\",\"polar\":{\"angularaxis\":{\"gridcolor\":\"white\",\"linecolor\":\"white\",\"ticks\":\"\"},\"bgcolor\":\"#E5ECF6\",\"radialaxis\":{\"gridcolor\":\"white\",\"linecolor\":\"white\",\"ticks\":\"\"}},\"scene\":{\"xaxis\":{\"backgroundcolor\":\"#E5ECF6\",\"gridcolor\":\"white\",\"gridwidth\":2,\"linecolor\":\"white\",\"showbackground\":true,\"ticks\":\"\",\"zerolinecolor\":\"white\"},\"yaxis\":{\"backgroundcolor\":\"#E5ECF6\",\"gridcolor\":\"white\",\"gridwidth\":2,\"linecolor\":\"white\",\"showbackground\":true,\"ticks\":\"\",\"zerolinecolor\":\"white\"},\"zaxis\":{\"backgroundcolor\":\"#E5ECF6\",\"gridcolor\":\"white\",\"gridwidth\":2,\"linecolor\":\"white\",\"showbackground\":true,\"ticks\":\"\",\"zerolinecolor\":\"white\"}},\"shapedefaults\":{\"line\":{\"color\":\"#2a3f5f\"}},\"ternary\":{\"aaxis\":{\"gridcolor\":\"white\",\"linecolor\":\"white\",\"ticks\":\"\"},\"baxis\":{\"gridcolor\":\"white\",\"linecolor\":\"white\",\"ticks\":\"\"},\"bgcolor\":\"#E5ECF6\",\"caxis\":{\"gridcolor\":\"white\",\"linecolor\":\"white\",\"ticks\":\"\"}},\"title\":{\"x\":0.05},\"xaxis\":{\"automargin\":true,\"gridcolor\":\"white\",\"linecolor\":\"white\",\"ticks\":\"\",\"title\":{\"standoff\":15},\"zerolinecolor\":\"white\",\"zerolinewidth\":2},\"yaxis\":{\"automargin\":true,\"gridcolor\":\"white\",\"linecolor\":\"white\",\"ticks\":\"\",\"title\":{\"standoff\":15},\"zerolinecolor\":\"white\",\"zerolinewidth\":2}}},\"xaxis\":{\"anchor\":\"y\",\"domain\":[0.0,0.1]},\"yaxis\":{\"anchor\":\"x\",\"domain\":[0.8,1.0]},\"xaxis2\":{\"anchor\":\"y2\",\"domain\":[0.1,0.2]},\"yaxis2\":{\"anchor\":\"x2\",\"domain\":[0.8,1.0]},\"xaxis3\":{\"anchor\":\"y3\",\"domain\":[0.2,0.8]},\"yaxis3\":{\"anchor\":\"x3\",\"domain\":[0.8,1.0]},\"xaxis4\":{\"anchor\":\"y4\",\"domain\":[0.8,0.9]},\"yaxis4\":{\"anchor\":\"x4\",\"domain\":[0.8,1.0]},\"xaxis5\":{\"anchor\":\"y5\",\"domain\":[0.9,1.0]},\"yaxis5\":{\"anchor\":\"x5\",\"domain\":[0.8,1.0]},\"xaxis6\":{\"anchor\":\"y6\",\"domain\":[0.0,0.1]},\"yaxis6\":{\"anchor\":\"x6\",\"domain\":[0.6000000000000001,0.8]},\"xaxis7\":{\"anchor\":\"y7\",\"domain\":[0.1,0.2]},\"yaxis7\":{\"anchor\":\"x7\",\"domain\":[0.6000000000000001,0.8]},\"xaxis8\":{\"anchor\":\"y8\",\"domain\":[0.2,0.8]},\"yaxis8\":{\"anchor\":\"x8\",\"domain\":[0.6000000000000001,0.8]},\"xaxis9\":{\"anchor\":\"y9\",\"domain\":[0.8,0.9]},\"yaxis9\":{\"anchor\":\"x9\",\"domain\":[0.6000000000000001,0.8]},\"xaxis10\":{\"anchor\":\"y10\",\"domain\":[0.9,1.0]},\"yaxis10\":{\"anchor\":\"x10\",\"domain\":[0.6000000000000001,0.8]},\"xaxis11\":{\"anchor\":\"y11\",\"domain\":[0.0,0.1]},\"yaxis11\":{\"anchor\":\"x11\",\"domain\":[0.4,0.6000000000000001]},\"xaxis12\":{\"anchor\":\"y12\",\"domain\":[0.1,0.2]},\"yaxis12\":{\"anchor\":\"x12\",\"domain\":[0.4,0.6000000000000001]},\"xaxis13\":{\"anchor\":\"y13\",\"domain\":[0.2,0.8]},\"yaxis13\":{\"anchor\":\"x13\",\"domain\":[0.4,0.6000000000000001]},\"xaxis14\":{\"anchor\":\"y14\",\"domain\":[0.8,0.9]},\"yaxis14\":{\"anchor\":\"x14\",\"domain\":[0.4,0.6000000000000001]},\"xaxis15\":{\"anchor\":\"y15\",\"domain\":[0.9,1.0]},\"yaxis15\":{\"anchor\":\"x15\",\"domain\":[0.4,0.6000000000000001]},\"xaxis16\":{\"anchor\":\"y16\",\"domain\":[0.0,0.1]},\"yaxis16\":{\"anchor\":\"x16\",\"domain\":[0.2,0.4]},\"xaxis17\":{\"anchor\":\"y17\",\"domain\":[0.1,0.2]},\"yaxis17\":{\"anchor\":\"x17\",\"domain\":[0.2,0.4]},\"xaxis18\":{\"anchor\":\"y18\",\"domain\":[0.2,0.8]},\"yaxis18\":{\"anchor\":\"x18\",\"domain\":[0.2,0.4]},\"xaxis19\":{\"anchor\":\"y19\",\"domain\":[0.8,0.9]},\"yaxis19\":{\"anchor\":\"x19\",\"domain\":[0.2,0.4]},\"xaxis20\":{\"anchor\":\"y20\",\"domain\":[0.9,1.0]},\"yaxis20\":{\"anchor\":\"x20\",\"domain\":[0.2,0.4]},\"xaxis21\":{\"anchor\":\"y21\",\"domain\":[0.0,0.1]},\"yaxis21\":{\"anchor\":\"x21\",\"domain\":[0.0,0.2]},\"xaxis22\":{\"anchor\":\"y22\",\"domain\":[0.1,0.2]},\"yaxis22\":{\"anchor\":\"x22\",\"domain\":[0.0,0.2]},\"xaxis23\":{\"anchor\":\"y23\",\"domain\":[0.2,0.8]},\"yaxis23\":{\"anchor\":\"x23\",\"domain\":[0.0,0.2]},\"xaxis24\":{\"anchor\":\"y24\",\"domain\":[0.8,0.9]},\"yaxis24\":{\"anchor\":\"x24\",\"domain\":[0.0,0.2]},\"xaxis25\":{\"anchor\":\"y25\",\"domain\":[0.9,1.0]},\"yaxis25\":{\"anchor\":\"x25\",\"domain\":[0.0,0.2]},\"annotations\":[{\"font\":{\"size\":16},\"showarrow\":false,\"text\":\"id\",\"x\":0.05,\"xanchor\":\"center\",\"xref\":\"paper\",\"y\":1.0,\"yanchor\":\"bottom\",\"yref\":\"paper\"},{\"font\":{\"size\":16},\"showarrow\":false,\"text\":\"series\",\"x\":0.15000000000000002,\"xanchor\":\"center\",\"xref\":\"paper\",\"y\":1.0,\"yanchor\":\"bottom\",\"yref\":\"paper\"},{\"font\":{\"size\":16},\"showarrow\":false,\"text\":\"result\",\"x\":0.5,\"xanchor\":\"center\",\"xref\":\"paper\",\"y\":1.0,\"yanchor\":\"bottom\",\"yref\":\"paper\"},{\"font\":{\"size\":16},\"showarrow\":false,\"text\":\"line\",\"x\":0.8500000000000001,\"xanchor\":\"center\",\"xref\":\"paper\",\"y\":1.0,\"yanchor\":\"bottom\",\"yref\":\"paper\"},{\"font\":{\"size\":16},\"showarrow\":false,\"text\":\"symbol\",\"x\":0.95,\"xanchor\":\"center\",\"xref\":\"paper\",\"y\":1.0,\"yanchor\":\"bottom\",\"yref\":\"paper\"}],\"margin\":{\"l\":0,\"r\":0,\"b\":0,\"t\":20,\"pad\":0},\"autosize\":false,\"width\":600,\"height\":200,\"paper_bgcolor\":\"LightSteelBlue\"},                        {\"responsive\": true}                    ).then(function(){\n",
       "                            \n",
       "var gd = document.getElementById('1cc2971f-f630-47af-9ba1-6580eed982ec');\n",
       "var x = new MutationObserver(function (mutations, observer) {{\n",
       "        var display = window.getComputedStyle(gd).display;\n",
       "        if (!display || display === 'none') {{\n",
       "            console.log([gd, 'removed!']);\n",
       "            Plotly.purge(gd);\n",
       "            observer.disconnect();\n",
       "        }}\n",
       "}});\n",
       "\n",
       "// Listen for the removal of the full notebook cells\n",
       "var notebookContainer = gd.closest('#notebook-container');\n",
       "if (notebookContainer) {{\n",
       "    x.observe(notebookContainer, {childList: true});\n",
       "}}\n",
       "\n",
       "// Listen for the clearing of the current output cell\n",
       "var outputEl = gd.closest('.output');\n",
       "if (outputEl) {{\n",
       "    x.observe(outputEl, {childList: true});\n",
       "}}\n",
       "\n",
       "                        })                };                });            </script>        </div>"
      ]
     },
     "metadata": {},
     "output_type": "display_data"
    }
   ],
   "source": [
    "fig.update_layout(\n",
    "    autosize=False,\n",
    "    width=600,\n",
    "    height=200,\n",
    "    margin=dict(\n",
    "        l=0,\n",
    "        r=0,\n",
    "        b=0,\n",
    "        t=20,\n",
    "        pad=0\n",
    "    ),\n",
    "    paper_bgcolor=\"LightSteelBlue\",\n",
    ")"
   ]
  },
  {
   "cell_type": "code",
   "execution_count": 14,
   "id": "17c4dd46",
   "metadata": {},
   "outputs": [
    {
     "data": {
      "application/vnd.plotly.v1+json": {
       "config": {
        "plotlyServerURL": "https://plot.ly"
       },
       "data": [
        {
         "mode": "text",
         "text": "11",
         "type": "scatter",
         "x": [
          1
         ],
         "xaxis": "x",
         "y": [
          1
         ],
         "yaxis": "y"
        },
        {
         "mode": "text",
         "text": "12",
         "type": "scatter",
         "x": [
          1
         ],
         "xaxis": "x6",
         "y": [
          1
         ],
         "yaxis": "y6"
        },
        {
         "mode": "text",
         "text": "13",
         "type": "scatter",
         "x": [
          1
         ],
         "xaxis": "x11",
         "y": [
          1
         ],
         "yaxis": "y11"
        },
        {
         "mode": "text",
         "text": "14",
         "type": "scatter",
         "x": [
          1
         ],
         "xaxis": "x16",
         "y": [
          1
         ],
         "yaxis": "y16"
        },
        {
         "mode": "text",
         "text": "15",
         "type": "scatter",
         "x": [
          1
         ],
         "xaxis": "x21",
         "y": [
          1
         ],
         "yaxis": "y21"
        },
        {
         "mode": "text",
         "text": "21",
         "type": "scatter",
         "x": [
          1
         ],
         "xaxis": "x2",
         "y": [
          1
         ],
         "yaxis": "y2"
        },
        {
         "mode": "text",
         "text": "22",
         "type": "scatter",
         "x": [
          1
         ],
         "xaxis": "x7",
         "y": [
          1
         ],
         "yaxis": "y7"
        },
        {
         "mode": "text",
         "text": "23",
         "type": "scatter",
         "x": [
          1
         ],
         "xaxis": "x12",
         "y": [
          1
         ],
         "yaxis": "y12"
        },
        {
         "mode": "text",
         "text": "24",
         "type": "scatter",
         "x": [
          1
         ],
         "xaxis": "x17",
         "y": [
          1
         ],
         "yaxis": "y17"
        },
        {
         "mode": "text",
         "text": "25",
         "type": "scatter",
         "x": [
          1
         ],
         "xaxis": "x22",
         "y": [
          1
         ],
         "yaxis": "y22"
        },
        {
         "mode": "text",
         "text": "31",
         "type": "scatter",
         "x": [
          1
         ],
         "xaxis": "x3",
         "y": [
          1
         ],
         "yaxis": "y3"
        },
        {
         "mode": "text",
         "text": "32",
         "type": "scatter",
         "x": [
          1
         ],
         "xaxis": "x8",
         "y": [
          1
         ],
         "yaxis": "y8"
        },
        {
         "mode": "text",
         "text": "33",
         "type": "scatter",
         "x": [
          1
         ],
         "xaxis": "x13",
         "y": [
          1
         ],
         "yaxis": "y13"
        },
        {
         "mode": "text",
         "text": "34",
         "type": "scatter",
         "x": [
          1
         ],
         "xaxis": "x18",
         "y": [
          1
         ],
         "yaxis": "y18"
        },
        {
         "mode": "text",
         "text": "35",
         "type": "scatter",
         "x": [
          1
         ],
         "xaxis": "x23",
         "y": [
          1
         ],
         "yaxis": "y23"
        },
        {
         "mode": "text",
         "text": "41",
         "type": "scatter",
         "x": [
          1
         ],
         "xaxis": "x4",
         "y": [
          1
         ],
         "yaxis": "y4"
        },
        {
         "mode": "text",
         "text": "42",
         "type": "scatter",
         "x": [
          1
         ],
         "xaxis": "x9",
         "y": [
          1
         ],
         "yaxis": "y9"
        },
        {
         "mode": "text",
         "text": "43",
         "type": "scatter",
         "x": [
          1
         ],
         "xaxis": "x14",
         "y": [
          1
         ],
         "yaxis": "y14"
        },
        {
         "mode": "text",
         "text": "44",
         "type": "scatter",
         "x": [
          1
         ],
         "xaxis": "x19",
         "y": [
          1
         ],
         "yaxis": "y19"
        },
        {
         "mode": "text",
         "text": "45",
         "type": "scatter",
         "x": [
          1
         ],
         "xaxis": "x24",
         "y": [
          1
         ],
         "yaxis": "y24"
        },
        {
         "mode": "text",
         "text": "51",
         "type": "scatter",
         "x": [
          1
         ],
         "xaxis": "x5",
         "y": [
          1
         ],
         "yaxis": "y5"
        },
        {
         "mode": "text",
         "text": "52",
         "type": "scatter",
         "x": [
          1
         ],
         "xaxis": "x10",
         "y": [
          1
         ],
         "yaxis": "y10"
        },
        {
         "mode": "text",
         "text": "53",
         "type": "scatter",
         "x": [
          1
         ],
         "xaxis": "x15",
         "y": [
          1
         ],
         "yaxis": "y15"
        },
        {
         "mode": "text",
         "text": "54",
         "type": "scatter",
         "x": [
          1
         ],
         "xaxis": "x20",
         "y": [
          1
         ],
         "yaxis": "y20"
        },
        {
         "mode": "text",
         "text": "55",
         "type": "scatter",
         "x": [
          1
         ],
         "xaxis": "x25",
         "y": [
          1
         ],
         "yaxis": "y25"
        }
       ],
       "layout": {
        "annotations": [
         {
          "font": {
           "size": 16
          },
          "showarrow": false,
          "text": "id",
          "x": 0.05,
          "xanchor": "center",
          "xref": "paper",
          "y": 1,
          "yanchor": "bottom",
          "yref": "paper"
         },
         {
          "font": {
           "size": 16
          },
          "showarrow": false,
          "text": "series",
          "x": 0.15000000000000002,
          "xanchor": "center",
          "xref": "paper",
          "y": 1,
          "yanchor": "bottom",
          "yref": "paper"
         },
         {
          "font": {
           "size": 16
          },
          "showarrow": false,
          "text": "result",
          "x": 0.5,
          "xanchor": "center",
          "xref": "paper",
          "y": 1,
          "yanchor": "bottom",
          "yref": "paper"
         },
         {
          "font": {
           "size": 16
          },
          "showarrow": false,
          "text": "line",
          "x": 0.8500000000000001,
          "xanchor": "center",
          "xref": "paper",
          "y": 1,
          "yanchor": "bottom",
          "yref": "paper"
         },
         {
          "font": {
           "size": 16
          },
          "showarrow": false,
          "text": "symbol",
          "x": 0.95,
          "xanchor": "center",
          "xref": "paper",
          "y": 1,
          "yanchor": "bottom",
          "yref": "paper"
         }
        ],
        "autosize": false,
        "height": 200,
        "margin": {
         "b": 0,
         "l": 0,
         "pad": 0,
         "r": 0,
         "t": 20
        },
        "paper_bgcolor": "LightSteelBlue",
        "showlegend": false,
        "template": {
         "data": {
          "bar": [
           {
            "error_x": {
             "color": "#2a3f5f"
            },
            "error_y": {
             "color": "#2a3f5f"
            },
            "marker": {
             "line": {
              "color": "#E5ECF6",
              "width": 0.5
             },
             "pattern": {
              "fillmode": "overlay",
              "size": 10,
              "solidity": 0.2
             }
            },
            "type": "bar"
           }
          ],
          "barpolar": [
           {
            "marker": {
             "line": {
              "color": "#E5ECF6",
              "width": 0.5
             },
             "pattern": {
              "fillmode": "overlay",
              "size": 10,
              "solidity": 0.2
             }
            },
            "type": "barpolar"
           }
          ],
          "carpet": [
           {
            "aaxis": {
             "endlinecolor": "#2a3f5f",
             "gridcolor": "white",
             "linecolor": "white",
             "minorgridcolor": "white",
             "startlinecolor": "#2a3f5f"
            },
            "baxis": {
             "endlinecolor": "#2a3f5f",
             "gridcolor": "white",
             "linecolor": "white",
             "minorgridcolor": "white",
             "startlinecolor": "#2a3f5f"
            },
            "type": "carpet"
           }
          ],
          "choropleth": [
           {
            "colorbar": {
             "outlinewidth": 0,
             "ticks": ""
            },
            "type": "choropleth"
           }
          ],
          "contour": [
           {
            "colorbar": {
             "outlinewidth": 0,
             "ticks": ""
            },
            "colorscale": [
             [
              0,
              "#0d0887"
             ],
             [
              0.1111111111111111,
              "#46039f"
             ],
             [
              0.2222222222222222,
              "#7201a8"
             ],
             [
              0.3333333333333333,
              "#9c179e"
             ],
             [
              0.4444444444444444,
              "#bd3786"
             ],
             [
              0.5555555555555556,
              "#d8576b"
             ],
             [
              0.6666666666666666,
              "#ed7953"
             ],
             [
              0.7777777777777778,
              "#fb9f3a"
             ],
             [
              0.8888888888888888,
              "#fdca26"
             ],
             [
              1,
              "#f0f921"
             ]
            ],
            "type": "contour"
           }
          ],
          "contourcarpet": [
           {
            "colorbar": {
             "outlinewidth": 0,
             "ticks": ""
            },
            "type": "contourcarpet"
           }
          ],
          "heatmap": [
           {
            "colorbar": {
             "outlinewidth": 0,
             "ticks": ""
            },
            "colorscale": [
             [
              0,
              "#0d0887"
             ],
             [
              0.1111111111111111,
              "#46039f"
             ],
             [
              0.2222222222222222,
              "#7201a8"
             ],
             [
              0.3333333333333333,
              "#9c179e"
             ],
             [
              0.4444444444444444,
              "#bd3786"
             ],
             [
              0.5555555555555556,
              "#d8576b"
             ],
             [
              0.6666666666666666,
              "#ed7953"
             ],
             [
              0.7777777777777778,
              "#fb9f3a"
             ],
             [
              0.8888888888888888,
              "#fdca26"
             ],
             [
              1,
              "#f0f921"
             ]
            ],
            "type": "heatmap"
           }
          ],
          "heatmapgl": [
           {
            "colorbar": {
             "outlinewidth": 0,
             "ticks": ""
            },
            "colorscale": [
             [
              0,
              "#0d0887"
             ],
             [
              0.1111111111111111,
              "#46039f"
             ],
             [
              0.2222222222222222,
              "#7201a8"
             ],
             [
              0.3333333333333333,
              "#9c179e"
             ],
             [
              0.4444444444444444,
              "#bd3786"
             ],
             [
              0.5555555555555556,
              "#d8576b"
             ],
             [
              0.6666666666666666,
              "#ed7953"
             ],
             [
              0.7777777777777778,
              "#fb9f3a"
             ],
             [
              0.8888888888888888,
              "#fdca26"
             ],
             [
              1,
              "#f0f921"
             ]
            ],
            "type": "heatmapgl"
           }
          ],
          "histogram": [
           {
            "marker": {
             "pattern": {
              "fillmode": "overlay",
              "size": 10,
              "solidity": 0.2
             }
            },
            "type": "histogram"
           }
          ],
          "histogram2d": [
           {
            "colorbar": {
             "outlinewidth": 0,
             "ticks": ""
            },
            "colorscale": [
             [
              0,
              "#0d0887"
             ],
             [
              0.1111111111111111,
              "#46039f"
             ],
             [
              0.2222222222222222,
              "#7201a8"
             ],
             [
              0.3333333333333333,
              "#9c179e"
             ],
             [
              0.4444444444444444,
              "#bd3786"
             ],
             [
              0.5555555555555556,
              "#d8576b"
             ],
             [
              0.6666666666666666,
              "#ed7953"
             ],
             [
              0.7777777777777778,
              "#fb9f3a"
             ],
             [
              0.8888888888888888,
              "#fdca26"
             ],
             [
              1,
              "#f0f921"
             ]
            ],
            "type": "histogram2d"
           }
          ],
          "histogram2dcontour": [
           {
            "colorbar": {
             "outlinewidth": 0,
             "ticks": ""
            },
            "colorscale": [
             [
              0,
              "#0d0887"
             ],
             [
              0.1111111111111111,
              "#46039f"
             ],
             [
              0.2222222222222222,
              "#7201a8"
             ],
             [
              0.3333333333333333,
              "#9c179e"
             ],
             [
              0.4444444444444444,
              "#bd3786"
             ],
             [
              0.5555555555555556,
              "#d8576b"
             ],
             [
              0.6666666666666666,
              "#ed7953"
             ],
             [
              0.7777777777777778,
              "#fb9f3a"
             ],
             [
              0.8888888888888888,
              "#fdca26"
             ],
             [
              1,
              "#f0f921"
             ]
            ],
            "type": "histogram2dcontour"
           }
          ],
          "mesh3d": [
           {
            "colorbar": {
             "outlinewidth": 0,
             "ticks": ""
            },
            "type": "mesh3d"
           }
          ],
          "parcoords": [
           {
            "line": {
             "colorbar": {
              "outlinewidth": 0,
              "ticks": ""
             }
            },
            "type": "parcoords"
           }
          ],
          "pie": [
           {
            "automargin": true,
            "type": "pie"
           }
          ],
          "scatter": [
           {
            "marker": {
             "colorbar": {
              "outlinewidth": 0,
              "ticks": ""
             }
            },
            "type": "scatter"
           }
          ],
          "scatter3d": [
           {
            "line": {
             "colorbar": {
              "outlinewidth": 0,
              "ticks": ""
             }
            },
            "marker": {
             "colorbar": {
              "outlinewidth": 0,
              "ticks": ""
             }
            },
            "type": "scatter3d"
           }
          ],
          "scattercarpet": [
           {
            "marker": {
             "colorbar": {
              "outlinewidth": 0,
              "ticks": ""
             }
            },
            "type": "scattercarpet"
           }
          ],
          "scattergeo": [
           {
            "marker": {
             "colorbar": {
              "outlinewidth": 0,
              "ticks": ""
             }
            },
            "type": "scattergeo"
           }
          ],
          "scattergl": [
           {
            "marker": {
             "colorbar": {
              "outlinewidth": 0,
              "ticks": ""
             }
            },
            "type": "scattergl"
           }
          ],
          "scattermapbox": [
           {
            "marker": {
             "colorbar": {
              "outlinewidth": 0,
              "ticks": ""
             }
            },
            "type": "scattermapbox"
           }
          ],
          "scatterpolar": [
           {
            "marker": {
             "colorbar": {
              "outlinewidth": 0,
              "ticks": ""
             }
            },
            "type": "scatterpolar"
           }
          ],
          "scatterpolargl": [
           {
            "marker": {
             "colorbar": {
              "outlinewidth": 0,
              "ticks": ""
             }
            },
            "type": "scatterpolargl"
           }
          ],
          "scatterternary": [
           {
            "marker": {
             "colorbar": {
              "outlinewidth": 0,
              "ticks": ""
             }
            },
            "type": "scatterternary"
           }
          ],
          "surface": [
           {
            "colorbar": {
             "outlinewidth": 0,
             "ticks": ""
            },
            "colorscale": [
             [
              0,
              "#0d0887"
             ],
             [
              0.1111111111111111,
              "#46039f"
             ],
             [
              0.2222222222222222,
              "#7201a8"
             ],
             [
              0.3333333333333333,
              "#9c179e"
             ],
             [
              0.4444444444444444,
              "#bd3786"
             ],
             [
              0.5555555555555556,
              "#d8576b"
             ],
             [
              0.6666666666666666,
              "#ed7953"
             ],
             [
              0.7777777777777778,
              "#fb9f3a"
             ],
             [
              0.8888888888888888,
              "#fdca26"
             ],
             [
              1,
              "#f0f921"
             ]
            ],
            "type": "surface"
           }
          ],
          "table": [
           {
            "cells": {
             "fill": {
              "color": "#EBF0F8"
             },
             "line": {
              "color": "white"
             }
            },
            "header": {
             "fill": {
              "color": "#C8D4E3"
             },
             "line": {
              "color": "white"
             }
            },
            "type": "table"
           }
          ]
         },
         "layout": {
          "annotationdefaults": {
           "arrowcolor": "#2a3f5f",
           "arrowhead": 0,
           "arrowwidth": 1
          },
          "autotypenumbers": "strict",
          "coloraxis": {
           "colorbar": {
            "outlinewidth": 0,
            "ticks": ""
           }
          },
          "colorscale": {
           "diverging": [
            [
             0,
             "#8e0152"
            ],
            [
             0.1,
             "#c51b7d"
            ],
            [
             0.2,
             "#de77ae"
            ],
            [
             0.3,
             "#f1b6da"
            ],
            [
             0.4,
             "#fde0ef"
            ],
            [
             0.5,
             "#f7f7f7"
            ],
            [
             0.6,
             "#e6f5d0"
            ],
            [
             0.7,
             "#b8e186"
            ],
            [
             0.8,
             "#7fbc41"
            ],
            [
             0.9,
             "#4d9221"
            ],
            [
             1,
             "#276419"
            ]
           ],
           "sequential": [
            [
             0,
             "#0d0887"
            ],
            [
             0.1111111111111111,
             "#46039f"
            ],
            [
             0.2222222222222222,
             "#7201a8"
            ],
            [
             0.3333333333333333,
             "#9c179e"
            ],
            [
             0.4444444444444444,
             "#bd3786"
            ],
            [
             0.5555555555555556,
             "#d8576b"
            ],
            [
             0.6666666666666666,
             "#ed7953"
            ],
            [
             0.7777777777777778,
             "#fb9f3a"
            ],
            [
             0.8888888888888888,
             "#fdca26"
            ],
            [
             1,
             "#f0f921"
            ]
           ],
           "sequentialminus": [
            [
             0,
             "#0d0887"
            ],
            [
             0.1111111111111111,
             "#46039f"
            ],
            [
             0.2222222222222222,
             "#7201a8"
            ],
            [
             0.3333333333333333,
             "#9c179e"
            ],
            [
             0.4444444444444444,
             "#bd3786"
            ],
            [
             0.5555555555555556,
             "#d8576b"
            ],
            [
             0.6666666666666666,
             "#ed7953"
            ],
            [
             0.7777777777777778,
             "#fb9f3a"
            ],
            [
             0.8888888888888888,
             "#fdca26"
            ],
            [
             1,
             "#f0f921"
            ]
           ]
          },
          "colorway": [
           "#636efa",
           "#EF553B",
           "#00cc96",
           "#ab63fa",
           "#FFA15A",
           "#19d3f3",
           "#FF6692",
           "#B6E880",
           "#FF97FF",
           "#FECB52"
          ],
          "font": {
           "color": "#2a3f5f"
          },
          "geo": {
           "bgcolor": "white",
           "lakecolor": "white",
           "landcolor": "#E5ECF6",
           "showlakes": true,
           "showland": true,
           "subunitcolor": "white"
          },
          "hoverlabel": {
           "align": "left"
          },
          "hovermode": "closest",
          "mapbox": {
           "style": "light"
          },
          "paper_bgcolor": "white",
          "plot_bgcolor": "#E5ECF6",
          "polar": {
           "angularaxis": {
            "gridcolor": "white",
            "linecolor": "white",
            "ticks": ""
           },
           "bgcolor": "#E5ECF6",
           "radialaxis": {
            "gridcolor": "white",
            "linecolor": "white",
            "ticks": ""
           }
          },
          "scene": {
           "xaxis": {
            "backgroundcolor": "#E5ECF6",
            "gridcolor": "white",
            "gridwidth": 2,
            "linecolor": "white",
            "showbackground": true,
            "ticks": "",
            "zerolinecolor": "white"
           },
           "yaxis": {
            "backgroundcolor": "#E5ECF6",
            "gridcolor": "white",
            "gridwidth": 2,
            "linecolor": "white",
            "showbackground": true,
            "ticks": "",
            "zerolinecolor": "white"
           },
           "zaxis": {
            "backgroundcolor": "#E5ECF6",
            "gridcolor": "white",
            "gridwidth": 2,
            "linecolor": "white",
            "showbackground": true,
            "ticks": "",
            "zerolinecolor": "white"
           }
          },
          "shapedefaults": {
           "line": {
            "color": "#2a3f5f"
           }
          },
          "ternary": {
           "aaxis": {
            "gridcolor": "white",
            "linecolor": "white",
            "ticks": ""
           },
           "baxis": {
            "gridcolor": "white",
            "linecolor": "white",
            "ticks": ""
           },
           "bgcolor": "#E5ECF6",
           "caxis": {
            "gridcolor": "white",
            "linecolor": "white",
            "ticks": ""
           }
          },
          "title": {
           "x": 0.05
          },
          "xaxis": {
           "automargin": true,
           "gridcolor": "white",
           "linecolor": "white",
           "ticks": "",
           "title": {
            "standoff": 15
           },
           "zerolinecolor": "white",
           "zerolinewidth": 2
          },
          "yaxis": {
           "automargin": true,
           "gridcolor": "white",
           "linecolor": "white",
           "ticks": "",
           "title": {
            "standoff": 15
           },
           "zerolinecolor": "white",
           "zerolinewidth": 2
          }
         }
        },
        "width": 600,
        "xaxis": {
         "anchor": "y",
         "domain": [
          0,
          0.1
         ],
         "showgrid": false,
         "visible": false
        },
        "xaxis10": {
         "anchor": "y10",
         "domain": [
          0.9,
          1
         ],
         "showgrid": false,
         "visible": false
        },
        "xaxis11": {
         "anchor": "y11",
         "domain": [
          0,
          0.1
         ],
         "showgrid": false,
         "visible": false
        },
        "xaxis12": {
         "anchor": "y12",
         "domain": [
          0.1,
          0.2
         ],
         "showgrid": false,
         "visible": false
        },
        "xaxis13": {
         "anchor": "y13",
         "domain": [
          0.2,
          0.8
         ],
         "showgrid": false,
         "visible": false
        },
        "xaxis14": {
         "anchor": "y14",
         "domain": [
          0.8,
          0.9
         ],
         "showgrid": false,
         "visible": false
        },
        "xaxis15": {
         "anchor": "y15",
         "domain": [
          0.9,
          1
         ],
         "showgrid": false,
         "visible": false
        },
        "xaxis16": {
         "anchor": "y16",
         "domain": [
          0,
          0.1
         ],
         "showgrid": false,
         "visible": false
        },
        "xaxis17": {
         "anchor": "y17",
         "domain": [
          0.1,
          0.2
         ],
         "showgrid": false,
         "visible": false
        },
        "xaxis18": {
         "anchor": "y18",
         "domain": [
          0.2,
          0.8
         ],
         "showgrid": false,
         "visible": false
        },
        "xaxis19": {
         "anchor": "y19",
         "domain": [
          0.8,
          0.9
         ],
         "showgrid": false,
         "visible": false
        },
        "xaxis2": {
         "anchor": "y2",
         "domain": [
          0.1,
          0.2
         ],
         "showgrid": false,
         "visible": false
        },
        "xaxis20": {
         "anchor": "y20",
         "domain": [
          0.9,
          1
         ],
         "showgrid": false,
         "visible": false
        },
        "xaxis21": {
         "anchor": "y21",
         "domain": [
          0,
          0.1
         ],
         "showgrid": false,
         "visible": false
        },
        "xaxis22": {
         "anchor": "y22",
         "domain": [
          0.1,
          0.2
         ],
         "showgrid": false,
         "visible": false
        },
        "xaxis23": {
         "anchor": "y23",
         "domain": [
          0.2,
          0.8
         ],
         "showgrid": false,
         "visible": false
        },
        "xaxis24": {
         "anchor": "y24",
         "domain": [
          0.8,
          0.9
         ],
         "showgrid": false,
         "visible": false
        },
        "xaxis25": {
         "anchor": "y25",
         "domain": [
          0.9,
          1
         ],
         "showgrid": false,
         "visible": false
        },
        "xaxis3": {
         "anchor": "y3",
         "domain": [
          0.2,
          0.8
         ],
         "showgrid": false,
         "visible": false
        },
        "xaxis4": {
         "anchor": "y4",
         "domain": [
          0.8,
          0.9
         ],
         "showgrid": false,
         "visible": false
        },
        "xaxis5": {
         "anchor": "y5",
         "domain": [
          0.9,
          1
         ],
         "showgrid": false,
         "visible": false
        },
        "xaxis6": {
         "anchor": "y6",
         "domain": [
          0,
          0.1
         ],
         "showgrid": false,
         "visible": false
        },
        "xaxis7": {
         "anchor": "y7",
         "domain": [
          0.1,
          0.2
         ],
         "showgrid": false,
         "visible": false
        },
        "xaxis8": {
         "anchor": "y8",
         "domain": [
          0.2,
          0.8
         ],
         "showgrid": false,
         "visible": false
        },
        "xaxis9": {
         "anchor": "y9",
         "domain": [
          0.8,
          0.9
         ],
         "showgrid": false,
         "visible": false
        },
        "yaxis": {
         "anchor": "x",
         "domain": [
          0.8,
          1
         ],
         "showgrid": false,
         "visible": false
        },
        "yaxis10": {
         "anchor": "x10",
         "domain": [
          0.6000000000000001,
          0.8
         ],
         "showgrid": false,
         "visible": false
        },
        "yaxis11": {
         "anchor": "x11",
         "domain": [
          0.4,
          0.6000000000000001
         ],
         "showgrid": false,
         "visible": false
        },
        "yaxis12": {
         "anchor": "x12",
         "domain": [
          0.4,
          0.6000000000000001
         ],
         "showgrid": false,
         "visible": false
        },
        "yaxis13": {
         "anchor": "x13",
         "domain": [
          0.4,
          0.6000000000000001
         ],
         "showgrid": false,
         "visible": false
        },
        "yaxis14": {
         "anchor": "x14",
         "domain": [
          0.4,
          0.6000000000000001
         ],
         "showgrid": false,
         "visible": false
        },
        "yaxis15": {
         "anchor": "x15",
         "domain": [
          0.4,
          0.6000000000000001
         ],
         "showgrid": false,
         "visible": false
        },
        "yaxis16": {
         "anchor": "x16",
         "domain": [
          0.2,
          0.4
         ],
         "showgrid": false,
         "visible": false
        },
        "yaxis17": {
         "anchor": "x17",
         "domain": [
          0.2,
          0.4
         ],
         "showgrid": false,
         "visible": false
        },
        "yaxis18": {
         "anchor": "x18",
         "domain": [
          0.2,
          0.4
         ],
         "showgrid": false,
         "visible": false
        },
        "yaxis19": {
         "anchor": "x19",
         "domain": [
          0.2,
          0.4
         ],
         "showgrid": false,
         "visible": false
        },
        "yaxis2": {
         "anchor": "x2",
         "domain": [
          0.8,
          1
         ],
         "showgrid": false,
         "visible": false
        },
        "yaxis20": {
         "anchor": "x20",
         "domain": [
          0.2,
          0.4
         ],
         "showgrid": false,
         "visible": false
        },
        "yaxis21": {
         "anchor": "x21",
         "domain": [
          0,
          0.2
         ],
         "showgrid": false,
         "visible": false
        },
        "yaxis22": {
         "anchor": "x22",
         "domain": [
          0,
          0.2
         ],
         "showgrid": false,
         "visible": false
        },
        "yaxis23": {
         "anchor": "x23",
         "domain": [
          0,
          0.2
         ],
         "showgrid": false,
         "visible": false
        },
        "yaxis24": {
         "anchor": "x24",
         "domain": [
          0,
          0.2
         ],
         "showgrid": false,
         "visible": false
        },
        "yaxis25": {
         "anchor": "x25",
         "domain": [
          0,
          0.2
         ],
         "showgrid": false,
         "visible": false
        },
        "yaxis3": {
         "anchor": "x3",
         "domain": [
          0.8,
          1
         ],
         "showgrid": false,
         "visible": false
        },
        "yaxis4": {
         "anchor": "x4",
         "domain": [
          0.8,
          1
         ],
         "showgrid": false,
         "visible": false
        },
        "yaxis5": {
         "anchor": "x5",
         "domain": [
          0.8,
          1
         ],
         "showgrid": false,
         "visible": false
        },
        "yaxis6": {
         "anchor": "x6",
         "domain": [
          0.6000000000000001,
          0.8
         ],
         "showgrid": false,
         "visible": false
        },
        "yaxis7": {
         "anchor": "x7",
         "domain": [
          0.6000000000000001,
          0.8
         ],
         "showgrid": false,
         "visible": false
        },
        "yaxis8": {
         "anchor": "x8",
         "domain": [
          0.6000000000000001,
          0.8
         ],
         "showgrid": false,
         "visible": false
        },
        "yaxis9": {
         "anchor": "x9",
         "domain": [
          0.6000000000000001,
          0.8
         ],
         "showgrid": false,
         "visible": false
        }
       }
      },
      "text/html": [
       "<div>                            <div id=\"08bfdd2c-08ee-49b2-875a-2fe2a0e010dc\" class=\"plotly-graph-div\" style=\"height:200px; width:600px;\"></div>            <script type=\"text/javascript\">                require([\"plotly\"], function(Plotly) {                    window.PLOTLYENV=window.PLOTLYENV || {};                                    if (document.getElementById(\"08bfdd2c-08ee-49b2-875a-2fe2a0e010dc\")) {                    Plotly.newPlot(                        \"08bfdd2c-08ee-49b2-875a-2fe2a0e010dc\",                        [{\"mode\":\"text\",\"text\":\"11\",\"x\":[1],\"y\":[1],\"type\":\"scatter\",\"xaxis\":\"x\",\"yaxis\":\"y\"},{\"mode\":\"text\",\"text\":\"12\",\"x\":[1],\"y\":[1],\"type\":\"scatter\",\"xaxis\":\"x6\",\"yaxis\":\"y6\"},{\"mode\":\"text\",\"text\":\"13\",\"x\":[1],\"y\":[1],\"type\":\"scatter\",\"xaxis\":\"x11\",\"yaxis\":\"y11\"},{\"mode\":\"text\",\"text\":\"14\",\"x\":[1],\"y\":[1],\"type\":\"scatter\",\"xaxis\":\"x16\",\"yaxis\":\"y16\"},{\"mode\":\"text\",\"text\":\"15\",\"x\":[1],\"y\":[1],\"type\":\"scatter\",\"xaxis\":\"x21\",\"yaxis\":\"y21\"},{\"mode\":\"text\",\"text\":\"21\",\"x\":[1],\"y\":[1],\"type\":\"scatter\",\"xaxis\":\"x2\",\"yaxis\":\"y2\"},{\"mode\":\"text\",\"text\":\"22\",\"x\":[1],\"y\":[1],\"type\":\"scatter\",\"xaxis\":\"x7\",\"yaxis\":\"y7\"},{\"mode\":\"text\",\"text\":\"23\",\"x\":[1],\"y\":[1],\"type\":\"scatter\",\"xaxis\":\"x12\",\"yaxis\":\"y12\"},{\"mode\":\"text\",\"text\":\"24\",\"x\":[1],\"y\":[1],\"type\":\"scatter\",\"xaxis\":\"x17\",\"yaxis\":\"y17\"},{\"mode\":\"text\",\"text\":\"25\",\"x\":[1],\"y\":[1],\"type\":\"scatter\",\"xaxis\":\"x22\",\"yaxis\":\"y22\"},{\"mode\":\"text\",\"text\":\"31\",\"x\":[1],\"y\":[1],\"type\":\"scatter\",\"xaxis\":\"x3\",\"yaxis\":\"y3\"},{\"mode\":\"text\",\"text\":\"32\",\"x\":[1],\"y\":[1],\"type\":\"scatter\",\"xaxis\":\"x8\",\"yaxis\":\"y8\"},{\"mode\":\"text\",\"text\":\"33\",\"x\":[1],\"y\":[1],\"type\":\"scatter\",\"xaxis\":\"x13\",\"yaxis\":\"y13\"},{\"mode\":\"text\",\"text\":\"34\",\"x\":[1],\"y\":[1],\"type\":\"scatter\",\"xaxis\":\"x18\",\"yaxis\":\"y18\"},{\"mode\":\"text\",\"text\":\"35\",\"x\":[1],\"y\":[1],\"type\":\"scatter\",\"xaxis\":\"x23\",\"yaxis\":\"y23\"},{\"mode\":\"text\",\"text\":\"41\",\"x\":[1],\"y\":[1],\"type\":\"scatter\",\"xaxis\":\"x4\",\"yaxis\":\"y4\"},{\"mode\":\"text\",\"text\":\"42\",\"x\":[1],\"y\":[1],\"type\":\"scatter\",\"xaxis\":\"x9\",\"yaxis\":\"y9\"},{\"mode\":\"text\",\"text\":\"43\",\"x\":[1],\"y\":[1],\"type\":\"scatter\",\"xaxis\":\"x14\",\"yaxis\":\"y14\"},{\"mode\":\"text\",\"text\":\"44\",\"x\":[1],\"y\":[1],\"type\":\"scatter\",\"xaxis\":\"x19\",\"yaxis\":\"y19\"},{\"mode\":\"text\",\"text\":\"45\",\"x\":[1],\"y\":[1],\"type\":\"scatter\",\"xaxis\":\"x24\",\"yaxis\":\"y24\"},{\"mode\":\"text\",\"text\":\"51\",\"x\":[1],\"y\":[1],\"type\":\"scatter\",\"xaxis\":\"x5\",\"yaxis\":\"y5\"},{\"mode\":\"text\",\"text\":\"52\",\"x\":[1],\"y\":[1],\"type\":\"scatter\",\"xaxis\":\"x10\",\"yaxis\":\"y10\"},{\"mode\":\"text\",\"text\":\"53\",\"x\":[1],\"y\":[1],\"type\":\"scatter\",\"xaxis\":\"x15\",\"yaxis\":\"y15\"},{\"mode\":\"text\",\"text\":\"54\",\"x\":[1],\"y\":[1],\"type\":\"scatter\",\"xaxis\":\"x20\",\"yaxis\":\"y20\"},{\"mode\":\"text\",\"text\":\"55\",\"x\":[1],\"y\":[1],\"type\":\"scatter\",\"xaxis\":\"x25\",\"yaxis\":\"y25\"}],                        {\"template\":{\"data\":{\"bar\":[{\"error_x\":{\"color\":\"#2a3f5f\"},\"error_y\":{\"color\":\"#2a3f5f\"},\"marker\":{\"line\":{\"color\":\"#E5ECF6\",\"width\":0.5},\"pattern\":{\"fillmode\":\"overlay\",\"size\":10,\"solidity\":0.2}},\"type\":\"bar\"}],\"barpolar\":[{\"marker\":{\"line\":{\"color\":\"#E5ECF6\",\"width\":0.5},\"pattern\":{\"fillmode\":\"overlay\",\"size\":10,\"solidity\":0.2}},\"type\":\"barpolar\"}],\"carpet\":[{\"aaxis\":{\"endlinecolor\":\"#2a3f5f\",\"gridcolor\":\"white\",\"linecolor\":\"white\",\"minorgridcolor\":\"white\",\"startlinecolor\":\"#2a3f5f\"},\"baxis\":{\"endlinecolor\":\"#2a3f5f\",\"gridcolor\":\"white\",\"linecolor\":\"white\",\"minorgridcolor\":\"white\",\"startlinecolor\":\"#2a3f5f\"},\"type\":\"carpet\"}],\"choropleth\":[{\"colorbar\":{\"outlinewidth\":0,\"ticks\":\"\"},\"type\":\"choropleth\"}],\"contour\":[{\"colorbar\":{\"outlinewidth\":0,\"ticks\":\"\"},\"colorscale\":[[0.0,\"#0d0887\"],[0.1111111111111111,\"#46039f\"],[0.2222222222222222,\"#7201a8\"],[0.3333333333333333,\"#9c179e\"],[0.4444444444444444,\"#bd3786\"],[0.5555555555555556,\"#d8576b\"],[0.6666666666666666,\"#ed7953\"],[0.7777777777777778,\"#fb9f3a\"],[0.8888888888888888,\"#fdca26\"],[1.0,\"#f0f921\"]],\"type\":\"contour\"}],\"contourcarpet\":[{\"colorbar\":{\"outlinewidth\":0,\"ticks\":\"\"},\"type\":\"contourcarpet\"}],\"heatmap\":[{\"colorbar\":{\"outlinewidth\":0,\"ticks\":\"\"},\"colorscale\":[[0.0,\"#0d0887\"],[0.1111111111111111,\"#46039f\"],[0.2222222222222222,\"#7201a8\"],[0.3333333333333333,\"#9c179e\"],[0.4444444444444444,\"#bd3786\"],[0.5555555555555556,\"#d8576b\"],[0.6666666666666666,\"#ed7953\"],[0.7777777777777778,\"#fb9f3a\"],[0.8888888888888888,\"#fdca26\"],[1.0,\"#f0f921\"]],\"type\":\"heatmap\"}],\"heatmapgl\":[{\"colorbar\":{\"outlinewidth\":0,\"ticks\":\"\"},\"colorscale\":[[0.0,\"#0d0887\"],[0.1111111111111111,\"#46039f\"],[0.2222222222222222,\"#7201a8\"],[0.3333333333333333,\"#9c179e\"],[0.4444444444444444,\"#bd3786\"],[0.5555555555555556,\"#d8576b\"],[0.6666666666666666,\"#ed7953\"],[0.7777777777777778,\"#fb9f3a\"],[0.8888888888888888,\"#fdca26\"],[1.0,\"#f0f921\"]],\"type\":\"heatmapgl\"}],\"histogram\":[{\"marker\":{\"pattern\":{\"fillmode\":\"overlay\",\"size\":10,\"solidity\":0.2}},\"type\":\"histogram\"}],\"histogram2d\":[{\"colorbar\":{\"outlinewidth\":0,\"ticks\":\"\"},\"colorscale\":[[0.0,\"#0d0887\"],[0.1111111111111111,\"#46039f\"],[0.2222222222222222,\"#7201a8\"],[0.3333333333333333,\"#9c179e\"],[0.4444444444444444,\"#bd3786\"],[0.5555555555555556,\"#d8576b\"],[0.6666666666666666,\"#ed7953\"],[0.7777777777777778,\"#fb9f3a\"],[0.8888888888888888,\"#fdca26\"],[1.0,\"#f0f921\"]],\"type\":\"histogram2d\"}],\"histogram2dcontour\":[{\"colorbar\":{\"outlinewidth\":0,\"ticks\":\"\"},\"colorscale\":[[0.0,\"#0d0887\"],[0.1111111111111111,\"#46039f\"],[0.2222222222222222,\"#7201a8\"],[0.3333333333333333,\"#9c179e\"],[0.4444444444444444,\"#bd3786\"],[0.5555555555555556,\"#d8576b\"],[0.6666666666666666,\"#ed7953\"],[0.7777777777777778,\"#fb9f3a\"],[0.8888888888888888,\"#fdca26\"],[1.0,\"#f0f921\"]],\"type\":\"histogram2dcontour\"}],\"mesh3d\":[{\"colorbar\":{\"outlinewidth\":0,\"ticks\":\"\"},\"type\":\"mesh3d\"}],\"parcoords\":[{\"line\":{\"colorbar\":{\"outlinewidth\":0,\"ticks\":\"\"}},\"type\":\"parcoords\"}],\"pie\":[{\"automargin\":true,\"type\":\"pie\"}],\"scatter\":[{\"marker\":{\"colorbar\":{\"outlinewidth\":0,\"ticks\":\"\"}},\"type\":\"scatter\"}],\"scatter3d\":[{\"line\":{\"colorbar\":{\"outlinewidth\":0,\"ticks\":\"\"}},\"marker\":{\"colorbar\":{\"outlinewidth\":0,\"ticks\":\"\"}},\"type\":\"scatter3d\"}],\"scattercarpet\":[{\"marker\":{\"colorbar\":{\"outlinewidth\":0,\"ticks\":\"\"}},\"type\":\"scattercarpet\"}],\"scattergeo\":[{\"marker\":{\"colorbar\":{\"outlinewidth\":0,\"ticks\":\"\"}},\"type\":\"scattergeo\"}],\"scattergl\":[{\"marker\":{\"colorbar\":{\"outlinewidth\":0,\"ticks\":\"\"}},\"type\":\"scattergl\"}],\"scattermapbox\":[{\"marker\":{\"colorbar\":{\"outlinewidth\":0,\"ticks\":\"\"}},\"type\":\"scattermapbox\"}],\"scatterpolar\":[{\"marker\":{\"colorbar\":{\"outlinewidth\":0,\"ticks\":\"\"}},\"type\":\"scatterpolar\"}],\"scatterpolargl\":[{\"marker\":{\"colorbar\":{\"outlinewidth\":0,\"ticks\":\"\"}},\"type\":\"scatterpolargl\"}],\"scatterternary\":[{\"marker\":{\"colorbar\":{\"outlinewidth\":0,\"ticks\":\"\"}},\"type\":\"scatterternary\"}],\"surface\":[{\"colorbar\":{\"outlinewidth\":0,\"ticks\":\"\"},\"colorscale\":[[0.0,\"#0d0887\"],[0.1111111111111111,\"#46039f\"],[0.2222222222222222,\"#7201a8\"],[0.3333333333333333,\"#9c179e\"],[0.4444444444444444,\"#bd3786\"],[0.5555555555555556,\"#d8576b\"],[0.6666666666666666,\"#ed7953\"],[0.7777777777777778,\"#fb9f3a\"],[0.8888888888888888,\"#fdca26\"],[1.0,\"#f0f921\"]],\"type\":\"surface\"}],\"table\":[{\"cells\":{\"fill\":{\"color\":\"#EBF0F8\"},\"line\":{\"color\":\"white\"}},\"header\":{\"fill\":{\"color\":\"#C8D4E3\"},\"line\":{\"color\":\"white\"}},\"type\":\"table\"}]},\"layout\":{\"annotationdefaults\":{\"arrowcolor\":\"#2a3f5f\",\"arrowhead\":0,\"arrowwidth\":1},\"autotypenumbers\":\"strict\",\"coloraxis\":{\"colorbar\":{\"outlinewidth\":0,\"ticks\":\"\"}},\"colorscale\":{\"diverging\":[[0,\"#8e0152\"],[0.1,\"#c51b7d\"],[0.2,\"#de77ae\"],[0.3,\"#f1b6da\"],[0.4,\"#fde0ef\"],[0.5,\"#f7f7f7\"],[0.6,\"#e6f5d0\"],[0.7,\"#b8e186\"],[0.8,\"#7fbc41\"],[0.9,\"#4d9221\"],[1,\"#276419\"]],\"sequential\":[[0.0,\"#0d0887\"],[0.1111111111111111,\"#46039f\"],[0.2222222222222222,\"#7201a8\"],[0.3333333333333333,\"#9c179e\"],[0.4444444444444444,\"#bd3786\"],[0.5555555555555556,\"#d8576b\"],[0.6666666666666666,\"#ed7953\"],[0.7777777777777778,\"#fb9f3a\"],[0.8888888888888888,\"#fdca26\"],[1.0,\"#f0f921\"]],\"sequentialminus\":[[0.0,\"#0d0887\"],[0.1111111111111111,\"#46039f\"],[0.2222222222222222,\"#7201a8\"],[0.3333333333333333,\"#9c179e\"],[0.4444444444444444,\"#bd3786\"],[0.5555555555555556,\"#d8576b\"],[0.6666666666666666,\"#ed7953\"],[0.7777777777777778,\"#fb9f3a\"],[0.8888888888888888,\"#fdca26\"],[1.0,\"#f0f921\"]]},\"colorway\":[\"#636efa\",\"#EF553B\",\"#00cc96\",\"#ab63fa\",\"#FFA15A\",\"#19d3f3\",\"#FF6692\",\"#B6E880\",\"#FF97FF\",\"#FECB52\"],\"font\":{\"color\":\"#2a3f5f\"},\"geo\":{\"bgcolor\":\"white\",\"lakecolor\":\"white\",\"landcolor\":\"#E5ECF6\",\"showlakes\":true,\"showland\":true,\"subunitcolor\":\"white\"},\"hoverlabel\":{\"align\":\"left\"},\"hovermode\":\"closest\",\"mapbox\":{\"style\":\"light\"},\"paper_bgcolor\":\"white\",\"plot_bgcolor\":\"#E5ECF6\",\"polar\":{\"angularaxis\":{\"gridcolor\":\"white\",\"linecolor\":\"white\",\"ticks\":\"\"},\"bgcolor\":\"#E5ECF6\",\"radialaxis\":{\"gridcolor\":\"white\",\"linecolor\":\"white\",\"ticks\":\"\"}},\"scene\":{\"xaxis\":{\"backgroundcolor\":\"#E5ECF6\",\"gridcolor\":\"white\",\"gridwidth\":2,\"linecolor\":\"white\",\"showbackground\":true,\"ticks\":\"\",\"zerolinecolor\":\"white\"},\"yaxis\":{\"backgroundcolor\":\"#E5ECF6\",\"gridcolor\":\"white\",\"gridwidth\":2,\"linecolor\":\"white\",\"showbackground\":true,\"ticks\":\"\",\"zerolinecolor\":\"white\"},\"zaxis\":{\"backgroundcolor\":\"#E5ECF6\",\"gridcolor\":\"white\",\"gridwidth\":2,\"linecolor\":\"white\",\"showbackground\":true,\"ticks\":\"\",\"zerolinecolor\":\"white\"}},\"shapedefaults\":{\"line\":{\"color\":\"#2a3f5f\"}},\"ternary\":{\"aaxis\":{\"gridcolor\":\"white\",\"linecolor\":\"white\",\"ticks\":\"\"},\"baxis\":{\"gridcolor\":\"white\",\"linecolor\":\"white\",\"ticks\":\"\"},\"bgcolor\":\"#E5ECF6\",\"caxis\":{\"gridcolor\":\"white\",\"linecolor\":\"white\",\"ticks\":\"\"}},\"title\":{\"x\":0.05},\"xaxis\":{\"automargin\":true,\"gridcolor\":\"white\",\"linecolor\":\"white\",\"ticks\":\"\",\"title\":{\"standoff\":15},\"zerolinecolor\":\"white\",\"zerolinewidth\":2},\"yaxis\":{\"automargin\":true,\"gridcolor\":\"white\",\"linecolor\":\"white\",\"ticks\":\"\",\"title\":{\"standoff\":15},\"zerolinecolor\":\"white\",\"zerolinewidth\":2}}},\"xaxis\":{\"anchor\":\"y\",\"domain\":[0.0,0.1],\"showgrid\":false,\"visible\":false},\"yaxis\":{\"anchor\":\"x\",\"domain\":[0.8,1.0],\"showgrid\":false,\"visible\":false},\"xaxis2\":{\"anchor\":\"y2\",\"domain\":[0.1,0.2],\"showgrid\":false,\"visible\":false},\"yaxis2\":{\"anchor\":\"x2\",\"domain\":[0.8,1.0],\"showgrid\":false,\"visible\":false},\"xaxis3\":{\"anchor\":\"y3\",\"domain\":[0.2,0.8],\"showgrid\":false,\"visible\":false},\"yaxis3\":{\"anchor\":\"x3\",\"domain\":[0.8,1.0],\"showgrid\":false,\"visible\":false},\"xaxis4\":{\"anchor\":\"y4\",\"domain\":[0.8,0.9],\"showgrid\":false,\"visible\":false},\"yaxis4\":{\"anchor\":\"x4\",\"domain\":[0.8,1.0],\"showgrid\":false,\"visible\":false},\"xaxis5\":{\"anchor\":\"y5\",\"domain\":[0.9,1.0],\"showgrid\":false,\"visible\":false},\"yaxis5\":{\"anchor\":\"x5\",\"domain\":[0.8,1.0],\"showgrid\":false,\"visible\":false},\"xaxis6\":{\"anchor\":\"y6\",\"domain\":[0.0,0.1],\"showgrid\":false,\"visible\":false},\"yaxis6\":{\"anchor\":\"x6\",\"domain\":[0.6000000000000001,0.8],\"showgrid\":false,\"visible\":false},\"xaxis7\":{\"anchor\":\"y7\",\"domain\":[0.1,0.2],\"showgrid\":false,\"visible\":false},\"yaxis7\":{\"anchor\":\"x7\",\"domain\":[0.6000000000000001,0.8],\"showgrid\":false,\"visible\":false},\"xaxis8\":{\"anchor\":\"y8\",\"domain\":[0.2,0.8],\"showgrid\":false,\"visible\":false},\"yaxis8\":{\"anchor\":\"x8\",\"domain\":[0.6000000000000001,0.8],\"showgrid\":false,\"visible\":false},\"xaxis9\":{\"anchor\":\"y9\",\"domain\":[0.8,0.9],\"showgrid\":false,\"visible\":false},\"yaxis9\":{\"anchor\":\"x9\",\"domain\":[0.6000000000000001,0.8],\"showgrid\":false,\"visible\":false},\"xaxis10\":{\"anchor\":\"y10\",\"domain\":[0.9,1.0],\"showgrid\":false,\"visible\":false},\"yaxis10\":{\"anchor\":\"x10\",\"domain\":[0.6000000000000001,0.8],\"showgrid\":false,\"visible\":false},\"xaxis11\":{\"anchor\":\"y11\",\"domain\":[0.0,0.1],\"showgrid\":false,\"visible\":false},\"yaxis11\":{\"anchor\":\"x11\",\"domain\":[0.4,0.6000000000000001],\"showgrid\":false,\"visible\":false},\"xaxis12\":{\"anchor\":\"y12\",\"domain\":[0.1,0.2],\"showgrid\":false,\"visible\":false},\"yaxis12\":{\"anchor\":\"x12\",\"domain\":[0.4,0.6000000000000001],\"showgrid\":false,\"visible\":false},\"xaxis13\":{\"anchor\":\"y13\",\"domain\":[0.2,0.8],\"showgrid\":false,\"visible\":false},\"yaxis13\":{\"anchor\":\"x13\",\"domain\":[0.4,0.6000000000000001],\"showgrid\":false,\"visible\":false},\"xaxis14\":{\"anchor\":\"y14\",\"domain\":[0.8,0.9],\"showgrid\":false,\"visible\":false},\"yaxis14\":{\"anchor\":\"x14\",\"domain\":[0.4,0.6000000000000001],\"showgrid\":false,\"visible\":false},\"xaxis15\":{\"anchor\":\"y15\",\"domain\":[0.9,1.0],\"showgrid\":false,\"visible\":false},\"yaxis15\":{\"anchor\":\"x15\",\"domain\":[0.4,0.6000000000000001],\"showgrid\":false,\"visible\":false},\"xaxis16\":{\"anchor\":\"y16\",\"domain\":[0.0,0.1],\"showgrid\":false,\"visible\":false},\"yaxis16\":{\"anchor\":\"x16\",\"domain\":[0.2,0.4],\"showgrid\":false,\"visible\":false},\"xaxis17\":{\"anchor\":\"y17\",\"domain\":[0.1,0.2],\"showgrid\":false,\"visible\":false},\"yaxis17\":{\"anchor\":\"x17\",\"domain\":[0.2,0.4],\"showgrid\":false,\"visible\":false},\"xaxis18\":{\"anchor\":\"y18\",\"domain\":[0.2,0.8],\"showgrid\":false,\"visible\":false},\"yaxis18\":{\"anchor\":\"x18\",\"domain\":[0.2,0.4],\"showgrid\":false,\"visible\":false},\"xaxis19\":{\"anchor\":\"y19\",\"domain\":[0.8,0.9],\"showgrid\":false,\"visible\":false},\"yaxis19\":{\"anchor\":\"x19\",\"domain\":[0.2,0.4],\"showgrid\":false,\"visible\":false},\"xaxis20\":{\"anchor\":\"y20\",\"domain\":[0.9,1.0],\"showgrid\":false,\"visible\":false},\"yaxis20\":{\"anchor\":\"x20\",\"domain\":[0.2,0.4],\"showgrid\":false,\"visible\":false},\"xaxis21\":{\"anchor\":\"y21\",\"domain\":[0.0,0.1],\"showgrid\":false,\"visible\":false},\"yaxis21\":{\"anchor\":\"x21\",\"domain\":[0.0,0.2],\"showgrid\":false,\"visible\":false},\"xaxis22\":{\"anchor\":\"y22\",\"domain\":[0.1,0.2],\"showgrid\":false,\"visible\":false},\"yaxis22\":{\"anchor\":\"x22\",\"domain\":[0.0,0.2],\"showgrid\":false,\"visible\":false},\"xaxis23\":{\"anchor\":\"y23\",\"domain\":[0.2,0.8],\"showgrid\":false,\"visible\":false},\"yaxis23\":{\"anchor\":\"x23\",\"domain\":[0.0,0.2],\"showgrid\":false,\"visible\":false},\"xaxis24\":{\"anchor\":\"y24\",\"domain\":[0.8,0.9],\"showgrid\":false,\"visible\":false},\"yaxis24\":{\"anchor\":\"x24\",\"domain\":[0.0,0.2],\"showgrid\":false,\"visible\":false},\"xaxis25\":{\"anchor\":\"y25\",\"domain\":[0.9,1.0],\"showgrid\":false,\"visible\":false},\"yaxis25\":{\"anchor\":\"x25\",\"domain\":[0.0,0.2],\"showgrid\":false,\"visible\":false},\"annotations\":[{\"font\":{\"size\":16},\"showarrow\":false,\"text\":\"id\",\"x\":0.05,\"xanchor\":\"center\",\"xref\":\"paper\",\"y\":1.0,\"yanchor\":\"bottom\",\"yref\":\"paper\"},{\"font\":{\"size\":16},\"showarrow\":false,\"text\":\"series\",\"x\":0.15000000000000002,\"xanchor\":\"center\",\"xref\":\"paper\",\"y\":1.0,\"yanchor\":\"bottom\",\"yref\":\"paper\"},{\"font\":{\"size\":16},\"showarrow\":false,\"text\":\"result\",\"x\":0.5,\"xanchor\":\"center\",\"xref\":\"paper\",\"y\":1.0,\"yanchor\":\"bottom\",\"yref\":\"paper\"},{\"font\":{\"size\":16},\"showarrow\":false,\"text\":\"line\",\"x\":0.8500000000000001,\"xanchor\":\"center\",\"xref\":\"paper\",\"y\":1.0,\"yanchor\":\"bottom\",\"yref\":\"paper\"},{\"font\":{\"size\":16},\"showarrow\":false,\"text\":\"symbol\",\"x\":0.95,\"xanchor\":\"center\",\"xref\":\"paper\",\"y\":1.0,\"yanchor\":\"bottom\",\"yref\":\"paper\"}],\"margin\":{\"l\":0,\"r\":0,\"b\":0,\"t\":20,\"pad\":0},\"autosize\":false,\"width\":600,\"height\":200,\"paper_bgcolor\":\"LightSteelBlue\",\"showlegend\":false},                        {\"responsive\": true}                    ).then(function(){\n",
       "                            \n",
       "var gd = document.getElementById('08bfdd2c-08ee-49b2-875a-2fe2a0e010dc');\n",
       "var x = new MutationObserver(function (mutations, observer) {{\n",
       "        var display = window.getComputedStyle(gd).display;\n",
       "        if (!display || display === 'none') {{\n",
       "            console.log([gd, 'removed!']);\n",
       "            Plotly.purge(gd);\n",
       "            observer.disconnect();\n",
       "        }}\n",
       "}});\n",
       "\n",
       "// Listen for the removal of the full notebook cells\n",
       "var notebookContainer = gd.closest('#notebook-container');\n",
       "if (notebookContainer) {{\n",
       "    x.observe(notebookContainer, {childList: true});\n",
       "}}\n",
       "\n",
       "// Listen for the clearing of the current output cell\n",
       "var outputEl = gd.closest('.output');\n",
       "if (outputEl) {{\n",
       "    x.observe(outputEl, {childList: true});\n",
       "}}\n",
       "\n",
       "                        })                };                });            </script>        </div>"
      ]
     },
     "metadata": {},
     "output_type": "display_data"
    }
   ],
   "source": [
    "\n",
    "for c in cols: #enumerate here to get access to i\n",
    "    for r in rows:\n",
    "\n",
    "        # STEP 2, notice position of arguments!\n",
    "        fig.add_trace(go.Scatter(x=[1], \n",
    "                                 y=[1],\n",
    "                                 mode='text',\n",
    "                                 text=str(c) + str(r)\n",
    "                                ),\n",
    "                      row=r, #index for the subplot, i+1 because plotly starts with 1\n",
    "                      col=c)\n",
    "        fig.update_xaxes(showgrid=False)\n",
    "        fig.update_yaxes(showgrid=False)\n",
    "        #legend\n",
    "        fig.update_layout(showlegend=False)\n",
    "        #x axis\n",
    "        fig.update_xaxes(visible=False)\n",
    "        #y axis    \n",
    "        fig.update_yaxes(visible=False)\n",
    "        \n",
    "fig.show()"
   ]
  },
  {
   "cell_type": "code",
   "execution_count": null,
   "id": "e8a08373",
   "metadata": {},
   "outputs": [],
   "source": []
  },
  {
   "cell_type": "code",
   "execution_count": null,
   "id": "15400afd",
   "metadata": {},
   "outputs": [],
   "source": []
  }
 ],
 "metadata": {
  "kernelspec": {
   "display_name": "Python 3",
   "language": "python",
   "name": "python3"
  },
  "language_info": {
   "codemirror_mode": {
    "name": "ipython",
    "version": 3
   },
   "file_extension": ".py",
   "mimetype": "text/x-python",
   "name": "python",
   "nbconvert_exporter": "python",
   "pygments_lexer": "ipython3",
   "version": "3.8.10"
  }
 },
 "nbformat": 4,
 "nbformat_minor": 5
}

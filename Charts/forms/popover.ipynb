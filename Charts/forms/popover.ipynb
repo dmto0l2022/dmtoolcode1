{
 "cells": [
  {
   "cell_type": "code",
   "execution_count": 1,
   "id": "198d3e99",
   "metadata": {},
   "outputs": [],
   "source": [
    "#pip install dash --upgrade\n",
    "#!pip install dash==2.0.0"
   ]
  },
  {
   "cell_type": "code",
   "execution_count": 2,
   "id": "5e7be57c",
   "metadata": {},
   "outputs": [],
   "source": [
    "import dash\n",
    "from dash import dcc\n",
    "from dash import html\n",
    "from dash import Dash, html\n",
    "from dash import Input, Output, State\n",
    "from dash import dash_table\n",
    "\n",
    "from dash import callback_context\n",
    "\n",
    "import plotly.graph_objects as go\n",
    "from plotly.subplots import make_subplots\n",
    "\n",
    "#from dash import Dash, Input, Output, callback\n",
    "\n",
    "from jupyter_dash import JupyterDash\n",
    "\n",
    "import dash_bootstrap_components as dbc"
   ]
  },
  {
   "cell_type": "code",
   "execution_count": 3,
   "id": "ab78caff",
   "metadata": {},
   "outputs": [],
   "source": [
    "#requests_pathname_prefix=\"/dash1/\",\n",
    "#routes_pathname_prefix='/dash1/',"
   ]
  },
  {
   "cell_type": "code",
   "execution_count": 4,
   "id": "90df3dd4",
   "metadata": {},
   "outputs": [],
   "source": [
    "COMPONENT_STYLE = \"/assets/forms.css\"\n",
    "external_stylesheets=[dbc.themes.BOOTSTRAP, COMPONENT_STYLE]\n",
    "\n",
    "app = JupyterDash(__name__,\n",
    "                  requests_pathname_prefix= \"/\",\n",
    "                  external_stylesheets=external_stylesheets,\n",
    "                  meta_tags=[{'name': 'viewport', 'content': 'width=device-width, initial-scale=1'}],\n",
    "                 suppress_callback_exceptions=True)\n",
    "# Create server variable with Flask server object for use with gunicorn\n",
    "server = app.server"
   ]
  },
  {
   "cell_type": "raw",
   "id": "3faf4a36",
   "metadata": {},
   "source": [
    "#import dash_bootstrap_components as dbc\n",
    "#from dash import html\n",
    "\n",
    "popovers = html.Div(\n",
    "    [\n",
    "        # First example - using dbc.PopoverBody\n",
    "        dbc.Button(\n",
    "            \"popover-target\",\n",
    "            id=\"popover-target\",\n",
    "            className=\"me-1\",\n",
    "        ),\n",
    "        dbc.Popover(dbc.PopoverBody('dd'))\n",
    "        #dbc.Popover(\n",
    "        #    dbc.PopoverBody(\"My `target` is `popover-target`.\"),\n",
    "        #    target=\"popover-target\",\n",
    "        #    trigger=\"click\",\n",
    "        #),\n",
    "        # Second example - using body=True\n",
    "        dbc.Button(\n",
    "            \"popover-alt-target\",\n",
    "            id=\"popover-alt-target\",\n",
    "            className=\"me-1\",\n",
    "        ),\n",
    "        #dbc.Popover(\n",
    "        #    \"My `target` is `popover-alt-target`.\",\n",
    "        #    #body=True,\n",
    "        #    target=\"popover-alt-target\",\n",
    "        #    trigger=\"click\",\n",
    "        #),\n",
    "    ]\n",
    ")\n",
    "\n",
    "\n"
   ]
  },
  {
   "cell_type": "code",
   "execution_count": 5,
   "id": "90fca2bd",
   "metadata": {},
   "outputs": [],
   "source": [
    "row = html.Div(\n",
    "    [\n",
    "        dbc.Row(dbc.Col(html.Div(\"A single column\"))),\n",
    "        dbc.Row(\n",
    "            [\n",
    "                dbc.Col(\n",
    "                    html.Label('Enter Range :',\n",
    "                               style={\"text-align\":\"right\",\"padding\":\"0 !important\",\n",
    "                                      \"margin\": \"0 !important\",\"border-style\": \"solid\",\n",
    "                                     \"width\": \"100%\",}),\n",
    "                    style={\"padding\":\"0 !important\",\n",
    "                           \"margin\": \"0 !important\", \"border-style\": \"solid\", \"width\": \"1\"},\n",
    "                    width=2\n",
    "                ),\n",
    "                dbc.Col(dcc.Input(id='rangeinput', type='number', min=2, max=10, step=1,\n",
    "                                  style={\"font\":\"bold\", \"font-size\": \"14px\", \"width\":\"140px\"}),\n",
    "                        style={\"padding\":\"0 !important\", \"margin\": \"0 !important\", \"border-style\": \"solid\"},\n",
    "                        width=1),\n",
    "                dbc.Col(dcc.Input(id='example1', type='text', value='example', readOnly=True,\n",
    "                  style={\"font\":\"bold\", \"font-size\": \"12px\",\n",
    "                         \"border-style\": \"none\", \"height\":\"18px\", \"width\":\"50px\",\n",
    "                        \"text-decoration\": \"underline\"}),\n",
    "                        style={\"padding\":\"0 !important\", \"margin\": \"0 !important\", \"border-style\": \"solid\"},\n",
    "                        width=1),\n",
    "                dbc.Popover(dbc.PopoverBody('enter number between 2 and 10'),\n",
    "                            target=\"rangeinput\",trigger=\"hover\"),\n",
    "                dbc.Popover(dbc.PopoverBody('3'),target=\"example1\",trigger=\"click\"), \n",
    "                \n",
    "            ],\n",
    "        className='g-0'),\n",
    "    ]\n",
    ")\n",
    "\n",
    "app.layout = row"
   ]
  },
  {
   "cell_type": "raw",
   "id": "dd7b40fd",
   "metadata": {},
   "source": [
    "app.layout = html.Div(\n",
    "    [\n",
    "        dbc.Button(\"Show Example 1\", id=\"open1\", n_clicks=0),\n",
    "        dbc.Button(\"Show Example 2\", id=\"open2\", n_clicks=0),\n",
    "        dbc.Popover(dbc.PopoverBody('open 1 sample'),target=\"open1\",trigger=\"click\"),\n",
    "        dbc.Popover(dbc.PopoverBody('open 2 sample'),target=\"open2\",trigger=\"hover\"),\n",
    "        html.Div('No Button Pressed', id=\"whatbutton\"),\n",
    "        html.Label('Enter Range'),\n",
    "        dcc.Input(id='rangeinput', type='number', min=2, max=10, step=1),\n",
    "        dbc.Popover(dbc.PopoverBody('enter number between 2 and 10'),target=\"rangeinput\",trigger=\"hover\"),\n",
    "        #html.Div('Example', id='example1', style={\"font\":\"bold\"}),\n",
    "        dcc.Input(id='example1', type='text', value='example', readOnly=True,\n",
    "                  style={\"font\":\"bold\", \"font-size\": \"15px\",\n",
    "                         \"border-style\": \"none\", \"height\":\"18px\", \"width\":\"80px\",\n",
    "                        \"text-decoration\": \"underline\"}),\n",
    "        dbc.Popover(dbc.PopoverBody('3'),target=\"example1\",trigger=\"click\"),  \n",
    "    ]\n",
    ")"
   ]
  },
  {
   "cell_type": "raw",
   "id": "5022f82f",
   "metadata": {},
   "source": [
    "#app.layout = popovers"
   ]
  },
  {
   "cell_type": "code",
   "execution_count": 6,
   "id": "1357fd9d",
   "metadata": {},
   "outputs": [
    {
     "name": "stdout",
     "output_type": "stream",
     "text": [
      "Dash app running on http://127.0.0.1:5051/\n"
     ]
    }
   ],
   "source": [
    "#app.config.suppress_callback_exceptions = True\n",
    "app.run_server(host=\"127.0.0.1\", port=5051, debug=True, use_reloader=False) "
   ]
  },
  {
   "cell_type": "code",
   "execution_count": null,
   "id": "8c17308f",
   "metadata": {},
   "outputs": [],
   "source": []
  }
 ],
 "metadata": {
  "kernelspec": {
   "display_name": "Python 3",
   "language": "python",
   "name": "python3"
  },
  "language_info": {
   "codemirror_mode": {
    "name": "ipython",
    "version": 3
   },
   "file_extension": ".py",
   "mimetype": "text/x-python",
   "name": "python",
   "nbconvert_exporter": "python",
   "pygments_lexer": "ipython3",
   "version": "3.8.10"
  }
 },
 "nbformat": 4,
 "nbformat_minor": 5
}

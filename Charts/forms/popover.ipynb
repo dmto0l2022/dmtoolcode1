{
 "cells": [
  {
   "cell_type": "code",
   "execution_count": 1,
   "id": "198d3e99",
   "metadata": {},
   "outputs": [
    {
     "name": "stdout",
     "output_type": "stream",
     "text": [
      "Requirement already up-to-date: dash in /home/andrewcgaitskell/.local/share/virtualenvs/dmtoolcode1-bhEI-KFD/lib/python3.8/site-packages (2.9.3)\n",
      "Requirement already satisfied, skipping upgrade: plotly>=5.0.0 in /home/andrewcgaitskell/.local/share/virtualenvs/dmtoolcode1-bhEI-KFD/lib/python3.8/site-packages (from dash) (5.4.0)\n",
      "Requirement already satisfied, skipping upgrade: dash-core-components==2.0.0 in /home/andrewcgaitskell/.local/share/virtualenvs/dmtoolcode1-bhEI-KFD/lib/python3.8/site-packages (from dash) (2.0.0)\n",
      "Requirement already satisfied, skipping upgrade: dash-table==5.0.0 in /home/andrewcgaitskell/.local/share/virtualenvs/dmtoolcode1-bhEI-KFD/lib/python3.8/site-packages (from dash) (5.0.0)\n",
      "Requirement already satisfied, skipping upgrade: dash-html-components==2.0.0 in /home/andrewcgaitskell/.local/share/virtualenvs/dmtoolcode1-bhEI-KFD/lib/python3.8/site-packages (from dash) (2.0.0)\n",
      "Requirement already satisfied, skipping upgrade: Flask>=1.0.4 in /home/andrewcgaitskell/.local/share/virtualenvs/dmtoolcode1-bhEI-KFD/lib/python3.8/site-packages (from dash) (2.0.2)\n",
      "Requirement already satisfied, skipping upgrade: tenacity>=6.2.0 in /home/andrewcgaitskell/.local/share/virtualenvs/dmtoolcode1-bhEI-KFD/lib/python3.8/site-packages (from plotly>=5.0.0->dash) (8.0.1)\n",
      "Requirement already satisfied, skipping upgrade: six in /home/andrewcgaitskell/.local/share/virtualenvs/dmtoolcode1-bhEI-KFD/lib/python3.8/site-packages (from plotly>=5.0.0->dash) (1.16.0)\n",
      "Requirement already satisfied, skipping upgrade: Jinja2>=3.0 in /home/andrewcgaitskell/.local/share/virtualenvs/dmtoolcode1-bhEI-KFD/lib/python3.8/site-packages (from Flask>=1.0.4->dash) (3.0.3)\n",
      "Requirement already satisfied, skipping upgrade: itsdangerous>=2.0 in /home/andrewcgaitskell/.local/share/virtualenvs/dmtoolcode1-bhEI-KFD/lib/python3.8/site-packages (from Flask>=1.0.4->dash) (2.0.1)\n",
      "Requirement already satisfied, skipping upgrade: Werkzeug>=2.0 in /home/andrewcgaitskell/.local/share/virtualenvs/dmtoolcode1-bhEI-KFD/lib/python3.8/site-packages (from Flask>=1.0.4->dash) (2.0.2)\n",
      "Requirement already satisfied, skipping upgrade: click>=7.1.2 in /home/andrewcgaitskell/.local/share/virtualenvs/dmtoolcode1-bhEI-KFD/lib/python3.8/site-packages (from Flask>=1.0.4->dash) (8.0.3)\n",
      "Requirement already satisfied, skipping upgrade: MarkupSafe>=2.0 in /home/andrewcgaitskell/.local/share/virtualenvs/dmtoolcode1-bhEI-KFD/lib/python3.8/site-packages (from Jinja2>=3.0->Flask>=1.0.4->dash) (2.0.1)\n",
      "Requirement already up-to-date: jupyter-dash in /home/andrewcgaitskell/.local/share/virtualenvs/dmtoolcode1-bhEI-KFD/lib/python3.8/site-packages (0.4.2)\n",
      "Requirement already satisfied, skipping upgrade: requests in /home/andrewcgaitskell/.local/share/virtualenvs/dmtoolcode1-bhEI-KFD/lib/python3.8/site-packages (from jupyter-dash) (2.28.2)\n",
      "Requirement already satisfied, skipping upgrade: ansi2html in /home/andrewcgaitskell/.local/share/virtualenvs/dmtoolcode1-bhEI-KFD/lib/python3.8/site-packages (from jupyter-dash) (1.6.0)\n",
      "Requirement already satisfied, skipping upgrade: retrying in /home/andrewcgaitskell/.local/share/virtualenvs/dmtoolcode1-bhEI-KFD/lib/python3.8/site-packages (from jupyter-dash) (1.3.3)\n",
      "Requirement already satisfied, skipping upgrade: ipython in /home/andrewcgaitskell/.local/share/virtualenvs/dmtoolcode1-bhEI-KFD/lib/python3.8/site-packages (from jupyter-dash) (7.29.0)\n",
      "Requirement already satisfied, skipping upgrade: dash in /home/andrewcgaitskell/.local/share/virtualenvs/dmtoolcode1-bhEI-KFD/lib/python3.8/site-packages (from jupyter-dash) (2.9.3)\n",
      "Requirement already satisfied, skipping upgrade: nest-asyncio in /home/andrewcgaitskell/.local/share/virtualenvs/dmtoolcode1-bhEI-KFD/lib/python3.8/site-packages (from jupyter-dash) (1.5.1)\n",
      "Requirement already satisfied, skipping upgrade: ipykernel in /home/andrewcgaitskell/.local/share/virtualenvs/dmtoolcode1-bhEI-KFD/lib/python3.8/site-packages (from jupyter-dash) (6.5.1)\n",
      "Requirement already satisfied, skipping upgrade: flask in /home/andrewcgaitskell/.local/share/virtualenvs/dmtoolcode1-bhEI-KFD/lib/python3.8/site-packages (from jupyter-dash) (2.0.2)\n",
      "Requirement already satisfied, skipping upgrade: idna<4,>=2.5 in /home/andrewcgaitskell/.local/share/virtualenvs/dmtoolcode1-bhEI-KFD/lib/python3.8/site-packages (from requests->jupyter-dash) (3.3)\n",
      "Requirement already satisfied, skipping upgrade: urllib3<1.27,>=1.21.1 in /home/andrewcgaitskell/.local/share/virtualenvs/dmtoolcode1-bhEI-KFD/lib/python3.8/site-packages (from requests->jupyter-dash) (1.26.7)\n",
      "Requirement already satisfied, skipping upgrade: charset-normalizer<4,>=2 in /home/andrewcgaitskell/.local/share/virtualenvs/dmtoolcode1-bhEI-KFD/lib/python3.8/site-packages (from requests->jupyter-dash) (2.0.7)\n",
      "Requirement already satisfied, skipping upgrade: certifi>=2017.4.17 in /home/andrewcgaitskell/.local/share/virtualenvs/dmtoolcode1-bhEI-KFD/lib/python3.8/site-packages (from requests->jupyter-dash) (2021.10.8)\n",
      "Requirement already satisfied, skipping upgrade: six>=1.7.0 in /home/andrewcgaitskell/.local/share/virtualenvs/dmtoolcode1-bhEI-KFD/lib/python3.8/site-packages (from retrying->jupyter-dash) (1.16.0)\n",
      "Requirement already satisfied, skipping upgrade: pexpect>4.3; sys_platform != \"win32\" in /home/andrewcgaitskell/.local/share/virtualenvs/dmtoolcode1-bhEI-KFD/lib/python3.8/site-packages (from ipython->jupyter-dash) (4.8.0)\n",
      "Requirement already satisfied, skipping upgrade: pickleshare in /home/andrewcgaitskell/.local/share/virtualenvs/dmtoolcode1-bhEI-KFD/lib/python3.8/site-packages (from ipython->jupyter-dash) (0.7.5)\n",
      "Requirement already satisfied, skipping upgrade: pygments in /home/andrewcgaitskell/.local/share/virtualenvs/dmtoolcode1-bhEI-KFD/lib/python3.8/site-packages (from ipython->jupyter-dash) (2.10.0)\n",
      "Requirement already satisfied, skipping upgrade: traitlets>=4.2 in /home/andrewcgaitskell/.local/share/virtualenvs/dmtoolcode1-bhEI-KFD/lib/python3.8/site-packages (from ipython->jupyter-dash) (5.1.1)\n",
      "Requirement already satisfied, skipping upgrade: matplotlib-inline in /home/andrewcgaitskell/.local/share/virtualenvs/dmtoolcode1-bhEI-KFD/lib/python3.8/site-packages (from ipython->jupyter-dash) (0.1.3)\n",
      "Requirement already satisfied, skipping upgrade: prompt-toolkit!=3.0.0,!=3.0.1,<3.1.0,>=2.0.0 in /home/andrewcgaitskell/.local/share/virtualenvs/dmtoolcode1-bhEI-KFD/lib/python3.8/site-packages (from ipython->jupyter-dash) (3.0.22)\n",
      "Requirement already satisfied, skipping upgrade: backcall in /home/andrewcgaitskell/.local/share/virtualenvs/dmtoolcode1-bhEI-KFD/lib/python3.8/site-packages (from ipython->jupyter-dash) (0.2.0)\n",
      "Requirement already satisfied, skipping upgrade: setuptools>=18.5 in /home/andrewcgaitskell/.local/share/virtualenvs/dmtoolcode1-bhEI-KFD/lib/python3.8/site-packages (from ipython->jupyter-dash) (44.0.0)\n",
      "Requirement already satisfied, skipping upgrade: jedi>=0.16 in /home/andrewcgaitskell/.local/share/virtualenvs/dmtoolcode1-bhEI-KFD/lib/python3.8/site-packages (from ipython->jupyter-dash) (0.18.1)\n",
      "Requirement already satisfied, skipping upgrade: decorator in /home/andrewcgaitskell/.local/share/virtualenvs/dmtoolcode1-bhEI-KFD/lib/python3.8/site-packages (from ipython->jupyter-dash) (5.1.0)\n",
      "Requirement already satisfied, skipping upgrade: plotly>=5.0.0 in /home/andrewcgaitskell/.local/share/virtualenvs/dmtoolcode1-bhEI-KFD/lib/python3.8/site-packages (from dash->jupyter-dash) (5.4.0)\n",
      "Requirement already satisfied, skipping upgrade: dash-core-components==2.0.0 in /home/andrewcgaitskell/.local/share/virtualenvs/dmtoolcode1-bhEI-KFD/lib/python3.8/site-packages (from dash->jupyter-dash) (2.0.0)\n",
      "Requirement already satisfied, skipping upgrade: dash-html-components==2.0.0 in /home/andrewcgaitskell/.local/share/virtualenvs/dmtoolcode1-bhEI-KFD/lib/python3.8/site-packages (from dash->jupyter-dash) (2.0.0)\n",
      "Requirement already satisfied, skipping upgrade: dash-table==5.0.0 in /home/andrewcgaitskell/.local/share/virtualenvs/dmtoolcode1-bhEI-KFD/lib/python3.8/site-packages (from dash->jupyter-dash) (5.0.0)\n",
      "Requirement already satisfied, skipping upgrade: debugpy<2.0,>=1.0.0 in /home/andrewcgaitskell/.local/share/virtualenvs/dmtoolcode1-bhEI-KFD/lib/python3.8/site-packages (from ipykernel->jupyter-dash) (1.5.1)\n",
      "Requirement already satisfied, skipping upgrade: jupyter-client<8.0 in /home/andrewcgaitskell/.local/share/virtualenvs/dmtoolcode1-bhEI-KFD/lib/python3.8/site-packages (from ipykernel->jupyter-dash) (7.1.0)\n"
     ]
    },
    {
     "name": "stdout",
     "output_type": "stream",
     "text": [
      "Requirement already satisfied, skipping upgrade: tornado<7.0,>=4.2 in /home/andrewcgaitskell/.local/share/virtualenvs/dmtoolcode1-bhEI-KFD/lib/python3.8/site-packages (from ipykernel->jupyter-dash) (6.1)\n",
      "Requirement already satisfied, skipping upgrade: itsdangerous>=2.0 in /home/andrewcgaitskell/.local/share/virtualenvs/dmtoolcode1-bhEI-KFD/lib/python3.8/site-packages (from flask->jupyter-dash) (2.0.1)\n",
      "Requirement already satisfied, skipping upgrade: Werkzeug>=2.0 in /home/andrewcgaitskell/.local/share/virtualenvs/dmtoolcode1-bhEI-KFD/lib/python3.8/site-packages (from flask->jupyter-dash) (2.0.2)\n",
      "Requirement already satisfied, skipping upgrade: click>=7.1.2 in /home/andrewcgaitskell/.local/share/virtualenvs/dmtoolcode1-bhEI-KFD/lib/python3.8/site-packages (from flask->jupyter-dash) (8.0.3)\n",
      "Requirement already satisfied, skipping upgrade: Jinja2>=3.0 in /home/andrewcgaitskell/.local/share/virtualenvs/dmtoolcode1-bhEI-KFD/lib/python3.8/site-packages (from flask->jupyter-dash) (3.0.3)\n",
      "Requirement already satisfied, skipping upgrade: ptyprocess>=0.5 in /home/andrewcgaitskell/.local/share/virtualenvs/dmtoolcode1-bhEI-KFD/lib/python3.8/site-packages (from pexpect>4.3; sys_platform != \"win32\"->ipython->jupyter-dash) (0.7.0)\n",
      "Requirement already satisfied, skipping upgrade: wcwidth in /home/andrewcgaitskell/.local/share/virtualenvs/dmtoolcode1-bhEI-KFD/lib/python3.8/site-packages (from prompt-toolkit!=3.0.0,!=3.0.1,<3.1.0,>=2.0.0->ipython->jupyter-dash) (0.2.5)\n",
      "Requirement already satisfied, skipping upgrade: parso<0.9.0,>=0.8.0 in /home/andrewcgaitskell/.local/share/virtualenvs/dmtoolcode1-bhEI-KFD/lib/python3.8/site-packages (from jedi>=0.16->ipython->jupyter-dash) (0.8.2)\n",
      "Requirement already satisfied, skipping upgrade: tenacity>=6.2.0 in /home/andrewcgaitskell/.local/share/virtualenvs/dmtoolcode1-bhEI-KFD/lib/python3.8/site-packages (from plotly>=5.0.0->dash->jupyter-dash) (8.0.1)\n",
      "Requirement already satisfied, skipping upgrade: pyzmq>=13 in /home/andrewcgaitskell/.local/share/virtualenvs/dmtoolcode1-bhEI-KFD/lib/python3.8/site-packages (from jupyter-client<8.0->ipykernel->jupyter-dash) (22.3.0)\n",
      "Requirement already satisfied, skipping upgrade: jupyter-core>=4.6.0 in /home/andrewcgaitskell/.local/share/virtualenvs/dmtoolcode1-bhEI-KFD/lib/python3.8/site-packages (from jupyter-client<8.0->ipykernel->jupyter-dash) (4.9.1)\n",
      "Requirement already satisfied, skipping upgrade: python-dateutil>=2.1 in /home/andrewcgaitskell/.local/share/virtualenvs/dmtoolcode1-bhEI-KFD/lib/python3.8/site-packages (from jupyter-client<8.0->ipykernel->jupyter-dash) (2.8.2)\n",
      "Requirement already satisfied, skipping upgrade: entrypoints in /home/andrewcgaitskell/.local/share/virtualenvs/dmtoolcode1-bhEI-KFD/lib/python3.8/site-packages (from jupyter-client<8.0->ipykernel->jupyter-dash) (0.3)\n",
      "Requirement already satisfied, skipping upgrade: MarkupSafe>=2.0 in /home/andrewcgaitskell/.local/share/virtualenvs/dmtoolcode1-bhEI-KFD/lib/python3.8/site-packages (from Jinja2>=3.0->flask->jupyter-dash) (2.0.1)\n",
      "Requirement already satisfied: dash_daq in /home/andrewcgaitskell/.local/share/virtualenvs/dmtoolcode1-bhEI-KFD/lib/python3.8/site-packages (0.5.0)\n",
      "Requirement already satisfied: dash>=1.6.1 in /home/andrewcgaitskell/.local/share/virtualenvs/dmtoolcode1-bhEI-KFD/lib/python3.8/site-packages (from dash_daq) (2.9.3)\n",
      "Requirement already satisfied: Flask>=1.0.4 in /home/andrewcgaitskell/.local/share/virtualenvs/dmtoolcode1-bhEI-KFD/lib/python3.8/site-packages (from dash>=1.6.1->dash_daq) (2.0.2)\n",
      "Requirement already satisfied: dash-core-components==2.0.0 in /home/andrewcgaitskell/.local/share/virtualenvs/dmtoolcode1-bhEI-KFD/lib/python3.8/site-packages (from dash>=1.6.1->dash_daq) (2.0.0)\n",
      "Requirement already satisfied: dash-html-components==2.0.0 in /home/andrewcgaitskell/.local/share/virtualenvs/dmtoolcode1-bhEI-KFD/lib/python3.8/site-packages (from dash>=1.6.1->dash_daq) (2.0.0)\n",
      "Requirement already satisfied: dash-table==5.0.0 in /home/andrewcgaitskell/.local/share/virtualenvs/dmtoolcode1-bhEI-KFD/lib/python3.8/site-packages (from dash>=1.6.1->dash_daq) (5.0.0)\n",
      "Requirement already satisfied: plotly>=5.0.0 in /home/andrewcgaitskell/.local/share/virtualenvs/dmtoolcode1-bhEI-KFD/lib/python3.8/site-packages (from dash>=1.6.1->dash_daq) (5.4.0)\n",
      "Requirement already satisfied: itsdangerous>=2.0 in /home/andrewcgaitskell/.local/share/virtualenvs/dmtoolcode1-bhEI-KFD/lib/python3.8/site-packages (from Flask>=1.0.4->dash>=1.6.1->dash_daq) (2.0.1)\n",
      "Requirement already satisfied: Jinja2>=3.0 in /home/andrewcgaitskell/.local/share/virtualenvs/dmtoolcode1-bhEI-KFD/lib/python3.8/site-packages (from Flask>=1.0.4->dash>=1.6.1->dash_daq) (3.0.3)\n",
      "Requirement already satisfied: Werkzeug>=2.0 in /home/andrewcgaitskell/.local/share/virtualenvs/dmtoolcode1-bhEI-KFD/lib/python3.8/site-packages (from Flask>=1.0.4->dash>=1.6.1->dash_daq) (2.0.2)\n",
      "Requirement already satisfied: click>=7.1.2 in /home/andrewcgaitskell/.local/share/virtualenvs/dmtoolcode1-bhEI-KFD/lib/python3.8/site-packages (from Flask>=1.0.4->dash>=1.6.1->dash_daq) (8.0.3)\n",
      "Requirement already satisfied: six in /home/andrewcgaitskell/.local/share/virtualenvs/dmtoolcode1-bhEI-KFD/lib/python3.8/site-packages (from plotly>=5.0.0->dash>=1.6.1->dash_daq) (1.16.0)\n",
      "Requirement already satisfied: tenacity>=6.2.0 in /home/andrewcgaitskell/.local/share/virtualenvs/dmtoolcode1-bhEI-KFD/lib/python3.8/site-packages (from plotly>=5.0.0->dash>=1.6.1->dash_daq) (8.0.1)\n",
      "Requirement already satisfied: MarkupSafe>=2.0 in /home/andrewcgaitskell/.local/share/virtualenvs/dmtoolcode1-bhEI-KFD/lib/python3.8/site-packages (from Jinja2>=3.0->Flask>=1.0.4->dash>=1.6.1->dash_daq) (2.0.1)\n"
     ]
    }
   ],
   "source": [
    "!pip install dash --upgrade\n",
    "!pip install jupyter-dash --upgrade\n",
    "#!pip install dash==2.0.0\n",
    "!pip install dash_daq"
   ]
  },
  {
   "cell_type": "code",
   "execution_count": 2,
   "id": "5e7be57c",
   "metadata": {},
   "outputs": [],
   "source": [
    "import dash\n",
    "from dash import dcc\n",
    "from dash import html\n",
    "from dash import Dash, html\n",
    "from dash import Input, Output, State\n",
    "from dash import dash_table\n",
    "\n",
    "from dash import callback_context\n",
    "\n",
    "import plotly.graph_objects as go\n",
    "from plotly.subplots import make_subplots\n",
    "\n",
    "#from dash import Dash, Input, Output, callback\n",
    "\n",
    "from jupyter_dash import JupyterDash\n",
    "\n",
    "import dash_bootstrap_components as dbc"
   ]
  },
  {
   "cell_type": "code",
   "execution_count": 3,
   "id": "afe19c0b",
   "metadata": {},
   "outputs": [],
   "source": [
    "import dash_daq as daq"
   ]
  },
  {
   "cell_type": "code",
   "execution_count": 4,
   "id": "d86d59e3",
   "metadata": {},
   "outputs": [],
   "source": [
    "from datetime import date\n",
    "import pandas as pd"
   ]
  },
  {
   "cell_type": "code",
   "execution_count": 5,
   "id": "38fe04d9",
   "metadata": {},
   "outputs": [],
   "source": [
    "#import formlibrary as fl"
   ]
  },
  {
   "cell_type": "code",
   "execution_count": null,
   "id": "2e36178b",
   "metadata": {},
   "outputs": [],
   "source": []
  },
  {
   "cell_type": "code",
   "execution_count": 6,
   "id": "ab78caff",
   "metadata": {},
   "outputs": [],
   "source": [
    "#requests_pathname_prefix=\"/dash1/\",\n",
    "#routes_pathname_prefix='/dash1/',"
   ]
  },
  {
   "cell_type": "code",
   "execution_count": 7,
   "id": "90df3dd4",
   "metadata": {},
   "outputs": [],
   "source": [
    "COMPONENT_STYLE = \"/assets/forms.css\"\n",
    "external_stylesheets=[dbc.themes.BOOTSTRAP, COMPONENT_STYLE]\n",
    "\n",
    "app = JupyterDash(__name__,\n",
    "                  ##requests_pathname_prefix= \"/\",\n",
    "                  external_stylesheets=external_stylesheets,\n",
    "                  meta_tags=[{'name': 'viewport', 'content': 'width=device-width, initial-scale=1'}],\n",
    "                 suppress_callback_exceptions=True)\n",
    "# Create server variable with Flask server object for use with gunicorn\n",
    "server = app.server"
   ]
  },
  {
   "cell_type": "code",
   "execution_count": 8,
   "id": "f91bd12d",
   "metadata": {},
   "outputs": [],
   "source": [
    "import formlibrary as fl"
   ]
  },
  {
   "cell_type": "code",
   "execution_count": 9,
   "id": "e7077868",
   "metadata": {},
   "outputs": [],
   "source": [
    "row = html.Div([fl.uploadxmlfile_input_row,\n",
    "       fl.datalabel_input_row,\n",
    "       fl.datareference_input_row,\n",
    "       fl.datacomment_input_row,\n",
    "       fl.experiment_input_row,\n",
    "       fl.dateofannouncement_input_row,\n",
    "       fl.year_input_row,\n",
    "       fl.rescaley_input_row,\n",
    "       fl.rescalex_input_row])"
   ]
  },
  {
   "cell_type": "code",
   "execution_count": 10,
   "id": "90fca2bd",
   "metadata": {},
   "outputs": [],
   "source": [
    "#row = linestyle_input_row\n",
    "\n",
    "app.layout = row"
   ]
  },
  {
   "cell_type": "raw",
   "id": "dd7b40fd",
   "metadata": {},
   "source": [
    "app.layout = html.Div(\n",
    "    [\n",
    "        dbc.Button(\"Show Example 1\", id=\"open1\", n_clicks=0),\n",
    "        dbc.Button(\"Show Example 2\", id=\"open2\", n_clicks=0),\n",
    "        dbc.Popover(dbc.PopoverBody('open 1 sample'),target=\"open1\",trigger=\"click\"),\n",
    "        dbc.Popover(dbc.PopoverBody('open 2 sample'),target=\"open2\",trigger=\"hover\"),\n",
    "        html.Div('No Button Pressed', id=\"whatbutton\"),\n",
    "        html.Label('Enter Range'),\n",
    "        dcc.Input(id='rangeinput', type='number', min=2, max=10, step=1),\n",
    "        dbc.Popover(dbc.PopoverBody('enter number between 2 and 10'),target=\"rangeinput\",trigger=\"hover\"),\n",
    "        #html.Div('Example', id='example1', style={\"font\":\"bold\"}),\n",
    "        dcc.Input(id='example1', type='text', value='example', readOnly=True,\n",
    "                  style={\"font\":\"bold\", \"font-size\": \"15px\",\n",
    "                         \"border-style\": \"none\", \"height\":\"18px\", \"width\":\"80px\",\n",
    "                        \"text-decoration\": \"underline\"}),\n",
    "        dbc.Popover(dbc.PopoverBody('3'),target=\"example1\",trigger=\"click\"),  \n",
    "    ]\n",
    ")"
   ]
  },
  {
   "cell_type": "raw",
   "id": "5022f82f",
   "metadata": {},
   "source": [
    "#app.layout = popovers"
   ]
  },
  {
   "cell_type": "code",
   "execution_count": 11,
   "id": "1357fd9d",
   "metadata": {},
   "outputs": [
    {
     "name": "stdout",
     "output_type": "stream",
     "text": [
      "Dash is running on http://127.0.0.1:5051/\n",
      "\n",
      "Dash app running on http://127.0.0.1:5051/\n"
     ]
    }
   ],
   "source": [
    "#app.config.suppress_callback_exceptions = True\n",
    "#app.run_server(host=\"127.0.0.1\", port=5051, debug=True, use_reloader=False) \n",
    "app.run_server(host=\"127.0.0.1\", port=5051) "
   ]
  },
  {
   "cell_type": "code",
   "execution_count": null,
   "id": "8c17308f",
   "metadata": {},
   "outputs": [],
   "source": []
  }
 ],
 "metadata": {
  "kernelspec": {
   "display_name": "Python 3",
   "language": "python",
   "name": "python3"
  },
  "language_info": {
   "codemirror_mode": {
    "name": "ipython",
    "version": 3
   },
   "file_extension": ".py",
   "mimetype": "text/x-python",
   "name": "python",
   "nbconvert_exporter": "python",
   "pygments_lexer": "ipython3",
   "version": "3.8.10"
  }
 },
 "nbformat": 4,
 "nbformat_minor": 5
}

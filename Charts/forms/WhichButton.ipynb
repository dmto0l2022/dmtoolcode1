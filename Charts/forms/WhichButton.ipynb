{
 "cells": [
  {
   "cell_type": "code",
   "execution_count": 1,
   "id": "198d3e99",
   "metadata": {},
   "outputs": [],
   "source": [
    "#pip install dash --upgrade\n",
    "#!pip install dash==2.0.0"
   ]
  },
  {
   "cell_type": "code",
   "execution_count": 2,
   "id": "5e7be57c",
   "metadata": {},
   "outputs": [],
   "source": [
    "import dash\n",
    "from dash import dcc\n",
    "from dash import html\n",
    "from dash import Dash, html\n",
    "from dash import Input, Output, State\n",
    "from dash import dash_table\n",
    "\n",
    "from dash import callback_context\n",
    "\n",
    "import plotly.graph_objects as go\n",
    "from plotly.subplots import make_subplots\n",
    "\n",
    "#from dash import Dash, Input, Output, callback\n",
    "\n",
    "from jupyter_dash import JupyterDash\n",
    "\n",
    "import dash_bootstrap_components as dbc"
   ]
  },
  {
   "cell_type": "code",
   "execution_count": 3,
   "id": "ab78caff",
   "metadata": {},
   "outputs": [],
   "source": [
    "#requests_pathname_prefix=\"/dash1/\",\n",
    "#routes_pathname_prefix='/dash1/',"
   ]
  },
  {
   "cell_type": "code",
   "execution_count": 4,
   "id": "90df3dd4",
   "metadata": {},
   "outputs": [],
   "source": [
    "COMPONENT_STYLE = \"/assets/forms.css\"\n",
    "external_stylesheets=[dbc.themes.BOOTSTRAP, COMPONENT_STYLE]\n",
    "\n",
    "app = JupyterDash(__name__,\n",
    "                  requests_pathname_prefix= \"/\",\n",
    "                  external_stylesheets=external_stylesheets,\n",
    "                  meta_tags=[{'name': 'viewport', 'content': 'width=device-width, initial-scale=1'}],\n",
    "                 suppress_callback_exceptions=True)\n",
    "# Create server variable with Flask server object for use with gunicorn\n",
    "server = app.server"
   ]
  },
  {
   "cell_type": "raw",
   "id": "174021c6",
   "metadata": {},
   "source": [
    "modal = html.Div(\n",
    "    [\n",
    "        dbc.Button(\"Open modal 1\", id=\"open1\", n_clicks=0),\n",
    "        dbc.Button(\"Open modal 2\", id=\"open2\", n_clicks=0),\n",
    "        dbc.Modal(\n",
    "            [\n",
    "                dbc.ModalHeader(dbc.ModalTitle(\"Header1\")),\n",
    "                dbc.ModalBody(\"This is the content of the modal 1\"),\n",
    "                dbc.ModalFooter(\n",
    "                    dbc.Button(\n",
    "                        \"Close1\", id=\"close1\", className=\"ms-auto\", n_clicks=0\n",
    "                    )\n",
    "                ),\n",
    "            ],\n",
    "            id=\"modal1\",\n",
    "            is_open=False,\n",
    "        ),\n",
    "        dbc.Modal(\n",
    "            [\n",
    "                dbc.ModalHeader(dbc.ModalTitle(\"Header2\")),\n",
    "                dbc.ModalBody(\"This is the content of the modal 2\"),\n",
    "                dbc.ModalFooter(\n",
    "                    dbc.Button(\n",
    "                        \"Close2\", id=\"close2\", className=\"ms-auto\", n_clicks=0\n",
    "                    )\n",
    "                ),\n",
    "            ],\n",
    "            id=\"modal2\",\n",
    "            is_open=False,\n",
    "        ),\n",
    "    ]\n",
    ")\n",
    "\n",
    "app.layout = modal\n",
    "\n",
    "@app.callback(\n",
    "    [Output(\"modal1\", \"is_open\"),Output(\"modal2\", \"is_open\")],\n",
    "    #[Input(\"open1\", \"n_clicks\"), Input(\"close1\", \"n_clicks\"),\n",
    "    # Input(\"open2\", \"n_clicks\"), Input(\"close2\", \"n_clicks\")],\n",
    "    [Input(\"open1\", \"n_clicks\"),Input(\"open2\", \"n_clicks\")],\n",
    "    [State(\"modal1\", \"is_open\"),State(\"modal2\", \"is_open\")],\n",
    ")\n",
    "def toggle_modal(n1, n3, is_open1, is_open2):\n",
    "    if n1:\n",
    "        return [True, False]\n",
    "    if n3:\n",
    "        return [False, True]\n",
    "    return [False, False]"
   ]
  },
  {
   "cell_type": "code",
   "execution_count": 5,
   "id": "f8b758f6",
   "metadata": {},
   "outputs": [],
   "source": [
    "modal_1 = dbc.Modal(\n",
    "    [\n",
    "        dbc.ModalHeader(dbc.ModalTitle(\"Modal 1\")),\n",
    "        dbc.ModalBody(\"This is the content of the first modal\"),\n",
    "        dbc.ModalFooter(\n",
    "            dbc.Button(\n",
    "                \"Open Modal 2\",\n",
    "                id=\"open-toggle-modal-2\",\n",
    "                className=\"ms-auto\",\n",
    "                n_clicks=0,\n",
    "            )\n",
    "        ),\n",
    "    ],\n",
    "    id=\"toggle-modal-1\",\n",
    "    is_open=False,\n",
    ")\n",
    "\n",
    "modal_2 = dbc.Modal(\n",
    "    [\n",
    "        dbc.ModalHeader(dbc.ModalTitle(\"Modal 2\")),\n",
    "        dbc.ModalBody(\"This is the second modal\"),\n",
    "        dbc.ModalFooter(\n",
    "            dbc.Button(\n",
    "                \"Back to Modal 1\",\n",
    "                id=\"open-toggle-modal-1\",\n",
    "                className=\"ms-auto\",\n",
    "                n_clicks=0,\n",
    "            )\n",
    "        ),\n",
    "    ],\n",
    "    id=\"toggle-modal-2\",\n",
    "    is_open=False,\n",
    ")\n",
    "\n",
    "\n",
    "modal_mult = html.Div(\n",
    "    [\n",
    "        dbc.Button(\"Open modal\", id=\"open-toggle-modal\", n_clicks=0),\n",
    "        modal_1,\n",
    "        modal_2,\n",
    "    ]\n",
    ")\n"
   ]
  },
  {
   "cell_type": "raw",
   "id": "4526d9b0",
   "metadata": {},
   "source": [
    "modal_mult.children[1].children[1].children = \"new text\"\n",
    "modal_mult.children[1].children[1].children"
   ]
  },
  {
   "cell_type": "code",
   "execution_count": 6,
   "id": "5b4a3f43",
   "metadata": {},
   "outputs": [
    {
     "data": {
      "text/plain": [
       "ModalBody('This is the second modal')"
      ]
     },
     "execution_count": 6,
     "metadata": {},
     "output_type": "execute_result"
    }
   ],
   "source": [
    "modal_2.children[1]"
   ]
  },
  {
   "cell_type": "raw",
   "id": "cab78b43",
   "metadata": {},
   "source": [
    "modal_3 = dbc.Modal()\n",
    "modal_3_body = dbc.ModalBody('This is the second modal')\n",
    "modal_3.children[1].children[1] = dbc.ModalBody('This is the second modal')\n",
    "modal_3"
   ]
  },
  {
   "cell_type": "raw",
   "id": "67558474",
   "metadata": {},
   "source": [
    "modal_\n",
    "\n",
    "    [\n",
    "        dbc.ModalHeader(dbc.ModalTitle(\"Modal 2\")),\n",
    "        dbc.ModalBody(\"This is the second modal\"),\n",
    "        dbc.ModalFooter(\n",
    "            dbc.Button(\n",
    "                \"Back to Modal 1\",\n",
    "                id=\"open-toggle-modal-1\",\n",
    "                className=\"ms-auto\",\n",
    "                n_clicks=0,\n",
    "            )\n",
    "        ),\n",
    "    ],\n",
    "    id=\"toggle-modal-2\",\n",
    "    is_open=False,\n",
    ")"
   ]
  },
  {
   "cell_type": "raw",
   "id": "cb6a4aa6",
   "metadata": {},
   "source": [
    "\n",
    "app.layout = modal_mult\n",
    "\n",
    "@app.callback(\n",
    "    Output(\"toggle-modal-1\", \"is_open\"),\n",
    "    [\n",
    "        Input(\"open-toggle-modal\", \"n_clicks\"),\n",
    "        Input(\"open-toggle-modal-1\", \"n_clicks\"),\n",
    "        Input(\"open-toggle-modal-2\", \"n_clicks\"),\n",
    "    ],\n",
    "    [State(\"toggle-modal-1\", \"is_open\")],\n",
    ")\n",
    "def toggle_modal_1(n0, n1, n2, is_open):\n",
    "    if n0 or n1 or n2:\n",
    "        return not is_open\n",
    "    return is_open\n",
    "\n",
    "\n",
    "@app.callback(\n",
    "    Output(\"toggle-modal-2\", \"is_open\"),\n",
    "    [\n",
    "        Input(\"open-toggle-modal-2\", \"n_clicks\"),\n",
    "        Input(\"open-toggle-modal-1\", \"n_clicks\"),\n",
    "    ],\n",
    "    [State(\"toggle-modal-2\", \"is_open\")],\n",
    ")\n",
    "def toggle_modal_2(n2, n1, is_open):\n",
    "    if n1 or n2:\n",
    "        return not is_open\n",
    "    return is_open"
   ]
  },
  {
   "cell_type": "code",
   "execution_count": null,
   "id": "9a1d77e3",
   "metadata": {},
   "outputs": [],
   "source": []
  },
  {
   "cell_type": "code",
   "execution_count": 7,
   "id": "78fe2284",
   "metadata": {},
   "outputs": [],
   "source": [
    "example_modal = dbc.Modal(\n",
    "            [\n",
    "                dbc.ModalHeader('Data Examples', id='modal_header'),\n",
    "                dbc.ModalBody(\n",
    "                    [\n",
    "                        dbc.Label(\"Field:\", id='data_field'),\n",
    "                        dbc.Label(\"Name:\", id='data_example')\n",
    "\n",
    "                    ]),\n",
    "                dbc.ModalFooter(\n",
    "                   [dbc.Button(\"OK\", color=\"primary\", size=\"lg\", className=\"mr-1\")])\n",
    "            ],\n",
    "    id=\"data-example-modal\",\n",
    "    is_open=False,\n",
    ")\n",
    "                                \n",
    "                \n",
    "                \n",
    " #               dbc.ModalFooter(\n",
    " #                   [\n",
    " #                       dbc.Button(\"OK\", color=\"primary\", size=\"lg\", className=\"mr-1\"),\n",
    " #                   ]\n",
    " #               ,\n",
    " #           ],\n",
    " #           id=\"data-example-modal\",\n",
    " #       ),\n",
    " #                               , style={\"width\": \"50%\"})\n",
    "\n",
    "app.layout = html.Div(\n",
    "    [\n",
    "        dbc.Button(\"Show Example 1\", id=\"open1\", n_clicks=0),\n",
    "        dbc.Button(\"Show Example 2\", id=\"open2\", n_clicks=0),\n",
    "        html.Div('No Button Pressed', id=\"whatbutton\"),\n",
    "        example_modal\n",
    "    ]\n",
    ")\n",
    "\n",
    "@app.callback(\n",
    "    [\n",
    "        Output(\"data-example-modal\", \"is_open\"),\n",
    "        Output(\"whatbutton\", \"children\"),\n",
    "        Output(\"data_field\", \"children\"),\n",
    "        Output(\"data_example\", \"children\"),\n",
    "    ],\n",
    "    [Input(\"open1\", \"n_clicks\"),\n",
    "        Input(\"open2\", \"n_clicks\")]\n",
    ")\n",
    "def display_popup(n1,n2):\n",
    "    msg = \"None of the buttons have been clicked yet\"\n",
    "    prop_id = dash.callback_context.triggered[0][\"prop_id\"].split('.')[0]\n",
    "    #msg = prop_id\n",
    "    if \"open1\" == prop_id :\n",
    "        msg = \"Button 1 was most recently clicked\"\n",
    "    elif \"open2\" == prop_id:\n",
    "        msg = \"Button 2 was most recently clicked\"\n",
    "        \n",
    "    if \"open1\" == prop_id:\n",
    "        data_field = 'data field 1'\n",
    "        data_example = 'data example 1'\n",
    "        return [True, html.Div(msg), data_field, data_example]\n",
    "    elif \"open2\" == prop_id:\n",
    "        data_field = 'data field 2'\n",
    "        data_example = 'data example 2'\n",
    "        return [True, html.Div(msg), data_field, data_example]\n",
    "    else:\n",
    "        return [False,html.Div(msg),'','']\n"
   ]
  },
  {
   "cell_type": "code",
   "execution_count": null,
   "id": "e63c948d",
   "metadata": {},
   "outputs": [],
   "source": []
  },
  {
   "cell_type": "code",
   "execution_count": null,
   "id": "15d718f5",
   "metadata": {},
   "outputs": [],
   "source": []
  },
  {
   "cell_type": "code",
   "execution_count": 8,
   "id": "9afd1c51",
   "metadata": {},
   "outputs": [],
   "source": [
    "threebuttons = html.Div([\n",
    "    html.Button('Button 1', id='btn-nclicks-1', n_clicks=0),\n",
    "    html.Button('Button 2', id='btn-nclicks-2', n_clicks=0),\n",
    "    html.Button('Button 3', id='btn-nclicks-3', n_clicks=0),\n",
    "    html.Div(id='container-button-timestamp')\n",
    "])\n"
   ]
  },
  {
   "cell_type": "raw",
   "id": "5022f82f",
   "metadata": {},
   "source": [
    "app.layout = threebuttons\n",
    "\n",
    "@app.callback(\n",
    "    Output('container-button-timestamp', 'children'),\n",
    "    Input('btn-nclicks-1', 'n_clicks'),\n",
    "    Input('btn-nclicks-2', 'n_clicks'),\n",
    "    Input('btn-nclicks-3', 'n_clicks')\n",
    ")\n",
    "def displayClick(btn1, btn2, btn3):\n",
    "    msg = \"None of the buttons have been clicked yet\"\n",
    "    prop_id = dash.callback_context.triggered[0][\"prop_id\"].split('.')[0]\n",
    "    #msg = prop_id\n",
    "    if \"btn-nclicks-1\" == prop_id :\n",
    "        msg = \"Button 1 was most recently clicked\"\n",
    "    elif \"btn-nclicks-2\" == prop_id:\n",
    "        msg = \"Button 2 was most recently clicked\"\n",
    "    elif \"btn-nclicks-3\" == prop_id:\n",
    "        msg = \"Button 3 was most recently clicked\"\n",
    "    return html.Div(msg)"
   ]
  },
  {
   "cell_type": "code",
   "execution_count": 9,
   "id": "1357fd9d",
   "metadata": {},
   "outputs": [
    {
     "name": "stdout",
     "output_type": "stream",
     "text": [
      "Dash app running on http://127.0.0.1:5051/\n"
     ]
    }
   ],
   "source": [
    "#app.config.suppress_callback_exceptions = True\n",
    "app.run_server(host=\"127.0.0.1\", port=5051, debug=True, use_reloader=False) "
   ]
  },
  {
   "cell_type": "code",
   "execution_count": null,
   "id": "8c17308f",
   "metadata": {},
   "outputs": [],
   "source": []
  }
 ],
 "metadata": {
  "kernelspec": {
   "display_name": "Python 3",
   "language": "python",
   "name": "python3"
  },
  "language_info": {
   "codemirror_mode": {
    "name": "ipython",
    "version": 3
   },
   "file_extension": ".py",
   "mimetype": "text/x-python",
   "name": "python",
   "nbconvert_exporter": "python",
   "pygments_lexer": "ipython3",
   "version": "3.8.10"
  }
 },
 "nbformat": 4,
 "nbformat_minor": 5
}

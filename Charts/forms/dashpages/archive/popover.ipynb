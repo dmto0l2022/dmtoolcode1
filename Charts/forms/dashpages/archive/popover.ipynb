{
 "cells": [
  {
   "cell_type": "code",
   "execution_count": 1,
   "id": "198d3e99",
   "metadata": {},
   "outputs": [],
   "source": [
    "#!pip install dash --upgrade\n",
    "#!pip install jupyter-dash --upgrade\n",
    "#!pip install dash==2.0.0\n",
    "#!pip install dash_daq"
   ]
  },
  {
   "cell_type": "code",
   "execution_count": 2,
   "id": "5e7be57c",
   "metadata": {},
   "outputs": [],
   "source": [
    "import dash\n",
    "from dash import dcc\n",
    "from dash import html\n",
    "from dash import Dash, html\n",
    "from dash import Input, Output, State\n",
    "from dash import dash_table\n",
    "\n",
    "from dash import callback_context\n",
    "\n",
    "import plotly.graph_objects as go\n",
    "from plotly.subplots import make_subplots\n",
    "\n",
    "#from dash import Dash, Input, Output, callback\n",
    "\n",
    "from jupyter_dash import JupyterDash\n",
    "\n",
    "import dash_bootstrap_components as dbc"
   ]
  },
  {
   "cell_type": "code",
   "execution_count": 3,
   "id": "afe19c0b",
   "metadata": {},
   "outputs": [],
   "source": [
    "import dash_daq as daq"
   ]
  },
  {
   "cell_type": "code",
   "execution_count": 4,
   "id": "d86d59e3",
   "metadata": {},
   "outputs": [],
   "source": [
    "from datetime import date\n",
    "import pandas as pd"
   ]
  },
  {
   "cell_type": "code",
   "execution_count": 5,
   "id": "38fe04d9",
   "metadata": {},
   "outputs": [],
   "source": [
    "#import formlibrary as fl"
   ]
  },
  {
   "cell_type": "code",
   "execution_count": null,
   "id": "2e36178b",
   "metadata": {},
   "outputs": [],
   "source": []
  },
  {
   "cell_type": "code",
   "execution_count": 6,
   "id": "ab78caff",
   "metadata": {},
   "outputs": [],
   "source": [
    "#requests_pathname_prefix=\"/dash1/\",\n",
    "#routes_pathname_prefix='/dash1/',"
   ]
  },
  {
   "cell_type": "code",
   "execution_count": 7,
   "id": "90df3dd4",
   "metadata": {},
   "outputs": [],
   "source": [
    "COMPONENT_STYLE = \"/assets/forms.css\"\n",
    "external_stylesheets=[dbc.themes.BOOTSTRAP, COMPONENT_STYLE]\n",
    "\n",
    "app = JupyterDash(__name__,\n",
    "                  ##requests_pathname_prefix= \"/\",\n",
    "                  external_stylesheets=external_stylesheets,\n",
    "                  meta_tags=[{'name': 'viewport', 'content': 'width=device-width, initial-scale=1'}],\n",
    "                 suppress_callback_exceptions=True)\n",
    "# Create server variable with Flask server object for use with gunicorn\n",
    "server = app.server"
   ]
  },
  {
   "cell_type": "code",
   "execution_count": 8,
   "id": "f91bd12d",
   "metadata": {},
   "outputs": [],
   "source": [
    "import formlibrary as fl"
   ]
  },
  {
   "cell_type": "raw",
   "id": "88eff5e3",
   "metadata": {},
   "source": [
    "row = html.Div([fl.uploadxmlfile_input_row,\n",
    "       fl.datalabel_input_row,\n",
    "       fl.datareference_input_row,\n",
    "       fl.datacomment_input_row,\n",
    "       fl.experiment_input_row,\n",
    "       fl.dateofannouncement_input_row,\n",
    "       fl.year_input_row,\n",
    "       fl.rescaley_input_row,\n",
    "       fl.rescalex_input_row])"
   ]
  },
  {
   "cell_type": "code",
   "execution_count": 9,
   "id": "9bb67fdf",
   "metadata": {},
   "outputs": [],
   "source": [
    "#row = fl.edit_limit_form\n",
    "row = fl.newplot_form\n",
    "#row = fl.edit_existinglimit_form"
   ]
  },
  {
   "cell_type": "code",
   "execution_count": 10,
   "id": "90fca2bd",
   "metadata": {},
   "outputs": [],
   "source": [
    "#row = linestyle_input_row\n",
    "\n",
    "app.layout = row"
   ]
  },
  {
   "cell_type": "raw",
   "id": "dd7b40fd",
   "metadata": {},
   "source": [
    "app.layout = html.Div(\n",
    "    [\n",
    "        dbc.Button(\"Show Example 1\", id=\"open1\", n_clicks=0),\n",
    "        dbc.Button(\"Show Example 2\", id=\"open2\", n_clicks=0),\n",
    "        dbc.Popover(dbc.PopoverBody('open 1 sample'),target=\"open1\",trigger=\"click\"),\n",
    "        dbc.Popover(dbc.PopoverBody('open 2 sample'),target=\"open2\",trigger=\"hover\"),\n",
    "        html.Div('No Button Pressed', id=\"whatbutton\"),\n",
    "        html.Label('Enter Range'),\n",
    "        dcc.Input(id='rangeinput', type='number', min=2, max=10, step=1),\n",
    "        dbc.Popover(dbc.PopoverBody('enter number between 2 and 10'),target=\"rangeinput\",trigger=\"hover\"),\n",
    "        #html.Div('Example', id='example1', style={\"font\":\"bold\"}),\n",
    "        dcc.Input(id='example1', type='text', value='example', readOnly=True,\n",
    "                  style={\"font\":\"bold\", \"font-size\": \"15px\",\n",
    "                         \"border-style\": \"none\", \"height\":\"18px\", \"width\":\"80px\",\n",
    "                        \"text-decoration\": \"underline\"}),\n",
    "        dbc.Popover(dbc.PopoverBody('3'),target=\"example1\",trigger=\"click\"),  \n",
    "    ]\n",
    ")"
   ]
  },
  {
   "cell_type": "raw",
   "id": "5022f82f",
   "metadata": {},
   "source": [
    "#app.layout = popovers"
   ]
  },
  {
   "cell_type": "code",
   "execution_count": 11,
   "id": "1357fd9d",
   "metadata": {},
   "outputs": [
    {
     "name": "stdout",
     "output_type": "stream",
     "text": [
      "Dash is running on http://127.0.0.1:5051/\n",
      "\n",
      "Dash app running on http://127.0.0.1:5051/\n"
     ]
    }
   ],
   "source": [
    "#app.config.suppress_callback_exceptions = True\n",
    "#app.run_server(host=\"127.0.0.1\", port=5051, debug=True, use_reloader=False) \n",
    "app.run_server(host=\"127.0.0.1\", port=5051) "
   ]
  },
  {
   "cell_type": "code",
   "execution_count": null,
   "id": "8c17308f",
   "metadata": {},
   "outputs": [],
   "source": []
  }
 ],
 "metadata": {
  "kernelspec": {
   "display_name": "Python 3",
   "language": "python",
   "name": "python3"
  },
  "language_info": {
   "codemirror_mode": {
    "name": "ipython",
    "version": 3
   },
   "file_extension": ".py",
   "mimetype": "text/x-python",
   "name": "python",
   "nbconvert_exporter": "python",
   "pygments_lexer": "ipython3",
   "version": "3.8.10"
  }
 },
 "nbformat": 4,
 "nbformat_minor": 5
}

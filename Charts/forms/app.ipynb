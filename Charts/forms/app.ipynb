{
 "cells": [
  {
   "cell_type": "code",
   "execution_count": 1,
   "id": "c60c9497",
   "metadata": {},
   "outputs": [],
   "source": [
    "import dash\n",
    "from dash import dcc\n",
    "from dash import html\n",
    "from dash import dash_table\n",
    "\n",
    "import plotly.graph_objects as go\n",
    "from plotly.subplots import make_subplots\n",
    "\n",
    "from dash import Dash, Input, Output, callback\n",
    "\n",
    "from jupyter_dash import JupyterDash\n",
    "\n",
    "import dash_bootstrap_components as dbc"
   ]
  },
  {
   "cell_type": "code",
   "execution_count": 2,
   "id": "0a56ae95",
   "metadata": {},
   "outputs": [],
   "source": [
    "from datetime import date"
   ]
  },
  {
   "cell_type": "code",
   "execution_count": 3,
   "id": "78f7665f",
   "metadata": {},
   "outputs": [],
   "source": [
    "import formlibrary as fl"
   ]
  },
  {
   "cell_type": "code",
   "execution_count": 4,
   "id": "aae01f37",
   "metadata": {},
   "outputs": [],
   "source": [
    "import modallib as ml"
   ]
  },
  {
   "cell_type": "code",
   "execution_count": 5,
   "id": "a9cb6025-cf35-4605-8d76-7c0ec55a001e",
   "metadata": {},
   "outputs": [],
   "source": [
    "\n",
    "COMPONENT_STYLE = \"/assets/forms.css\"\n",
    "external_stylesheets=[dbc.themes.BOOTSTRAP, COMPONENT_STYLE]\n",
    "\n",
    "app = JupyterDash(__name__,\n",
    "                  #requests_pathname_prefix=\"/dash1/\",\n",
    "                  #routes_pathname_prefix='/dash1/',\n",
    "                  external_stylesheets=external_stylesheets,\n",
    "                  meta_tags=[{'name': 'viewport', 'content': 'width=device-width, initial-scale=1'}],\n",
    "                 suppress_callback_exceptions=True)\n",
    "# Create server variable with Flask server object for use with gunicorn\n",
    "server = app.server"
   ]
  },
  {
   "cell_type": "code",
   "execution_count": 6,
   "id": "e9c0699a",
   "metadata": {},
   "outputs": [
    {
     "data": {
      "text/plain": [
       "Label(children='Radios', html_for='example-radios-row', width=2)"
      ]
     },
     "execution_count": 6,
     "metadata": {},
     "output_type": "execute_result"
    }
   ],
   "source": [
    "label1 = dbc.Label(\"Radios\", html_for=\"example-radios-row\", width=2)\n",
    "label1"
   ]
  },
  {
   "cell_type": "code",
   "execution_count": 7,
   "id": "9cd05af6",
   "metadata": {},
   "outputs": [],
   "source": [
    "grid_starter = dbc.Row(\n",
    "    [\n",
    "        dbc.Label(\"New Plot\", width=2),\n",
    "        dbc.Col(\n",
    "            [dbc.Input(\n",
    "                type=\"text\", id=\"newplot_input\", placeholder=\"Enter New Plot Name\"\n",
    "            ),\n",
    "            dbc.FormText(\"Enter unique name for your plot\",color=\"secondary\")],\n",
    "            width=10,\n",
    "            style={\"height\": \"100%\",\"background-color\": \"blue\", \"padding\":\"0px\", \"margin\":\"0px\"},\n",
    "        ),\n",
    "    ],\n",
    "style={\"height\": \"50%\"},\n",
    ")"
   ]
  },
  {
   "cell_type": "code",
   "execution_count": 8,
   "id": "592a3f69",
   "metadata": {},
   "outputs": [],
   "source": [
    "empty_row = dbc.Row(\n",
    "            [\n",
    "                dbc.Col(html.Div(\"Form Label\",className=\"FORM_LABEL\"), width=3, className=\"FORM_COLUMN\"),\n",
    "                dbc.Col(html.Div(\"Form Data\",className=\"FORM_DATA\"), width=6, className=\"FORM_COLUMN\"),\n",
    "                dbc.Col(html.Div(\"Form Prompt\",className=\"FORM_PROMPT\"), width=3, className=\"FORM_COLUMN\"),\n",
    "            ],\n",
    "            style={\"padding\":\"0px\", \"margin\":\"0px\"}\n",
    "        )"
   ]
  },
  {
   "cell_type": "code",
   "execution_count": 9,
   "id": "cf2b6438",
   "metadata": {},
   "outputs": [],
   "source": [
    "full_width_row = dbc.Row(\n",
    "            [dbc.Col(html.Div(\"An automatically sized column\"), width=\"auto\")])"
   ]
  },
  {
   "cell_type": "code",
   "execution_count": 10,
   "id": "9da5ebce",
   "metadata": {},
   "outputs": [],
   "source": [
    "text_input = dbc.Row(\n",
    "    [\n",
    "        dbc.Col(dbc.Label(\"Text\"),width=1),\n",
    "        dbc.Col(dbc.Input(placeholder=\"Input goes here...\", type=\"text\"),width=3),\n",
    "        dbc.Col(dbc.FormText(\"Type something in the box above\"),width=4),\n",
    "    ]\n",
    ")\n",
    "\n",
    "#text_prompt = dbc.Row(\n",
    "# [dbc.Col(dbc.FormText(\"Type something in the box above\"),width=4)])"
   ]
  },
  {
   "cell_type": "code",
   "execution_count": 11,
   "id": "4018f77a",
   "metadata": {},
   "outputs": [],
   "source": [
    " dd = dcc.Dropdown(\n",
    "            id=\"dropdown1\",\n",
    "            className=\"FORM_LABEL\",\n",
    "            options=[\n",
    "                {\"label\": \"New York City\", \"value\": \"50, 10\"},\n",
    "                {\"label\": \"Montreal\", \"value\": \"MTL\" },\n",
    "                {\"label\": \"San Francisco\", \"value\": \"SF\"},\n",
    "            ],\n",
    "            placeholder=\"Select one\",\n",
    "            ##multi=True,\n",
    "            style={\"height\": \"100%\",\"width\" : \"100%\",\n",
    "                   ##\"background-color\": \"blue\",\n",
    "                   \"padding\":\"0px\", \"margin\":\"0px\"},\n",
    "        ),"
   ]
  },
  {
   "cell_type": "code",
   "execution_count": 12,
   "id": "7e168558",
   "metadata": {},
   "outputs": [],
   "source": [
    "datestyle = {\n",
    "                        'font-size': '6px','display': 'inline-block', 'border-radius' : '2px', \n",
    "                        'border' : '1px solid #ccc', 'color': '#333', \n",
    "                        'border-spacing' : '0', 'border-collapse' :'separate'\n",
    "                        } "
   ]
  },
  {
   "cell_type": "code",
   "execution_count": 13,
   "id": "a51df002",
   "metadata": {},
   "outputs": [],
   "source": [
    "datepicker = dcc.DatePickerSingle(\n",
    "        #data='',\n",
    "        className=\"FORM_LABEL\",\n",
    "        style=datestyle,\n",
    "        id='my-date-picker-single',\n",
    "        month_format='MMM Do, YY',\n",
    "        placeholder='MMM Do, YY',\n",
    "        min_date_allowed=date(2010, 1, 1),\n",
    "        max_date_allowed=date(2026, 1, 1),\n",
    "        initial_visible_month=date(2023, 5, 7),\n",
    "        date=date(2023, 5, 7)\n",
    "    ),"
   ]
  },
  {
   "cell_type": "code",
   "execution_count": 14,
   "id": "44392885",
   "metadata": {},
   "outputs": [],
   "source": [
    "dropdown_input = dbc.Row(\n",
    "    [\n",
    "         dbc.Col(html.Div(\"Form Label\",className=\"FORM_LABEL\"), width=3, className=\"FORM_COLUMN\"),\n",
    "         dbc.Col(dd, width=6, className=\"FORM_COLUMN\"),\n",
    "         ##dbc.Col(html.Div(\"Form Data\",className=\"FORM_DATA\"), width=6, className=\"FORM_COLUMN\"),\n",
    "         dbc.Col(html.Div(\"Form Prompt\",className=\"FORM_PROMPT\"), width=3, className=\"FORM_COLUMN\"),\n",
    "    ],\n",
    "    style={\"padding\":\"0px\", \"margin\":\"0px\"}\n",
    ")\n",
    "\n",
    "## Allowed arguments: className, clearable, disabled, id,\n",
    "## loading_state, multi, optionHeight, options, persisted_props, persistence, persistence_type,\n",
    "## placeholder, search_value, searchable, style, value\n",
    "\n",
    "##dcc.Dropdown(['NYC', 'MTL', 'SF'], 'NYC', id='demo-dropdown'),"
   ]
  },
  {
   "cell_type": "code",
   "execution_count": 15,
   "id": "580d99bf",
   "metadata": {},
   "outputs": [],
   "source": [
    "date_input = dbc.Row(\n",
    "    [\n",
    "         dbc.Col(html.Div(\"Form Label\",className=\"FORM_LABEL\"), width=3, className=\"FORM_COLUMN\"),\n",
    "         dbc.Col(datepicker, width=6, className=\"FORM_COLUMN\"),\n",
    "         ##dbc.Col(html.Div(\"Form Data\",className=\"FORM_DATA\"), width=6, className=\"FORM_COLUMN\"),\n",
    "         dbc.Col(html.Div(\"Form Prompt\",className=\"FORM_PROMPT\"), width=3, className=\"FORM_COLUMN\"),\n",
    "    ],\n",
    "    style={\"padding\":\"0px\", \"margin\":\"0px\"}\n",
    ")"
   ]
  },
  {
   "cell_type": "code",
   "execution_count": 16,
   "id": "058a9a78",
   "metadata": {},
   "outputs": [],
   "source": [
    "row_grid = html.Div(\n",
    "    [\n",
    "        dbc.Row(dbc.Col(html.Div(\"A single, full width column\",className=\"FORM_TITLE\"), width=12,\n",
    "                        style={\"height\": \"30px\"}),\n",
    "               style={\"background-color\": \"blue\", \"padding\":\"0px\", \"margin\":\"0px\"}),\n",
    "        empty_row,\n",
    "        dropdown_input,\n",
    "        date_input,\n",
    "        empty_row,\n",
    "        empty_row,\n",
    "        full_width_row,\n",
    "    ],className=\"CENTRE_FORM_CONTAINER\")"
   ]
  },
  {
   "cell_type": "code",
   "execution_count": 17,
   "id": "ea6c516e-959f-4b18-ac36-5e290de12bcf",
   "metadata": {},
   "outputs": [],
   "source": [
    "maincontainer = row_grid\n",
    "#mainpanel = fl.newplotform\n",
    "\n",
    "#maincontainer = fl.newplotform_container\n",
    "\n",
    "#mainpanel = fl.login_form\n",
    "\n",
    "layout6 =  html.Div(className=\"NOPADDING_CONTENT\",\n",
    "                    children=[maincontainer],)"
   ]
  },
  {
   "cell_type": "code",
   "execution_count": 18,
   "id": "f56580db-a4b9-4799-b780-18ae55a61b03",
   "metadata": {},
   "outputs": [],
   "source": [
    "header = html.Div([fl.page_header_0,\n",
    "                   fl.page_header_1,\n",
    "                   fl.page_header_2],\n",
    "                  className=\"PAGE_HEADER\",)"
   ]
  },
  {
   "cell_type": "code",
   "execution_count": 19,
   "id": "8d434503-952c-4cb7-8684-2a54c2963dea",
   "metadata": {},
   "outputs": [],
   "source": [
    "\n",
    "\n",
    "fdivs = [html.P(\"ACG Data Engineering\")]\n",
    "footer = html.Div(fdivs, className=\"PAGE_FOOTER\",)\n",
    "#footer = html.Div(filters, style=FOOTER_STYLE,)\n",
    "\n",
    "adbar = html.Div([\n",
    "    html.P('R')],\n",
    "    className=\"PAGE_SIDE_LEFT\",\n",
    ")\n",
    "\n",
    "sidebar = html.Div(\n",
    "    [html.P(\"L\", className=\"lead\")],\n",
    "    #filters,\n",
    "     className=\"PAGE_SIDE_RIGHT\",\n",
    ")\n",
    "\n"
   ]
  },
  {
   "cell_type": "code",
   "execution_count": 20,
   "id": "1ce6fb4c",
   "metadata": {},
   "outputs": [],
   "source": [
    "#cdivs = [html.P(\"content\")]\n",
    "cdivs = [layout6]\n",
    "\n",
    "content = html.Div(cdivs, className=\"PAGE_CONTENT\",)"
   ]
  },
  {
   "cell_type": "code",
   "execution_count": 21,
   "id": "a5a3c9a5",
   "metadata": {},
   "outputs": [],
   "source": [
    "#cdivs = [ml.modal_layout]\n",
    "#content = html.Div(cdivs, className=\"PAGE_CONTENT\",)"
   ]
  },
  {
   "cell_type": "code",
   "execution_count": 22,
   "id": "d17eeb2f-04c5-4ab5-9a07-0cdcc4987498",
   "metadata": {},
   "outputs": [],
   "source": [
    "tabledivs = [html.P(\"Table\")]\n",
    "table = html.Div(tabledivs,className=\"TABLE_ROW\",)"
   ]
  },
  {
   "cell_type": "code",
   "execution_count": 23,
   "id": "135b800a-b91a-4a53-b2e4-f5a3f11ddda5",
   "metadata": {},
   "outputs": [],
   "source": [
    "layout3 = html.Div([header, sidebar, adbar, content, footer])"
   ]
  },
  {
   "cell_type": "code",
   "execution_count": 24,
   "id": "bbd24908-bfbc-4cd8-adfb-6fe5ace005cf",
   "metadata": {},
   "outputs": [],
   "source": [
    "app.layout = layout3\n",
    "#app.layout = content\n",
    "ml.get_callbacks(app)"
   ]
  },
  {
   "cell_type": "code",
   "execution_count": 25,
   "id": "3d5e1f79-a90c-4d51-b013-0086758efca8",
   "metadata": {},
   "outputs": [
    {
     "name": "stdout",
     "output_type": "stream",
     "text": [
      "Dash app running on http://127.0.0.1:5052/\n"
     ]
    }
   ],
   "source": [
    "#app.config.suppress_callback_exceptions = True\n",
    "app.run_server(host=\"127.0.0.1\", port=5052)##, debug=True, use_reloader=False) "
   ]
  },
  {
   "cell_type": "code",
   "execution_count": null,
   "id": "86a684d6",
   "metadata": {},
   "outputs": [],
   "source": []
  },
  {
   "cell_type": "code",
   "execution_count": null,
   "id": "925c3a41",
   "metadata": {},
   "outputs": [],
   "source": []
  }
 ],
 "metadata": {
  "kernelspec": {
   "display_name": "Python 3",
   "language": "python",
   "name": "python3"
  },
  "language_info": {
   "codemirror_mode": {
    "name": "ipython",
    "version": 3
   },
   "file_extension": ".py",
   "mimetype": "text/x-python",
   "name": "python",
   "nbconvert_exporter": "python",
   "pygments_lexer": "ipython3",
   "version": "3.8.10"
  }
 },
 "nbformat": 4,
 "nbformat_minor": 5
}

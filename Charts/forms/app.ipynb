{
 "cells": [
  {
   "cell_type": "code",
   "execution_count": 1,
   "id": "c60c9497",
   "metadata": {},
   "outputs": [],
   "source": [
    "import dash\n",
    "from dash import dcc\n",
    "from dash import html\n",
    "from dash import dash_table\n",
    "\n",
    "import plotly.graph_objects as go\n",
    "from plotly.subplots import make_subplots\n",
    "\n",
    "from dash import Dash, Input, Output, callback\n",
    "\n",
    "from jupyter_dash import JupyterDash\n",
    "\n",
    "import dash_bootstrap_components as dbc"
   ]
  },
  {
   "cell_type": "code",
   "execution_count": 2,
   "id": "78f7665f",
   "metadata": {},
   "outputs": [],
   "source": [
    "import formlibrary as fl"
   ]
  },
  {
   "cell_type": "code",
   "execution_count": 3,
   "id": "a9cb6025-cf35-4605-8d76-7c0ec55a001e",
   "metadata": {},
   "outputs": [],
   "source": [
    "\n",
    "COMPONENT_STYLE = \"/assets/forms.css\"\n",
    "external_stylesheets=[dbc.themes.BOOTSTRAP, COMPONENT_STYLE]\n",
    "\n",
    "app = JupyterDash(__name__,\n",
    "                  #requests_pathname_prefix=\"/dash1/\",\n",
    "                  #routes_pathname_prefix='/dash1/',\n",
    "                  external_stylesheets=external_stylesheets,\n",
    "                  meta_tags=[{'name': 'viewport', 'content': 'width=device-width, initial-scale=1'}],\n",
    "                 suppress_callback_exceptions=True)\n",
    "# Create server variable with Flask server object for use with gunicorn\n",
    "server = app.server"
   ]
  },
  {
   "cell_type": "code",
   "execution_count": 4,
   "id": "ea6c516e-959f-4b18-ac36-5e290de12bcf",
   "metadata": {},
   "outputs": [],
   "source": [
    "#mainpanel = fl.newplotform\n",
    "\n",
    "mainpanel = fl.login_form\n",
    "\n",
    "layout6 =  html.Div(className=\"NOPADDING_CONTENT\",\n",
    "                    children=[mainpanel],)"
   ]
  },
  {
   "cell_type": "code",
   "execution_count": 5,
   "id": "f56580db-a4b9-4799-b780-18ae55a61b03",
   "metadata": {},
   "outputs": [],
   "source": [
    "header = html.Div([fl.page_header_0,\n",
    "                   fl.page_header_1,\n",
    "                   fl.page_header_2],\n",
    "                  className=\"PAGE_HEADER\",)"
   ]
  },
  {
   "cell_type": "code",
   "execution_count": 6,
   "id": "8d434503-952c-4cb7-8684-2a54c2963dea",
   "metadata": {},
   "outputs": [],
   "source": [
    "\n",
    "\n",
    "fdivs = [html.P(\"ACG Data Engineering\")]\n",
    "footer = html.Div(fdivs, className=\"PAGE_FOOTER\",)\n",
    "#footer = html.Div(filters, style=FOOTER_STYLE,)\n",
    "\n",
    "adbar = html.Div([\n",
    "    html.P('R')],\n",
    "    className=\"PAGE_SIDE_LEFT\",\n",
    ")\n",
    "\n",
    "sidebar = html.Div(\n",
    "    [html.P(\"L\", className=\"lead\")],\n",
    "    #filters,\n",
    "     className=\"PAGE_SIDE_RIGHT\",\n",
    ")\n",
    "\n",
    "#cdivs = [html.P(\"content\")]\n",
    "cdivs = [layout6]\n",
    "\n",
    "\n",
    "\n",
    "content = html.Div(cdivs, className=\"PAGE_CONTENT\",)"
   ]
  },
  {
   "cell_type": "code",
   "execution_count": 7,
   "id": "d17eeb2f-04c5-4ab5-9a07-0cdcc4987498",
   "metadata": {},
   "outputs": [],
   "source": [
    "tabledivs = [html.P(\"Table\")]\n",
    "table = html.Div(tabledivs,className=\"TABLE_ROW\",)"
   ]
  },
  {
   "cell_type": "code",
   "execution_count": 8,
   "id": "135b800a-b91a-4a53-b2e4-f5a3f11ddda5",
   "metadata": {},
   "outputs": [],
   "source": [
    "layout3 = html.Div([header, sidebar, adbar, content, footer])"
   ]
  },
  {
   "cell_type": "code",
   "execution_count": 9,
   "id": "bbd24908-bfbc-4cd8-adfb-6fe5ace005cf",
   "metadata": {},
   "outputs": [],
   "source": [
    "app.layout = layout3"
   ]
  },
  {
   "cell_type": "code",
   "execution_count": 10,
   "id": "3d5e1f79-a90c-4d51-b013-0086758efca8",
   "metadata": {},
   "outputs": [
    {
     "name": "stdout",
     "output_type": "stream",
     "text": [
      "Dash app running on http://127.0.0.1:5051/\n"
     ]
    }
   ],
   "source": [
    "#app.config.suppress_callback_exceptions = True\n",
    "app.run_server(host=\"127.0.0.1\", port=5051, debug=True, use_reloader=False) "
   ]
  },
  {
   "cell_type": "code",
   "execution_count": null,
   "id": "86a684d6",
   "metadata": {},
   "outputs": [],
   "source": []
  },
  {
   "cell_type": "code",
   "execution_count": null,
   "id": "925c3a41",
   "metadata": {},
   "outputs": [],
   "source": []
  }
 ],
 "metadata": {
  "kernelspec": {
   "display_name": "Python 3",
   "language": "python",
   "name": "python3"
  },
  "language_info": {
   "codemirror_mode": {
    "name": "ipython",
    "version": 3
   },
   "file_extension": ".py",
   "mimetype": "text/x-python",
   "name": "python",
   "nbconvert_exporter": "python",
   "pygments_lexer": "ipython3",
   "version": "3.8.10"
  }
 },
 "nbformat": 4,
 "nbformat_minor": 5
}

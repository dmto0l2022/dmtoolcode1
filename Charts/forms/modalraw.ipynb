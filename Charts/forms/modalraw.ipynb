{
 "cells": [
  {
   "cell_type": "code",
   "execution_count": 1,
   "id": "93fd171c",
   "metadata": {},
   "outputs": [],
   "source": [
    "import dash_bootstrap_components as dbc\n",
    "from dash import Input, Output, State, html"
   ]
  },
  {
   "cell_type": "code",
   "execution_count": 2,
   "id": "9bd3f5a2",
   "metadata": {},
   "outputs": [],
   "source": [
    "from jupyter_dash import JupyterDash\n",
    "\n",
    "import modallib as ml"
   ]
  },
  {
   "cell_type": "code",
   "execution_count": 3,
   "id": "e5fc1364",
   "metadata": {},
   "outputs": [],
   "source": [
    "app = JupyterDash(__name__,\n",
    "                  #requests_pathname_prefix=\"/dash1/\",\n",
    "                  #routes_pathname_prefix='/dash1/',\n",
    "                  #external_stylesheets=external_stylesheets,\n",
    "                  meta_tags=[{'name': 'viewport', 'content': 'width=device-width, initial-scale=1'}],\n",
    "                 suppress_callback_exceptions=True)\n",
    "# Create server variable with Flask server object for use with gunicorn\n",
    "server = app.server"
   ]
  },
  {
   "cell_type": "raw",
   "id": "fa349f9e",
   "metadata": {},
   "source": [
    "\n",
    "modal_layout = html.Div(\n",
    "    [\n",
    "        dbc.Button(\"Open modal\", id=\"open\", n_clicks=0),\n",
    "        dbc.Modal(\n",
    "            [\n",
    "                dbc.ModalHeader(dbc.ModalTitle(\"Header\")),\n",
    "                dbc.ModalBody(\"This is the content of the modal\"),\n",
    "                dbc.ModalFooter(\n",
    "                    dbc.Button(\n",
    "                        \"Close\", id=\"close\", className=\"ms-auto\", n_clicks=0\n",
    "                    )\n",
    "                ),\n",
    "            ],\n",
    "            id=\"modal\",\n",
    "            is_open=False,\n",
    "        ),\n",
    "    ]\n",
    ")\n",
    "\n",
    "\n",
    "@app.callback(\n",
    "    Output(\"modal\", \"is_open\"),\n",
    "    [Input(\"open\", \"n_clicks\"), Input(\"close\", \"n_clicks\")],\n",
    "    [State(\"modal\", \"is_open\")],\n",
    ")\n",
    "def toggle_modal(n1, n2, is_open):\n",
    "    if n1 or n2:\n",
    "        return not is_open\n",
    "    return is_open"
   ]
  },
  {
   "cell_type": "code",
   "execution_count": 4,
   "id": "881a21eb",
   "metadata": {},
   "outputs": [],
   "source": [
    "cdivs = [ml.modal_layout]\n",
    "content = html.Div(cdivs)"
   ]
  },
  {
   "cell_type": "code",
   "execution_count": 5,
   "id": "5296f94a",
   "metadata": {},
   "outputs": [],
   "source": [
    "app.layout = ml.modal_layout"
   ]
  },
  {
   "cell_type": "code",
   "execution_count": 6,
   "id": "b657d15e",
   "metadata": {},
   "outputs": [],
   "source": [
    "ml.get_callbacks(app)"
   ]
  },
  {
   "cell_type": "code",
   "execution_count": 7,
   "id": "026f3673",
   "metadata": {},
   "outputs": [
    {
     "name": "stdout",
     "output_type": "stream",
     "text": [
      "Dash app running on http://127.0.0.1:5051/\n"
     ]
    }
   ],
   "source": [
    "app.run_server(host=\"127.0.0.1\", port=5051, debug=True, use_reloader=False) "
   ]
  }
 ],
 "metadata": {
  "kernelspec": {
   "display_name": "Python 3",
   "language": "python",
   "name": "python3"
  },
  "language_info": {
   "codemirror_mode": {
    "name": "ipython",
    "version": 3
   },
   "file_extension": ".py",
   "mimetype": "text/x-python",
   "name": "python",
   "nbconvert_exporter": "python",
   "pygments_lexer": "ipython3",
   "version": "3.8.10"
  }
 },
 "nbformat": 4,
 "nbformat_minor": 5
}

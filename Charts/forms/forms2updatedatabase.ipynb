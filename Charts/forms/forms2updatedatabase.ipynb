{
 "cells": [
  {
   "cell_type": "code",
   "execution_count": 1,
   "id": "327ad49b",
   "metadata": {},
   "outputs": [],
   "source": [
    "import dash\n",
    "from dash import dcc\n",
    "from dash import html\n",
    "from dash.dependencies import Input, Output, State\n",
    "from flask_sqlalchemy import SQLAlchemy"
   ]
  },
  {
   "cell_type": "code",
   "execution_count": 2,
   "id": "0291bdd5",
   "metadata": {},
   "outputs": [
    {
     "data": {
      "text/plain": [
       "'/home/andrewcgaitskell/Documents/dmtoolnotes/Charts'"
      ]
     },
     "execution_count": 2,
     "metadata": {},
     "output_type": "execute_result"
    }
   ],
   "source": [
    "import os\n",
    "cwd = os.getcwd()\n",
    "cwd"
   ]
  },
  {
   "cell_type": "code",
   "execution_count": 3,
   "id": "02e540ab",
   "metadata": {},
   "outputs": [],
   "source": [
    "app = dash.Dash()\n",
    "app.server.config[\"SQLALCHEMY_DATABASE_URI\"] = \"sqlite:////\"+cwd+\"/test.db\"\n",
    "app.server.config['SQLALCHEMY_TRACK_MODIFICATIONS'] = False\n",
    "db = SQLAlchemy(app.server)"
   ]
  },
  {
   "cell_type": "code",
   "execution_count": 5,
   "id": "95074602",
   "metadata": {},
   "outputs": [],
   "source": [
    "from model import Base"
   ]
  },
  {
   "cell_type": "code",
   "execution_count": 6,
   "id": "bb077533",
   "metadata": {},
   "outputs": [],
   "source": [
    "\n",
    "\n",
    "app.layout = html.Div(\n",
    "    [\n",
    "        html.H4(\"username\"),\n",
    "        dcc.Input(id=\"username\", placeholder=\"enter username\", type=\"text\"),\n",
    "        html.H4(\"email\"),\n",
    "        dcc.Input(id=\"email\", placeholder=\"enter email\", type=\"email\"),\n",
    "        html.Button(\"add user\", id=\"add-button\"),\n",
    "        html.Hr(),\n",
    "        html.H3(\"users\"),\n",
    "        html.Div(id=\"users\"),\n",
    "    ]\n",
    ")\n",
    "\n",
    "\n",
    "@app.callback(\n",
    "    Output(\"users\", \"children\"),\n",
    "    [Input(\"add-button\", \"n_clicks\")],\n",
    "    [State(\"username\", \"value\"), State(\"email\", \"value\")],\n",
    ")\n",
    "def add_and_show_users(n, username, email):\n",
    "    if n is not None:\n",
    "        # if button clicked, add user\n",
    "        db.session.add(User(username=username, email=email))\n",
    "        db.session.commit()\n",
    "\n",
    "    # get all users in database\n",
    "    users = db.session.query(User).all()\n",
    "    return [\n",
    "        html.Div(\n",
    "            [\n",
    "                html.Span([html.H5(\"Username: \"), u.username]),\n",
    "                html.Span([html.H5(\"Email: \"), u.email]),\n",
    "            ]\n",
    "        )\n",
    "        for u in users\n",
    "    ]\n"
   ]
  },
  {
   "cell_type": "code",
   "execution_count": null,
   "id": "07503693",
   "metadata": {},
   "outputs": [
    {
     "name": "stdout",
     "output_type": "stream",
     "text": [
      "Dash is running on http://127.0.0.1:5051/\n",
      "\n",
      " * Serving Flask app '__main__' (lazy loading)\n",
      " * Environment: production\n",
      "\u001b[31m   WARNING: This is a development server. Do not use it in a production deployment.\u001b[0m\n",
      "\u001b[2m   Use a production WSGI server instead.\u001b[0m\n",
      " * Debug mode: off\n"
     ]
    },
    {
     "name": "stderr",
     "output_type": "stream",
     "text": [
      " * Running on http://127.0.0.1:5051/ (Press CTRL+C to quit)\n",
      "127.0.0.1 - - [01/Jun/2022 18:18:01] \"GET / HTTP/1.1\" 200 -\n",
      "127.0.0.1 - - [01/Jun/2022 18:18:01] \"GET /_dash-layout HTTP/1.1\" 200 -\n",
      "127.0.0.1 - - [01/Jun/2022 18:18:01] \"GET /_dash-dependencies HTTP/1.1\" 200 -\n"
     ]
    },
    {
     "name": "stdout",
     "output_type": "stream",
     "text": [
      "Exception on /_dash-update-component [POST]\n",
      "Traceback (most recent call last):\n",
      "  File \"/home/andrewcgaitskell/.local/share/virtualenvs/dmtoolnotes-xOXsVx4Y/lib/python3.8/site-packages/flask/app.py\", line 2073, in wsgi_app\n",
      "    response = self.full_dispatch_request()\n",
      "  File \"/home/andrewcgaitskell/.local/share/virtualenvs/dmtoolnotes-xOXsVx4Y/lib/python3.8/site-packages/flask/app.py\", line 1518, in full_dispatch_request\n",
      "    rv = self.handle_user_exception(e)\n",
      "  File \"/home/andrewcgaitskell/.local/share/virtualenvs/dmtoolnotes-xOXsVx4Y/lib/python3.8/site-packages/flask/app.py\", line 1516, in full_dispatch_request\n",
      "    rv = self.dispatch_request()\n",
      "  File \"/home/andrewcgaitskell/.local/share/virtualenvs/dmtoolnotes-xOXsVx4Y/lib/python3.8/site-packages/flask/app.py\", line 1502, in dispatch_request\n",
      "    return self.ensure_sync(self.view_functions[rule.endpoint])(**req.view_args)\n",
      "  File \"/home/andrewcgaitskell/.local/share/virtualenvs/dmtoolnotes-xOXsVx4Y/lib/python3.8/site-packages/dash/dash.py\", line 1336, in dispatch\n",
      "    response.set_data(func(*args, outputs_list=outputs_list))\n",
      "  File \"/home/andrewcgaitskell/.local/share/virtualenvs/dmtoolnotes-xOXsVx4Y/lib/python3.8/site-packages/dash/_callback.py\", line 151, in add_context\n",
      "    output_value = func(*func_args, **func_kwargs)  # %% callback invoked %%\n",
      "  File \"/tmp/ipykernel_34407/2921930190.py\", line 27, in add_and_show_users\n",
      "    users = db.session.query(User).all()\n",
      "NameError: name 'User' is not defined\n"
     ]
    },
    {
     "name": "stderr",
     "output_type": "stream",
     "text": [
      "127.0.0.1 - - [01/Jun/2022 18:18:01] \"\u001b[35m\u001b[1mPOST /_dash-update-component HTTP/1.1\u001b[0m\" 500 -\n"
     ]
    },
    {
     "name": "stdout",
     "output_type": "stream",
     "text": [
      "Exception on /_dash-update-component [POST]\n",
      "Traceback (most recent call last):\n",
      "  File \"/home/andrewcgaitskell/.local/share/virtualenvs/dmtoolnotes-xOXsVx4Y/lib/python3.8/site-packages/flask/app.py\", line 2073, in wsgi_app\n",
      "    response = self.full_dispatch_request()\n",
      "  File \"/home/andrewcgaitskell/.local/share/virtualenvs/dmtoolnotes-xOXsVx4Y/lib/python3.8/site-packages/flask/app.py\", line 1518, in full_dispatch_request\n",
      "    rv = self.handle_user_exception(e)\n",
      "  File \"/home/andrewcgaitskell/.local/share/virtualenvs/dmtoolnotes-xOXsVx4Y/lib/python3.8/site-packages/flask/app.py\", line 1516, in full_dispatch_request\n",
      "    rv = self.dispatch_request()\n",
      "  File \"/home/andrewcgaitskell/.local/share/virtualenvs/dmtoolnotes-xOXsVx4Y/lib/python3.8/site-packages/flask/app.py\", line 1502, in dispatch_request\n",
      "    return self.ensure_sync(self.view_functions[rule.endpoint])(**req.view_args)\n",
      "  File \"/home/andrewcgaitskell/.local/share/virtualenvs/dmtoolnotes-xOXsVx4Y/lib/python3.8/site-packages/dash/dash.py\", line 1336, in dispatch\n",
      "    response.set_data(func(*args, outputs_list=outputs_list))\n",
      "  File \"/home/andrewcgaitskell/.local/share/virtualenvs/dmtoolnotes-xOXsVx4Y/lib/python3.8/site-packages/dash/_callback.py\", line 151, in add_context\n",
      "    output_value = func(*func_args, **func_kwargs)  # %% callback invoked %%\n",
      "  File \"/tmp/ipykernel_34407/2921930190.py\", line 23, in add_and_show_users\n",
      "    db.session.add(User(username=username, email=email))\n",
      "NameError: name 'User' is not defined\n"
     ]
    },
    {
     "name": "stderr",
     "output_type": "stream",
     "text": [
      "127.0.0.1 - - [01/Jun/2022 18:18:09] \"\u001b[35m\u001b[1mPOST /_dash-update-component HTTP/1.1\u001b[0m\" 500 -\n"
     ]
    },
    {
     "name": "stdout",
     "output_type": "stream",
     "text": [
      "Exception on /_dash-update-component [POST]\n",
      "Traceback (most recent call last):\n",
      "  File \"/home/andrewcgaitskell/.local/share/virtualenvs/dmtoolnotes-xOXsVx4Y/lib/python3.8/site-packages/flask/app.py\", line 2073, in wsgi_app\n",
      "    response = self.full_dispatch_request()\n",
      "  File \"/home/andrewcgaitskell/.local/share/virtualenvs/dmtoolnotes-xOXsVx4Y/lib/python3.8/site-packages/flask/app.py\", line 1518, in full_dispatch_request\n",
      "    rv = self.handle_user_exception(e)\n",
      "  File \"/home/andrewcgaitskell/.local/share/virtualenvs/dmtoolnotes-xOXsVx4Y/lib/python3.8/site-packages/flask/app.py\", line 1516, in full_dispatch_request\n",
      "    rv = self.dispatch_request()\n",
      "  File \"/home/andrewcgaitskell/.local/share/virtualenvs/dmtoolnotes-xOXsVx4Y/lib/python3.8/site-packages/flask/app.py\", line 1502, in dispatch_request\n",
      "    return self.ensure_sync(self.view_functions[rule.endpoint])(**req.view_args)\n",
      "  File \"/home/andrewcgaitskell/.local/share/virtualenvs/dmtoolnotes-xOXsVx4Y/lib/python3.8/site-packages/dash/dash.py\", line 1336, in dispatch\n",
      "    response.set_data(func(*args, outputs_list=outputs_list))\n",
      "  File \"/home/andrewcgaitskell/.local/share/virtualenvs/dmtoolnotes-xOXsVx4Y/lib/python3.8/site-packages/dash/_callback.py\", line 151, in add_context\n",
      "    output_value = func(*func_args, **func_kwargs)  # %% callback invoked %%\n",
      "  File \"/tmp/ipykernel_34407/2921930190.py\", line 23, in add_and_show_users\n",
      "    db.session.add(User(username=username, email=email))\n",
      "NameError: name 'User' is not defined\n"
     ]
    },
    {
     "name": "stderr",
     "output_type": "stream",
     "text": [
      "127.0.0.1 - - [01/Jun/2022 18:18:10] \"\u001b[35m\u001b[1mPOST /_dash-update-component HTTP/1.1\u001b[0m\" 500 -\n"
     ]
    },
    {
     "name": "stdout",
     "output_type": "stream",
     "text": [
      "Exception on /_dash-update-component [POST]\n",
      "Traceback (most recent call last):\n",
      "  File \"/home/andrewcgaitskell/.local/share/virtualenvs/dmtoolnotes-xOXsVx4Y/lib/python3.8/site-packages/flask/app.py\", line 2073, in wsgi_app\n",
      "    response = self.full_dispatch_request()\n",
      "  File \"/home/andrewcgaitskell/.local/share/virtualenvs/dmtoolnotes-xOXsVx4Y/lib/python3.8/site-packages/flask/app.py\", line 1518, in full_dispatch_request\n",
      "    rv = self.handle_user_exception(e)\n",
      "  File \"/home/andrewcgaitskell/.local/share/virtualenvs/dmtoolnotes-xOXsVx4Y/lib/python3.8/site-packages/flask/app.py\", line 1516, in full_dispatch_request\n",
      "    rv = self.dispatch_request()\n",
      "  File \"/home/andrewcgaitskell/.local/share/virtualenvs/dmtoolnotes-xOXsVx4Y/lib/python3.8/site-packages/flask/app.py\", line 1502, in dispatch_request\n",
      "    return self.ensure_sync(self.view_functions[rule.endpoint])(**req.view_args)\n",
      "  File \"/home/andrewcgaitskell/.local/share/virtualenvs/dmtoolnotes-xOXsVx4Y/lib/python3.8/site-packages/dash/dash.py\", line 1336, in dispatch\n",
      "    response.set_data(func(*args, outputs_list=outputs_list))\n",
      "  File \"/home/andrewcgaitskell/.local/share/virtualenvs/dmtoolnotes-xOXsVx4Y/lib/python3.8/site-packages/dash/_callback.py\", line 151, in add_context\n",
      "    output_value = func(*func_args, **func_kwargs)  # %% callback invoked %%\n",
      "  File \"/tmp/ipykernel_34407/2921930190.py\", line 23, in add_and_show_users\n",
      "    db.session.add(User(username=username, email=email))\n",
      "NameError: name 'User' is not defined\n"
     ]
    },
    {
     "name": "stderr",
     "output_type": "stream",
     "text": [
      "127.0.0.1 - - [01/Jun/2022 18:18:10] \"\u001b[35m\u001b[1mPOST /_dash-update-component HTTP/1.1\u001b[0m\" 500 -\n"
     ]
    },
    {
     "name": "stdout",
     "output_type": "stream",
     "text": [
      "Exception on /_dash-update-component [POST]\n",
      "Traceback (most recent call last):\n",
      "  File \"/home/andrewcgaitskell/.local/share/virtualenvs/dmtoolnotes-xOXsVx4Y/lib/python3.8/site-packages/flask/app.py\", line 2073, in wsgi_app\n",
      "    response = self.full_dispatch_request()\n",
      "  File \"/home/andrewcgaitskell/.local/share/virtualenvs/dmtoolnotes-xOXsVx4Y/lib/python3.8/site-packages/flask/app.py\", line 1518, in full_dispatch_request\n",
      "    rv = self.handle_user_exception(e)\n",
      "  File \"/home/andrewcgaitskell/.local/share/virtualenvs/dmtoolnotes-xOXsVx4Y/lib/python3.8/site-packages/flask/app.py\", line 1516, in full_dispatch_request\n",
      "    rv = self.dispatch_request()\n",
      "  File \"/home/andrewcgaitskell/.local/share/virtualenvs/dmtoolnotes-xOXsVx4Y/lib/python3.8/site-packages/flask/app.py\", line 1502, in dispatch_request\n",
      "    return self.ensure_sync(self.view_functions[rule.endpoint])(**req.view_args)\n",
      "  File \"/home/andrewcgaitskell/.local/share/virtualenvs/dmtoolnotes-xOXsVx4Y/lib/python3.8/site-packages/dash/dash.py\", line 1336, in dispatch\n",
      "    response.set_data(func(*args, outputs_list=outputs_list))\n",
      "  File \"/home/andrewcgaitskell/.local/share/virtualenvs/dmtoolnotes-xOXsVx4Y/lib/python3.8/site-packages/dash/_callback.py\", line 151, in add_context\n",
      "    output_value = func(*func_args, **func_kwargs)  # %% callback invoked %%\n",
      "  File \"/tmp/ipykernel_34407/2921930190.py\", line 23, in add_and_show_users\n",
      "    db.session.add(User(username=username, email=email))\n",
      "NameError: name 'User' is not defined\n"
     ]
    },
    {
     "name": "stderr",
     "output_type": "stream",
     "text": [
      "127.0.0.1 - - [01/Jun/2022 18:18:11] \"\u001b[35m\u001b[1mPOST /_dash-update-component HTTP/1.1\u001b[0m\" 500 -\n"
     ]
    }
   ],
   "source": [
    "db.create_all()\n",
    "app.run_server(port=5051)"
   ]
  },
  {
   "cell_type": "code",
   "execution_count": null,
   "id": "12d1ab6a",
   "metadata": {},
   "outputs": [],
   "source": []
  }
 ],
 "metadata": {
  "kernelspec": {
   "display_name": "Python 3",
   "language": "python",
   "name": "python3"
  },
  "language_info": {
   "codemirror_mode": {
    "name": "ipython",
    "version": 3
   },
   "file_extension": ".py",
   "mimetype": "text/x-python",
   "name": "python",
   "nbconvert_exporter": "python",
   "pygments_lexer": "ipython3",
   "version": "3.8.10"
  }
 },
 "nbformat": 4,
 "nbformat_minor": 5
}

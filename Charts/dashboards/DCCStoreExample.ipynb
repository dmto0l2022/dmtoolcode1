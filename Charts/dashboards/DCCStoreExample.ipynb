{
 "cells": [
  {
   "cell_type": "markdown",
   "id": "e2feb6d2",
   "metadata": {},
   "source": [
    "https://stackoverflow.com/questions/61928923/dash-app-call-back-append-new-entry-in-data-frame-and-replace-if-matches-with-an"
   ]
  },
  {
   "cell_type": "code",
   "execution_count": 1,
   "id": "da707ecb",
   "metadata": {},
   "outputs": [],
   "source": [
    "import dash\n",
    "from dash import dcc\n",
    "from dash import html\n",
    "from dash import dash_table\n",
    "\n",
    "import plotly.graph_objects as go\n",
    "from plotly.subplots import make_subplots\n",
    "\n",
    "from dash import Dash, Input, Output, State, callback\n",
    "\n",
    "from jupyter_dash import JupyterDash\n",
    "\n",
    "import dash_bootstrap_components as dbc\n",
    "\n",
    "COMPONENT_STYLE = \"/assets/my_component.css\"\n",
    "external_stylesheets=[dbc.themes.BOOTSTRAP]\n",
    "\n",
    "app = JupyterDash(__name__,requests_pathname_prefix=\"/dash1/\",routes_pathname_prefix='/dash1/',\n",
    "                  external_stylesheets=external_stylesheets,\n",
    "                  meta_tags=[{'name': 'viewport', 'content': 'width=device-width, initial-scale=1'}],\n",
    "                  prevent_initial_callbacks=True,## added\n",
    "                 suppress_callback_exceptions=True)\n",
    "# Create server variable with Flask server object for use with gunicorn\n",
    "server = app.server"
   ]
  },
  {
   "cell_type": "code",
   "execution_count": 2,
   "id": "cac69605",
   "metadata": {},
   "outputs": [],
   "source": [
    "\n",
    "user_key = 'access_token'\n",
    "# Setup table.\n",
    "columns = ['report_name', 'ad_account', 'app_id', 'access_token']\n",
    "table = dash_table.DataTable(columns=[{\"name\": column, \"id\": column} for column in columns], data=[],\n",
    "                             id=\"data_table\")\n",
    "# Create app.\n",
    "app.layout = html.Div([dcc.Input(id=column, value=column) for column in columns] +\n",
    "                      [html.Button(\"Save\", id=\"save\"), dcc.Store(id=\"cache\", data=[]), table])\n",
    "\n"
   ]
  },
  {
   "cell_type": "code",
   "execution_count": 3,
   "id": "83e6a471",
   "metadata": {},
   "outputs": [],
   "source": [
    "\n",
    "@app.callback(Output(\"data_table\", \"data\"), [Input(\"save\", \"n_clicks\")], [State(\"data_table\", \"data\")] +\n",
    "              [State(column, \"value\") for column in columns])\n",
    "def append(n_clicks, data, *args):\n",
    "    record = {columns[i]: arg for i, arg in enumerate(list(args))}\n",
    "    \n",
    "    print(record)\n",
    "    print('---------')\n",
    "    print({columns[i]: arg for i, arg in enumerate(list(args))})\n",
    "    print('==================')\n",
    "    # If the record (identified by user_key) already exists, update it.\n",
    "    try:\n",
    "        record_index = [record[user_key] for record in data].index(record[user_key])\n",
    "        data[record_index] = record\n",
    "    # Otherwise, append it.\n",
    "    except ValueError:\n",
    "        data.append({columns[i]: arg for i, arg in enumerate(list(args))})\n",
    "    # Return the updated data.\n",
    "    return data\n",
    "\n",
    "\n"
   ]
  },
  {
   "cell_type": "code",
   "execution_count": 4,
   "id": "34bad656",
   "metadata": {},
   "outputs": [
    {
     "name": "stdout",
     "output_type": "stream",
     "text": [
      "Dash app running on http://0.0.0.0:5051/dash1/\n",
      "{'report_name': 'report_name', 'ad_account': 'ad_account', 'app_id': 'app_id', 'access_token': 'access_token1'}\n",
      "---------\n",
      "{'report_name': 'report_name', 'ad_account': 'ad_account', 'app_id': 'app_id', 'access_token': 'access_token1'}\n",
      "==================\n"
     ]
    }
   ],
   "source": [
    "app.run_server(host=\"0.0.0.0\", port=5051,debug=True)\n",
    "#app.run_server(debug=True,port=5051)"
   ]
  }
 ],
 "metadata": {
  "kernelspec": {
   "display_name": "Python 3",
   "language": "python",
   "name": "python3"
  },
  "language_info": {
   "codemirror_mode": {
    "name": "ipython",
    "version": 3
   },
   "file_extension": ".py",
   "mimetype": "text/x-python",
   "name": "python",
   "nbconvert_exporter": "python",
   "pygments_lexer": "ipython3",
   "version": "3.8.10"
  }
 },
 "nbformat": 4,
 "nbformat_minor": 5
}

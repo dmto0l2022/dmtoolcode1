{
 "cells": [
  {
   "cell_type": "code",
   "execution_count": 1,
   "id": "a8bf63ad-9605-41c1-bb38-e5e1ef1ed201",
   "metadata": {},
   "outputs": [],
   "source": [
    "# https://stackoverflow.com/questions/45845872/running-a-dash-app-within-a-flask-app\n",
    "from dash import Dash, dcc, html, callback, Input, Output\n",
    "##from werkzeug.wsgi import DispatcherMiddleware\n",
    "from werkzeug.middleware.dispatcher import DispatcherMiddleware\n",
    "\n",
    "import flask\n",
    "from flask import render_template\n",
    "from werkzeug.serving import run_simple\n",
    "from dash import html"
   ]
  },
  {
   "cell_type": "code",
   "execution_count": 2,
   "id": "7172a99a-9e56-440b-857b-94a34a750f33",
   "metadata": {},
   "outputs": [],
   "source": [
    "server = flask.Flask(__name__)\n",
    "dash_app1 = Dash(__name__, server = server, url_base_pathname='/dashboard/' )\n",
    "dash_app2 = Dash(__name__, server = server, url_base_pathname='/reports/')"
   ]
  },
  {
   "cell_type": "code",
   "execution_count": 3,
   "id": "58a5a1d8-1c53-440d-9fc3-ead9413b06be",
   "metadata": {},
   "outputs": [],
   "source": [
    "dash_app1.layout = html.Div([html.H1('Hi there, I am app1 for dashboards')])\n",
    "dash_app2.layout = html.Div([\n",
    "    html.H1('Hi there, I am app2 for reports'),\n",
    "    #dcc.Link('Navigate to \"/help\"', href='/help'),\n",
    "    html.A('Help but refresh the page', href=\"/help\")\n",
    "])"
   ]
  },
  {
   "cell_type": "code",
   "execution_count": 4,
   "id": "0d1c38a2-1c2d-4daa-a8fb-d4ac82522025",
   "metadata": {},
   "outputs": [],
   "source": [
    "\n",
    "@server.route('/')\n",
    "@server.route('/hello')\n",
    "def hello():\n",
    "    return 'hello world!'\n",
    "\n",
    "@server.route(\"/help\")\n",
    "def help():\n",
    "    message = \"Help, World\"\n",
    "    return render_template('help.html', message=message)\n",
    "\n",
    "@server.route('/dashboard')\n",
    "def render_dashboard():\n",
    "    return flask.redirect('/dash1')\n",
    "\n",
    "\n",
    "@server.route('/reports')\n",
    "def render_reports():\n",
    "    return flask.redirect('/dash2')\n",
    "\n",
    "app = DispatcherMiddleware(server, {\n",
    "    '/dash1': dash_app1.server,\n",
    "    '/dash2': dash_app2.server\n",
    "})\n"
   ]
  },
  {
   "cell_type": "code",
   "execution_count": null,
   "id": "e3530a8c-4d08-4dfc-958c-db3c5bf9f406",
   "metadata": {},
   "outputs": [
    {
     "name": "stderr",
     "output_type": "stream",
     "text": [
      " * Running on all addresses (0.0.0.0)\n",
      "   WARNING: This is a development server. Do not use it in a production deployment.\n",
      " * Running on http://127.0.0.1:5051\n",
      " * Running on http://10.154.0.13:5051 (Press CTRL+C to quit)\n",
      "86.11.4.170 - - [27/May/2022 07:26:51] \"GET /reports/ HTTP/1.1\" 200 -\n",
      "86.11.4.170 - - [27/May/2022 07:26:51] \"GET /reports/_dash-component-suites/dash/dcc/dash_core_components-shared.v2_4_0m1653322048.js HTTP/1.1\" 200 -\n",
      "86.11.4.170 - - [27/May/2022 07:26:51] \"GET /reports/_dash-dependencies HTTP/1.1\" 200 -\n",
      "86.11.4.170 - - [27/May/2022 07:26:51] \"GET /reports/_dash-component-suites/dash/dash_table/bundle.v5_1_2m1653322048.js HTTP/1.1\" 200 -\n",
      "86.11.4.170 - - [27/May/2022 07:26:51] \"GET /reports/_favicon.ico?v=2.4.1 HTTP/1.1\" 200 -\n",
      "86.11.4.170 - - [27/May/2022 07:26:51] \"GET /reports/_dash-component-suites/dash/html/dash_html_components.v2_0_3m1653322048.min.js HTTP/1.1\" 200 -\n",
      "86.11.4.170 - - [27/May/2022 07:26:51] \"GET /reports/_dash-layout HTTP/1.1\" 200 -\n",
      "86.11.4.170 - - [27/May/2022 07:26:55] \"GET /help HTTP/1.1\" 200 -\n"
     ]
    }
   ],
   "source": [
    "run_simple('0.0.0.0', 5051, app,  use_debugger=True) #use_reloader=True,"
   ]
  },
  {
   "cell_type": "code",
   "execution_count": null,
   "id": "747d7e58-00bc-4d1d-8c6d-3cccf3d3854c",
   "metadata": {},
   "outputs": [],
   "source": []
  }
 ],
 "metadata": {
  "kernelspec": {
   "display_name": "Python 3 (ipykernel)",
   "language": "python",
   "name": "python3"
  },
  "language_info": {
   "codemirror_mode": {
    "name": "ipython",
    "version": 3
   },
   "file_extension": ".py",
   "mimetype": "text/x-python",
   "name": "python",
   "nbconvert_exporter": "python",
   "pygments_lexer": "ipython3",
   "version": "3.10.2"
  }
 },
 "nbformat": 4,
 "nbformat_minor": 5
}

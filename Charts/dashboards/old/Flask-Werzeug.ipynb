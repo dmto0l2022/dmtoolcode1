{
 "cells": [
  {
   "cell_type": "code",
   "execution_count": 1,
   "id": "a9f6062c-d354-4bf8-b5f9-2ca37e8b3fcb",
   "metadata": {},
   "outputs": [
    {
     "name": "stdout",
     "output_type": "stream",
     "text": [
      "Requirement already satisfied: werkzeug in /home/jupyterhub/env/lib/python3.10/site-packages (2.1.2)\n"
     ]
    }
   ],
   "source": [
    "#!pip install werkzeug"
   ]
  },
  {
   "cell_type": "code",
   "execution_count": 2,
   "id": "8b815e02-665b-46d7-9b5d-ef44a8e3c685",
   "metadata": {},
   "outputs": [],
   "source": [
    "from werkzeug.wrappers import Request, Response\n",
    "from flask import Flask"
   ]
  },
  {
   "cell_type": "code",
   "execution_count": 3,
   "id": "89fbc50b-c587-4548-95ce-d9b592d56ee7",
   "metadata": {},
   "outputs": [],
   "source": [
    "app = Flask(__name__)\n",
    "\n",
    "@app.route(\"/\")\n",
    "def hello():\n",
    "    return \"Hello World!\""
   ]
  },
  {
   "cell_type": "code",
   "execution_count": null,
   "id": "185cb376-079e-4434-a62c-e3ab83e03817",
   "metadata": {},
   "outputs": [
    {
     "name": "stderr",
     "output_type": "stream",
     "text": [
      " * Running on all addresses (0.0.0.0)\n",
      "   WARNING: This is a development server. Do not use it in a production deployment.\n",
      " * Running on http://127.0.0.1:5051\n",
      " * Running on http://10.154.0.13:5051 (Press CTRL+C to quit)\n",
      "86.11.4.170 - - [27/May/2022 06:50:29] \"GET / HTTP/1.1\" 200 -\n",
      "86.11.4.170 - - [27/May/2022 06:50:29] \"\u001b[33mGET /favicon.ico HTTP/1.1\u001b[0m\" 404 -\n"
     ]
    }
   ],
   "source": [
    "from werkzeug.serving import run_simple\n",
    "run_simple('0.0.0.0', 5051, app)"
   ]
  },
  {
   "cell_type": "code",
   "execution_count": null,
   "id": "6e2be79a-75c5-4a41-ab15-7b91b8d00a42",
   "metadata": {},
   "outputs": [],
   "source": []
  }
 ],
 "metadata": {
  "kernelspec": {
   "display_name": "Python 3 (ipykernel)",
   "language": "python",
   "name": "python3"
  },
  "language_info": {
   "codemirror_mode": {
    "name": "ipython",
    "version": 3
   },
   "file_extension": ".py",
   "mimetype": "text/x-python",
   "name": "python",
   "nbconvert_exporter": "python",
   "pygments_lexer": "ipython3",
   "version": "3.10.2"
  }
 },
 "nbformat": 4,
 "nbformat_minor": 5
}

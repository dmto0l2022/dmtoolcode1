{
 "cells": [
  {
   "cell_type": "code",
   "execution_count": 1,
   "id": "c226bb94",
   "metadata": {},
   "outputs": [],
   "source": [
    "import dash\n",
    "from dash import dcc\n",
    "from dash import html\n",
    "\n",
    "import plotly.graph_objects as go\n",
    "\n",
    "from dash import dash_table as dt\n",
    "from dash.dependencies import Input, Output\n",
    "import pandas as pd\n",
    "\n",
    "\n",
    "from jupyter_dash import JupyterDash\n",
    "\n",
    "import dash_bootstrap_components as dbc\n",
    "COMPONENT_STYLE = \"/assets/my_component.css\"\n",
    "external_stylesheets=[dbc.themes.BOOTSTRAP]\n",
    "\n",
    "app = JupyterDash(__name__, external_stylesheets=external_stylesheets,\n",
    "                  meta_tags=[{'name': 'viewport', 'content': 'width=device-width, initial-scale=1'}],\n",
    "                 suppress_callback_exceptions=True)\n",
    "# Create server variable with Flask server object for use with gunicorn\n",
    "server = app.server"
   ]
  },
  {
   "cell_type": "code",
   "execution_count": 2,
   "id": "8c4a31db",
   "metadata": {},
   "outputs": [],
   "source": [
    "df = pd.read_csv('https://raw.githubusercontent.com/plotly/datasets/master/solar.csv')\n",
    "\n",
    "states = df.State.unique().tolist()\n",
    "\n",
    "app.layout = html.Div(\n",
    "    children=[\n",
    "    dcc.Dropdown(\n",
    "            id='filter_dropdown',\n",
    "            options=[{'label':st, 'value':st} for st in states],\n",
    "            value = states[0]\n",
    "            ),\n",
    "    dt.DataTable(id='table-container', columns=[{'id': c, 'name': c} for c in df.columns.values])\n",
    "    ]\n",
    ")\n",
    "\n",
    "@app.callback(\n",
    "    Output('table-container', 'data'),\n",
    "    [Input('filter_dropdown', 'value') ] )\n",
    "def display_table(state):\n",
    "    dff = df[df.State==state]\n",
    "    data=dff.to_dict('records')\n",
    "    return data"
   ]
  },
  {
   "cell_type": "code",
   "execution_count": 3,
   "id": "c7241764",
   "metadata": {},
   "outputs": [
    {
     "name": "stdout",
     "output_type": "stream",
     "text": [
      "Dash app running on http://127.0.0.1:5051/\n"
     ]
    }
   ],
   "source": [
    "app.run_server(debug=True,port=5051)"
   ]
  },
  {
   "cell_type": "code",
   "execution_count": null,
   "id": "67e7377c",
   "metadata": {},
   "outputs": [],
   "source": []
  }
 ],
 "metadata": {
  "kernelspec": {
   "display_name": "Python 3",
   "language": "python",
   "name": "python3"
  },
  "language_info": {
   "codemirror_mode": {
    "name": "ipython",
    "version": 3
   },
   "file_extension": ".py",
   "mimetype": "text/x-python",
   "name": "python",
   "nbconvert_exporter": "python",
   "pygments_lexer": "ipython3",
   "version": "3.8.10"
  }
 },
 "nbformat": 4,
 "nbformat_minor": 5
}

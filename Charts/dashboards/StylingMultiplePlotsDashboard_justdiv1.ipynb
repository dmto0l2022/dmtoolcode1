{
 "cells": [
  {
   "cell_type": "markdown",
   "id": "82c9b628",
   "metadata": {},
   "source": [
    "#!pip install dash_bootstrap_components\n",
    "!pip install -U urllib3 requests\n"
   ]
  },
  {
   "cell_type": "code",
   "execution_count": 1,
   "id": "b7703b90-70f0-478a-a337-43414b2e489b",
   "metadata": {},
   "outputs": [],
   "source": [
    "import os\n",
    "import requests"
   ]
  },
  {
   "cell_type": "code",
   "execution_count": 2,
   "id": "33818c06-e077-4cb3-8070-253b91b5e18d",
   "metadata": {},
   "outputs": [],
   "source": [
    "cwd = os.getcwd()"
   ]
  },
  {
   "cell_type": "code",
   "execution_count": 3,
   "id": "4ad9857f",
   "metadata": {},
   "outputs": [],
   "source": [
    "import pandas as pd"
   ]
  },
  {
   "cell_type": "code",
   "execution_count": 4,
   "id": "1155e6f1",
   "metadata": {},
   "outputs": [],
   "source": [
    "import dash\n",
    "from dash import dcc\n",
    "from dash import html\n",
    "from dash import dash_table\n",
    "\n",
    "from dash.exceptions import PreventUpdate\n",
    "\n",
    "from collections import OrderedDict\n",
    "\n",
    "import plotly.graph_objects as go\n",
    "from plotly.validators.scatter.marker import SymbolValidator\n",
    "from plotly.subplots import make_subplots\n",
    "\n",
    "import plotly.express as px\n",
    "\n",
    "from dash import Dash, Input, Output,State, callback\n",
    "\n",
    "import dash_bootstrap_components as dbc"
   ]
  },
  {
   "cell_type": "code",
   "execution_count": 5,
   "id": "b4bc338d",
   "metadata": {},
   "outputs": [],
   "source": [
    "from jupyter_dash import JupyterDash"
   ]
  },
  {
   "cell_type": "code",
   "execution_count": 6,
   "id": "ce319a82",
   "metadata": {},
   "outputs": [],
   "source": [
    "PAGES_STYLE = \"pagesstyles.css\"\n",
    "CONTENT_STYLES = \"content.css\"\n",
    "external_stylesheets=[dbc.themes.BOOTSTRAP, PAGES_STYLE, CONTENT_STYLES]\n",
    "\n",
    "app = JupyterDash(__name__,requests_pathname_prefix=\"/dash1/\",routes_pathname_prefix='/dash1/',\n",
    "                  external_stylesheets=external_stylesheets,\n",
    "                  meta_tags=[{'name': 'viewport', 'content': 'width=device-width, initial-scale=1'}],\n",
    "                 suppress_callback_exceptions=True)\n",
    "# Create server variable with Flask server object for use with gunicorn\n",
    "server = app.server"
   ]
  },
  {
   "cell_type": "raw",
   "id": "e9f34d85",
   "metadata": {},
   "source": [
    "raw_symbols = SymbolValidator().values\n",
    "#raw_symbols"
   ]
  },
  {
   "cell_type": "code",
   "execution_count": 7,
   "id": "8d15a099",
   "metadata": {},
   "outputs": [],
   "source": [
    "from dashboard_libraries import all_data_tables as adt\n",
    "dashdataandtables = adt.DashDataAndTables()"
   ]
  },
  {
   "cell_type": "code",
   "execution_count": 8,
   "id": "02e441b1",
   "metadata": {},
   "outputs": [],
   "source": [
    "#dashdataandtables.experiments_df"
   ]
  },
  {
   "cell_type": "code",
   "execution_count": 9,
   "id": "3fc73120",
   "metadata": {},
   "outputs": [
    {
     "data": {
      "text/html": [
       "<div>\n",
       "<style scoped>\n",
       "    .dataframe tbody tr th:only-of-type {\n",
       "        vertical-align: middle;\n",
       "    }\n",
       "\n",
       "    .dataframe tbody tr th {\n",
       "        vertical-align: top;\n",
       "    }\n",
       "\n",
       "    .dataframe thead th {\n",
       "        text-align: right;\n",
       "    }\n",
       "</style>\n",
       "<table border=\"1\" class=\"dataframe\">\n",
       "  <thead>\n",
       "    <tr style=\"text-align: right;\">\n",
       "      <th></th>\n",
       "      <th>id</th>\n",
       "      <th>limit_id</th>\n",
       "      <th>trace_id</th>\n",
       "      <th>trace_name</th>\n",
       "      <th>x</th>\n",
       "      <th>y</th>\n",
       "      <th>rowid</th>\n",
       "    </tr>\n",
       "  </thead>\n",
       "  <tbody>\n",
       "    <tr>\n",
       "      <th>0</th>\n",
       "      <td>1374</td>\n",
       "      <td>1</td>\n",
       "      <td>1</td>\n",
       "      <td>d</td>\n",
       "      <td>30.0</td>\n",
       "      <td>0.0</td>\n",
       "      <td>0</td>\n",
       "    </tr>\n",
       "    <tr>\n",
       "      <th>1</th>\n",
       "      <td>1375</td>\n",
       "      <td>1</td>\n",
       "      <td>1</td>\n",
       "      <td>d</td>\n",
       "      <td>65.0</td>\n",
       "      <td>5.0</td>\n",
       "      <td>1</td>\n",
       "    </tr>\n",
       "    <tr>\n",
       "      <th>2</th>\n",
       "      <td>1376</td>\n",
       "      <td>1</td>\n",
       "      <td>1</td>\n",
       "      <td>d</td>\n",
       "      <td>90.0</td>\n",
       "      <td>25.0</td>\n",
       "      <td>2</td>\n",
       "    </tr>\n",
       "    <tr>\n",
       "      <th>3</th>\n",
       "      <td>1377</td>\n",
       "      <td>1</td>\n",
       "      <td>1</td>\n",
       "      <td>d</td>\n",
       "      <td>100.0</td>\n",
       "      <td>50.0</td>\n",
       "      <td>3</td>\n",
       "    </tr>\n",
       "    <tr>\n",
       "      <th>4</th>\n",
       "      <td>1378</td>\n",
       "      <td>1</td>\n",
       "      <td>1</td>\n",
       "      <td>d</td>\n",
       "      <td>90.0</td>\n",
       "      <td>75.0</td>\n",
       "      <td>4</td>\n",
       "    </tr>\n",
       "  </tbody>\n",
       "</table>\n",
       "</div>"
      ],
      "text/plain": [
       "     id  limit_id  trace_id trace_name      x     y  rowid\n",
       "0  1374         1         1          d   30.0   0.0      0\n",
       "1  1375         1         1          d   65.0   5.0      1\n",
       "2  1376         1         1          d   90.0  25.0      2\n",
       "3  1377         1         1          d  100.0  50.0      3\n",
       "4  1378         1         1          d   90.0  75.0      4"
      ]
     },
     "execution_count": 9,
     "metadata": {},
     "output_type": "execute_result"
    }
   ],
   "source": [
    "dashdataandtables.limits_data_df.head(5)"
   ]
  },
  {
   "cell_type": "markdown",
   "id": "4adf7492",
   "metadata": {},
   "source": [
    "# Color Code"
   ]
  },
  {
   "cell_type": "code",
   "execution_count": 10,
   "id": "55d75942",
   "metadata": {},
   "outputs": [],
   "source": [
    "from itertools import cycle\n",
    "\n",
    "# colors\n",
    "palette = cycle(px.colors.qualitative.Bold)\n",
    "#palette = cycle(['black', 'grey', 'red', 'blue'])"
   ]
  },
  {
   "cell_type": "markdown",
   "id": "5752a1cd",
   "metadata": {},
   "source": [
    "# Scaling"
   ]
  },
  {
   "cell_type": "code",
   "execution_count": 11,
   "id": "4dd2e04c",
   "metadata": {},
   "outputs": [
    {
     "data": {
      "text/plain": [
       "9.999999999999999e-31"
      ]
     },
     "execution_count": 11,
     "metadata": {},
     "output_type": "execute_result"
    }
   ],
   "source": [
    "from dashboard_libraries import scaling as sc\n",
    "sf = sc.get_scale_factor('ub')\n",
    "sf"
   ]
  },
  {
   "cell_type": "markdown",
   "id": "3a3c1610",
   "metadata": {},
   "source": [
    "# Create Plot Series"
   ]
  },
  {
   "cell_type": "code",
   "execution_count": 12,
   "id": "1eba7dc6",
   "metadata": {},
   "outputs": [],
   "source": [
    "def CreatePlotSeries(limits_in):\n",
    "    plotseries_df = dashdataandtables.limits_traces_df[dashdataandtables.limits_traces_df['limit_id'].isin(limits_in)].copy()\n",
    "    plotseries_df = plotseries_df.drop_duplicates()\n",
    "    plotseries_df = plotseries_df.reset_index(drop=True)\n",
    "    \n",
    "    return plotseries_df\n"
   ]
  },
  {
   "cell_type": "code",
   "execution_count": 13,
   "id": "ba1d70e7",
   "metadata": {},
   "outputs": [
    {
     "data": {
      "text/html": [
       "<div>\n",
       "<style scoped>\n",
       "    .dataframe tbody tr th:only-of-type {\n",
       "        vertical-align: middle;\n",
       "    }\n",
       "\n",
       "    .dataframe tbody tr th {\n",
       "        vertical-align: top;\n",
       "    }\n",
       "\n",
       "    .dataframe thead th {\n",
       "        text-align: right;\n",
       "    }\n",
       "</style>\n",
       "<table border=\"1\" class=\"dataframe\">\n",
       "  <thead>\n",
       "    <tr style=\"text-align: right;\">\n",
       "      <th></th>\n",
       "      <th>limit_id</th>\n",
       "      <th>trace_id</th>\n",
       "      <th>trace_name</th>\n",
       "      <th>rowid</th>\n",
       "      <th>line_color</th>\n",
       "      <th>line</th>\n",
       "      <th>fill_color</th>\n",
       "      <th>symbol</th>\n",
       "      <th>symbol_color</th>\n",
       "    </tr>\n",
       "  </thead>\n",
       "  <tbody>\n",
       "    <tr>\n",
       "      <th>0</th>\n",
       "      <td>1</td>\n",
       "      <td>1</td>\n",
       "      <td>d</td>\n",
       "      <td>0</td>\n",
       "      <td>black</td>\n",
       "      <td>solid</td>\n",
       "      <td>LightGrey</td>\n",
       "      <td>square</td>\n",
       "      <td>blue</td>\n",
       "    </tr>\n",
       "    <tr>\n",
       "      <th>1</th>\n",
       "      <td>1</td>\n",
       "      <td>2</td>\n",
       "      <td>m</td>\n",
       "      <td>1</td>\n",
       "      <td>black</td>\n",
       "      <td>solid</td>\n",
       "      <td>LightGrey</td>\n",
       "      <td>square</td>\n",
       "      <td>blue</td>\n",
       "    </tr>\n",
       "    <tr>\n",
       "      <th>2</th>\n",
       "      <td>1</td>\n",
       "      <td>3</td>\n",
       "      <td>t</td>\n",
       "      <td>2</td>\n",
       "      <td>black</td>\n",
       "      <td>solid</td>\n",
       "      <td>LightGrey</td>\n",
       "      <td>square</td>\n",
       "      <td>blue</td>\n",
       "    </tr>\n",
       "    <tr>\n",
       "      <th>3</th>\n",
       "      <td>1</td>\n",
       "      <td>4</td>\n",
       "      <td>o1</td>\n",
       "      <td>3</td>\n",
       "      <td>black</td>\n",
       "      <td>solid</td>\n",
       "      <td>LightGrey</td>\n",
       "      <td>square</td>\n",
       "      <td>blue</td>\n",
       "    </tr>\n",
       "    <tr>\n",
       "      <th>4</th>\n",
       "      <td>1</td>\n",
       "      <td>5</td>\n",
       "      <td>o2</td>\n",
       "      <td>4</td>\n",
       "      <td>black</td>\n",
       "      <td>solid</td>\n",
       "      <td>LightGrey</td>\n",
       "      <td>square</td>\n",
       "      <td>blue</td>\n",
       "    </tr>\n",
       "    <tr>\n",
       "      <th>5</th>\n",
       "      <td>1</td>\n",
       "      <td>6</td>\n",
       "      <td>l</td>\n",
       "      <td>5</td>\n",
       "      <td>black</td>\n",
       "      <td>solid</td>\n",
       "      <td>LightGrey</td>\n",
       "      <td>square</td>\n",
       "      <td>blue</td>\n",
       "    </tr>\n",
       "  </tbody>\n",
       "</table>\n",
       "</div>"
      ],
      "text/plain": [
       "   limit_id  trace_id trace_name  rowid line_color   line fill_color  symbol  \\\n",
       "0         1         1          d      0      black  solid  LightGrey  square   \n",
       "1         1         2          m      1      black  solid  LightGrey  square   \n",
       "2         1         3          t      2      black  solid  LightGrey  square   \n",
       "3         1         4         o1      3      black  solid  LightGrey  square   \n",
       "4         1         5         o2      4      black  solid  LightGrey  square   \n",
       "5         1         6          l      5      black  solid  LightGrey  square   \n",
       "\n",
       "  symbol_color  \n",
       "0         blue  \n",
       "1         blue  \n",
       "2         blue  \n",
       "3         blue  \n",
       "4         blue  \n",
       "5         blue  "
      ]
     },
     "execution_count": 13,
     "metadata": {},
     "output_type": "execute_result"
    }
   ],
   "source": [
    "default_results = [1]\n",
    "plotseries = CreatePlotSeries(default_results)\n",
    "plotseries"
   ]
  },
  {
   "cell_type": "code",
   "execution_count": 14,
   "id": "91d97a5e",
   "metadata": {},
   "outputs": [],
   "source": [
    "from dashboard_libraries import formattingtable as ft\n",
    "default_limit = [1]\n",
    "default_traces = dashdataandtables.limits_traces_df[dashdataandtables.limits_traces_df['limit_id']\\\n",
    "                                                    .isin(default_limit)].copy()\n",
    "default_styledatatable = ft.CreateFormatTable(default_traces)"
   ]
  },
  {
   "cell_type": "code",
   "execution_count": 15,
   "id": "6503a80c",
   "metadata": {},
   "outputs": [
    {
     "data": {
      "text/html": [
       "<div>\n",
       "<style scoped>\n",
       "    .dataframe tbody tr th:only-of-type {\n",
       "        vertical-align: middle;\n",
       "    }\n",
       "\n",
       "    .dataframe tbody tr th {\n",
       "        vertical-align: top;\n",
       "    }\n",
       "\n",
       "    .dataframe thead th {\n",
       "        text-align: right;\n",
       "    }\n",
       "</style>\n",
       "<table border=\"1\" class=\"dataframe\">\n",
       "  <thead>\n",
       "    <tr style=\"text-align: right;\">\n",
       "      <th></th>\n",
       "      <th>limit_id</th>\n",
       "      <th>trace_id</th>\n",
       "      <th>trace_name</th>\n",
       "      <th>rowid</th>\n",
       "      <th>line_color</th>\n",
       "      <th>line</th>\n",
       "      <th>fill_color</th>\n",
       "      <th>symbol</th>\n",
       "      <th>symbol_color</th>\n",
       "    </tr>\n",
       "  </thead>\n",
       "  <tbody>\n",
       "    <tr>\n",
       "      <th>0</th>\n",
       "      <td>1</td>\n",
       "      <td>1</td>\n",
       "      <td>d</td>\n",
       "      <td>0</td>\n",
       "      <td>black</td>\n",
       "      <td>solid</td>\n",
       "      <td>LightGrey</td>\n",
       "      <td>square</td>\n",
       "      <td>blue</td>\n",
       "    </tr>\n",
       "    <tr>\n",
       "      <th>1</th>\n",
       "      <td>1</td>\n",
       "      <td>2</td>\n",
       "      <td>m</td>\n",
       "      <td>1</td>\n",
       "      <td>black</td>\n",
       "      <td>solid</td>\n",
       "      <td>LightGrey</td>\n",
       "      <td>square</td>\n",
       "      <td>blue</td>\n",
       "    </tr>\n",
       "    <tr>\n",
       "      <th>2</th>\n",
       "      <td>1</td>\n",
       "      <td>3</td>\n",
       "      <td>t</td>\n",
       "      <td>2</td>\n",
       "      <td>black</td>\n",
       "      <td>solid</td>\n",
       "      <td>LightGrey</td>\n",
       "      <td>square</td>\n",
       "      <td>blue</td>\n",
       "    </tr>\n",
       "    <tr>\n",
       "      <th>3</th>\n",
       "      <td>1</td>\n",
       "      <td>4</td>\n",
       "      <td>o1</td>\n",
       "      <td>3</td>\n",
       "      <td>black</td>\n",
       "      <td>solid</td>\n",
       "      <td>LightGrey</td>\n",
       "      <td>square</td>\n",
       "      <td>blue</td>\n",
       "    </tr>\n",
       "    <tr>\n",
       "      <th>4</th>\n",
       "      <td>1</td>\n",
       "      <td>5</td>\n",
       "      <td>o2</td>\n",
       "      <td>4</td>\n",
       "      <td>black</td>\n",
       "      <td>solid</td>\n",
       "      <td>LightGrey</td>\n",
       "      <td>square</td>\n",
       "      <td>blue</td>\n",
       "    </tr>\n",
       "  </tbody>\n",
       "</table>\n",
       "</div>"
      ],
      "text/plain": [
       "   limit_id  trace_id trace_name  rowid line_color   line fill_color  symbol  \\\n",
       "0         1         1          d      0      black  solid  LightGrey  square   \n",
       "1         1         2          m      1      black  solid  LightGrey  square   \n",
       "2         1         3          t      2      black  solid  LightGrey  square   \n",
       "3         1         4         o1      3      black  solid  LightGrey  square   \n",
       "4         1         5         o2      4      black  solid  LightGrey  square   \n",
       "\n",
       "  symbol_color  \n",
       "0         blue  \n",
       "1         blue  \n",
       "2         blue  \n",
       "3         blue  \n",
       "4         blue  "
      ]
     },
     "execution_count": 15,
     "metadata": {},
     "output_type": "execute_result"
    }
   ],
   "source": [
    "plotseries_default = CreatePlotSeries([1])\n",
    "plotseries_default.head(5)"
   ]
  },
  {
   "cell_type": "code",
   "execution_count": 16,
   "id": "41bcd6c9",
   "metadata": {},
   "outputs": [],
   "source": [
    "from dashboard_libraries import createlegend as cl\n",
    "default_limit = [1]\n",
    "default_traces = dashdataandtables.limits_traces_df[dashdataandtables.limits_traces_df['limit_id']\\\n",
    "                                                    .isin(default_limit)].copy()\n",
    "default_legend_fig = cl.CreateLegendFig(default_limit,dashdataandtables.limits_traces_df)"
   ]
  },
  {
   "cell_type": "code",
   "execution_count": 17,
   "id": "340c3081",
   "metadata": {},
   "outputs": [],
   "source": [
    "default_legend_out_graph = dcc.Graph(figure=default_legend_fig,id='legend_out_id',\n",
    "                             style={'width': '100%', 'height': '100%'})"
   ]
  },
  {
   "cell_type": "code",
   "execution_count": 18,
   "id": "aacb9c4f",
   "metadata": {},
   "outputs": [],
   "source": [
    "from dashboard_libraries import updatelegend as ul"
   ]
  },
  {
   "cell_type": "code",
   "execution_count": 19,
   "id": "12f6c1ba",
   "metadata": {},
   "outputs": [],
   "source": [
    "from dashboard_libraries import getstyleandlegend as gsal"
   ]
  },
  {
   "cell_type": "code",
   "execution_count": 20,
   "id": "fa5d1ae6",
   "metadata": {},
   "outputs": [],
   "source": [
    "default_styleandlegendcolumn = gsal.GetStyleAndLegendColumn(default_styledatatable,default_legend_out_graph)"
   ]
  },
  {
   "cell_type": "code",
   "execution_count": 21,
   "id": "a6b964b6",
   "metadata": {},
   "outputs": [],
   "source": [
    "from dashboard_libraries import creategraph as cg\n",
    "default_limit = [1]\n",
    "default_traces = dashdataandtables.limits_traces_df[dashdataandtables.limits_traces_df['limit_id'].isin(default_limit)].copy()\n",
    "default_graph_fig = cg.CreateGraph(default_limit,dashdataandtables.limits_traces_df,dashdataandtables.limits_data_df)"
   ]
  },
  {
   "cell_type": "code",
   "execution_count": 22,
   "id": "ed3c8769",
   "metadata": {},
   "outputs": [],
   "source": [
    "from dashboard_libraries import updategraph as ug"
   ]
  },
  {
   "cell_type": "code",
   "execution_count": 23,
   "id": "19ed9c31",
   "metadata": {},
   "outputs": [],
   "source": [
    "default_graph_out = dcc.Graph(figure=default_graph_fig,id='graph_out_id',\n",
    "                            config=dict(responsive=True),\n",
    "                            className='h-100'\n",
    "                            #style={'width': '100%', 'height': '100%'}\n",
    "                           )"
   ]
  },
  {
   "cell_type": "code",
   "execution_count": 24,
   "id": "596ed90e",
   "metadata": {},
   "outputs": [],
   "source": [
    "chart_in = default_graph_out\n",
    "\n",
    "def GetChart(chart_in):\n",
    "\n",
    "    chartdiv = html.Div([chart_in], className=\"CHART_DIV NOPADDING\")\n",
    "\n",
    "    chart_col =  html.Div(children=[chartdiv],className=\"col col-lg-12 NOPADDING\")\n",
    "\n",
    "    chart_row = html.Div([chart_col],\n",
    "                    className=\"row CHART_ROW NOPADDING\")\n",
    "\n",
    "    column_chart_out = html.Div(\n",
    "                [chart_row]  ,\n",
    "                className=\"col col-lg-6\"\n",
    "            )\n",
    "    return column_chart_out\n",
    "\n",
    "default_column_chart = GetChart(chart_in)"
   ]
  },
  {
   "cell_type": "code",
   "execution_count": null,
   "id": "0d0563ed",
   "metadata": {},
   "outputs": [],
   "source": []
  },
  {
   "cell_type": "code",
   "execution_count": 25,
   "id": "da53ccc6",
   "metadata": {},
   "outputs": [],
   "source": [
    "twocolumns =  html.Div(className=\"row g-0 ALL_ROW NOPADDING\",children=[\n",
    "                                                                    default_column_chart,\n",
    "                                                                    default_styleandlegendcolumn,\n",
    "                                                                      ],)"
   ]
  },
  {
   "cell_type": "code",
   "execution_count": 26,
   "id": "be7243ef",
   "metadata": {},
   "outputs": [],
   "source": [
    "layout2 = html.Div([twocolumns],\n",
    "                   className=\"container-fluid DASHBOARD_CONTAINER_STYLE\",\n",
    "                  )"
   ]
  },
  {
   "cell_type": "code",
   "execution_count": 27,
   "id": "a91c876b",
   "metadata": {},
   "outputs": [],
   "source": [
    "app.layout = layout2\n",
    "\n",
    "@app.callback(\n",
    "    [Output(\"graph_out_id\",\"figure\"),Output(\"legend_out_id\",\"figure\"),],\n",
    "    [Input('format_table_id', 'data')],\n",
    "    [State(\"format_table_id\", \"data\")])\n",
    "def update_output(table_data, table_data_in):\n",
    "    fig_out = ug.UpdateGraph(dashdataandtables, table_data_in)\n",
    "    legend_out = ul.UpdateLegendFig(table_data_in)\n",
    "\n",
    "    \n",
    "    return fig_out, legend_out"
   ]
  },
  {
   "cell_type": "code",
   "execution_count": 28,
   "id": "4096b2fd",
   "metadata": {},
   "outputs": [
    {
     "name": "stdout",
     "output_type": "stream",
     "text": [
      "Dash app running on http://0.0.0.0:8002/dash1/\n"
     ]
    }
   ],
   "source": [
    "app.run_server(host=\"0.0.0.0\", port=8002, debug=True, use_reloader=False) "
   ]
  },
  {
   "cell_type": "code",
   "execution_count": null,
   "id": "a89086d6",
   "metadata": {},
   "outputs": [],
   "source": []
  },
  {
   "cell_type": "code",
   "execution_count": null,
   "id": "7b043d94",
   "metadata": {},
   "outputs": [],
   "source": []
  },
  {
   "cell_type": "code",
   "execution_count": null,
   "id": "7c9536b5",
   "metadata": {},
   "outputs": [],
   "source": []
  }
 ],
 "metadata": {
  "kernelspec": {
   "display_name": "Python 3",
   "language": "python",
   "name": "python3"
  },
  "language_info": {
   "codemirror_mode": {
    "name": "ipython",
    "version": 3
   },
   "file_extension": ".py",
   "mimetype": "text/x-python",
   "name": "python",
   "nbconvert_exporter": "python",
   "pygments_lexer": "ipython3",
   "version": "3.8.10"
  }
 },
 "nbformat": 4,
 "nbformat_minor": 5
}

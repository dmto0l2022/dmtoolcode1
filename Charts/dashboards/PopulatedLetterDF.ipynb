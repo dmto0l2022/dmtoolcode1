{
 "cells": [
  {
   "cell_type": "code",
   "execution_count": 1,
   "id": "ec5dff18",
   "metadata": {},
   "outputs": [],
   "source": [
    "import plotly.graph_objects as go\n",
    "import pandas as pd\n",
    "import sys\n",
    "from io import StringIO"
   ]
  },
  {
   "cell_type": "code",
   "execution_count": 2,
   "id": "e486e82f",
   "metadata": {},
   "outputs": [],
   "source": [
    "from sqlalchemy import create_engine\n",
    "import pandas as pd\n",
    "from dash import dash_table\n",
    "\n",
    "import os\n",
    "from os import environ, path\n",
    "\n",
    "from dotenv import load_dotenv\n",
    "\n",
    "load_dotenv(\".env\")\n",
    "\n",
    "import mariadb\n",
    "\n",
    "MARIADB_USERNAME = environ.get(\"MARIADB_USERNAME\")\n",
    "MARIADB_PASSWORD = environ.get(\"MARIADB_PASSWORD\")\n",
    "#MARIADB_DATABASE = environ.get(\"MARIADB_DATABASE\")\n",
    "MARIADB_DATABASE = \"data\"\n",
    "MARIADB_CONTAINER = environ.get(\"MARIADB_CONTAINER\")\n",
    "\n",
    "MARIADB_URI = \"mariadb+mariadbconnector://\" + MARIADB_USERNAME + \":\" + \\\n",
    "                    MARIADB_PASSWORD + \"@\" + MARIADB_CONTAINER + \":3306/\"\\\n",
    "                    + MARIADB_DATABASE\n",
    "\n",
    "#import psycopg2\n",
    "engine = create_engine(MARIADB_URI)"
   ]
  },
  {
   "cell_type": "code",
   "execution_count": 3,
   "id": "ec59747e",
   "metadata": {},
   "outputs": [],
   "source": [
    "df = pd.DataFrame({'name' : ['User 1', 'User 2', 'User 3']})"
   ]
  },
  {
   "cell_type": "code",
   "execution_count": 4,
   "id": "798237aa",
   "metadata": {},
   "outputs": [],
   "source": [
    "df.to_sql('users', con=engine, if_exists='append')"
   ]
  },
  {
   "cell_type": "code",
   "execution_count": 5,
   "id": "bc478786",
   "metadata": {},
   "outputs": [],
   "source": [
    "with engine.begin() as connection:\n",
    "    df1 = pd.DataFrame({'name' : ['User 4', 'User 5']})\n",
    "    df1.to_sql('users', con=connection, if_exists='append')"
   ]
  },
  {
   "cell_type": "code",
   "execution_count": 6,
   "id": "46b8bc54",
   "metadata": {},
   "outputs": [],
   "source": [
    "import letterxy as lxy"
   ]
  },
  {
   "cell_type": "code",
   "execution_count": 7,
   "id": "96e914d5",
   "metadata": {},
   "outputs": [],
   "source": [
    "dmt = lxy.DMTool()"
   ]
  },
  {
   "cell_type": "raw",
   "id": "98a0e75c",
   "metadata": {},
   "source": [
    "dmdf = dmt.odf\n",
    "dmdf.index.names = ['limit_id']\n",
    "dmdf"
   ]
  },
  {
   "cell_type": "code",
   "execution_count": 9,
   "id": "59260ffe",
   "metadata": {},
   "outputs": [],
   "source": [
    "with engine.begin() as connection:\n",
    "    dmt = lxy.DMTool()\n",
    "    dmdf = dmt.dmtdf\n",
    "    #dmdf.index.names = ['limit_id']\n",
    "    dmdf.to_sql('limits_data', con=connection, if_exists='append', index=False)"
   ]
  },
  {
   "cell_type": "code",
   "execution_count": 17,
   "id": "2b194bfe",
   "metadata": {},
   "outputs": [],
   "source": [
    "df_data = [1,'', 'Personal', '', '', 'GeV', 'cm^2', '1', '1', 'Black', 'Line',\n",
    "           '', '', '', '', '', '', '', '', 0, '', 0, 0, '', 0, '', '', '']"
   ]
  },
  {
   "cell_type": "code",
   "execution_count": 18,
   "id": "cec87526",
   "metadata": {},
   "outputs": [],
   "source": [
    "limits_metadata_df = pd.DataFrame(data=[df_data],\n",
    "                                  columns= ['limit_id',\n",
    "                                            'spin_dependency',\n",
    "                                            'result_type',\n",
    "                                            'measurement_type',\n",
    "                                            'nomhash',\n",
    "                                            'x_units',\n",
    "                                            'y_units',\n",
    "                                            'x_rescale',\n",
    "                                            'y_rescale',\n",
    "                                            'default_color',\n",
    "                                            'default_style',\n",
    "                                            'data_label',\n",
    "                                            'file_name',\n",
    "                                            'data_comment',\n",
    "                                            'data_reference',\n",
    "                                            'created_at',\n",
    "                                            'updated_at',\n",
    "                                            'creator_id',\n",
    "                                            'experiment',\n",
    "                                            'rating',\n",
    "                                            'date_of_announcement',\n",
    "                                            'public', \n",
    "                                            'official',\n",
    "                                            'date_official',\n",
    "                                            'greatest_hit',\n",
    "                                            'date_of_run_start', \n",
    "                                            'date_of_run_end',\n",
    "                                            'year'])\n",
    "                                            \n"
   ]
  },
  {
   "cell_type": "code",
   "execution_count": 19,
   "id": "d3a47dd6",
   "metadata": {},
   "outputs": [
    {
     "data": {
      "text/html": [
       "<div>\n",
       "<style scoped>\n",
       "    .dataframe tbody tr th:only-of-type {\n",
       "        vertical-align: middle;\n",
       "    }\n",
       "\n",
       "    .dataframe tbody tr th {\n",
       "        vertical-align: top;\n",
       "    }\n",
       "\n",
       "    .dataframe thead th {\n",
       "        text-align: right;\n",
       "    }\n",
       "</style>\n",
       "<table border=\"1\" class=\"dataframe\">\n",
       "  <thead>\n",
       "    <tr style=\"text-align: right;\">\n",
       "      <th></th>\n",
       "      <th>limit_id</th>\n",
       "      <th>spin_dependency</th>\n",
       "      <th>result_type</th>\n",
       "      <th>measurement_type</th>\n",
       "      <th>nomhash</th>\n",
       "      <th>x_units</th>\n",
       "      <th>y_units</th>\n",
       "      <th>x_rescale</th>\n",
       "      <th>y_rescale</th>\n",
       "      <th>default_color</th>\n",
       "      <th>...</th>\n",
       "      <th>experiment</th>\n",
       "      <th>rating</th>\n",
       "      <th>date_of_announcement</th>\n",
       "      <th>public</th>\n",
       "      <th>official</th>\n",
       "      <th>date_official</th>\n",
       "      <th>greatest_hit</th>\n",
       "      <th>date_of_run_start</th>\n",
       "      <th>date_of_run_end</th>\n",
       "      <th>year</th>\n",
       "    </tr>\n",
       "  </thead>\n",
       "  <tbody>\n",
       "    <tr>\n",
       "      <th>0</th>\n",
       "      <td>1</td>\n",
       "      <td></td>\n",
       "      <td>Personal</td>\n",
       "      <td></td>\n",
       "      <td></td>\n",
       "      <td>GeV</td>\n",
       "      <td>cm^2</td>\n",
       "      <td>1</td>\n",
       "      <td>1</td>\n",
       "      <td>Black</td>\n",
       "      <td>...</td>\n",
       "      <td></td>\n",
       "      <td>0</td>\n",
       "      <td></td>\n",
       "      <td>0</td>\n",
       "      <td>0</td>\n",
       "      <td></td>\n",
       "      <td>0</td>\n",
       "      <td></td>\n",
       "      <td></td>\n",
       "      <td></td>\n",
       "    </tr>\n",
       "  </tbody>\n",
       "</table>\n",
       "<p>1 rows × 28 columns</p>\n",
       "</div>"
      ],
      "text/plain": [
       "   limit_id spin_dependency result_type measurement_type nomhash x_units  \\\n",
       "0         1                    Personal                              GeV   \n",
       "\n",
       "  y_units x_rescale y_rescale default_color  ... experiment rating  \\\n",
       "0    cm^2         1         1         Black  ...                 0   \n",
       "\n",
       "  date_of_announcement public official date_official greatest_hit  \\\n",
       "0                           0        0                          0   \n",
       "\n",
       "  date_of_run_start date_of_run_end  year  \n",
       "0                                          \n",
       "\n",
       "[1 rows x 28 columns]"
      ]
     },
     "execution_count": 19,
     "metadata": {},
     "output_type": "execute_result"
    }
   ],
   "source": [
    "limits_metadata_df"
   ]
  },
  {
   "cell_type": "code",
   "execution_count": null,
   "id": "493b44aa",
   "metadata": {},
   "outputs": [],
   "source": [
    "fig = go.Figure(go.Scatter(x=[0,1,2,0,None,3,3,5,5,3], y=[0,2,0,0,None,0.5,1.5,1.5,0.5,0.5], fill=\"toself\"))\n",
    "#fig.show()"
   ]
  },
  {
   "cell_type": "code",
   "execution_count": null,
   "id": "357149e9",
   "metadata": {},
   "outputs": [],
   "source": [
    "D_coords = [[25,0],[35,0],[65,5],[90,25],[100,50],[90,75],\n",
    "            [65,95],[35,100],\n",
    "            [60,85],[75,65],[80,50],\n",
    "            [75,35],[60,15],[35,0],[35,100],[25,100],[25,0]]\n",
    "\n",
    "df = pd.DataFrame(data=D_coords,columns=['x','y'])"
   ]
  },
  {
   "cell_type": "code",
   "execution_count": null,
   "id": "b279050f",
   "metadata": {},
   "outputs": [],
   "source": [
    "MDATA = StringIO(\"\"\"x,y\n",
    "80,75\n",
    "80,0\n",
    "90,0\n",
    "90,100\n",
    "80,75\n",
    "55,10\n",
    "50,0\n",
    "20,65\n",
    "20,0\n",
    "10,0\n",
    "10,100\n",
    "55,10\"\"\")\n",
    "df = pd.read_csv(MDATA, sep=\",\")"
   ]
  },
  {
   "cell_type": "code",
   "execution_count": null,
   "id": "766044c2",
   "metadata": {},
   "outputs": [],
   "source": [
    "MDATA = StringIO(\"\"\"x,y\n",
    "80,75\n",
    "90,100\n",
    "90,0\n",
    "80,0\n",
    "80,75\n",
    "55,15\n",
    "50,0\n",
    "20,75\n",
    "20,0\n",
    "10,0\n",
    "10,100\n",
    "20,100\n",
    "55,15\n",
    "\"\"\")\n",
    "df = pd.read_csv(MDATA, sep=\",\")"
   ]
  },
  {
   "cell_type": "code",
   "execution_count": null,
   "id": "480737ed",
   "metadata": {},
   "outputs": [],
   "source": [
    "df"
   ]
  },
  {
   "cell_type": "code",
   "execution_count": null,
   "id": "aa087443",
   "metadata": {},
   "outputs": [],
   "source": [
    "# Create figure\n",
    "fig = go.Figure()\n",
    "\n",
    "fig.update_layout(\n",
    "    autosize=False,\n",
    "    width=500,\n",
    "    height=500,\n",
    "    margin=dict(\n",
    "        l=0,\n",
    "        r=0,\n",
    "        b=0,\n",
    "        t=0,\n",
    "        pad=0\n",
    "    ),\n",
    "    paper_bgcolor=\"LightSteelBlue\",\n",
    ")\n",
    "\n",
    "plot_df = dmt.dmtdf\n",
    "\n",
    "fig.update_layout(yaxis_range=[0,100])\n",
    "fig.update_layout(xaxis_range=[0,600])\n",
    "\n",
    "trace_letters = ['d','m','t','o1','o2','l']\n",
    "# Loop df columns and plot columns to the figure\n",
    "for i in trace_letters:\n",
    "#    col_name = 'S'+ str(i)\n",
    "    trace_df = plot_df[plot_df['letter']==i]\n",
    "    fig.add_trace(go.Scatter(x=trace_df['x'], y=trace_df['y'],name=i,\n",
    "                        mode='lines', # 'lines' or 'markers',\n",
    "                         fill=\"toself\"\n",
    "                        ))\n",
    "            \n",
    "fig.show()"
   ]
  },
  {
   "cell_type": "raw",
   "id": "02bb0cbe",
   "metadata": {},
   "source": [
    "import sys\n",
    "from io import StringIO\n",
    "\n",
    "TESTDATA = StringIO(\"\"\"col1;col2;col3\n",
    "    1;4.4;99\n",
    "    2;4.5;200\n",
    "    3;4.7;65\n",
    "    4;3.2;140\n",
    "    \"\"\")\n",
    "\n",
    "df = pd.read_csv(TESTDATA, sep=\";\")"
   ]
  },
  {
   "cell_type": "code",
   "execution_count": null,
   "id": "bd8f9794",
   "metadata": {},
   "outputs": [],
   "source": []
  }
 ],
 "metadata": {
  "kernelspec": {
   "display_name": "Python 3",
   "language": "python",
   "name": "python3"
  },
  "language_info": {
   "codemirror_mode": {
    "name": "ipython",
    "version": 3
   },
   "file_extension": ".py",
   "mimetype": "text/x-python",
   "name": "python",
   "nbconvert_exporter": "python",
   "pygments_lexer": "ipython3",
   "version": "3.8.10"
  }
 },
 "nbformat": 4,
 "nbformat_minor": 5
}

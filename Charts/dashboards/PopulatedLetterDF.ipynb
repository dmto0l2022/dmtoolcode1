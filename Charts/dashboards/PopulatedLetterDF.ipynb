{
 "cells": [
  {
   "cell_type": "code",
   "execution_count": 1,
   "id": "ec5dff18",
   "metadata": {},
   "outputs": [],
   "source": [
    "import plotly.graph_objects as go\n",
    "import pandas as pd\n",
    "import sys\n",
    "from io import StringIO"
   ]
  },
  {
   "cell_type": "code",
   "execution_count": 2,
   "id": "e486e82f",
   "metadata": {},
   "outputs": [],
   "source": [
    "from sqlalchemy import create_engine\n",
    "import pandas as pd\n",
    "from dash import dash_table\n",
    "\n",
    "import os\n",
    "from os import environ, path\n",
    "\n",
    "from dotenv import load_dotenv\n",
    "\n",
    "load_dotenv(\".env\")\n",
    "\n",
    "import mariadb\n",
    "\n",
    "MARIADB_USERNAME = environ.get(\"MARIADB_USERNAME\")\n",
    "MARIADB_PASSWORD = environ.get(\"MARIADB_PASSWORD\")\n",
    "#MARIADB_DATABASE = environ.get(\"MARIADB_DATABASE\")\n",
    "MARIADB_DATABASE = \"data\"\n",
    "MARIADB_CONTAINER = environ.get(\"MARIADB_CONTAINER\")\n",
    "\n",
    "MARIADB_URI = \"mariadb+mariadbconnector://\" + MARIADB_USERNAME + \":\" + \\\n",
    "                    MARIADB_PASSWORD + \"@\" + MARIADB_CONTAINER + \":3306/\"\\\n",
    "                    + MARIADB_DATABASE\n",
    "\n",
    "#import psycopg2\n",
    "engine = create_engine(MARIADB_URI)"
   ]
  },
  {
   "cell_type": "code",
   "execution_count": 3,
   "id": "8695613c",
   "metadata": {},
   "outputs": [],
   "source": [
    "## Limit Types"
   ]
  },
  {
   "cell_type": "code",
   "execution_count": 4,
   "id": "ec59747e",
   "metadata": {},
   "outputs": [],
   "source": [
    "df = pd.DataFrame({\n",
    "    'variable' : ['limit_type','limit_type'],\n",
    "    'label' : ['All','Official'],\n",
    "    'value' : ['All', '1']})\n",
    "df.to_sql('dropdown_valuepairs', con=engine, if_exists='replace')"
   ]
  },
  {
   "cell_type": "code",
   "execution_count": 5,
   "id": "ae0ebd3b",
   "metadata": {},
   "outputs": [],
   "source": [
    "## Years"
   ]
  },
  {
   "cell_type": "code",
   "execution_count": 6,
   "id": "798237aa",
   "metadata": {},
   "outputs": [],
   "source": [
    "range_values = list(range(2000,2024))\n",
    "variable_type = 'year'\n",
    "dropdown_values = []\n",
    "for l in range_values:\n",
    "    dropdown_values.append([variable_type,str(l),str(l)])\n",
    "df = pd.DataFrame(data=dropdown_values, columns=['variable','label','value'])  \n",
    "df.to_sql('dropdown_valuepairs', con=engine, if_exists='append')"
   ]
  },
  {
   "cell_type": "code",
   "execution_count": 7,
   "id": "44e47be2",
   "metadata": {},
   "outputs": [],
   "source": [
    "## Result Type"
   ]
  },
  {
   "cell_type": "code",
   "execution_count": 8,
   "id": "d842cb72",
   "metadata": {},
   "outputs": [],
   "source": [
    "df = pd.DataFrame({\n",
    "    'variable' : ['result_type','result_type', 'result_type'],\n",
    "    'label' : ['Theory', 'Project', 'Experiment'],\n",
    "    'value' : ['Th', 'Proj', 'Exp']})\n",
    "df.to_sql('dropdown_valuepairs', con=engine, if_exists='append')"
   ]
  },
  {
   "cell_type": "code",
   "execution_count": 9,
   "id": "6286e3b6",
   "metadata": {},
   "outputs": [],
   "source": [
    "## Spin Dependence"
   ]
  },
  {
   "cell_type": "code",
   "execution_count": 10,
   "id": "279c7317",
   "metadata": {},
   "outputs": [],
   "source": [
    "df = pd.DataFrame({\n",
    "    'variable' : ['spin_dependence','spin_dependence','spin_dependence'],\n",
    "    'label' : ['All', 'spin-dependent', 'spin-indpendent'],\n",
    "    'value' : ['All', 'SD', 'SI']\n",
    "})\n",
    "df.to_sql('dropdown_valuepairs', con=engine, if_exists='append')"
   ]
  },
  {
   "cell_type": "code",
   "execution_count": 11,
   "id": "d75a34bb",
   "metadata": {},
   "outputs": [],
   "source": [
    "## Greatest Hits"
   ]
  },
  {
   "cell_type": "code",
   "execution_count": 12,
   "id": "386185e6",
   "metadata": {},
   "outputs": [],
   "source": [
    "df = pd.DataFrame({\n",
    "    'variable' : ['greatest_hits','greatest_hits','greatest_hits'],\n",
    "    'label' : ['All', 'No', 'Yes'],\n",
    "    'value' : ['All', '0', '1']\n",
    "})\n",
    "df.to_sql('dropdown_valuepairs', con=engine, if_exists='append')"
   ]
  },
  {
   "cell_type": "code",
   "execution_count": 13,
   "id": "4ca492fe",
   "metadata": {},
   "outputs": [],
   "source": [
    "## Experiments"
   ]
  },
  {
   "cell_type": "code",
   "execution_count": 14,
   "id": "fb37a188",
   "metadata": {},
   "outputs": [],
   "source": [
    "df = pd.DataFrame({\n",
    "    'variable' : ['experiment','experiment', 'experiment', 'experiment', 'experiment','experiment','experiment'],\n",
    "    'label' : ['All', 'Experiment DMTOOL', 'Experiment D',\\\n",
    "               'Experiment M', 'Experiment T', 'Experiment O', 'Experiment L'],\n",
    "    'value' : ['All', 'Experiment DMTOOL', 'Experiment D',\\\n",
    "               'Experiment M', 'Experiment T', 'Experiment O', 'Experiment L']})\n",
    "df.to_sql('dropdown_valuepairs', con=engine, if_exists='append')"
   ]
  },
  {
   "cell_type": "code",
   "execution_count": 15,
   "id": "ecf3f896",
   "metadata": {},
   "outputs": [],
   "source": [
    "## "
   ]
  },
  {
   "cell_type": "code",
   "execution_count": 16,
   "id": "d42ba16f",
   "metadata": {},
   "outputs": [],
   "source": [
    "all_dropdown_pairs = pd.read_sql('SELECT variable,label, value FROM dropdown_valuepairs', con=engine)"
   ]
  },
  {
   "cell_type": "code",
   "execution_count": 17,
   "id": "f6b2f7f9",
   "metadata": {},
   "outputs": [
    {
     "data": {
      "text/html": [
       "<div>\n",
       "<style scoped>\n",
       "    .dataframe tbody tr th:only-of-type {\n",
       "        vertical-align: middle;\n",
       "    }\n",
       "\n",
       "    .dataframe tbody tr th {\n",
       "        vertical-align: top;\n",
       "    }\n",
       "\n",
       "    .dataframe thead th {\n",
       "        text-align: right;\n",
       "    }\n",
       "</style>\n",
       "<table border=\"1\" class=\"dataframe\">\n",
       "  <thead>\n",
       "    <tr style=\"text-align: right;\">\n",
       "      <th></th>\n",
       "      <th>variable</th>\n",
       "      <th>label</th>\n",
       "      <th>value</th>\n",
       "    </tr>\n",
       "  </thead>\n",
       "  <tbody>\n",
       "    <tr>\n",
       "      <th>0</th>\n",
       "      <td>limit_type</td>\n",
       "      <td>All</td>\n",
       "      <td>All</td>\n",
       "    </tr>\n",
       "    <tr>\n",
       "      <th>1</th>\n",
       "      <td>limit_type</td>\n",
       "      <td>Official</td>\n",
       "      <td>1</td>\n",
       "    </tr>\n",
       "    <tr>\n",
       "      <th>2</th>\n",
       "      <td>year</td>\n",
       "      <td>2000</td>\n",
       "      <td>2000</td>\n",
       "    </tr>\n",
       "    <tr>\n",
       "      <th>3</th>\n",
       "      <td>year</td>\n",
       "      <td>2001</td>\n",
       "      <td>2001</td>\n",
       "    </tr>\n",
       "    <tr>\n",
       "      <th>4</th>\n",
       "      <td>year</td>\n",
       "      <td>2002</td>\n",
       "      <td>2002</td>\n",
       "    </tr>\n",
       "  </tbody>\n",
       "</table>\n",
       "</div>"
      ],
      "text/plain": [
       "     variable     label value\n",
       "0  limit_type       All   All\n",
       "1  limit_type  Official     1\n",
       "2        year      2000  2000\n",
       "3        year      2001  2001\n",
       "4        year      2002  2002"
      ]
     },
     "execution_count": 17,
     "metadata": {},
     "output_type": "execute_result"
    }
   ],
   "source": [
    "all_dropdown_pairs.head()"
   ]
  },
  {
   "cell_type": "code",
   "execution_count": 18,
   "id": "1456ad00",
   "metadata": {},
   "outputs": [],
   "source": [
    "#year_dropdown_pairs = all_dropdown_pairs[all_dropdown_pairs['variable']=='year']\n",
    "#year_dropdown_pairs\n",
    "all_dropdown_pairs = pd.read_sql('SELECT variable,label, value FROM dropdown_valuepairs', con=engine)\n",
    "experiments_df = all_dropdown_pairs[all_dropdown_pairs['variable']=='experiment'].copy()\n",
    "result_types_df  = all_dropdown_pairs[all_dropdown_pairs['variable']=='result_type'].copy()\n",
    "spin_dependency_df  = all_dropdown_pairs[all_dropdown_pairs['variable']=='spin_dependence'].copy()\n",
    "greatest_hit_df = all_dropdown_pairs[all_dropdown_pairs['variable']=='greatest_hits'].copy()\n",
    "limit_types_df = all_dropdown_pairs[all_dropdown_pairs['variable']=='limit_type'].copy()\n",
    "years_df = all_dropdown_pairs[all_dropdown_pairs['variable']=='year'].copy()\n",
    "\n"
   ]
  },
  {
   "cell_type": "code",
   "execution_count": 48,
   "id": "63958cd9",
   "metadata": {},
   "outputs": [
    {
     "data": {
      "text/html": [
       "<div>\n",
       "<style scoped>\n",
       "    .dataframe tbody tr th:only-of-type {\n",
       "        vertical-align: middle;\n",
       "    }\n",
       "\n",
       "    .dataframe tbody tr th {\n",
       "        vertical-align: top;\n",
       "    }\n",
       "\n",
       "    .dataframe thead th {\n",
       "        text-align: right;\n",
       "    }\n",
       "</style>\n",
       "<table border=\"1\" class=\"dataframe\">\n",
       "  <thead>\n",
       "    <tr style=\"text-align: right;\">\n",
       "      <th></th>\n",
       "      <th>variable</th>\n",
       "      <th>value</th>\n",
       "    </tr>\n",
       "  </thead>\n",
       "  <tbody>\n",
       "    <tr>\n",
       "      <th>0</th>\n",
       "      <td>1</td>\n",
       "      <td>2</td>\n",
       "    </tr>\n",
       "  </tbody>\n",
       "</table>\n",
       "</div>"
      ],
      "text/plain": [
       "   variable  value\n",
       "0         1      2"
      ]
     },
     "execution_count": 48,
     "metadata": {},
     "output_type": "execute_result"
    }
   ],
   "source": [
    "#years_df.to_dict('records')\n",
    "\n",
    "filter_df = pd.DataFrame([[1,2]], columns=['variable','value'])\n",
    "#add_this = pd.DataFrame\n",
    "filter_df\n"
   ]
  },
  {
   "cell_type": "code",
   "execution_count": null,
   "id": "195b34a1",
   "metadata": {},
   "outputs": [],
   "source": [
    "'''    \n",
    "list = ['abc','def','hig']\n",
    "df=pd.DataFrame(list)\n",
    "df.columns=['names']\n",
    "    \n",
    "for s in selected_years_list:\n",
    "    append_this = pd.DataFrame(['year', s],columns=['variable','value'])\n",
    "    #print(append_this)\n",
    "    filter_df = pd.concat([filter_df, append_this])\n",
    "    '''"
   ]
  },
  {
   "cell_type": "code",
   "execution_count": 20,
   "id": "bc478786",
   "metadata": {},
   "outputs": [],
   "source": [
    "with engine.begin() as connection:\n",
    "    df1 = pd.DataFrame({'name' : ['User 4', 'User 5']})\n",
    "    df1.to_sql('users', con=connection, if_exists='append')"
   ]
  },
  {
   "cell_type": "code",
   "execution_count": 21,
   "id": "46b8bc54",
   "metadata": {},
   "outputs": [],
   "source": [
    "import letterxy as lxy"
   ]
  },
  {
   "cell_type": "code",
   "execution_count": 22,
   "id": "96e914d5",
   "metadata": {},
   "outputs": [],
   "source": [
    "dmt = lxy.DMTool()"
   ]
  },
  {
   "cell_type": "raw",
   "id": "7cedf7d7",
   "metadata": {},
   "source": [
    "with engine.begin() as connection:\n",
    "    dmt = lxy.DMTool()\n",
    "    dmdf = dmt.dmtdf\n",
    "    #dmdf.index.names = ['limit_id']\n",
    "    dmdf.to_sql('limits_data', con=connection, if_exists='append', index=False)"
   ]
  },
  {
   "cell_type": "raw",
   "id": "f2e9bede",
   "metadata": {},
   "source": [
    "df_data = [1,'', 'Personal', '', '', 'GeV', 'cm^2', '1', '1', 'Black', 'Line',\n",
    "           '', '', '', '', '', '', '', '', 0, '', 0, 0, '', 0, '', '', '']"
   ]
  },
  {
   "cell_type": "code",
   "execution_count": 23,
   "id": "cec87526",
   "metadata": {},
   "outputs": [],
   "source": [
    "limits_metadata_empty = pd.DataFrame(data=[],\n",
    "                                  columns= ['limit_id',\n",
    "                                            'spin_dependency',\n",
    "                                            'result_type',\n",
    "                                            'measurement_type',\n",
    "                                            'nomhash',\n",
    "                                            'x_units',\n",
    "                                            'y_units',\n",
    "                                            'x_rescale',\n",
    "                                            'y_rescale',\n",
    "                                            'default_color',\n",
    "                                            'default_style',\n",
    "                                            'data_label',\n",
    "                                            'file_name',\n",
    "                                            'data_comment',\n",
    "                                            'data_reference',\n",
    "                                            'created_at',\n",
    "                                            'updated_at',\n",
    "                                            'creator_id',\n",
    "                                            'experiment',\n",
    "                                            'rating',\n",
    "                                            'date_of_announcement',\n",
    "                                            'public', \n",
    "                                            'official',\n",
    "                                            'date_official',\n",
    "                                            'greatest_hit',\n",
    "                                            'date_of_run_start', \n",
    "                                            'date_of_run_end',\n",
    "                                            'year'])\n",
    "                                            \n"
   ]
  },
  {
   "cell_type": "code",
   "execution_count": 24,
   "id": "8ba23a42",
   "metadata": {},
   "outputs": [],
   "source": [
    "limits_metadata_df = limits_metadata_empty.copy()"
   ]
  },
  {
   "cell_type": "code",
   "execution_count": 25,
   "id": "5f986243",
   "metadata": {},
   "outputs": [
    {
     "data": {
      "text/plain": [
       "<sqlalchemy.engine.cursor.LegacyCursorResult at 0x7fd938c80070>"
      ]
     },
     "execution_count": 25,
     "metadata": {},
     "output_type": "execute_result"
    }
   ],
   "source": [
    "# insert updated records from 'records_updated' to 'records'\n",
    "engine.execute(\"delete from data.limits_data;\")\n",
    "engine.execute(\"delete from data.limits_metadata;\")\n",
    "engine.execute(\"delete from data.meta_valuepair;\")"
   ]
  },
  {
   "cell_type": "markdown",
   "id": "9e01bc86",
   "metadata": {},
   "source": [
    "# Experiment dmtool"
   ]
  },
  {
   "cell_type": "code",
   "execution_count": 26,
   "id": "8c641980",
   "metadata": {},
   "outputs": [],
   "source": [
    "dmt.MakeDMTool(1000,1)\n",
    "dmdf = dmt.dmtdf\n",
    "dmdf.head(5)\n",
    "#limits_metadata_df\n",
    "index_id = 1\n",
    "limits_metadata_df.loc[index_id,'limit_id'] = 1000\n",
    "limits_metadata_df.loc[index_id,'x_rescale'] = '1'\n",
    "limits_metadata_df.loc[index_id,'y_rescale'] = '1'\n",
    "limits_metadata_df.loc[index_id,'x_units'] = 'GeV'\n",
    "limits_metadata_df.loc[index_id,'y_units'] =  'cm^2'\n",
    "limits_metadata_df.loc[index_id,'spin_dependency'] = 'SD' # SI\n",
    "limits_metadata_df.loc[index_id,'official'] = '1'\n",
    "limits_metadata_df.loc[index_id,'experiment'] = 'Experiment Dmtool'\n",
    "limits_metadata_df.loc[index_id,'result_type'] = 'Th' ## Proj, Exp\n",
    "limits_metadata_df.loc[index_id,'year'] = '2023' ## Proj, Exp\n",
    "limits_metadata_df.loc[index_id,'greatest_hit'] = '0' ## 1\n",
    "limits_metadata_df.loc[index_id,'public'] = '1' ## 0\n",
    "limits_metadata_df.loc[index_id,'default_color'] = 'black' ## 0\n",
    "limits_metadata_df.loc[index_id,'default_style'] = 'dotted' ## 0\n",
    "limits_metadata_df.loc[index_id,'data_comment'] = 'Experiment Dmtool' ## 0\n",
    "limits_metadata_df.loc[index_id,'data_reference'] = 'dmtool' ## 0\n",
    "limits_metadata_df.loc[index_id,'data_label'] = 'dmtool' ## \n",
    "\n",
    "value_var_list = list(limits_metadata_df.columns)\n",
    "value_var_list.remove('limit_id')\n",
    "\n",
    "meta_valuepair_df = pd.melt(limits_metadata_df, id_vars=['limit_id'], value_vars=value_var_list)\n",
    "\n",
    "with engine.begin() as connection:\n",
    "    #dmdf.index.names = ['limit_id']\n",
    "    dmdf.to_sql('limits_data', con=connection, if_exists='append', index=False)\n",
    "    limits_metadata_df.to_sql('limits_metadata', con=connection, if_exists='append', index=False)\n",
    "    meta_valuepair_df.to_sql('meta_valuepair', con=connection, if_exists='append', index=False)\n",
    "limits_metadata_df = limits_metadata_empty.copy()"
   ]
  },
  {
   "cell_type": "markdown",
   "id": "8f3edf40",
   "metadata": {},
   "source": [
    "# Experiment D"
   ]
  },
  {
   "cell_type": "code",
   "execution_count": 27,
   "id": "0dcf29c9",
   "metadata": {},
   "outputs": [],
   "source": [
    "dmdf = dmt.ddf\n",
    "dmdf['limit_id'] = 10\n",
    "dmdf['trace_id'] = 1\n",
    "dmdf['trace_name'] = 'd'\n",
    "#limits_metadata_df\n",
    "index_id = 3\n",
    "limits_metadata_df.loc[index_id,'limit_id'] = 1000\n",
    "limits_metadata_df.loc[index_id,'x_rescale'] = '1'\n",
    "limits_metadata_df.loc[index_id,'y_rescale'] = '1'\n",
    "limits_metadata_df.loc[index_id,'x_units'] = 'GeV'\n",
    "limits_metadata_df.loc[index_id,'y_units'] =  'cm^2'\n",
    "limits_metadata_df.loc[index_id,'spin_dependency'] = 'SD' # SI\n",
    "limits_metadata_df.loc[index_id,'official'] = '1'\n",
    "limits_metadata_df.loc[index_id,'experiment'] = 'Experiment Dmtool'\n",
    "limits_metadata_df.loc[index_id,'result_type'] = 'Th' ## Proj, Exp\n",
    "limits_metadata_df.loc[index_id,'year'] = '2023' ## Proj, Exp\n",
    "limits_metadata_df.loc[index_id,'greatest_hit'] = '0' ## 1\n",
    "limits_metadata_df.loc[index_id,'public'] = '1' ## 0\n",
    "limits_metadata_df.loc[index_id,'default_color'] = 'black' ## 0\n",
    "limits_metadata_df.loc[index_id,'default_style'] = 'dotted' ## 0\n",
    "limits_metadata_df.loc[index_id,'data_comment'] = 'Experiment D' ## 0\n",
    "limits_metadata_df.loc[index_id,'data_reference'] = 'd' ## 0\n",
    "limits_metadata_df.loc[index_id,'data_label'] = 'd' ## \n",
    "#limits_metadata_df\n",
    "\n",
    "value_var_list = list(limits_metadata_df.columns)\n",
    "value_var_list.remove('limit_id')\n",
    "\n",
    "meta_valuepair_df = pd.melt(limits_metadata_df, id_vars=['limit_id'], value_vars=value_var_list)\n",
    "\n",
    "with engine.begin() as connection:\n",
    "    #dmdf.index.names = ['limit_id']\n",
    "    dmdf.to_sql('limits_data', con=connection, if_exists='append', index=False)\n",
    "    limits_metadata_df.to_sql('limits_metadata', con=connection, if_exists='append', index=False)\n",
    "    meta_valuepair_df.to_sql('meta_valuepair', con=connection, if_exists='append', index=False)\n",
    "limits_metadata_df = limits_metadata_empty.copy()"
   ]
  },
  {
   "cell_type": "markdown",
   "id": "378eed74",
   "metadata": {},
   "source": [
    "# Experiment M"
   ]
  },
  {
   "cell_type": "code",
   "execution_count": 28,
   "id": "aa7931f5",
   "metadata": {},
   "outputs": [],
   "source": [
    "dmdf = dmt.mdf\n",
    "dmdf['limit_id'] = 11\n",
    "dmdf['trace_id'] = 1\n",
    "dmdf['trace_name'] = 'm'\n",
    "#limits_metadata_df\n",
    "index_id = 3\n",
    "limits_metadata_df.loc[index_id,'limit_id'] = 1000\n",
    "limits_metadata_df.loc[index_id,'x_rescale'] = '1'\n",
    "limits_metadata_df.loc[index_id,'y_rescale'] = '1'\n",
    "limits_metadata_df.loc[index_id,'x_units'] = 'GeV'\n",
    "limits_metadata_df.loc[index_id,'y_units'] =  'cm^2'\n",
    "limits_metadata_df.loc[index_id,'spin_dependency'] = 'SD' # SI\n",
    "limits_metadata_df.loc[index_id,'official'] = '1'\n",
    "limits_metadata_df.loc[index_id,'experiment'] = 'Experiment M'\n",
    "limits_metadata_df.loc[index_id,'result_type'] = 'Th' ## Proj, Exp\n",
    "limits_metadata_df.loc[index_id,'year'] = '2020' ## Proj, Exp\n",
    "limits_metadata_df.loc[index_id,'greatest_hit'] = '0' ## 1\n",
    "limits_metadata_df.loc[index_id,'public'] = '1' ## 0\n",
    "limits_metadata_df.loc[index_id,'default_color'] = 'black' ## 0\n",
    "limits_metadata_df.loc[index_id,'default_style'] = 'dotted' ## 0\n",
    "limits_metadata_df.loc[index_id,'data_comment'] = 'Experiment M' ## 0\n",
    "limits_metadata_df.loc[index_id,'data_reference'] = 'm' ## 0\n",
    "limits_metadata_df.loc[index_id,'data_label'] = 'm' ## \n",
    "#limits_metadata_df\n",
    "\n",
    "value_var_list = list(limits_metadata_df.columns)\n",
    "value_var_list.remove('limit_id')\n",
    "\n",
    "meta_valuepair_df = pd.melt(limits_metadata_df, id_vars=['limit_id'], value_vars=value_var_list)\n",
    "\n",
    "with engine.begin() as connection:\n",
    "    #dmdf.index.names = ['limit_id']\n",
    "    dmdf.to_sql('limits_data', con=connection, if_exists='append', index=False)\n",
    "    limits_metadata_df.to_sql('limits_metadata', con=connection, if_exists='append', index=False)\n",
    "    meta_valuepair_df.to_sql('meta_valuepair', con=connection, if_exists='append', index=False)\n",
    "limits_metadata_df = limits_metadata_empty.copy()"
   ]
  },
  {
   "cell_type": "markdown",
   "id": "c7fc9338",
   "metadata": {},
   "source": [
    "# Experiment T"
   ]
  },
  {
   "cell_type": "code",
   "execution_count": 29,
   "id": "aa6da452",
   "metadata": {},
   "outputs": [],
   "source": [
    "dmdf = dmt.tdf\n",
    "dmdf['limit_id'] = 12\n",
    "dmdf['trace_id'] = 1\n",
    "dmdf['trace_name'] = 't'\n",
    "#limits_metadata_df\n",
    "index_id = 3\n",
    "limits_metadata_df.loc[index_id,'limit_id'] = 1000\n",
    "limits_metadata_df.loc[index_id,'x_rescale'] = '1'\n",
    "limits_metadata_df.loc[index_id,'y_rescale'] = '1'\n",
    "limits_metadata_df.loc[index_id,'x_units'] = 'GeV'\n",
    "limits_metadata_df.loc[index_id,'y_units'] =  'cm^2'\n",
    "limits_metadata_df.loc[index_id,'spin_dependency'] = 'SD' # SI\n",
    "limits_metadata_df.loc[index_id,'official'] = '1'\n",
    "limits_metadata_df.loc[index_id,'experiment'] = 'Experiment T'\n",
    "limits_metadata_df.loc[index_id,'result_type'] = 'Th' ## Proj, Exp\n",
    "limits_metadata_df.loc[index_id,'year'] = '2020' ## Proj, Exp\n",
    "limits_metadata_df.loc[index_id,'greatest_hit'] = '0' ## 1\n",
    "limits_metadata_df.loc[index_id,'public'] = '1' ## 0\n",
    "limits_metadata_df.loc[index_id,'default_color'] = 'black' ## 0\n",
    "limits_metadata_df.loc[index_id,'default_style'] = 'dotted' ## 0\n",
    "limits_metadata_df.loc[index_id,'data_comment'] = 'Experiment T' ## 0\n",
    "limits_metadata_df.loc[index_id,'data_reference'] = 't' ## 0\n",
    "limits_metadata_df.loc[index_id,'data_label'] = 't' ## \n",
    "#limits_metadata_df\n",
    "\n",
    "value_var_list = list(limits_metadata_df.columns)\n",
    "value_var_list.remove('limit_id')\n",
    "\n",
    "meta_valuepair_df = pd.melt(limits_metadata_df, id_vars=['limit_id'], value_vars=value_var_list)\n",
    "\n",
    "with engine.begin() as connection:\n",
    "    #dmdf.index.names = ['limit_id']\n",
    "    dmdf.to_sql('limits_data', con=connection, if_exists='append', index=False)\n",
    "    limits_metadata_df.to_sql('limits_metadata', con=connection, if_exists='append', index=False)\n",
    "    meta_valuepair_df.to_sql('meta_valuepair', con=connection, if_exists='append', index=False)\n",
    "limits_metadata_df = limits_metadata_empty.copy()"
   ]
  },
  {
   "cell_type": "markdown",
   "id": "60e9e99d",
   "metadata": {},
   "source": [
    "# Experiment O"
   ]
  },
  {
   "cell_type": "code",
   "execution_count": 30,
   "id": "80f4c621",
   "metadata": {},
   "outputs": [],
   "source": [
    "dmdf = dmt.odf\n",
    "dmdf['limit_id'] = 13\n",
    "dmdf['trace_id'] = 1\n",
    "dmdf['trace_name'] = 'o'\n",
    "#limits_metadata_df\n",
    "index_id = 3\n",
    "limits_metadata_df.loc[index_id,'limit_id'] = 1000\n",
    "limits_metadata_df.loc[index_id,'x_rescale'] = '1'\n",
    "limits_metadata_df.loc[index_id,'y_rescale'] = '1'\n",
    "limits_metadata_df.loc[index_id,'x_units'] = 'GeV'\n",
    "limits_metadata_df.loc[index_id,'y_units'] =  'cm^2'\n",
    "limits_metadata_df.loc[index_id,'spin_dependency'] = 'SD' # SI\n",
    "limits_metadata_df.loc[index_id,'official'] = '1'\n",
    "limits_metadata_df.loc[index_id,'experiment'] = 'Experiment O'\n",
    "limits_metadata_df.loc[index_id,'result_type'] = 'Th' ## Proj, Exp\n",
    "limits_metadata_df.loc[index_id,'year'] = '2020' ## Proj, Exp\n",
    "limits_metadata_df.loc[index_id,'greatest_hit'] = '0' ## 1\n",
    "limits_metadata_df.loc[index_id,'public'] = '1' ## 0\n",
    "limits_metadata_df.loc[index_id,'default_color'] = 'black' ## 0\n",
    "limits_metadata_df.loc[index_id,'default_style'] = 'dotted' ## 0\n",
    "limits_metadata_df.loc[index_id,'data_comment'] = 'Experiment O' ## 0\n",
    "limits_metadata_df.loc[index_id,'data_reference'] = 'o' ## 0\n",
    "limits_metadata_df.loc[index_id,'data_label'] = 'o' ## \n",
    "#limits_metadata_df\n",
    "\n",
    "value_var_list = list(limits_metadata_df.columns)\n",
    "value_var_list.remove('limit_id')\n",
    "\n",
    "meta_valuepair_df = pd.melt(limits_metadata_df, id_vars=['limit_id'], value_vars=value_var_list)\n",
    "\n",
    "with engine.begin() as connection:\n",
    "    #dmdf.index.names = ['limit_id']\n",
    "    dmdf.to_sql('limits_data', con=connection, if_exists='append', index=False)\n",
    "    limits_metadata_df.to_sql('limits_metadata', con=connection, if_exists='append', index=False)\n",
    "    meta_valuepair_df.to_sql('meta_valuepair', con=connection, if_exists='append', index=False)\n",
    "limits_metadata_df = limits_metadata_empty.copy()"
   ]
  },
  {
   "cell_type": "markdown",
   "id": "eb325dfb",
   "metadata": {},
   "source": [
    "# Experiment L"
   ]
  },
  {
   "cell_type": "code",
   "execution_count": 31,
   "id": "b53a11aa",
   "metadata": {},
   "outputs": [],
   "source": [
    "dmdf = dmt.ldf\n",
    "dmdf['limit_id'] = 14\n",
    "dmdf['trace_id'] = 1\n",
    "dmdf['trace_name'] = 'l'\n",
    "#limits_metadata_df\n",
    "index_id = 3\n",
    "limits_metadata_df.loc[index_id,'limit_id'] = 1000\n",
    "limits_metadata_df.loc[index_id,'x_rescale'] = '1'\n",
    "limits_metadata_df.loc[index_id,'y_rescale'] = '1'\n",
    "limits_metadata_df.loc[index_id,'x_units'] = 'GeV'\n",
    "limits_metadata_df.loc[index_id,'y_units'] =  'cm^2'\n",
    "limits_metadata_df.loc[index_id,'spin_dependency'] = 'SD' # SI\n",
    "limits_metadata_df.loc[index_id,'official'] = '1'\n",
    "limits_metadata_df.loc[index_id,'experiment'] = 'Experiment L'\n",
    "limits_metadata_df.loc[index_id,'result_type'] = 'Th' ## Proj, Exp\n",
    "limits_metadata_df.loc[index_id,'year'] = '2020' ## Proj, Exp\n",
    "limits_metadata_df.loc[index_id,'greatest_hit'] = '0' ## 1\n",
    "limits_metadata_df.loc[index_id,'public'] = '1' ## 0\n",
    "limits_metadata_df.loc[index_id,'default_color'] = 'black' ## 0\n",
    "limits_metadata_df.loc[index_id,'default_style'] = 'dotted' ## 0\n",
    "limits_metadata_df.loc[index_id,'data_comment'] = 'Experiment L' ## 0\n",
    "limits_metadata_df.loc[index_id,'data_reference'] = 'l' ## 0\n",
    "limits_metadata_df.loc[index_id,'data_label'] = 'l' ## \n",
    "#limits_metadata_df\n",
    "\n",
    "value_var_list = list(limits_metadata_df.columns)\n",
    "value_var_list.remove('limit_id')\n",
    "\n",
    "meta_valuepair_df = pd.melt(limits_metadata_df, id_vars=['limit_id'], value_vars=value_var_list)\n",
    "\n",
    "with engine.begin() as connection:\n",
    "    #dmdf.index.names = ['limit_id']\n",
    "    dmdf.to_sql('limits_data', con=connection, if_exists='append', index=False)\n",
    "    limits_metadata_df.to_sql('limits_metadata', con=connection, if_exists='append', index=False)\n",
    "    meta_valuepair_df.to_sql('meta_valuepair', con=connection, if_exists='append', index=False)\n",
    "limits_metadata_df = limits_metadata_empty.copy()"
   ]
  },
  {
   "cell_type": "code",
   "execution_count": 32,
   "id": "493b44aa",
   "metadata": {},
   "outputs": [],
   "source": [
    "fig = go.Figure(go.Scatter(x=[0,1,2,0,None,3,3,5,5,3], y=[0,2,0,0,None,0.5,1.5,1.5,0.5,0.5], fill=\"toself\"))\n",
    "#fig.show()"
   ]
  },
  {
   "cell_type": "code",
   "execution_count": 33,
   "id": "4624f4f2",
   "metadata": {},
   "outputs": [],
   "source": [
    "limits_metadata_df = limits_metadata_empty.copy()\n",
    "index_id = 4\n",
    "limits_metadata_df.loc[index_id,'limit_id'] = 14\n",
    "limits_metadata_df.loc[index_id,'x_rescale'] = 1\n",
    "limits_metadata_df.loc[index_id,'y_rescale'] = 1\n",
    "limits_metadata_df.loc[index_id,'x_units'] = 'GeV'\n",
    "limits_metadata_df.loc[index_id,'y_units'] =  'cm^2'\n",
    "limits_metadata_df.loc[index_id,'spin_dependency'] = 'SI' # SD, SI\n",
    "limits_metadata_df.loc[index_id,'official'] = 1\n",
    "limits_metadata_df.loc[index_id,'experiment'] = \"Experiment L\"\n",
    "limits_metadata_df.loc[index_id,'result_type'] = \"Th\" ## Proj, Exp\n",
    "limits_metadata_df.loc[index_id,'year'] = \"2023\" ## Proj, Exp\n",
    "limits_metadata_df.loc[index_id,'greatest_hit'] = 1 ## 0, 1\n",
    "limits_metadata_df.loc[index_id,'public'] = 1 ## 0\n",
    "limits_metadata_df.loc[index_id,'default_color'] = 'black' ## 0\n",
    "limits_metadata_df.loc[index_id,'default_style'] = 'solid' ## 0\n",
    "limits_metadata_df.loc[index_id,'data_comment'] = 'Experiment L' ## 0\n",
    "limits_metadata_df.loc[index_id,'data_reference'] = 'l' ## 0\n",
    "limits_metadata_df.loc[index_id,'data_label'] = 'l' ## "
   ]
  },
  {
   "cell_type": "code",
   "execution_count": 34,
   "id": "927c5619",
   "metadata": {},
   "outputs": [
    {
     "data": {
      "text/plain": [
       "['spin_dependency',\n",
       " 'result_type',\n",
       " 'measurement_type',\n",
       " 'nomhash',\n",
       " 'x_units',\n",
       " 'y_units',\n",
       " 'x_rescale',\n",
       " 'y_rescale',\n",
       " 'default_color',\n",
       " 'default_style',\n",
       " 'data_label',\n",
       " 'file_name',\n",
       " 'data_comment',\n",
       " 'data_reference',\n",
       " 'created_at',\n",
       " 'updated_at',\n",
       " 'creator_id',\n",
       " 'experiment',\n",
       " 'rating',\n",
       " 'date_of_announcement',\n",
       " 'public',\n",
       " 'official',\n",
       " 'date_official',\n",
       " 'greatest_hit',\n",
       " 'date_of_run_start',\n",
       " 'date_of_run_end',\n",
       " 'year']"
      ]
     },
     "execution_count": 34,
     "metadata": {},
     "output_type": "execute_result"
    }
   ],
   "source": [
    "value_var_list = list(limits_metadata_df.columns)\n",
    "value_var_list.remove('limit_id')\n",
    "value_var_list"
   ]
  },
  {
   "cell_type": "code",
   "execution_count": 35,
   "id": "9702944b",
   "metadata": {},
   "outputs": [],
   "source": [
    "meta_valuepair = pd.melt(limits_metadata_df, id_vars=['limit_id'], value_vars=value_var_list)"
   ]
  },
  {
   "cell_type": "code",
   "execution_count": 36,
   "id": "7f17f2f7",
   "metadata": {},
   "outputs": [
    {
     "data": {
      "text/html": [
       "<div>\n",
       "<style scoped>\n",
       "    .dataframe tbody tr th:only-of-type {\n",
       "        vertical-align: middle;\n",
       "    }\n",
       "\n",
       "    .dataframe tbody tr th {\n",
       "        vertical-align: top;\n",
       "    }\n",
       "\n",
       "    .dataframe thead th {\n",
       "        text-align: right;\n",
       "    }\n",
       "</style>\n",
       "<table border=\"1\" class=\"dataframe\">\n",
       "  <thead>\n",
       "    <tr style=\"text-align: right;\">\n",
       "      <th></th>\n",
       "      <th>limit_id</th>\n",
       "      <th>variable</th>\n",
       "      <th>value</th>\n",
       "    </tr>\n",
       "  </thead>\n",
       "  <tbody>\n",
       "    <tr>\n",
       "      <th>0</th>\n",
       "      <td>14</td>\n",
       "      <td>spin_dependency</td>\n",
       "      <td>SI</td>\n",
       "    </tr>\n",
       "    <tr>\n",
       "      <th>1</th>\n",
       "      <td>14</td>\n",
       "      <td>result_type</td>\n",
       "      <td>Th</td>\n",
       "    </tr>\n",
       "    <tr>\n",
       "      <th>2</th>\n",
       "      <td>14</td>\n",
       "      <td>measurement_type</td>\n",
       "      <td>NaN</td>\n",
       "    </tr>\n",
       "    <tr>\n",
       "      <th>3</th>\n",
       "      <td>14</td>\n",
       "      <td>nomhash</td>\n",
       "      <td>NaN</td>\n",
       "    </tr>\n",
       "    <tr>\n",
       "      <th>4</th>\n",
       "      <td>14</td>\n",
       "      <td>x_units</td>\n",
       "      <td>GeV</td>\n",
       "    </tr>\n",
       "    <tr>\n",
       "      <th>5</th>\n",
       "      <td>14</td>\n",
       "      <td>y_units</td>\n",
       "      <td>cm^2</td>\n",
       "    </tr>\n",
       "    <tr>\n",
       "      <th>6</th>\n",
       "      <td>14</td>\n",
       "      <td>x_rescale</td>\n",
       "      <td>1</td>\n",
       "    </tr>\n",
       "    <tr>\n",
       "      <th>7</th>\n",
       "      <td>14</td>\n",
       "      <td>y_rescale</td>\n",
       "      <td>1</td>\n",
       "    </tr>\n",
       "    <tr>\n",
       "      <th>8</th>\n",
       "      <td>14</td>\n",
       "      <td>default_color</td>\n",
       "      <td>black</td>\n",
       "    </tr>\n",
       "    <tr>\n",
       "      <th>9</th>\n",
       "      <td>14</td>\n",
       "      <td>default_style</td>\n",
       "      <td>solid</td>\n",
       "    </tr>\n",
       "    <tr>\n",
       "      <th>10</th>\n",
       "      <td>14</td>\n",
       "      <td>data_label</td>\n",
       "      <td>l</td>\n",
       "    </tr>\n",
       "    <tr>\n",
       "      <th>11</th>\n",
       "      <td>14</td>\n",
       "      <td>file_name</td>\n",
       "      <td>NaN</td>\n",
       "    </tr>\n",
       "    <tr>\n",
       "      <th>12</th>\n",
       "      <td>14</td>\n",
       "      <td>data_comment</td>\n",
       "      <td>Experiment L</td>\n",
       "    </tr>\n",
       "    <tr>\n",
       "      <th>13</th>\n",
       "      <td>14</td>\n",
       "      <td>data_reference</td>\n",
       "      <td>l</td>\n",
       "    </tr>\n",
       "    <tr>\n",
       "      <th>14</th>\n",
       "      <td>14</td>\n",
       "      <td>created_at</td>\n",
       "      <td>NaN</td>\n",
       "    </tr>\n",
       "    <tr>\n",
       "      <th>15</th>\n",
       "      <td>14</td>\n",
       "      <td>updated_at</td>\n",
       "      <td>NaN</td>\n",
       "    </tr>\n",
       "    <tr>\n",
       "      <th>16</th>\n",
       "      <td>14</td>\n",
       "      <td>creator_id</td>\n",
       "      <td>NaN</td>\n",
       "    </tr>\n",
       "    <tr>\n",
       "      <th>17</th>\n",
       "      <td>14</td>\n",
       "      <td>experiment</td>\n",
       "      <td>Experiment L</td>\n",
       "    </tr>\n",
       "    <tr>\n",
       "      <th>18</th>\n",
       "      <td>14</td>\n",
       "      <td>rating</td>\n",
       "      <td>NaN</td>\n",
       "    </tr>\n",
       "    <tr>\n",
       "      <th>19</th>\n",
       "      <td>14</td>\n",
       "      <td>date_of_announcement</td>\n",
       "      <td>NaN</td>\n",
       "    </tr>\n",
       "    <tr>\n",
       "      <th>20</th>\n",
       "      <td>14</td>\n",
       "      <td>public</td>\n",
       "      <td>1</td>\n",
       "    </tr>\n",
       "    <tr>\n",
       "      <th>21</th>\n",
       "      <td>14</td>\n",
       "      <td>official</td>\n",
       "      <td>1</td>\n",
       "    </tr>\n",
       "    <tr>\n",
       "      <th>22</th>\n",
       "      <td>14</td>\n",
       "      <td>date_official</td>\n",
       "      <td>NaN</td>\n",
       "    </tr>\n",
       "    <tr>\n",
       "      <th>23</th>\n",
       "      <td>14</td>\n",
       "      <td>greatest_hit</td>\n",
       "      <td>1</td>\n",
       "    </tr>\n",
       "    <tr>\n",
       "      <th>24</th>\n",
       "      <td>14</td>\n",
       "      <td>date_of_run_start</td>\n",
       "      <td>NaN</td>\n",
       "    </tr>\n",
       "    <tr>\n",
       "      <th>25</th>\n",
       "      <td>14</td>\n",
       "      <td>date_of_run_end</td>\n",
       "      <td>NaN</td>\n",
       "    </tr>\n",
       "    <tr>\n",
       "      <th>26</th>\n",
       "      <td>14</td>\n",
       "      <td>year</td>\n",
       "      <td>2023</td>\n",
       "    </tr>\n",
       "  </tbody>\n",
       "</table>\n",
       "</div>"
      ],
      "text/plain": [
       "   limit_id              variable         value\n",
       "0        14       spin_dependency            SI\n",
       "1        14           result_type            Th\n",
       "2        14      measurement_type           NaN\n",
       "3        14               nomhash           NaN\n",
       "4        14               x_units           GeV\n",
       "5        14               y_units          cm^2\n",
       "6        14             x_rescale             1\n",
       "7        14             y_rescale             1\n",
       "8        14         default_color         black\n",
       "9        14         default_style         solid\n",
       "10       14            data_label             l\n",
       "11       14             file_name           NaN\n",
       "12       14          data_comment  Experiment L\n",
       "13       14        data_reference             l\n",
       "14       14            created_at           NaN\n",
       "15       14            updated_at           NaN\n",
       "16       14            creator_id           NaN\n",
       "17       14            experiment  Experiment L\n",
       "18       14                rating           NaN\n",
       "19       14  date_of_announcement           NaN\n",
       "20       14                public             1\n",
       "21       14              official             1\n",
       "22       14         date_official           NaN\n",
       "23       14          greatest_hit             1\n",
       "24       14     date_of_run_start           NaN\n",
       "25       14       date_of_run_end           NaN\n",
       "26       14                  year          2023"
      ]
     },
     "execution_count": 36,
     "metadata": {},
     "output_type": "execute_result"
    }
   ],
   "source": [
    "meta_valuepair"
   ]
  },
  {
   "cell_type": "code",
   "execution_count": 37,
   "id": "110d7c0b",
   "metadata": {},
   "outputs": [
    {
     "data": {
      "text/plain": [
       "{'spin_dependency': 'SI', 'year': '2023'}"
      ]
     },
     "execution_count": 37,
     "metadata": {},
     "output_type": "execute_result"
    }
   ],
   "source": [
    "thisdict ={\n",
    "    \"spin_dependency\": \"SI\",\n",
    "    \"year\": \"2023\",\n",
    "}\n",
    "thisdict"
   ]
  },
  {
   "cell_type": "raw",
   "id": "1e66714a",
   "metadata": {},
   "source": [
    "D_coords = [[25,0],[35,0],[65,5],[90,25],[100,50],[90,75],\n",
    "            [65,95],[35,100],\n",
    "            [60,85],[75,65],[80,50],\n",
    "            [75,35],[60,15],[35,0],[35,100],[25,100],[25,0]]\n",
    "\n",
    "df = pd.DataFrame(data=D_coords,columns=['x','y'])"
   ]
  },
  {
   "cell_type": "code",
   "execution_count": 38,
   "id": "b0509837",
   "metadata": {},
   "outputs": [
    {
     "name": "stdout",
     "output_type": "stream",
     "text": [
      "spin_dependency -> SI\n",
      "[14]\n",
      "year -> 2023\n",
      "[14]\n"
     ]
    }
   ],
   "source": [
    "def GetLimits(meta_valuepair_in, thisdict_in):\n",
    "    meta_valuepair_working = meta_valuepair_in.copy()\n",
    "    for key in thisdict_in:\n",
    "        print(key, '->', thisdict_in[key])\n",
    "        limits_found = \\\n",
    "                    meta_valuepair_working['limit_id']\\\n",
    "                    [(meta_valuepair_working['value']==thisdict_in[key]) & \\\n",
    "                      (meta_valuepair_working['variable']==key)]\n",
    "        print(list(limits_found))\n",
    "        limits_found_list = list(limits_found)\n",
    "        df_filter = meta_valuepair_working[\"limit_id\"].isin(limits_found_list)\n",
    "        #print(df_filter)\n",
    "        meta_valuepair_working = meta_valuepair_working[df_filter]\n",
    "        #print(meta_valuepair_working)\n",
    "GetLimits(meta_valuepair,thisdict)   "
   ]
  },
  {
   "cell_type": "raw",
   "id": "197320ae",
   "metadata": {},
   "source": [
    "MDATA = StringIO(\"\"\"x,y\n",
    "80,75\n",
    "80,0\n",
    "90,0\n",
    "90,100\n",
    "80,75\n",
    "55,10\n",
    "50,0\n",
    "20,65\n",
    "20,0\n",
    "10,0\n",
    "10,100\n",
    "55,10\"\"\")\n",
    "df = pd.read_csv(MDATA, sep=\",\")"
   ]
  },
  {
   "cell_type": "raw",
   "id": "d020171a",
   "metadata": {},
   "source": [
    "MDATA = StringIO(\"\"\"x,y\n",
    "80,75\n",
    "90,100\n",
    "90,0\n",
    "80,0\n",
    "80,75\n",
    "55,15\n",
    "50,0\n",
    "20,75\n",
    "20,0\n",
    "10,0\n",
    "10,100\n",
    "20,100\n",
    "55,15\n",
    "\"\"\")\n",
    "df = pd.read_csv(MDATA, sep=\",\")"
   ]
  },
  {
   "cell_type": "raw",
   "id": "f00f735f",
   "metadata": {},
   "source": [
    "df"
   ]
  },
  {
   "cell_type": "raw",
   "id": "cd83ca07",
   "metadata": {},
   "source": [
    "# Create figure\n",
    "fig = go.Figure()\n",
    "\n",
    "fig.update_layout(\n",
    "    autosize=False,\n",
    "    width=500,\n",
    "    height=500,\n",
    "    margin=dict(\n",
    "        l=0,\n",
    "        r=0,\n",
    "        b=0,\n",
    "        t=0,\n",
    "        pad=0\n",
    "    ),\n",
    "    paper_bgcolor=\"LightSteelBlue\",\n",
    ")\n",
    "\n",
    "plot_df = dmt.dmtdf\n",
    "\n",
    "fig.update_layout(yaxis_range=[0,100])\n",
    "fig.update_layout(xaxis_range=[0,600])\n",
    "\n",
    "trace_letters = ['d','m','t','o1','o2','l']\n",
    "# Loop df columns and plot columns to the figure\n",
    "for i in trace_letters:\n",
    "#    col_name = 'S'+ str(i)\n",
    "    trace_df = plot_df[plot_df['letter']==i]\n",
    "    fig.add_trace(go.Scatter(x=trace_df['x'], y=trace_df['y'],name=i,\n",
    "                        mode='lines', # 'lines' or 'markers',\n",
    "                         fill=\"toself\"\n",
    "                        ))\n",
    "            \n",
    "fig.show()"
   ]
  },
  {
   "cell_type": "raw",
   "id": "02bb0cbe",
   "metadata": {},
   "source": [
    "import sys\n",
    "from io import StringIO\n",
    "\n",
    "TESTDATA = StringIO(\"\"\"col1;col2;col3\n",
    "    1;4.4;99\n",
    "    2;4.5;200\n",
    "    3;4.7;65\n",
    "    4;3.2;140\n",
    "    \"\"\")\n",
    "\n",
    "df = pd.read_csv(TESTDATA, sep=\";\")"
   ]
  },
  {
   "cell_type": "code",
   "execution_count": null,
   "id": "bd8f9794",
   "metadata": {},
   "outputs": [],
   "source": []
  }
 ],
 "metadata": {
  "kernelspec": {
   "display_name": "Python 3",
   "language": "python",
   "name": "python3"
  },
  "language_info": {
   "codemirror_mode": {
    "name": "ipython",
    "version": 3
   },
   "file_extension": ".py",
   "mimetype": "text/x-python",
   "name": "python",
   "nbconvert_exporter": "python",
   "pygments_lexer": "ipython3",
   "version": "3.8.10"
  }
 },
 "nbformat": 4,
 "nbformat_minor": 5
}

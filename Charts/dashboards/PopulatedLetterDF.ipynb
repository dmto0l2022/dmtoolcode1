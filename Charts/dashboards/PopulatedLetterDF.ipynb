{
 "cells": [
  {
   "cell_type": "code",
   "execution_count": 1,
   "id": "ec5dff18",
   "metadata": {},
   "outputs": [],
   "source": [
    "import plotly.graph_objects as go\n",
    "import pandas as pd\n",
    "import sys\n",
    "from io import StringIO"
   ]
  },
  {
   "cell_type": "code",
   "execution_count": 2,
   "id": "e486e82f",
   "metadata": {},
   "outputs": [],
   "source": [
    "from sqlalchemy import create_engine\n",
    "import pandas as pd\n",
    "from dash import dash_table\n",
    "\n",
    "import os\n",
    "from os import environ, path\n",
    "\n",
    "from dotenv import load_dotenv\n",
    "\n",
    "load_dotenv(\".env\")\n",
    "\n",
    "import mariadb\n",
    "\n",
    "MARIADB_USERNAME = environ.get(\"MARIADB_USERNAME\")\n",
    "MARIADB_PASSWORD = environ.get(\"MARIADB_PASSWORD\")\n",
    "#MARIADB_DATABASE = environ.get(\"MARIADB_DATABASE\")\n",
    "MARIADB_DATABASE = \"data\"\n",
    "MARIADB_CONTAINER = environ.get(\"MARIADB_CONTAINER\")\n",
    "\n",
    "MARIADB_URI = \"mariadb+mariadbconnector://\" + MARIADB_USERNAME + \":\" + \\\n",
    "                    MARIADB_PASSWORD + \"@\" + MARIADB_CONTAINER + \":3306/\"\\\n",
    "                    + MARIADB_DATABASE\n",
    "\n",
    "#import psycopg2\n",
    "engine = create_engine(MARIADB_URI)"
   ]
  },
  {
   "cell_type": "code",
   "execution_count": 3,
   "id": "ec59747e",
   "metadata": {},
   "outputs": [],
   "source": [
    "df = pd.DataFrame({'name' : ['User 1', 'User 2', 'User 3']})"
   ]
  },
  {
   "cell_type": "code",
   "execution_count": 4,
   "id": "798237aa",
   "metadata": {},
   "outputs": [],
   "source": [
    "df.to_sql('users', con=engine, if_exists='append')"
   ]
  },
  {
   "cell_type": "code",
   "execution_count": 5,
   "id": "bc478786",
   "metadata": {},
   "outputs": [],
   "source": [
    "with engine.begin() as connection:\n",
    "    df1 = pd.DataFrame({'name' : ['User 4', 'User 5']})\n",
    "    df1.to_sql('users', con=connection, if_exists='append')"
   ]
  },
  {
   "cell_type": "code",
   "execution_count": 6,
   "id": "46b8bc54",
   "metadata": {},
   "outputs": [],
   "source": [
    "import letterxy as lxy"
   ]
  },
  {
   "cell_type": "code",
   "execution_count": 7,
   "id": "96e914d5",
   "metadata": {},
   "outputs": [],
   "source": [
    "dmt = lxy.DMTool()"
   ]
  },
  {
   "cell_type": "raw",
   "id": "7cedf7d7",
   "metadata": {},
   "source": [
    "with engine.begin() as connection:\n",
    "    dmt = lxy.DMTool()\n",
    "    dmdf = dmt.dmtdf\n",
    "    #dmdf.index.names = ['limit_id']\n",
    "    dmdf.to_sql('limits_data', con=connection, if_exists='append', index=False)"
   ]
  },
  {
   "cell_type": "raw",
   "id": "f2e9bede",
   "metadata": {},
   "source": [
    "df_data = [1,'', 'Personal', '', '', 'GeV', 'cm^2', '1', '1', 'Black', 'Line',\n",
    "           '', '', '', '', '', '', '', '', 0, '', 0, 0, '', 0, '', '', '']"
   ]
  },
  {
   "cell_type": "code",
   "execution_count": 8,
   "id": "cec87526",
   "metadata": {},
   "outputs": [],
   "source": [
    "limits_metadata_empty = pd.DataFrame(data=[],\n",
    "                                  columns= ['limit_id',\n",
    "                                            'spin_dependency',\n",
    "                                            'result_type',\n",
    "                                            'measurement_type',\n",
    "                                            'nomhash',\n",
    "                                            'x_units',\n",
    "                                            'y_units',\n",
    "                                            'x_rescale',\n",
    "                                            'y_rescale',\n",
    "                                            'default_color',\n",
    "                                            'default_style',\n",
    "                                            'data_label',\n",
    "                                            'file_name',\n",
    "                                            'data_comment',\n",
    "                                            'data_reference',\n",
    "                                            'created_at',\n",
    "                                            'updated_at',\n",
    "                                            'creator_id',\n",
    "                                            'experiment',\n",
    "                                            'rating',\n",
    "                                            'date_of_announcement',\n",
    "                                            'public', \n",
    "                                            'official',\n",
    "                                            'date_official',\n",
    "                                            'greatest_hit',\n",
    "                                            'date_of_run_start', \n",
    "                                            'date_of_run_end',\n",
    "                                            'year'])\n",
    "                                            \n"
   ]
  },
  {
   "cell_type": "code",
   "execution_count": 9,
   "id": "8ba23a42",
   "metadata": {},
   "outputs": [],
   "source": [
    "limits_metadata_df = limits_metadata_empty.copy()"
   ]
  },
  {
   "cell_type": "code",
   "execution_count": 10,
   "id": "5f986243",
   "metadata": {},
   "outputs": [
    {
     "data": {
      "text/plain": [
       "<sqlalchemy.engine.cursor.LegacyCursorResult at 0x7fa58c9b0ee0>"
      ]
     },
     "execution_count": 10,
     "metadata": {},
     "output_type": "execute_result"
    }
   ],
   "source": [
    "# insert updated records from 'records_updated' to 'records'\n",
    "engine.execute(\"delete from data.limits_data;\")\n",
    "engine.execute(\"delete from data.limits_metadata;\")"
   ]
  },
  {
   "cell_type": "markdown",
   "id": "9e01bc86",
   "metadata": {},
   "source": [
    "# Experiment dmtool"
   ]
  },
  {
   "cell_type": "code",
   "execution_count": 11,
   "id": "8c641980",
   "metadata": {},
   "outputs": [],
   "source": [
    "dmt.MakeDMTool(1000,1)\n",
    "dmdf = dmt.dmtdf\n",
    "dmdf.head(5)\n",
    "#limits_metadata_df\n",
    "index_id = 1\n",
    "limits_metadata_df.loc[index_id,'limit_id'] = 1000\n",
    "limits_metadata_df.loc[index_id,'x_rescale'] = 1\n",
    "limits_metadata_df.loc[index_id,'y_rescale'] = 1\n",
    "limits_metadata_df.loc[index_id,'x_units'] = 'GeV'\n",
    "limits_metadata_df.loc[index_id,'y_units'] =  'cm^2'\n",
    "limits_metadata_df.loc[index_id,'spin_dependency'] = 'SD' # SI\n",
    "limits_metadata_df.loc[index_id,'official'] = 1\n",
    "limits_metadata_df.loc[index_id,'experiment'] = \"Experiment Dmtool\"\n",
    "limits_metadata_df.loc[index_id,'result_type'] = \"Th\" ## Proj, Exp\n",
    "limits_metadata_df.loc[index_id,'year'] = \"2020\" ## Proj, Exp\n",
    "limits_metadata_df.loc[index_id,'greatest_hit'] = 0 ## 1\n",
    "limits_metadata_df.loc[index_id,'public'] = 1 ## 0\n",
    "limits_metadata_df.loc[index_id,'default_color'] = 'black' ## 0\n",
    "limits_metadata_df.loc[index_id,'default_style'] = 'dotted' ## 0\n",
    "limits_metadata_df.loc[index_id,'data_comment'] = 'Experiment Dmtool' ## 0\n",
    "limits_metadata_df.loc[index_id,'data_reference'] = 'dmtool' ## 0\n",
    "with engine.begin() as connection:\n",
    "    #dmdf.index.names = ['limit_id']\n",
    "    dmdf.to_sql('limits_data', con=connection, if_exists='append', index=False)\n",
    "    limits_metadata_df.to_sql('limits_metadata', con=connection, if_exists='append', index=False)\n",
    "limits_metadata_df = limits_metadata_empty.copy()"
   ]
  },
  {
   "cell_type": "markdown",
   "id": "8f3edf40",
   "metadata": {},
   "source": [
    "# Experiment D"
   ]
  },
  {
   "cell_type": "code",
   "execution_count": 12,
   "id": "0dcf29c9",
   "metadata": {},
   "outputs": [],
   "source": [
    "dmdf = dmt.ddf\n",
    "dmdf['limit_id'] = 10\n",
    "dmdf['trace_id'] = 1\n",
    "dmdf['trace_name'] = 'd'\n",
    "#limits_metadata_df\n",
    "index_id = 2\n",
    "limits_metadata_df.loc[index_id,'limit_id'] = 10\n",
    "limits_metadata_df.loc[index_id,'x_rescale'] = 1\n",
    "limits_metadata_df.loc[index_id,'y_rescale'] = 1\n",
    "limits_metadata_df.loc[index_id,'x_units'] = 'GeV'\n",
    "limits_metadata_df.loc[index_id,'y_units'] =  'cm^2'\n",
    "limits_metadata_df.loc[index_id,'spin_dependency'] = 'SD' # SI\n",
    "limits_metadata_df.loc[index_id,'official'] = 1\n",
    "limits_metadata_df.loc[index_id,'experiment'] = \"Experiment D\"\n",
    "limits_metadata_df.loc[index_id,'result_type'] = \"Th\" ## Proj, Exp\n",
    "limits_metadata_df.loc[index_id,'year'] = \"2020\" ## Proj, Exp\n",
    "limits_metadata_df.loc[index_id,'greatest_hit'] = 0 ## 1\n",
    "limits_metadata_df.loc[index_id,'public'] = 1 ## 0\n",
    "limits_metadata_df.loc[index_id,'default_color'] = 'black' ## 0\n",
    "limits_metadata_df.loc[index_id,'default_style'] = 'dotted' ## 0\n",
    "limits_metadata_df.loc[index_id,'data_comment'] = 'Experiment D' ## 0\n",
    "limits_metadata_df.loc[index_id,'data_reference'] = 'd' ## 0\n",
    "#limits_metadata_df\n",
    "with engine.begin() as connection:\n",
    "    #dmdf.index.names = ['limit_id']\n",
    "    dmdf.to_sql('limits_data', con=connection, if_exists='append', index=False)\n",
    "    limits_metadata_df.to_sql('limits_metadata', con=connection, if_exists='append', index=False)\n",
    "limits_metadata_df = limits_metadata_empty.copy()"
   ]
  },
  {
   "cell_type": "markdown",
   "id": "378eed74",
   "metadata": {},
   "source": [
    "# Experiment M"
   ]
  },
  {
   "cell_type": "code",
   "execution_count": 13,
   "id": "aa7931f5",
   "metadata": {},
   "outputs": [],
   "source": [
    "dmdf = dmt.mdf\n",
    "dmdf['limit_id'] = 11\n",
    "dmdf['trace_id'] = 1\n",
    "dmdf['trace_name'] = 'm'\n",
    "#limits_metadata_df\n",
    "index_id = 3\n",
    "limits_metadata_df.loc[index_id,'limit_id'] = 11\n",
    "limits_metadata_df.loc[index_id,'x_rescale'] = 1\n",
    "limits_metadata_df.loc[index_id,'y_rescale'] = 1\n",
    "limits_metadata_df.loc[index_id,'x_units'] = 'GeV'\n",
    "limits_metadata_df.loc[index_id,'y_units'] =  'cm^2'\n",
    "limits_metadata_df.loc[index_id,'spin_dependency'] = 'SD' # SI\n",
    "limits_metadata_df.loc[index_id,'official'] = 1\n",
    "limits_metadata_df.loc[index_id,'experiment'] = \"Experiment M\"\n",
    "limits_metadata_df.loc[index_id,'result_type'] = \"Th\" ## Proj, Exp\n",
    "limits_metadata_df.loc[index_id,'year'] = \"2021\" ## Proj, Exp\n",
    "limits_metadata_df.loc[index_id,'greatest_hit'] = 1 ## 0, 1\n",
    "limits_metadata_df.loc[index_id,'public'] = 1 ## 0\n",
    "limits_metadata_df.loc[index_id,'default_color'] = 'black' ## 0\n",
    "limits_metadata_df.loc[index_id,'default_style'] = 'solid' ## 0\n",
    "limits_metadata_df.loc[index_id,'data_comment'] = 'Experiment M' ## 0\n",
    "limits_metadata_df.loc[index_id,'data_reference'] = 'm' ## 0\n",
    "#limits_metadata_df\n",
    "with engine.begin() as connection:\n",
    "    #dmdf.index.names = ['limit_id']\n",
    "    dmdf.to_sql('limits_data', con=connection, if_exists='append', index=False)\n",
    "    limits_metadata_df.to_sql('limits_metadata', con=connection, if_exists='append', index=False)\n",
    "limits_metadata_df = limits_metadata_empty.copy()"
   ]
  },
  {
   "cell_type": "markdown",
   "id": "c7fc9338",
   "metadata": {},
   "source": [
    "# Experiment T"
   ]
  },
  {
   "cell_type": "code",
   "execution_count": 14,
   "id": "aa6da452",
   "metadata": {},
   "outputs": [],
   "source": [
    "dmdf = dmt.tdf\n",
    "dmdf['limit_id'] = 12\n",
    "dmdf['trace_id'] = 1\n",
    "dmdf['trace_name'] = 't'\n",
    "#limits_metadata_df\n",
    "index_id = 3\n",
    "limits_metadata_df.loc[index_id,'limit_id'] = 12\n",
    "limits_metadata_df.loc[index_id,'x_rescale'] = 1\n",
    "limits_metadata_df.loc[index_id,'y_rescale'] = 1\n",
    "limits_metadata_df.loc[index_id,'x_units'] = 'GeV'\n",
    "limits_metadata_df.loc[index_id,'y_units'] =  'cm^2'\n",
    "limits_metadata_df.loc[index_id,'spin_dependency'] = 'SI' # SD, SI\n",
    "limits_metadata_df.loc[index_id,'official'] = 1\n",
    "limits_metadata_df.loc[index_id,'experiment'] = \"Experiment T\"\n",
    "limits_metadata_df.loc[index_id,'result_type'] = \"Th\" ## Proj, Exp\n",
    "limits_metadata_df.loc[index_id,'year'] = \"2022\" ## Proj, Exp\n",
    "limits_metadata_df.loc[index_id,'greatest_hit'] = 1 ## 0, 1\n",
    "limits_metadata_df.loc[index_id,'public'] = 1 ## 0\n",
    "limits_metadata_df.loc[index_id,'default_color'] = 'black' ## 0\n",
    "limits_metadata_df.loc[index_id,'default_style'] = 'solid' ## 0\n",
    "limits_metadata_df.loc[index_id,'data_comment'] = 'Experiment T' ## 0\n",
    "limits_metadata_df.loc[index_id,'data_reference'] = 't' ## 0\n",
    "#limits_metadata_df\n",
    "with engine.begin() as connection:\n",
    "    #dmdf.index.names = ['limit_id']\n",
    "    dmdf.to_sql('limits_data', con=connection, if_exists='append', index=False)\n",
    "    limits_metadata_df.to_sql('limits_metadata', con=connection, if_exists='append', index=False)\n",
    "limits_metadata_df = limits_metadata_empty.copy()"
   ]
  },
  {
   "cell_type": "markdown",
   "id": "60e9e99d",
   "metadata": {},
   "source": [
    "# Experiment O"
   ]
  },
  {
   "cell_type": "code",
   "execution_count": 15,
   "id": "80f4c621",
   "metadata": {},
   "outputs": [],
   "source": [
    "dmdf = dmt.odf\n",
    "dmdf['limit_id'] = 13\n",
    "dmdf['trace_id'] = 1\n",
    "dmdf['trace_name'] = 'o'\n",
    "#limits_metadata_df\n",
    "index_id = 3\n",
    "limits_metadata_df.loc[index_id,'limit_id'] = 13\n",
    "limits_metadata_df.loc[index_id,'x_rescale'] = 1\n",
    "limits_metadata_df.loc[index_id,'y_rescale'] = 1\n",
    "limits_metadata_df.loc[index_id,'x_units'] = 'GeV'\n",
    "limits_metadata_df.loc[index_id,'y_units'] =  'cm^2'\n",
    "limits_metadata_df.loc[index_id,'spin_dependency'] = 'SI' # SD, SI\n",
    "limits_metadata_df.loc[index_id,'official'] = 1\n",
    "limits_metadata_df.loc[index_id,'experiment'] = \"Experiment O\"\n",
    "limits_metadata_df.loc[index_id,'result_type'] = \"Th\" ## Proj, Exp\n",
    "limits_metadata_df.loc[index_id,'year'] = \"2022\" ## Proj, Exp\n",
    "limits_metadata_df.loc[index_id,'greatest_hit'] = 1 ## 0, 1\n",
    "limits_metadata_df.loc[index_id,'public'] = 1 ## 0\n",
    "limits_metadata_df.loc[index_id,'default_color'] = 'black' ## 0\n",
    "limits_metadata_df.loc[index_id,'default_style'] = 'solid' ## 0\n",
    "limits_metadata_df.loc[index_id,'data_comment'] = 'Experiment O' ## 0\n",
    "limits_metadata_df.loc[index_id,'data_reference'] = 'o' ## 0\n",
    "#limits_metadata_df\n",
    "with engine.begin() as connection:\n",
    "    #dmdf.index.names = ['limit_id']\n",
    "    dmdf.to_sql('limits_data', con=connection, if_exists='append', index=False)\n",
    "    limits_metadata_df.to_sql('limits_metadata', con=connection, if_exists='append', index=False)\n",
    "limits_metadata_df = limits_metadata_empty.copy()"
   ]
  },
  {
   "cell_type": "markdown",
   "id": "eb325dfb",
   "metadata": {},
   "source": [
    "# Experiment L"
   ]
  },
  {
   "cell_type": "code",
   "execution_count": 16,
   "id": "b53a11aa",
   "metadata": {},
   "outputs": [],
   "source": [
    "dmdf = dmt.ldf\n",
    "dmdf['limit_id'] = 14\n",
    "dmdf['trace_id'] = 1\n",
    "dmdf['trace_name'] = 'l'\n",
    "#limits_metadata_df\n",
    "index_id = 3\n",
    "limits_metadata_df.loc[index_id,'limit_id'] = 14\n",
    "limits_metadata_df.loc[index_id,'x_rescale'] = 1\n",
    "limits_metadata_df.loc[index_id,'y_rescale'] = 1\n",
    "limits_metadata_df.loc[index_id,'x_units'] = 'GeV'\n",
    "limits_metadata_df.loc[index_id,'y_units'] =  'cm^2'\n",
    "limits_metadata_df.loc[index_id,'spin_dependency'] = 'SI' # SD, SI\n",
    "limits_metadata_df.loc[index_id,'official'] = 1\n",
    "limits_metadata_df.loc[index_id,'experiment'] = \"Experiment L\"\n",
    "limits_metadata_df.loc[index_id,'result_type'] = \"Th\" ## Proj, Exp\n",
    "limits_metadata_df.loc[index_id,'year'] = \"2023\" ## Proj, Exp\n",
    "limits_metadata_df.loc[index_id,'greatest_hit'] = 1 ## 0, 1\n",
    "limits_metadata_df.loc[index_id,'public'] = 1 ## 0\n",
    "limits_metadata_df.loc[index_id,'default_color'] = 'black' ## 0\n",
    "limits_metadata_df.loc[index_id,'default_style'] = 'solid' ## 0\n",
    "limits_metadata_df.loc[index_id,'data_comment'] = 'Experiment L' ## 0\n",
    "limits_metadata_df.loc[index_id,'data_reference'] = 'o' ## 0\n",
    "#limits_metadata_df\n",
    "with engine.begin() as connection:\n",
    "    #dmdf.index.names = ['limit_id']\n",
    "    dmdf.to_sql('limits_data', con=connection, if_exists='append', index=False)\n",
    "    limits_metadata_df.to_sql('limits_metadata', con=connection, if_exists='append', index=False)\n",
    "limits_metadata_df = limits_metadata_empty.copy()"
   ]
  },
  {
   "cell_type": "code",
   "execution_count": 17,
   "id": "493b44aa",
   "metadata": {},
   "outputs": [],
   "source": [
    "fig = go.Figure(go.Scatter(x=[0,1,2,0,None,3,3,5,5,3], y=[0,2,0,0,None,0.5,1.5,1.5,0.5,0.5], fill=\"toself\"))\n",
    "#fig.show()"
   ]
  },
  {
   "cell_type": "code",
   "execution_count": null,
   "id": "4624f4f2",
   "metadata": {},
   "outputs": [],
   "source": []
  },
  {
   "cell_type": "code",
   "execution_count": null,
   "id": "927c5619",
   "metadata": {},
   "outputs": [],
   "source": []
  },
  {
   "cell_type": "code",
   "execution_count": null,
   "id": "9702944b",
   "metadata": {},
   "outputs": [],
   "source": []
  },
  {
   "cell_type": "code",
   "execution_count": null,
   "id": "7f17f2f7",
   "metadata": {},
   "outputs": [],
   "source": []
  },
  {
   "cell_type": "raw",
   "id": "1e66714a",
   "metadata": {},
   "source": [
    "D_coords = [[25,0],[35,0],[65,5],[90,25],[100,50],[90,75],\n",
    "            [65,95],[35,100],\n",
    "            [60,85],[75,65],[80,50],\n",
    "            [75,35],[60,15],[35,0],[35,100],[25,100],[25,0]]\n",
    "\n",
    "df = pd.DataFrame(data=D_coords,columns=['x','y'])"
   ]
  },
  {
   "cell_type": "raw",
   "id": "197320ae",
   "metadata": {},
   "source": [
    "MDATA = StringIO(\"\"\"x,y\n",
    "80,75\n",
    "80,0\n",
    "90,0\n",
    "90,100\n",
    "80,75\n",
    "55,10\n",
    "50,0\n",
    "20,65\n",
    "20,0\n",
    "10,0\n",
    "10,100\n",
    "55,10\"\"\")\n",
    "df = pd.read_csv(MDATA, sep=\",\")"
   ]
  },
  {
   "cell_type": "raw",
   "id": "d020171a",
   "metadata": {},
   "source": [
    "MDATA = StringIO(\"\"\"x,y\n",
    "80,75\n",
    "90,100\n",
    "90,0\n",
    "80,0\n",
    "80,75\n",
    "55,15\n",
    "50,0\n",
    "20,75\n",
    "20,0\n",
    "10,0\n",
    "10,100\n",
    "20,100\n",
    "55,15\n",
    "\"\"\")\n",
    "df = pd.read_csv(MDATA, sep=\",\")"
   ]
  },
  {
   "cell_type": "raw",
   "id": "f00f735f",
   "metadata": {},
   "source": [
    "df"
   ]
  },
  {
   "cell_type": "raw",
   "id": "cd83ca07",
   "metadata": {},
   "source": [
    "# Create figure\n",
    "fig = go.Figure()\n",
    "\n",
    "fig.update_layout(\n",
    "    autosize=False,\n",
    "    width=500,\n",
    "    height=500,\n",
    "    margin=dict(\n",
    "        l=0,\n",
    "        r=0,\n",
    "        b=0,\n",
    "        t=0,\n",
    "        pad=0\n",
    "    ),\n",
    "    paper_bgcolor=\"LightSteelBlue\",\n",
    ")\n",
    "\n",
    "plot_df = dmt.dmtdf\n",
    "\n",
    "fig.update_layout(yaxis_range=[0,100])\n",
    "fig.update_layout(xaxis_range=[0,600])\n",
    "\n",
    "trace_letters = ['d','m','t','o1','o2','l']\n",
    "# Loop df columns and plot columns to the figure\n",
    "for i in trace_letters:\n",
    "#    col_name = 'S'+ str(i)\n",
    "    trace_df = plot_df[plot_df['letter']==i]\n",
    "    fig.add_trace(go.Scatter(x=trace_df['x'], y=trace_df['y'],name=i,\n",
    "                        mode='lines', # 'lines' or 'markers',\n",
    "                         fill=\"toself\"\n",
    "                        ))\n",
    "            \n",
    "fig.show()"
   ]
  },
  {
   "cell_type": "raw",
   "id": "02bb0cbe",
   "metadata": {},
   "source": [
    "import sys\n",
    "from io import StringIO\n",
    "\n",
    "TESTDATA = StringIO(\"\"\"col1;col2;col3\n",
    "    1;4.4;99\n",
    "    2;4.5;200\n",
    "    3;4.7;65\n",
    "    4;3.2;140\n",
    "    \"\"\")\n",
    "\n",
    "df = pd.read_csv(TESTDATA, sep=\";\")"
   ]
  },
  {
   "cell_type": "code",
   "execution_count": null,
   "id": "bd8f9794",
   "metadata": {},
   "outputs": [],
   "source": []
  }
 ],
 "metadata": {
  "kernelspec": {
   "display_name": "Python 3",
   "language": "python",
   "name": "python3"
  },
  "language_info": {
   "codemirror_mode": {
    "name": "ipython",
    "version": 3
   },
   "file_extension": ".py",
   "mimetype": "text/x-python",
   "name": "python",
   "nbconvert_exporter": "python",
   "pygments_lexer": "ipython3",
   "version": "3.8.10"
  }
 },
 "nbformat": 4,
 "nbformat_minor": 5
}

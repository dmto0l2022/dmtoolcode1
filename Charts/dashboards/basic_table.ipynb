{
 "cells": [
  {
   "cell_type": "code",
   "execution_count": 1,
   "id": "d756d293",
   "metadata": {},
   "outputs": [
    {
     "name": "stdout",
     "output_type": "stream",
     "text": [
      "Requirement already up-to-date: requests in /home/andrewcgaitskell/.local/share/virtualenvs/dmtoolcode1-bhEI-KFD/lib/python3.8/site-packages (2.28.2)\r\n",
      "Requirement already satisfied, skipping upgrade: certifi>=2017.4.17 in /home/andrewcgaitskell/.local/share/virtualenvs/dmtoolcode1-bhEI-KFD/lib/python3.8/site-packages (from requests) (2021.10.8)\r\n",
      "Requirement already satisfied, skipping upgrade: idna<4,>=2.5 in /home/andrewcgaitskell/.local/share/virtualenvs/dmtoolcode1-bhEI-KFD/lib/python3.8/site-packages (from requests) (3.3)\r\n",
      "Requirement already satisfied, skipping upgrade: urllib3<1.27,>=1.21.1 in /home/andrewcgaitskell/.local/share/virtualenvs/dmtoolcode1-bhEI-KFD/lib/python3.8/site-packages (from requests) (1.26.7)\r\n",
      "Requirement already satisfied, skipping upgrade: charset-normalizer<4,>=2 in /home/andrewcgaitskell/.local/share/virtualenvs/dmtoolcode1-bhEI-KFD/lib/python3.8/site-packages (from requests) (2.0.7)\r\n"
     ]
    }
   ],
   "source": [
    "!pip install --upgrade requests"
   ]
  },
  {
   "cell_type": "code",
   "execution_count": 2,
   "id": "994c5192",
   "metadata": {},
   "outputs": [],
   "source": [
    "import os\n",
    "#import urlib3"
   ]
  },
  {
   "cell_type": "code",
   "execution_count": 3,
   "id": "9135be66",
   "metadata": {},
   "outputs": [],
   "source": [
    "cwd = os.getcwd()"
   ]
  },
  {
   "cell_type": "code",
   "execution_count": 4,
   "id": "dc8f22f3",
   "metadata": {},
   "outputs": [],
   "source": [
    "import dash\n",
    "from dash import dcc\n",
    "from dash import html\n",
    "from dash import callback_context\n",
    "from dash import dash_table\n",
    "\n",
    "import plotly.graph_objects as go\n",
    "from plotly.subplots import make_subplots\n",
    "\n",
    "from dash import Dash, Input, Output, callback, State\n",
    "\n",
    "from jupyter_dash import JupyterDash\n",
    "\n",
    "import dash_bootstrap_components as dbc"
   ]
  },
  {
   "cell_type": "code",
   "execution_count": 5,
   "id": "d3a32a3f",
   "metadata": {},
   "outputs": [],
   "source": [
    "from dash import Dash, dcc, html, Input, Output, dash_table, no_update  # Dash version >= 2.0.0\n",
    "import pandas as pd\n",
    "import plotly.express as px\n",
    "import json\n",
    "import requests\n",
    "###\n",
    "\n",
    "import requests\n",
    "import json\n",
    "\n",
    "#api_container = \"container_api_1:8004\"\n",
    "\n",
    "api_container = \"35.214.74.184:8004\""
   ]
  },
  {
   "cell_type": "code",
   "execution_count": 6,
   "id": "c99422aa",
   "metadata": {},
   "outputs": [],
   "source": [
    "class MakeApiCall():\n",
    "\n",
    "    def get_data(self, api):\n",
    "        response = requests.get(f\"{api}\")\n",
    "        if response.status_code == 200:\n",
    "            print(\"sucessfully fetched the data\")\n",
    "            self.formatted_print(response.json())\n",
    "        else:\n",
    "            print(\n",
    "                f\"Hello person, there's a {response.status_code} error with your request\")\n",
    "\n",
    "    '''def get_user_data(self, api, parameters):\n",
    "        response = requests.get(f\"{api}\", params=parameters)\n",
    "        if response.status_code == 200:\n",
    "            print(\"sucessfully fetched the data with parameters provided\")\n",
    "            self.formatted_print(response.json())\n",
    "        else:\n",
    "            print(\n",
    "                f\"Hello person, there's a {response.status_code} error with your request\")\n",
    "    '''\n",
    "    def formatted_print(self, obj):\n",
    "        text = json.dumps(obj, sort_keys=True, indent=4)\n",
    "        print(text)\n",
    "    '''\n",
    "    def __init__(self, api):\n",
    "        # self.get_data(api)\n",
    "        parameters = {\n",
    "            \"username\": \"kedark\"\n",
    "        }\n",
    "        self.get_user_data(api, parameters)\n",
    "    '''\n",
    "###\n",
    "\n",
    "def DeleteRow(plotid_in):\n",
    "    params = {'plotid': plotid_in}\n",
    "    url = \"http://\" + api_container + \"/plots/delete/\"\n",
    "    requests.post(url, params=params)\n",
    "\n",
    "def RefreshTableData():\n",
    "    url = \"http://\" + api_container + \"/plots/getall/\"\n",
    "    r = requests.get(url,headers={'Accept': 'application/json'})\n",
    "    response_data = r.json()\n",
    "    updated_data_frame = pd.DataFrame(response_data)\n",
    "    updated_data_frame['create'] = \"create\"\n",
    "    updated_data_frame['read'] = \"read\"\n",
    "    updated_data_frame['update'] = \"update\"\n",
    "    updated_data_frame['delete'] = \"delete\"\n",
    "    updated_data_ret = updated_data_frame.to_dict('records')\n",
    "    return updated_data_ret"
   ]
  },
  {
   "cell_type": "code",
   "execution_count": 7,
   "id": "0341d562",
   "metadata": {},
   "outputs": [
    {
     "name": "stdout",
     "output_type": "stream",
     "text": [
      "   id name plotid\n",
      "0   1    A      1\n",
      "1   2    B      2\n",
      "2   3    C      3\n"
     ]
    }
   ],
   "source": [
    "url = \"http://\" + api_container + \"/plots/getall/\"\n",
    "r = requests.get(url, \n",
    "                 headers={'Accept': 'application/json'})\n",
    "response_data = r.json()\n",
    "data_frame = pd.DataFrame(response_data)\n",
    "print(data_frame)\n"
   ]
  },
  {
   "cell_type": "code",
   "execution_count": null,
   "id": "57a15445",
   "metadata": {},
   "outputs": [],
   "source": []
  },
  {
   "cell_type": "code",
   "execution_count": 8,
   "id": "e5b5f214",
   "metadata": {},
   "outputs": [],
   "source": [
    "\n",
    "#data_request = requests.get(url=url)\n",
    "#text = json.dumps(data_request, sort_keys=True, indent=4)\n",
    "#print(text)\n",
    "#MakeApiCall().get_data(url)\n",
    "##data_request = requests.get(url)\n",
    "#print(data_request)\n",
    "#data_frame = pd.read_json(response_data, orient='records')\n",
    "#data_frame = pd.DataFrame(response_data)\n",
    "##print(data_frame)\n",
    "dff = data_frame.copy()\n",
    "##df = px.data.gapminder()\n",
    "##df[\"id\"] = df.index\n",
    "dff[\"id\"] = dff.index\n",
    "# print(df.head(15))\n",
    "##dff = df[df.year == 2007].copy()\n",
    "dff['create'] = \"create\"\n",
    "dff['read'] = \"read\"\n",
    "dff['update'] = \"update\"\n",
    "dff['delete'] = \"delete\"\n",
    "#columns = [\"country\", \"continent\", \"lifeExp\", \"pop\", \"gdpPercap\", \"create\", \"read\", \"update\", \"delete\"]\n",
    "columns = [\"id\", \"plotid\", \"name\", \"create\", \"read\", \"update\", \"delete\"]\n",
    "#initial_active_cell = {\"row\": 0, \"column\": 0, \"column_id\": \"country\", \"row_id\": 0}\n",
    "initial_active_cell = {\"row\": 0, \"column\": 0, \"column_id\": \"plotid\", \"row_id\": 0}\n"
   ]
  },
  {
   "cell_type": "code",
   "execution_count": null,
   "id": "3df3af54",
   "metadata": {},
   "outputs": [],
   "source": []
  },
  {
   "cell_type": "code",
   "execution_count": 9,
   "id": "05529c75",
   "metadata": {},
   "outputs": [],
   "source": [
    "PAGES_STYLE = \"pagesstyles.css\"\n",
    "CONTENT_STYLES = \"content.css\"\n",
    "external_stylesheets=[dbc.themes.BOOTSTRAP, PAGES_STYLE, CONTENT_STYLES]\n",
    "\n",
    "app = JupyterDash(__name__,requests_pathname_prefix=\"/dash1/\",routes_pathname_prefix='/dash1/',\n",
    "                  external_stylesheets=external_stylesheets,\n",
    "                  meta_tags=[{'name': 'viewport', 'content': 'width=device-width, initial-scale=1'}],\n",
    "                 suppress_callback_exceptions=True)\n",
    "# Create server variable with Flask server object for use with gunicorn\n",
    "server = app.server"
   ]
  },
  {
   "cell_type": "code",
   "execution_count": 10,
   "id": "7e28caac",
   "metadata": {},
   "outputs": [],
   "source": [
    "app.layout = html.Div(\n",
    "    [\n",
    "        html.Div(\n",
    "            [\n",
    "                dash_table.DataTable(\n",
    "                    id=\"table\",\n",
    "                    columns=[{\"name\": c, \"id\": c} for c in columns],\n",
    "                    data=dff.to_dict(\"records\"),\n",
    "                    page_size=10,\n",
    "                    sort_action=\"native\",\n",
    "                    active_cell=initial_active_cell,\n",
    "                ),\n",
    "            ],\n",
    "            style={\"margin\": 50},\n",
    "            className=\"five columns\"\n",
    "        ),\n",
    "        html.Div(id=\"output-div\", className=\"six columns\"),\n",
    "    ],\n",
    "    className=\"row\"\n",
    ")\n",
    "\n",
    "\n",
    "@app.callback(\n",
    "    [Output(\"output-div\", \"children\"), Output('table','data')], Input(\"table\", \"active_cell\"),\n",
    ")\n",
    "def cell_clicked(active_cell):\n",
    "    \n",
    "    updated_data = RefreshTableData()\n",
    "    \n",
    "    if active_cell is None:\n",
    "        return no_update\n",
    "\n",
    "    #row = active_cell[\"row_id\"]\n",
    "    row_id = active_cell[\"row_id\"]\n",
    "    print(f\"row_id: {row_id}\")\n",
    "    \n",
    "    #row = active_cell[\"row_id\"]\n",
    "    column_id = active_cell[\"column_id\"]\n",
    "    print(f\"column_id: {column_id}\")\n",
    "    \n",
    "    row = active_cell[\"row\"]\n",
    "    print(f\"row: {row}\")\n",
    "\n",
    "    #country = df.at[row, \"country\"]\n",
    "    #print(country)\n",
    "    plotid = dff.at[row, \"plotid\"]\n",
    "    print(plotid)\n",
    "\n",
    "    column = active_cell[\"column\"]\n",
    "    print(f\"column: {column}\")\n",
    "    print(\"---------------------\")\n",
    "    \n",
    "    cell_value = dff.iat[active_cell['row'], active_cell['column']]\n",
    "    \n",
    "    if cell_value == 'delete':\n",
    "        DeleteRow(plotid)\n",
    "        updated_data = RefreshTableData()\n",
    "            \n",
    "    ##http://127.0.0.1:5000/query-example?plotid=Python\n",
    "    return_data = row, \" \", column, \" \",cell_value, \" \", plotid\n",
    "    return return_data, updated_data ##country"
   ]
  },
  {
   "cell_type": "code",
   "execution_count": null,
   "id": "3455af04",
   "metadata": {},
   "outputs": [],
   "source": []
  },
  {
   "cell_type": "code",
   "execution_count": 11,
   "id": "324bb108",
   "metadata": {},
   "outputs": [
    {
     "name": "stdout",
     "output_type": "stream",
     "text": [
      "Dash app running on http://0.0.0.0:8002/dash1/\n",
      "row_id: 0\n",
      "column_id: plotid\n",
      "row: 0\n",
      "1\n",
      "column: 0\n",
      "---------------------\n"
     ]
    }
   ],
   "source": [
    "app.run_server(host=\"0.0.0.0\", port=8002,debug=True)\n",
    "#app.run_server(debug=True,port=5051)"
   ]
  },
  {
   "cell_type": "code",
   "execution_count": null,
   "id": "065e84de",
   "metadata": {},
   "outputs": [],
   "source": []
  }
 ],
 "metadata": {
  "kernelspec": {
   "display_name": "Python 3",
   "language": "python",
   "name": "python3"
  },
  "language_info": {
   "codemirror_mode": {
    "name": "ipython",
    "version": 3
   },
   "file_extension": ".py",
   "mimetype": "text/x-python",
   "name": "python",
   "nbconvert_exporter": "python",
   "pygments_lexer": "ipython3",
   "version": "3.8.10"
  }
 },
 "nbformat": 4,
 "nbformat_minor": 5
}

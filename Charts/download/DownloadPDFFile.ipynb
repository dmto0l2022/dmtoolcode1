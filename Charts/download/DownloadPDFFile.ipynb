{
 "cells": [
  {
   "cell_type": "code",
   "execution_count": 1,
   "id": "d7d78304",
   "metadata": {},
   "outputs": [
    {
     "data": {
      "text/plain": [
       "'/home/andrewcgaitskell/Documents/dmtoolnotes/Charts'"
      ]
     },
     "execution_count": 1,
     "metadata": {},
     "output_type": "execute_result"
    }
   ],
   "source": [
    "import os\n",
    "cwd = os.getcwd()\n",
    "cwd"
   ]
  },
  {
   "cell_type": "code",
   "execution_count": 2,
   "id": "87c42311",
   "metadata": {},
   "outputs": [],
   "source": [
    "import dash\n",
    "from dash import dcc\n",
    "from dash import html\n",
    "\n",
    "import plotly.graph_objects as go\n",
    "\n",
    "from dash import dash_table as dt\n",
    "from dash.dependencies import Input, Output\n",
    "import pandas as pd\n",
    "\n",
    "from jupyter_dash import JupyterDash\n",
    "\n",
    "from plotly.io import write_image\n",
    "import flask\n",
    "import base64\n",
    "\n",
    "\n",
    "import dash_bootstrap_components as dbc\n",
    "COMPONENT_STYLE = \"/assets/my_component.css\"\n",
    "external_stylesheets=[dbc.themes.BOOTSTRAP]\n",
    "\n",
    "app = JupyterDash(__name__, external_stylesheets=external_stylesheets,\n",
    "                  meta_tags=[{'name': 'viewport', 'content': 'width=device-width, initial-scale=1'}],\n",
    "                 suppress_callback_exceptions=True)\n",
    "# Create server variable with Flask server object for use with gunicorn\n",
    "server = app.server"
   ]
  },
  {
   "cell_type": "code",
   "execution_count": 3,
   "id": "06ab109d",
   "metadata": {},
   "outputs": [],
   "source": [
    "\n",
    "app.layout = html.Div(children=[\n",
    "    dcc.Loading(html.A(\n",
    "        id=\"img-download\", \n",
    "        href=\"\", \n",
    "        children=[html.Button(\"Download Image\", id=\"download-btn\")], \n",
    "        target=\"_blank\",\n",
    "        download=\"my-figure.pdf\"\n",
    "    )),\n",
    "    dcc.Graph(\n",
    "        id='graph',\n",
    "        figure={\n",
    "            'data': [\n",
    "                {'x': [1, 2, 3], 'y': [4, 1, 2], 'type': 'scatter'},\n",
    "            ],\n",
    "            'layout': {'title': 'So Title'}\n",
    "        }\n",
    "    )\n",
    "])\n",
    "\n",
    "@app.callback(Output('img-download', 'href'),\n",
    "              [Input('graph', 'figure')])\n",
    "def make_image(figure):\n",
    "    \"\"\" Make a picture \"\"\"\n",
    "\n",
    "    fmt = \"pdf\"\n",
    "    mimetype = \"application/pdf\"\n",
    "    filename = \"figure.%s\" % fmt\n",
    "\n",
    "    write_image(figure, cwd + \"/assets/plots/\" + filename)\n",
    "    data = base64.b64encode(open(cwd + \"/assets/plots/\" + filename, \"rb\").read()).decode(\"utf-8\")\n",
    "    pdf_string = f\"data:{mimetype};base64,{data}\"\n",
    "\n",
    "    return pdf_string"
   ]
  },
  {
   "cell_type": "code",
   "execution_count": 4,
   "id": "4a13022f",
   "metadata": {},
   "outputs": [
    {
     "name": "stdout",
     "output_type": "stream",
     "text": [
      "Dash app running on http://127.0.0.1:5051/\n"
     ]
    }
   ],
   "source": [
    "app.run_server(debug=True,port=5051)"
   ]
  },
  {
   "cell_type": "code",
   "execution_count": null,
   "id": "09ccf609",
   "metadata": {},
   "outputs": [],
   "source": []
  }
 ],
 "metadata": {
  "kernelspec": {
   "display_name": "Python 3",
   "language": "python",
   "name": "python3"
  },
  "language_info": {
   "codemirror_mode": {
    "name": "ipython",
    "version": 3
   },
   "file_extension": ".py",
   "mimetype": "text/x-python",
   "name": "python",
   "nbconvert_exporter": "python",
   "pygments_lexer": "ipython3",
   "version": "3.8.10"
  }
 },
 "nbformat": 4,
 "nbformat_minor": 5
}

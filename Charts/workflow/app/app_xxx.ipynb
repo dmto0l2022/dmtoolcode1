{
 "cells": [
  {
   "cell_type": "code",
   "execution_count": 1,
   "id": "2c5a6396-6417-46b0-a43b-757279cf31ed",
   "metadata": {},
   "outputs": [],
   "source": [
    "#!pip install dash_bootstrap_components"
   ]
  },
  {
   "cell_type": "code",
   "execution_count": 2,
   "id": "b7703b90-70f0-478a-a337-43414b2e489b",
   "metadata": {},
   "outputs": [],
   "source": [
    "import os"
   ]
  },
  {
   "cell_type": "code",
   "execution_count": 3,
   "id": "33818c06-e077-4cb3-8070-253b91b5e18d",
   "metadata": {},
   "outputs": [],
   "source": [
    "cwd = os.getcwd()"
   ]
  },
  {
   "cell_type": "code",
   "execution_count": 4,
   "id": "15a6340d",
   "metadata": {},
   "outputs": [],
   "source": [
    "import dash\n",
    "from dash import dcc\n",
    "from dash import html\n",
    "from dash import callback_context\n",
    "from dash import dash_table\n",
    "\n",
    "import plotly.graph_objects as go\n",
    "from plotly.subplots import make_subplots\n",
    "\n",
    "from dash import Dash, Input, Output, callback, State\n",
    "\n",
    "from jupyter_dash import JupyterDash\n",
    "\n",
    "import dash_bootstrap_components as dbc"
   ]
  },
  {
   "cell_type": "code",
   "execution_count": 5,
   "id": "4ad9857f",
   "metadata": {},
   "outputs": [],
   "source": [
    "import pandas as pd"
   ]
  },
  {
   "cell_type": "code",
   "execution_count": 6,
   "id": "74549f9d",
   "metadata": {},
   "outputs": [
    {
     "data": {
      "text/plain": [
       "{'fontFamily': 'Open Sans',\n",
       " 'textAlign': 'center',\n",
       " 'padding': '0px',\n",
       " 'whiteSpace': 'inherit',\n",
       " 'fontSize': '9px'}"
      ]
     },
     "execution_count": 6,
     "metadata": {},
     "output_type": "execute_result"
    }
   ],
   "source": [
    "import table_styling as ts\n",
    "ts40 = ts.table40style\n",
    "ts40.style_table_40\n",
    "ts40.style_cell_9pt"
   ]
  },
  {
   "cell_type": "code",
   "execution_count": 7,
   "id": "db51302f",
   "metadata": {},
   "outputs": [],
   "source": [
    "from pages.sidebar import sidebar"
   ]
  },
  {
   "cell_type": "code",
   "execution_count": 8,
   "id": "48642a1e",
   "metadata": {},
   "outputs": [],
   "source": [
    "#COMPONENT_STYLE = \"/assets/my_component.css\"\n",
    "pages_styles = \"/assets/pagestyles.css\"\n",
    "content_styles = \"/assets/contents.css\"\n",
    "external_stylesheets=[dbc.themes.BOOTSTRAP, pages_styles, content_styles]"
   ]
  },
  {
   "cell_type": "code",
   "execution_count": 9,
   "id": "ce319a82",
   "metadata": {},
   "outputs": [
    {
     "ename": "TypeError",
     "evalue": "Dash() got an unexpected keyword argument 'use_pages'",
     "output_type": "error",
     "traceback": [
      "\u001b[0;31m---------------------------------------------------------------------------\u001b[0m",
      "\u001b[0;31mTypeError\u001b[0m                                 Traceback (most recent call last)",
      "\u001b[0;32m/tmp/ipykernel_17010/886793114.py\u001b[0m in \u001b[0;36m<module>\u001b[0;34m\u001b[0m\n\u001b[0;32m----> 1\u001b[0;31m app = JupyterDash(__name__,\n\u001b[0m\u001b[1;32m      2\u001b[0m                   \u001b[0muse_pages\u001b[0m\u001b[0;34m=\u001b[0m\u001b[0;32mTrue\u001b[0m\u001b[0;34m,\u001b[0m\u001b[0;34m\u001b[0m\u001b[0;34m\u001b[0m\u001b[0m\n\u001b[1;32m      3\u001b[0m                   \u001b[0;31m#requests_pathname_prefix=\"/dash1/\",\u001b[0m\u001b[0;34m\u001b[0m\u001b[0;34m\u001b[0m\u001b[0;34m\u001b[0m\u001b[0m\n\u001b[1;32m      4\u001b[0m                   \u001b[0;31m#routes_pathname_prefix='/dash1/',\u001b[0m\u001b[0;34m\u001b[0m\u001b[0;34m\u001b[0m\u001b[0;34m\u001b[0m\u001b[0m\n\u001b[1;32m      5\u001b[0m                   \u001b[0mexternal_stylesheets\u001b[0m\u001b[0;34m=\u001b[0m\u001b[0mexternal_stylesheets\u001b[0m\u001b[0;34m,\u001b[0m\u001b[0;34m\u001b[0m\u001b[0;34m\u001b[0m\u001b[0m\n",
      "\u001b[0;32m~/.local/share/virtualenvs/dmtoolcode1-bhEI-KFD/lib/python3.8/site-packages/jupyter_dash/jupyter_app.py\u001b[0m in \u001b[0;36m__init__\u001b[0;34m(self, name, server_url, **kwargs)\u001b[0m\n\u001b[1;32m     92\u001b[0m \u001b[0;34m\u001b[0m\u001b[0m\n\u001b[1;32m     93\u001b[0m         \u001b[0;31m# Call superclass constructor\u001b[0m\u001b[0;34m\u001b[0m\u001b[0;34m\u001b[0m\u001b[0;34m\u001b[0m\u001b[0m\n\u001b[0;32m---> 94\u001b[0;31m         \u001b[0msuper\u001b[0m\u001b[0;34m(\u001b[0m\u001b[0mJupyterDash\u001b[0m\u001b[0;34m,\u001b[0m \u001b[0mself\u001b[0m\u001b[0;34m)\u001b[0m\u001b[0;34m.\u001b[0m\u001b[0m__init__\u001b[0m\u001b[0;34m(\u001b[0m\u001b[0mname\u001b[0m\u001b[0;34m=\u001b[0m\u001b[0mname\u001b[0m\u001b[0;34m,\u001b[0m \u001b[0;34m**\u001b[0m\u001b[0mkwargs\u001b[0m\u001b[0;34m)\u001b[0m\u001b[0;34m\u001b[0m\u001b[0;34m\u001b[0m\u001b[0m\n\u001b[0m\u001b[1;32m     95\u001b[0m \u001b[0;34m\u001b[0m\u001b[0m\n\u001b[1;32m     96\u001b[0m         \u001b[0;32mif\u001b[0m \u001b[0;32mnot\u001b[0m \u001b[0mJupyterDash\u001b[0m\u001b[0;34m.\u001b[0m\u001b[0m_in_ipython\u001b[0m\u001b[0;34m:\u001b[0m\u001b[0;34m\u001b[0m\u001b[0;34m\u001b[0m\u001b[0m\n",
      "\u001b[0;32m~/.local/share/virtualenvs/dmtoolcode1-bhEI-KFD/lib/python3.8/site-packages/dash/dash.py\u001b[0m in \u001b[0;36m__init__\u001b[0;34m(self, name, server, assets_folder, assets_url_path, assets_ignore, assets_external_path, eager_loading, include_assets_files, url_base_pathname, requests_pathname_prefix, routes_pathname_prefix, serve_locally, compress, meta_tags, index_string, external_scripts, external_stylesheets, suppress_callback_exceptions, prevent_initial_callbacks, show_undo_redo, extra_hot_reload_paths, plugins, title, update_title, long_callback_manager, **obsolete)\u001b[0m\n\u001b[1;32m    292\u001b[0m         \u001b[0;34m**\u001b[0m\u001b[0mobsolete\u001b[0m\u001b[0;34m,\u001b[0m\u001b[0;34m\u001b[0m\u001b[0;34m\u001b[0m\u001b[0m\n\u001b[1;32m    293\u001b[0m     ):\n\u001b[0;32m--> 294\u001b[0;31m         \u001b[0m_validate\u001b[0m\u001b[0;34m.\u001b[0m\u001b[0mcheck_obsolete\u001b[0m\u001b[0;34m(\u001b[0m\u001b[0mobsolete\u001b[0m\u001b[0;34m)\u001b[0m\u001b[0;34m\u001b[0m\u001b[0;34m\u001b[0m\u001b[0m\n\u001b[0m\u001b[1;32m    295\u001b[0m \u001b[0;34m\u001b[0m\u001b[0m\n\u001b[1;32m    296\u001b[0m         \u001b[0;31m# We have 3 cases: server is either True (we create the server), False\u001b[0m\u001b[0;34m\u001b[0m\u001b[0;34m\u001b[0m\u001b[0;34m\u001b[0m\u001b[0m\n",
      "\u001b[0;32m~/.local/share/virtualenvs/dmtoolcode1-bhEI-KFD/lib/python3.8/site-packages/dash/_validate.py\u001b[0m in \u001b[0;36mcheck_obsolete\u001b[0;34m(kwargs)\u001b[0m\n\u001b[1;32m    325\u001b[0m             )\n\u001b[1;32m    326\u001b[0m         \u001b[0;31m# any other kwarg mimic the built-in exception\u001b[0m\u001b[0;34m\u001b[0m\u001b[0;34m\u001b[0m\u001b[0;34m\u001b[0m\u001b[0m\n\u001b[0;32m--> 327\u001b[0;31m         \u001b[0;32mraise\u001b[0m \u001b[0mTypeError\u001b[0m\u001b[0;34m(\u001b[0m\u001b[0;34m\"Dash() got an unexpected keyword argument '\"\u001b[0m \u001b[0;34m+\u001b[0m \u001b[0mkey\u001b[0m \u001b[0;34m+\u001b[0m \u001b[0;34m\"'\"\u001b[0m\u001b[0;34m)\u001b[0m\u001b[0;34m\u001b[0m\u001b[0;34m\u001b[0m\u001b[0m\n\u001b[0m\u001b[1;32m    328\u001b[0m \u001b[0;34m\u001b[0m\u001b[0m\n\u001b[1;32m    329\u001b[0m \u001b[0;34m\u001b[0m\u001b[0m\n",
      "\u001b[0;31mTypeError\u001b[0m: Dash() got an unexpected keyword argument 'use_pages'"
     ]
    }
   ],
   "source": [
    "app = JupyterDash(__name__,\n",
    "                  use_pages=True,\n",
    "                  #requests_pathname_prefix=\"/dash1/\",\n",
    "                  #routes_pathname_prefix='/dash1/',\n",
    "                  external_stylesheets=external_stylesheets,\n",
    "                  meta_tags=[{'name': 'viewport', 'content': 'width=device-width, initial-scale=1'}],\n",
    "                 suppress_callback_exceptions=True)\n",
    "# Create server variable with Flask server object for use with gunicorn\n",
    "server = app.server"
   ]
  },
  {
   "cell_type": "code",
   "execution_count": null,
   "id": "e9254c87",
   "metadata": {},
   "outputs": [],
   "source": [
    "import frame as frame\n",
    "page_frame = frame.PageFrame()"
   ]
  },
  {
   "cell_type": "code",
   "execution_count": null,
   "id": "ff5ded61",
   "metadata": {},
   "outputs": [],
   "source": [
    "page_frame.content_frame"
   ]
  },
  {
   "cell_type": "code",
   "execution_count": null,
   "id": "0dcf2450",
   "metadata": {},
   "outputs": [],
   "source": [
    "sidebar()"
   ]
  },
  {
   "cell_type": "code",
   "execution_count": null,
   "id": "e99e9b4d",
   "metadata": {},
   "outputs": [],
   "source": [
    "page_frame.SetSideBarComponents(sidebar())"
   ]
  },
  {
   "cell_type": "code",
   "execution_count": null,
   "id": "a23af992",
   "metadata": {},
   "outputs": [],
   "source": [
    "page_frame.PopulateFrame()"
   ]
  },
  {
   "cell_type": "markdown",
   "id": "4adf7492",
   "metadata": {},
   "source": [
    "# Color Code"
   ]
  },
  {
   "cell_type": "code",
   "execution_count": null,
   "id": "55d75942",
   "metadata": {},
   "outputs": [],
   "source": [
    "import plotly.graph_objects as go\n",
    "import plotly.express as px\n",
    "from itertools import cycle\n",
    "\n",
    "# colors\n",
    "palette = cycle(px.colors.qualitative.Bold)\n",
    "#palette = cycle(['black', 'grey', 'red', 'blue'])"
   ]
  },
  {
   "cell_type": "code",
   "execution_count": null,
   "id": "9f652778",
   "metadata": {},
   "outputs": [],
   "source": [
    "#pf = pageframe()"
   ]
  },
  {
   "cell_type": "code",
   "execution_count": null,
   "id": "37d43a3a",
   "metadata": {},
   "outputs": [],
   "source": [
    "import plotly.graph_objects as go\n",
    "\n",
    "fig1 = go.Figure()\n",
    "fig2 = go.Figure()\n",
    "fig3 = go.Figure()\n",
    "\n",
    "fig1.add_trace(go.Scatter(\n",
    "    x=[0, 1, 2, 3, 4, 5, 6, 7, 8],\n",
    "    y=[0, 1, 2, 3, 4, 5, 6, 7, 8]\n",
    "))\n",
    "\n",
    "fig2.add_trace(go.Scatter(\n",
    "    x=[0, 1, 2, 3, 4, 5, 6, 7, 8],\n",
    "    y=[0, 1, 2, 3, 4, 5, 6, 7, 8]\n",
    "))\n",
    "\n",
    "fig3.add_trace(go.Scatter(\n",
    "    x=[0, 1, 2, 3, 4, 5, 6, 7, 8],\n",
    "    y=[0, 1, 2, 3, 4, 5, 6, 7, 8]\n",
    "))\n",
    "\n",
    "\n",
    "fig1.update_layout(\n",
    "    autosize=True,\n",
    "    margin=dict(\n",
    "        l=0,\n",
    "        r=0,\n",
    "        b=0,\n",
    "        t=0,\n",
    "        pad=0\n",
    "    ),\n",
    "    paper_bgcolor=\"Green\",\n",
    "    xaxis_title=\"X AXIS TITLE\",\n",
    "    yaxis_title=\"Y AXIS TITLE\",\n",
    ")\n",
    "\n",
    "\n",
    "#fig1.update_yaxes(automargin=True)\n",
    "#fig1.update_xaxes(automargin=True)\n",
    "\n",
    "fig2.update_layout(\n",
    "    autosize=True,\n",
    "    margin=dict(\n",
    "        l=0,\n",
    "        r=0,\n",
    "        b=0,\n",
    "        t=0,\n",
    "        pad=0\n",
    "    ),\n",
    "    paper_bgcolor=\"Blue\",\n",
    "    xaxis_title=\"X AXIS TITLE\",\n",
    "    yaxis_title=\"Y AXIS TITLE\",\n",
    ")\n",
    "\n",
    "#fig2.update_yaxes(automargin=True)\n",
    "#fig2.update_xaxes(automargin=True)\n",
    "\n",
    "fig3.update_layout(\n",
    "    autosize=True,\n",
    "    margin=dict(\n",
    "        l=0,\n",
    "        r=0,\n",
    "        b=0,\n",
    "        t=0,\n",
    "        pad=0\n",
    "    ),\n",
    "    paper_bgcolor=\"Blue\",\n",
    "    xaxis_title=\"X AXIS TITLE\",\n",
    "    yaxis_title=\"Y AXIS TITLE\",\n",
    ")"
   ]
  },
  {
   "cell_type": "code",
   "execution_count": null,
   "id": "3fcae2a9",
   "metadata": {},
   "outputs": [],
   "source": [
    "twographrows = [\n",
    "    dbc.Row([\n",
    "            dbc.Col([\n",
    "                dcc.Graph(figure=fig1, id='basicgraph1', responsive=True, className=\"GRAPH CONTENT_NOPADDING\")\n",
    "            ])\n",
    "            ], class_name=\"TOP_CHART_ROW CONTENT_NOPADDING\"),\n",
    "        dbc.Row([\n",
    "            dbc.Col([\n",
    "                dcc.Graph(figure=fig2, id='basicgraph2', responsive=True, className = \"GRAPH CONTENT_NOPADDING\")\n",
    "            ])\n",
    "        ], class_name = 'BOTTOM_CHART_ROW CONTENT_NOPADDING' ),\n",
    "]"
   ]
  },
  {
   "cell_type": "code",
   "execution_count": null,
   "id": "95e95439",
   "metadata": {},
   "outputs": [],
   "source": [
    "solar_df = pd.read_csv('https://raw.githubusercontent.com/plotly/datasets/master/solar.csv')\n",
    "\n",
    "\n",
    "dash_table1 = dash_table.DataTable(\n",
    "            id='datatable1',\n",
    "            data=solar_df.to_dict('records'),\n",
    "            columns=[{\"name\": i, \"id\": i} for i in solar_df.columns],\n",
    "            fixed_rows={'headers': True},\n",
    "            css=ts40.css_12pt, ## working\n",
    "            style_table=ts40.style_table_40,\n",
    "            style_cell=ts40.style_cell_9pt,\n",
    "            )\n",
    "\n",
    "#dash_table1\n"
   ]
  },
  {
   "cell_type": "code",
   "execution_count": null,
   "id": "d8e4e2ed",
   "metadata": {},
   "outputs": [],
   "source": [
    "dash_table2 = dash_table.DataTable(\n",
    "            id='datatable2',\n",
    "            data=solar_df.to_dict('records'),\n",
    "            columns=[{\"name\": i, \"id\": i} for i in solar_df.columns],\n",
    "            fixed_rows={'headers': True},\n",
    "            css=ts40.css_12pt, ## working\n",
    "            style_table=ts40.style_table_40,\n",
    "            style_cell=ts40.style_cell_9pt,\n",
    "            )"
   ]
  },
  {
   "cell_type": "code",
   "execution_count": null,
   "id": "e7446f2c",
   "metadata": {},
   "outputs": [],
   "source": [
    "dash_table3 = dash_table.DataTable(\n",
    "            id='datatable3',\n",
    "            data=solar_df.to_dict('records'),\n",
    "            columns=[{\"name\": i, \"id\": i} for i in solar_df.columns],\n",
    "            fixed_rows={'headers': True},\n",
    "            css=ts40.css_12pt, ## working\n",
    "            style_table=ts40.style_table_40,\n",
    "            style_cell=ts40.style_cell_9pt,\n",
    "            )"
   ]
  },
  {
   "cell_type": "code",
   "execution_count": null,
   "id": "a6e3680d",
   "metadata": {},
   "outputs": [],
   "source": [
    "twotablerows = [\n",
    "    dbc.Row([dbc.Col(dash_table1)], class_name = \"TABLE_ROW NOPADDING_CONTENT\"),\n",
    "    ##style={**TABLE_ROW,**NOPADDING}),\n",
    "    dbc.Row([dbc.Col(dash_table2)], class_name = \"TABLE_ROW NOPADDING_CONTENT\")\n",
    "    ##style={**TABLE_ROW,**NOPADDING}),\n",
    "               ]"
   ]
  },
  {
   "cell_type": "code",
   "execution_count": null,
   "id": "e59fc17b",
   "metadata": {},
   "outputs": [],
   "source": [
    "graphtablerow = [dbc.Row([\n",
    "                dbc.Col([\n",
    "                    dcc.Graph(figure=fig3,\n",
    "                              id='basicgraph1',\n",
    "                              responsive=True,\n",
    "                              className = \"GRAPH_STYLE NOPADDING_CONTENT\",\n",
    "                              #style={**GRAPH_STYLE,**NOPADDING}\n",
    "                             )\n",
    "                    ])\n",
    "                ], class_name = \"TOP_CHART_ROW NOPADDING_CONTENT\"),\n",
    "        dbc.Row([dbc.Col(dash_table3)],  className = \"BOTTOM_TABLE_ROW NOPADDING_CONTENT\"),\n",
    "                 ]"
   ]
  },
  {
   "cell_type": "code",
   "execution_count": null,
   "id": "74fd03de",
   "metadata": {},
   "outputs": [],
   "source": [
    "column_1_var = 'Column 1'\n",
    "column_2_var = twotablerows\n",
    "column_3_var = graphtablerow\n",
    "\n",
    "def GetThreeColumns(column_1_in, column_2_in, column_3_in):\n",
    "\n",
    "    column_1_out =  html.Div(children=[column_1_in],\n",
    "                                  className=\"col col-lg-2 NOPADDING_CONTENT COLUMN_DIV\",\n",
    "                            )\n",
    "    \n",
    "    column_2_out =  html.Div(children=column_2_in,\n",
    "                                  className=\"col col-lg-5 NOPADDING_CONTENT COLUMN_DIV\",\n",
    "                                )\n",
    "    \n",
    "    column_3_out =  html.Div(children=column_3_in,\n",
    "                                  className=\"col col-lg-5 NOPADDING_CONTENT COLUMN_DIV\" ,\n",
    "                            )\n",
    "    \n",
    "    threecolumnrow_out = dbc.Row([column_1_out,column_2_out, column_3_out],\n",
    "                                 className=\"NOPADDING_CONTENT ALL_ROW\")\n",
    "    \n",
    "    return threecolumnrow_out\n",
    "\n",
    "\n",
    "threecolumnrow = GetThreeColumns(column_1_var, column_2_var, column_3_var) \n"
   ]
  },
  {
   "cell_type": "raw",
   "id": "31e16369",
   "metadata": {},
   "source": [
    "header = html.Div([\n",
    "    html.P('Dashboard Template')], className = \"PAGE_HEADER\" , #style={**HEADER_STYLE,**NOPADDING},\n",
    ")\n",
    "\n",
    "fdivs = [html.P(\"ACG / WT\")]\n",
    "footer = html.Div(fdivs, className = \"PAGE_FOOTER PAGE_NOPADDING\",) #style={**FOOTER_STYLE,**NOPADDING},)\n",
    "\n",
    "\n",
    "\n",
    "#legend_out_graph\n",
    "#footer = html.Div(fdivs, style=FOOTER_STYLE,)\n",
    "#footer = html.Div(filters, style=FOOTER_STYLE,)\n",
    "\n",
    "adbar = html.Div([\n",
    "    html.P('R')],\n",
    "    className = \"PAGE_ADBAR PAGE_NOPADDING\"\n",
    "    #style={**ADBAR_STYLE,**NOPADDING},\n",
    ")\n",
    "\n",
    "sidebar = html.Div(\n",
    "    [html.P(\"L\", className=\"lead\")],\n",
    "    #filters,\n",
    "    className = \"PAGE_SIDEBAR PAGE_NOPADDING\",\n",
    "    #style={**SIDEBAR_STYLE,**NOPADDING},\n",
    ")\n"
   ]
  },
  {
   "cell_type": "code",
   "execution_count": 10,
   "id": "41c5fca6",
   "metadata": {},
   "outputs": [],
   "source": [
    "headertext = \"Dark Matter Tool\"\n",
    "footertext = \"ACG\"\n",
    "\n",
    "def GetHeaderAndFooter(headertext, footertext):\n",
    "\n",
    "\n",
    "    hdivs = html.P(headertext)\n",
    "    header1 = html.Div([hdivs], className = \"FULL_DIV PAGE_NOPADDING\",)\n",
    "\n",
    "    fdivs = [html.P(footertext)]\n",
    "    \n",
    "    footer1 = html.Div(fdivs, className = \"FULL_DIV PAGE_NOPADDING\",)\n",
    "\n",
    "    #headerrow_out =  html.Div(children=[header1],className = \"row PAGE_HEADER PAGE_NOPADDING\",)\n",
    "\n",
    "    #footerrow_out =  html.Div(children=[footer1],className = \"row PAGE_FOOTER PAGE_NOPADDING\",)\n",
    "    \n",
    "    header_out =  html.Div(children=[header1],className = \"PAGE_HEADER PAGE_NOPADDING\",)\n",
    "\n",
    "    footer_out =  html.Div(children=[footer1],className = \"PAGE_FOOTER PAGE_NOPADDING\",)\n",
    "    \n",
    "    return header_out, footer_out\n",
    "\n",
    "page_header, page_footer = GetHeaderAndFooter(headertext, footertext)"
   ]
  },
  {
   "cell_type": "code",
   "execution_count": 11,
   "id": "d656f747",
   "metadata": {},
   "outputs": [],
   "source": [
    "l_sidebar_in = 'L sidebar'\n",
    "r_sidebar_in = 'R sidebar'\n",
    "\n",
    "def GetSideBars(l_sidebar_in, r_sidebar_in):\n",
    "\n",
    "    l_sidebar_out =  html.Div(children='L sidebar',\n",
    "                                  className=\"PAGE_NOPADDING PAGE_SIDE_LEFT\",)\n",
    "    \n",
    "    r_sidebar_out =  html.Div(children='R sidebar',\n",
    "                                  className=\"PAGE_NOPADDING PAGE_SIDE_RIGHT\",)\n",
    "    \n",
    "    \n",
    "    return l_sidebar_out, r_sidebar_out\n",
    "\n",
    "\n",
    "page_l_sidebar, page_r_sidebar = GetSideBars(l_sidebar_in, r_sidebar_in) "
   ]
  },
  {
   "cell_type": "code",
   "execution_count": 12,
   "id": "10bbb638",
   "metadata": {},
   "outputs": [
    {
     "data": {
      "text/plain": [
       "Div(children='L sidebar', className='PAGE_NOPADDING PAGE_SIDE_LEFT')"
      ]
     },
     "execution_count": 12,
     "metadata": {},
     "output_type": "execute_result"
    }
   ],
   "source": [
    "page_l_sidebar"
   ]
  },
  {
   "cell_type": "code",
   "execution_count": 13,
   "id": "d5df6336",
   "metadata": {},
   "outputs": [
    {
     "ename": "NameError",
     "evalue": "name 'page_frame' is not defined",
     "output_type": "error",
     "traceback": [
      "\u001b[0;31m---------------------------------------------------------------------------\u001b[0m",
      "\u001b[0;31mNameError\u001b[0m                                 Traceback (most recent call last)",
      "\u001b[0;32m/tmp/ipykernel_17010/120053403.py\u001b[0m in \u001b[0;36m<module>\u001b[0;34m\u001b[0m\n\u001b[0;32m----> 1\u001b[0;31m \u001b[0mcontent_frame\u001b[0m \u001b[0;34m=\u001b[0m \u001b[0mpage_frame\u001b[0m\u001b[0;34m.\u001b[0m\u001b[0mcontent_frame\u001b[0m\u001b[0;34m\u001b[0m\u001b[0;34m\u001b[0m\u001b[0m\n\u001b[0m\u001b[1;32m      2\u001b[0m \u001b[0mcontent_frame\u001b[0m\u001b[0;34m\u001b[0m\u001b[0;34m\u001b[0m\u001b[0m\n",
      "\u001b[0;31mNameError\u001b[0m: name 'page_frame' is not defined"
     ]
    }
   ],
   "source": [
    "#content_frame = page_frame.content_frame\n",
    "#content_frame"
   ]
  },
  {
   "cell_type": "raw",
   "id": "b378e463",
   "metadata": {},
   "source": [
    "content = [html.Div([\n",
    "    html.H1('Multi-page app with Dash Pages'),\n",
    "\n",
    "    html.Div(\n",
    "        [\n",
    "            html.Div(\n",
    "                dcc.Link(\n",
    "                    f\"{page['name']} - {page['path']}\", href=page[\"relative_path\"]\n",
    "                )\n",
    "            )\n",
    "            for page in dash.page_registry.values()\n",
    "        ]\n",
    "    ),\n",
    "    dash.page_container\n",
    "])]"
   ]
  },
  {
   "cell_type": "raw",
   "id": "f3da44c2",
   "metadata": {},
   "source": [
    "content = [html.Div([\n",
    "    html.H1('Multi-page app with Dash Pages'),\n",
    "    dash.page_container\n",
    "])]"
   ]
  },
  {
   "cell_type": "code",
   "execution_count": null,
   "id": "c24b7f0a",
   "metadata": {},
   "outputs": [],
   "source": [
    "\n",
    "\n",
    "#cdivs = [html.P(\"content\", style=NOPADDING)]\n",
    "#cdivs = [layout7]\n",
    "#cdivs = threecolumnrow\n",
    "cdivs = dash.page_container\n",
    "\n",
    "content = [html.Div(cdivs,className = \"PAGE_CONTENT PAGE_NOPADDING\",)]\n",
    "\n",
    "#content_frame = [page_header,page_l_sidebar,page_r_sidebar,page_footer]\n",
    "#content_frame = [page_l_sidebar,page_r_sidebar]\n",
    "\n",
    "#content_frame = [page_header,page_footer]\n",
    "\n",
    "\n",
    "\n",
    "full_layout = content_frame + content\n",
    "#full_layout = content_frame\n",
    "\n",
    "layout_empty = html.Div(full_layout,\n",
    "                   className=\"container-fluid PAGE_PARENT_CONTAINER PAGE_NOPADDING\",\n",
    "                   #style={**PARENT_CONTAINER_STYLE,**NOPADDING},\n",
    "                  )"
   ]
  },
  {
   "cell_type": "code",
   "execution_count": null,
   "id": "80df42d3",
   "metadata": {},
   "outputs": [],
   "source": []
  },
  {
   "cell_type": "code",
   "execution_count": null,
   "id": "fb300d96",
   "metadata": {},
   "outputs": [],
   "source": []
  },
  {
   "cell_type": "code",
   "execution_count": null,
   "id": "ff9d5668",
   "metadata": {},
   "outputs": [],
   "source": []
  },
  {
   "cell_type": "code",
   "execution_count": null,
   "id": "3b8f4504",
   "metadata": {},
   "outputs": [],
   "source": []
  },
  {
   "cell_type": "code",
   "execution_count": null,
   "id": "b89324ec",
   "metadata": {},
   "outputs": [],
   "source": [
    "maincolumn = dbc.Col(\n",
    "            [\n",
    "               html.P('Main Column')\n",
    "            ],\n",
    "            width=10,)"
   ]
  },
  {
   "cell_type": "code",
   "execution_count": null,
   "id": "73e99a5b",
   "metadata": {},
   "outputs": [],
   "source": [
    "chartrow = dbc.Row([\n",
    "    dbc.Col([\n",
    "        dcc.Graph(id='basicgraph', responsive=True, style={\n",
    "            'display': 'block'\n",
    "        })\n",
    "    ])\n",
    "], className=\"CONTENT_NOPADDING CHART_ROW\",)"
   ]
  },
  {
   "cell_type": "raw",
   "id": "ede04c1d",
   "metadata": {},
   "source": [
    "charttwotablecolumn = dbc.Col(\n",
    "            [\n",
    "                chartrow,row3_1,row3_2\n",
    "            ],\n",
    "            width=10,)"
   ]
  },
  {
   "cell_type": "raw",
   "id": "a02a16d8",
   "metadata": {},
   "source": [
    "fourcolumns =  html.Div(className=\"row ALL_ROW CONTENT_NOPADDING\",\n",
    "                        children=[l_sidebar_col,##column_chart,\n",
    "                                                  maincolumn,\n",
    "                                                  r_sidebar_col,],\n",
    "                       )\n",
    "\n",
    "layout4 = html.Div([headerrow,fourcolumns,footerrow],\n",
    "                   className=\"container-fluid PAGE_PARENT_CONTAINER\",\n",
    "                  )\n",
    "\n",
    "#app.layout = layout4"
   ]
  },
  {
   "cell_type": "code",
   "execution_count": null,
   "id": "ed149146",
   "metadata": {},
   "outputs": [],
   "source": [
    "app.layout = layout_empty"
   ]
  },
  {
   "cell_type": "raw",
   "id": "c39a97d2",
   "metadata": {},
   "source": [
    "https://dash.plotly.com/datatable/interactivity"
   ]
  },
  {
   "cell_type": "code",
   "execution_count": null,
   "id": "211fdde8",
   "metadata": {},
   "outputs": [],
   "source": [
    "#app.run_server(host=\"127.0.0.1\", port=8002,debug=True)\n",
    "app.run_server(debug=True,port=5050)"
   ]
  },
  {
   "cell_type": "markdown",
   "id": "610e8b67",
   "metadata": {},
   "source": [
    "{'report_name': 'report_name', 'ad_account': 'ad_account', 'app_id': 'app_id', 'access_token': 'access_token1'}"
   ]
  }
 ],
 "metadata": {
  "kernelspec": {
   "display_name": "Python 3",
   "language": "python",
   "name": "python3"
  },
  "language_info": {
   "codemirror_mode": {
    "name": "ipython",
    "version": 3
   },
   "file_extension": ".py",
   "mimetype": "text/x-python",
   "name": "python",
   "nbconvert_exporter": "python",
   "pygments_lexer": "ipython3",
   "version": "3.8.10"
  }
 },
 "nbformat": 4,
 "nbformat_minor": 5
}

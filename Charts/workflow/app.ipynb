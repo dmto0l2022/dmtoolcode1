{
 "cells": [
  {
   "cell_type": "code",
   "execution_count": 1,
   "id": "2c5a6396-6417-46b0-a43b-757279cf31ed",
   "metadata": {},
   "outputs": [],
   "source": [
    "#!pip install dash_bootstrap_components"
   ]
  },
  {
   "cell_type": "code",
   "execution_count": 2,
   "id": "b7703b90-70f0-478a-a337-43414b2e489b",
   "metadata": {},
   "outputs": [],
   "source": [
    "import os"
   ]
  },
  {
   "cell_type": "code",
   "execution_count": 3,
   "id": "33818c06-e077-4cb3-8070-253b91b5e18d",
   "metadata": {},
   "outputs": [],
   "source": [
    "cwd = os.getcwd()"
   ]
  },
  {
   "cell_type": "code",
   "execution_count": 4,
   "id": "15a6340d",
   "metadata": {},
   "outputs": [],
   "source": [
    "import dash\n",
    "from dash import dcc\n",
    "from dash import html\n",
    "from dash import callback_context\n",
    "from dash import dash_table\n",
    "\n",
    "import plotly.graph_objects as go\n",
    "from plotly.subplots import make_subplots\n",
    "\n",
    "from dash import Dash, Input, Output, callback, State\n",
    "\n",
    "from jupyter_dash import JupyterDash\n",
    "\n",
    "import dash_bootstrap_components as dbc"
   ]
  },
  {
   "cell_type": "code",
   "execution_count": 5,
   "id": "4ad9857f",
   "metadata": {},
   "outputs": [],
   "source": [
    "import pandas as pd"
   ]
  },
  {
   "cell_type": "code",
   "execution_count": 6,
   "id": "74549f9d",
   "metadata": {},
   "outputs": [
    {
     "data": {
      "text/plain": [
       "{'fontFamily': 'Open Sans',\n",
       " 'textAlign': 'center',\n",
       " 'padding': '0px',\n",
       " 'whiteSpace': 'inherit',\n",
       " 'fontSize': '9px'}"
      ]
     },
     "execution_count": 6,
     "metadata": {},
     "output_type": "execute_result"
    }
   ],
   "source": [
    "import table_styling as ts\n",
    "ts40 = ts.table40style\n",
    "ts40.style_table_40\n",
    "ts40.style_cell_9pt"
   ]
  },
  {
   "cell_type": "code",
   "execution_count": 7,
   "id": "e9254c87",
   "metadata": {},
   "outputs": [],
   "source": [
    "import frame as frame\n",
    "page_frame = frame.PageFrame()"
   ]
  },
  {
   "cell_type": "code",
   "execution_count": 9,
   "id": "ff5ded61",
   "metadata": {},
   "outputs": [
    {
     "data": {
      "text/plain": [
       "Div(children='L Var', className='col col-lg-1 PAGE_NOPADDING PAGE_SIDEBAR')"
      ]
     },
     "execution_count": 9,
     "metadata": {},
     "output_type": "execute_result"
    }
   ],
   "source": [
    "page_frame.l_sidebar"
   ]
  },
  {
   "cell_type": "code",
   "execution_count": null,
   "id": "48642a1e",
   "metadata": {},
   "outputs": [],
   "source": [
    "#COMPONENT_STYLE = \"/assets/my_component.css\"\n",
    "pages_styles = \"/assets/pagestyles.css\"\n",
    "content_styles = \"/assets/contents.css\"\n",
    "external_stylesheets=[dbc.themes.BOOTSTRAP, pages_styles, content_styles]"
   ]
  },
  {
   "cell_type": "code",
   "execution_count": null,
   "id": "ce319a82",
   "metadata": {},
   "outputs": [],
   "source": [
    "app = JupyterDash(__name__,requests_pathname_prefix=\"/dash1/\",routes_pathname_prefix='/dash1/',\n",
    "                  external_stylesheets=external_stylesheets,\n",
    "                  meta_tags=[{'name': 'viewport', 'content': 'width=device-width, initial-scale=1'}],\n",
    "                 suppress_callback_exceptions=True)\n",
    "# Create server variable with Flask server object for use with gunicorn\n",
    "server = app.server"
   ]
  },
  {
   "cell_type": "markdown",
   "id": "4adf7492",
   "metadata": {},
   "source": [
    "# Color Code"
   ]
  },
  {
   "cell_type": "code",
   "execution_count": null,
   "id": "55d75942",
   "metadata": {},
   "outputs": [],
   "source": [
    "import plotly.graph_objects as go\n",
    "import plotly.express as px\n",
    "from itertools import cycle\n",
    "\n",
    "# colors\n",
    "palette = cycle(px.colors.qualitative.Bold)\n",
    "#palette = cycle(['black', 'grey', 'red', 'blue'])"
   ]
  },
  {
   "cell_type": "code",
   "execution_count": null,
   "id": "5dc2e784",
   "metadata": {},
   "outputs": [],
   "source": [
    "COLUMN_DIV={\"height\":\"100%\",\n",
    "               \"background-color\":\"orange\", \"border\":\"2px solid black\",  \"color\": \"purple\"}\n",
    "\n",
    "ALL_ROW={\"width\":\"100%\",\"height\":\"100%\"}\n",
    "\n",
    "TOP_CHART_ROW={\"width\":\"100%\",\"height\":\"70%\"}\n",
    "BOTTOM_CHART_ROW={\"width\":\"100%\",\"height\":\"30%\"}\n",
    "\n",
    "BOTTOM_TABLE_ROW={\"width\":\"100%\",\"height\":\"30%\"}\n",
    "\n",
    "NOPADDING =  {\"padding\": \"0 !important\",\n",
    "             \"padding-left\": \"0\",\n",
    "             \"padding-right\":\"0\",\n",
    "             \"margin-left\":\"0\",\n",
    "             \"margin-right\": \"0\",\n",
    "             \"border\":\"1px solid black\"}\n",
    "GRAPH_STYLE = {'display': 'block', 'height': '100%', 'width': '100%',}\n",
    "\n",
    "TABLE_ROW={\"width\":\"100%\",\"height\":\"50%\"}"
   ]
  },
  {
   "cell_type": "code",
   "execution_count": null,
   "id": "00012f07",
   "metadata": {},
   "outputs": [],
   "source": [
    "class pageframe():\n",
    "    ## these styles fix the containers on the page and would not be mobile responsive\n",
    "    header_height, footer_height = \"5vh\", \"5vh\"\n",
    "    sidebar_width, adbar_width = \"5vw\", \"5vw\"\n",
    "    content_width, content_height = \"90vw\" , \"90vh\"\n",
    "    ##table_height = \"20vh\"\n",
    "    ##headerplustable_height = \"25vh\"\n",
    "\n",
    "    ## these styles fix positions.\n",
    "\n",
    "    NOPADDING =  {\"padding\": \"0 !important\",\n",
    "                 \"padding-left\": \"0\",\n",
    "                 \"padding-right\":\"0\",\n",
    "                 \"margin-left\":\"0\",\n",
    "                 \"margin-right\": \"0\",\n",
    "                 \"border\":\"1px solid black\"}\n",
    "\n",
    "\n",
    "    HEADER_STYLE = {\n",
    "        \"position\": \"fixed\",\n",
    "        \"top\": 0,\n",
    "        \"left\": 0,\n",
    "        \"right\": 0,\n",
    "        \"height\": header_height,\n",
    "        \"background-color\": \"lightblue\",\n",
    "    }\n",
    "\n",
    "\n",
    "    SIDEBAR_STYLE = {\n",
    "        \"position\": \"fixed\",\n",
    "        \"top\": header_height,\n",
    "        \"left\": 0,\n",
    "        \"bottom\": footer_height,\n",
    "        \"width\": sidebar_width,\n",
    "        \"background-color\": \"lightgreen\",\n",
    "    }\n",
    "\n",
    "    ADBAR_STYLE = {\n",
    "        \"position\": \"fixed\",\n",
    "        \"top\": header_height,\n",
    "        \"right\": 0,\n",
    "        \"bottom\": footer_height,\n",
    "        \"width\": adbar_width,\n",
    "        \"background-color\": \"lightgreen\",\n",
    "    }\n",
    "\n",
    "    FOOTER_STYLE = {\n",
    "        \"position\": \"fixed\",\n",
    "        \"bottom\": 0,\n",
    "        \"left\": 0,\n",
    "        \"right\": 0,\n",
    "        \"height\": footer_height,\n",
    "        \"background-color\": \"gray\",\n",
    "    }\n",
    "\n",
    "    CONTENT_STYLE = {\n",
    "        \"position\": \"fixed\",\n",
    "        \"top\": header_height,\n",
    "        \"height\" :content_height,\n",
    "        \"width\" : content_width,\n",
    "        \"left\": sidebar_width,\n",
    "        #\"margin-top\": headerplustable_height,\n",
    "        #\"margin-left\": sidebar_width,\n",
    "        #\"margin-right\": adbar_width,\n",
    "        #\"margin-bottom\": footer_height,\n",
    "        \"background-color\":\"blue\",\n",
    "    }\n",
    "\n",
    "\n",
    "    PARENT_CONTAINER_STYLE = {\"height\":\"100vh\",\n",
    "                              \"width\":\"100vw\",\n",
    "                              \"background-color\":\"pink\"}"
   ]
  },
  {
   "cell_type": "code",
   "execution_count": null,
   "id": "9f652778",
   "metadata": {},
   "outputs": [],
   "source": [
    "#pf = pageframe()"
   ]
  },
  {
   "cell_type": "raw",
   "id": "ebb6272e",
   "metadata": {},
   "source": [
    "TABLE_STYLE = {\n",
    "    \"position\": \"fixed\",\n",
    "    \"top\": header_height,\n",
    "    \"margin-left\": sidebar_width,\n",
    "    \"margin-right\": adbar_width,\n",
    "    \"margin-bottom\": footer_height,\n",
    "    \"left\": 0,\n",
    "    \"right\": 0,\n",
    "    \"height\": table_height,\n",
    "    \"padding\": \"0rem 0rem\",\n",
    "    \"background-color\": \"white\",\n",
    "}"
   ]
  },
  {
   "cell_type": "code",
   "execution_count": null,
   "id": "37d43a3a",
   "metadata": {},
   "outputs": [],
   "source": [
    "import plotly.graph_objects as go\n",
    "\n",
    "fig1 = go.Figure()\n",
    "fig2 = go.Figure()\n",
    "fig3 = go.Figure()\n",
    "\n",
    "fig1.add_trace(go.Scatter(\n",
    "    x=[0, 1, 2, 3, 4, 5, 6, 7, 8],\n",
    "    y=[0, 1, 2, 3, 4, 5, 6, 7, 8]\n",
    "))\n",
    "\n",
    "fig2.add_trace(go.Scatter(\n",
    "    x=[0, 1, 2, 3, 4, 5, 6, 7, 8],\n",
    "    y=[0, 1, 2, 3, 4, 5, 6, 7, 8]\n",
    "))\n",
    "\n",
    "fig3.add_trace(go.Scatter(\n",
    "    x=[0, 1, 2, 3, 4, 5, 6, 7, 8],\n",
    "    y=[0, 1, 2, 3, 4, 5, 6, 7, 8]\n",
    "))\n",
    "\n",
    "\n",
    "fig1.update_layout(\n",
    "    autosize=True,\n",
    "    margin=dict(\n",
    "        l=0,\n",
    "        r=0,\n",
    "        b=0,\n",
    "        t=0,\n",
    "        pad=0\n",
    "    ),\n",
    "    paper_bgcolor=\"Green\",\n",
    "    xaxis_title=\"X AXIS TITLE\",\n",
    "    yaxis_title=\"Y AXIS TITLE\",\n",
    ")\n",
    "\n",
    "\n",
    "#fig1.update_yaxes(automargin=True)\n",
    "#fig1.update_xaxes(automargin=True)\n",
    "\n",
    "fig2.update_layout(\n",
    "    autosize=True,\n",
    "    margin=dict(\n",
    "        l=0,\n",
    "        r=0,\n",
    "        b=0,\n",
    "        t=0,\n",
    "        pad=0\n",
    "    ),\n",
    "    paper_bgcolor=\"Blue\",\n",
    "    xaxis_title=\"X AXIS TITLE\",\n",
    "    yaxis_title=\"Y AXIS TITLE\",\n",
    ")\n",
    "\n",
    "#fig2.update_yaxes(automargin=True)\n",
    "#fig2.update_xaxes(automargin=True)\n",
    "\n",
    "fig3.update_layout(\n",
    "    autosize=True,\n",
    "    margin=dict(\n",
    "        l=0,\n",
    "        r=0,\n",
    "        b=0,\n",
    "        t=0,\n",
    "        pad=0\n",
    "    ),\n",
    "    paper_bgcolor=\"Blue\",\n",
    "    xaxis_title=\"X AXIS TITLE\",\n",
    "    yaxis_title=\"Y AXIS TITLE\",\n",
    ")"
   ]
  },
  {
   "cell_type": "code",
   "execution_count": null,
   "id": "3fcae2a9",
   "metadata": {},
   "outputs": [],
   "source": [
    "twographrows = [\n",
    "    dbc.Row([\n",
    "            dbc.Col([\n",
    "                dcc.Graph(figure=fig1, id='basicgraph1', responsive=True, style={**GRAPH_STYLE,**NOPADDING})\n",
    "            ])\n",
    "            ], style={**TOP_CHART_ROW,**NOPADDING}),\n",
    "        dbc.Row([\n",
    "            dbc.Col([\n",
    "                dcc.Graph(figure=fig2, id='basicgraph2', responsive=True, style={**GRAPH_STYLE,**NOPADDING})\n",
    "            ])\n",
    "        ], style={**BOTTOM_CHART_ROW,**NOPADDING}, class_name = 'BOTTOM_CHART_ROW' ),\n",
    "]"
   ]
  },
  {
   "cell_type": "code",
   "execution_count": null,
   "id": "6254f982",
   "metadata": {},
   "outputs": [],
   "source": [
    "style_table={\n",
    "                #'maxHeight': '50ex',\n",
    "                'height': '44vh', ## does not know any detail about parent container\n",
    "                'overflowY': 'scroll', # 'auto'\n",
    "                'width': '100%',\n",
    "                'minWidth': '100%',\n",
    "            }\n",
    "\n",
    "\n",
    "# style cell\n",
    "style_cell={\n",
    "    'fontFamily': 'Open Sans',\n",
    "    'textAlign': 'center',\n",
    "    #'height': '60px',\n",
    "    #'padding': '2px 22px',\n",
    "    ##'height': '11px', ### this did not have any impact, see css in DataTable Definition\n",
    "    'padding': '0px 0px',\n",
    "    'whiteSpace': 'inherit',\n",
    "    #'overflow': 'hidden',\n",
    "    #'textOverflow': 'ellipsis',\n",
    "    \"padding-left\": 0,\n",
    "     \"padding-right\":0,\n",
    "     \"margin-left\":0,\n",
    "     \"margin-right\": 0,\n",
    "     \"fontSize\":10,\n",
    "}"
   ]
  },
  {
   "cell_type": "code",
   "execution_count": null,
   "id": "95e95439",
   "metadata": {},
   "outputs": [],
   "source": [
    "solar_df = pd.read_csv('https://raw.githubusercontent.com/plotly/datasets/master/solar.csv')\n",
    "\n",
    "## example [ {\"selector\": \".dash-spreadsheet\", \"rule\": 'font-family: \"monospace\"'} ].\n",
    "\n",
    "#css=[{'selector': '.dash-spreadsheet td th', 'rule': 'height: 12px;'}],\n",
    "#css=[{'selector': '.dash-spreadsheet tr', 'rule': 'height: 12px;'}], ## working\n",
    "\n",
    "#css=[{'selector': '.dash-spreadsheet tr', 'rule': 'line-height: 10px;'}],\n",
    "\n",
    "## unclear why these had no impact\n",
    "#css=[{'selector': '.dash-cell td', 'rule': 'height: 9px;'}], \n",
    "#css=[\n",
    "#    {'selector': '.Select-menu-outer', 'rule': 'display: block !important;'},\n",
    "#    {'selector': '.dash-spreadsheet td th', 'rule': 'height: 11px;'},\n",
    "    #{'selector': '.dash-spreadsheet tr td', 'rule': 'height: 11px;'},\n",
    "#    {'selector': '.dash-spreadsheet td th', 'rule': 'line-height: 11px;'},  # set height of header\n",
    "    #{'selector': '.dash-spreadsheet tr td', 'rule': 'line-height: 11px;'}  # set height of body rows\n",
    "#    ],\n",
    "#css=[{\n",
    "#        'selector': '.dash-spreadsheet td div',\n",
    "#        'rule': '''\n",
    "#            line-height: 10px;\n",
    "#            display: block;\n",
    "#            overflow-y: hidden;\n",
    "#        '''\n",
    "#    }],\n",
    "\n",
    "\n",
    "\n",
    "dash_table1 = dash_table.DataTable(\n",
    "            id='datatable1',\n",
    "            data=solar_df.to_dict('records'),\n",
    "            columns=[{\"name\": i, \"id\": i} for i in solar_df.columns],\n",
    "            fixed_rows={'headers': True},\n",
    "            css=[{'selector': '.dash-spreadsheet tr', 'rule': 'height: 12px;'}], ## working\n",
    "            style_table=ts40.style_table_40,\n",
    "            style_cell=ts40.style_cell_9pt,\n",
    "            )\n",
    "\n",
    "#dash_table1\n"
   ]
  },
  {
   "cell_type": "raw",
   "id": "7001b0f2",
   "metadata": {},
   "source": [
    "tabletest = [dbc.Row([\n",
    "            dbc.Col(dash_table1)\n",
    "        ], style=NOPADDING),]"
   ]
  },
  {
   "cell_type": "code",
   "execution_count": null,
   "id": "fba7e617",
   "metadata": {},
   "outputs": [],
   "source": [
    "#tabletest"
   ]
  },
  {
   "cell_type": "code",
   "execution_count": null,
   "id": "d8e4e2ed",
   "metadata": {},
   "outputs": [],
   "source": [
    "dash_table2 = dash_table.DataTable(\n",
    "            id='datatable2',\n",
    "            data=solar_df.to_dict('records'),\n",
    "            columns=[{\"name\": i, \"id\": i} for i in solar_df.columns],\n",
    "            fixed_rows={'headers': True},\n",
    "            css=[{'selector': '.dash-spreadsheet tr', 'rule': 'height: 12px;'}], ## working\n",
    "            style_table=ts40.style_table_40,\n",
    "            style_cell=ts40.style_cell_9pt,\n",
    "            )"
   ]
  },
  {
   "cell_type": "code",
   "execution_count": null,
   "id": "e7446f2c",
   "metadata": {},
   "outputs": [],
   "source": [
    "dash_table3 = dash_table.DataTable(\n",
    "            id='datatable3',\n",
    "            data=solar_df.to_dict('records'),\n",
    "            columns=[{\"name\": i, \"id\": i} for i in solar_df.columns],\n",
    "            fixed_rows={'headers': True},\n",
    "            css=[{'selector': '.dash-spreadsheet tr', 'rule': 'height: 12px;'}], ## working\n",
    "            style_table=ts40.style_table_40,\n",
    "            style_cell=ts40.style_cell_9pt,\n",
    "            )"
   ]
  },
  {
   "cell_type": "code",
   "execution_count": null,
   "id": "a6e3680d",
   "metadata": {},
   "outputs": [],
   "source": [
    "twotablerows = [\n",
    "    dbc.Row([dbc.Col(dash_table1)], class_name = \"TABLE_ROW NOPADDING_CONTENT\"),\n",
    "    ##style={**TABLE_ROW,**NOPADDING}),\n",
    "    dbc.Row([dbc.Col(dash_table2)], class_name = \"TABLE_ROW NOPADDING_CONTENT\")\n",
    "    ##style={**TABLE_ROW,**NOPADDING}),\n",
    "               ]"
   ]
  },
  {
   "cell_type": "code",
   "execution_count": null,
   "id": "e59fc17b",
   "metadata": {},
   "outputs": [],
   "source": [
    "graphtablerow = [dbc.Row([\n",
    "                dbc.Col([\n",
    "                    dcc.Graph(figure=fig3,\n",
    "                              id='basicgraph1',\n",
    "                              responsive=True,\n",
    "                              className = \"GRAPH_STYLE NOPADDING_CONTENT\",\n",
    "                              #style={**GRAPH_STYLE,**NOPADDING}\n",
    "                             )\n",
    "                    ])\n",
    "                ], class_name = \"TOP_CHART_ROW NOPADDING_CONTENT\"),\n",
    "    #style={**TOP_CHART_ROW,**NOPADDING}),\n",
    "        dbc.Row([dbc.Col(dash_table3)],  className = \"BOTTOM_TABLE_ROW NOPADDING_CONTENT\"),\n",
    "                ##style={**BOTTOM_TABLE_ROW,**NOPADDING}\n",
    "                 ]"
   ]
  },
  {
   "cell_type": "code",
   "execution_count": null,
   "id": "74fd03de",
   "metadata": {},
   "outputs": [],
   "source": [
    "column_1_var = 'Column 1'\n",
    "column_2_var = twotablerows\n",
    "column_3_var = graphtablerow\n",
    "\n",
    "def GetThreeColumns(column_1_in, column_2_in, column_3_in):\n",
    "\n",
    "    column_1_out =  html.Div(children=[column_1_in],\n",
    "                                  className=\"col col-lg-2 NOPADDING_CONTENT COLUMN_DIV\", ## col-md-2 col-sm-2\",\n",
    "                                  ##style={**NOPADDING, **COLUMN_DIV}\n",
    "                            )\n",
    "    \n",
    "    column_2_out =  html.Div(children=column_2_in,\n",
    "                                  className=\"col col-lg-5 NOPADDING_CONTENT COLUMN_DIV\", ## col-md-5 col-sm-12\",\n",
    "                                  #style={**NOPADDING, **COLUMN_DIV}\n",
    "                                )\n",
    "    \n",
    "    column_3_out =  html.Div(children=column_3_in,\n",
    "                                  className=\"col col-lg-5 NOPADDING_CONTENT COLUMN_DIV\" , ## col-md-5 col-sm-12\",\n",
    "                                  #style={**NOPADDING, **COLUMN_DIV}\n",
    "                            )\n",
    "    \n",
    "    threecolumnrow_out = dbc.Row([column_1_out,column_2_out, column_3_out], style={**NOPADDING, **ALL_ROW})\n",
    "    \n",
    "    return threecolumnrow_out\n",
    "\n",
    "\n",
    "threecolumnrow = GetThreeColumns(column_1_var, column_2_var, column_3_var) \n"
   ]
  },
  {
   "cell_type": "code",
   "execution_count": null,
   "id": "989f7f07",
   "metadata": {},
   "outputs": [],
   "source": [
    "header = html.Div([\n",
    "    html.P('Dashboard Template')], className = \"PAGE_HEADER\" , #style={**HEADER_STYLE,**NOPADDING},\n",
    ")\n",
    "\n",
    "fdivs = [html.P(\"ACG / WT\")]\n",
    "footer = html.Div(fdivs, className = \"PAGE_FOOTER PAGE_NOPADDING\",) #style={**FOOTER_STYLE,**NOPADDING},)\n",
    "\n",
    "\n",
    "\n",
    "#legend_out_graph\n",
    "#footer = html.Div(fdivs, style=FOOTER_STYLE,)\n",
    "#footer = html.Div(filters, style=FOOTER_STYLE,)\n",
    "\n",
    "adbar = html.Div([\n",
    "    html.P('R')],\n",
    "    className = \"PAGE_ADBAR PAGE_NOPADDING\"\n",
    "    #style={**ADBAR_STYLE,**NOPADDING},\n",
    ")\n",
    "\n",
    "sidebar = html.Div(\n",
    "    [html.P(\"L\", className=\"lead\")],\n",
    "    #filters,\n",
    "    className = \"PAGE_SIDEBAR PAGE_NOPADDING\",\n",
    "    #style={**SIDEBAR_STYLE,**NOPADDING},\n",
    ")\n"
   ]
  },
  {
   "cell_type": "code",
   "execution_count": null,
   "id": "c24b7f0a",
   "metadata": {},
   "outputs": [],
   "source": [
    "\n",
    "\n",
    "#cdivs = [html.P(\"content\", style=NOPADDING)]\n",
    "#cdivs = [layout7]\n",
    "cdivs = threecolumnrow\n",
    "\n",
    "\n",
    "content = [html.Div(cdivs,className = \"PAGE_CONTENT PAGE_NOPADDING\", \n",
    "                   #style={**CONTENT_STYLE,**NOPADDING},\n",
    "                  )]\n",
    "\n",
    "content_frame = [header,adbar,sidebar,footer]\n",
    "\n",
    "full_layout = content_frame + content\n",
    "\n",
    "layout_empty = html.Div(full_layout,\n",
    "                   className=\"container-fluid PAGE_PARENT_CONTAINER PAGE_NOPADDING\",\n",
    "                   #style={**PARENT_CONTAINER_STYLE,**NOPADDING},\n",
    "                  )"
   ]
  },
  {
   "cell_type": "code",
   "execution_count": null,
   "id": "929c2066",
   "metadata": {},
   "outputs": [],
   "source": [
    "\n",
    "#########################################################\n",
    "## New Styles\n",
    "#########################################################\n",
    "\n",
    "NOPADDING =  {\"padding\": \"0 !important\",\n",
    "             \"padding-left\": \"0\",\n",
    "             \"padding-right\":\"0\",\n",
    "             \"margin-left\":\"0\",\n",
    "             \"margin-right\": \"0\",\n",
    "             \"border\":\"1px solid black\"}\n",
    "\n",
    "MASTER_CONTAINER_STYLE = {\"height\":\"100vh\",\n",
    "                          \"width\":\"100vw\",\n",
    "                          \"background-color\":\"pink\"}\n",
    "\n",
    "\n",
    "FULL_DIV={\"height\":\"100%\",\"width\": \"100%\",\"background-color\":\"black\",\n",
    "          \"border\":\"1px solid black\",\n",
    "          \"color\": \"purple\"}\n",
    "\n",
    "SIDE_COLUMN={\"width\":\"10%\",\"height\":\"100%\"}\n",
    "\n",
    "\n",
    "HALF_COLUMN={\"width\":\"50%\",\"height\":\"100%\",\"background-color\":\"green\"}\n",
    "\n",
    "QUARTER_COLUMN={\"width\":\"25%\",\"height\":\"100%\",\"background-color\":\"green\"}\n",
    "\n",
    "FULL_HEIGHT_ROW={\"width\":\"100%\",\"height\":\"100%\"}\n",
    "\n",
    "SIDEBAR_DIV={\"height\":\"100%\", \"background-color\":\"black\", \"border\":\"1px solid black\",  \"color\": \"purple\"}\n",
    "\n",
    "CHART_DIV={\"width\":\"100%\",\"height\":\"100%\",\n",
    "           \"background-color\":\"green\", \"border\":\"1px solid black\",  \"color\": \"purple\"}\n",
    "\n",
    "COLUMN_DIV={\"height\":\"100%\",\n",
    "           \"background-color\":\"orange\", \"border\":\"2px solid black\",  \"color\": \"purple\"}\n",
    "\n",
    "TABLE_DIV={\"height\":\"100%\",\n",
    "           \"background-color\":\"green\", \"border\":\"2px solid green\",  \"color\": \"green\",\n",
    "           \"selector\": \".Select-menu-outer\", \"rule\": \"display: block !important\"}\n",
    "\n",
    "ALL_ROW={\"width\":\"100%\",\"height\":\"90%\"}\n",
    "\n",
    "TABLE_ROW={\"width\":\"50%\",\"height\":\"90%\"}\n",
    "\n",
    "CONTENT_ROW={\"width\":\"100%\",\"height\":\"90%\"}\n",
    "\n",
    "HEADER_ROW={\"width\":\"100%\",\"height\":\"5%\"}\n",
    "\n",
    "FOOTER_ROW={\"width\":\"100%\",\"height\":\"5%\"}\n",
    "\n",
    "CHART_ROW={\"width\":\"50%\",\"height\":\"50%\"}\n",
    "LEGEND_ROW={\"width\":\"100%\",\"height\":\"50%\"}\n",
    "STYLE_ROW={\"width\":\"100%\",\"height\":\"50%\"}"
   ]
  },
  {
   "cell_type": "code",
   "execution_count": null,
   "id": "80df42d3",
   "metadata": {},
   "outputs": [],
   "source": []
  },
  {
   "cell_type": "code",
   "execution_count": null,
   "id": "41c5fca6",
   "metadata": {},
   "outputs": [],
   "source": [
    "headertext = 'Dark Matter Tool'\n",
    "footertext = \"ACG / WT\"\n",
    "\n",
    "def GetHeaderAndFooter(headertext, footertext):\n",
    "\n",
    "\n",
    "    hdivs = html.P(headertext)\n",
    "    header1 = html.Div([hdivs], className = \"FULL_DIV PAGE_NOPADDING\",)\n",
    "\n",
    "    fdivs = [html.P(footertext)]\n",
    "    \n",
    "    footer1 = html.Div(fdivs, className = \"FULL_DIV PAGE_NOPADDING\",)\n",
    "\n",
    "    headerrow_out =  html.Div(children=[header1],className = \"row PAGE_HEADER PAGE_NOPADDING\",)\n",
    "\n",
    "    footerrow_out =  html.Div(children=[footer1],className = \"row PAGE_FOOTER PAGE_NOPADDING\",)\n",
    "    \n",
    "    return headerrow_out, footerrow_out\n",
    "\n",
    "headerrow, footerrow = GetHeaderAndFooter(headertext, footertext)"
   ]
  },
  {
   "cell_type": "code",
   "execution_count": null,
   "id": "fb300d96",
   "metadata": {},
   "outputs": [],
   "source": []
  },
  {
   "cell_type": "code",
   "execution_count": null,
   "id": "d656f747",
   "metadata": {},
   "outputs": [],
   "source": [
    "l_sidebar_in = 'L sidebar'\n",
    "r_sidebar_in = 'R sidebar'\n",
    "\n",
    "def GetSideBars(l_sidebar_in, r_sidebar_in):\n",
    "\n",
    "    l_sidebar_col_out =  html.Div(children='L sidebar',\n",
    "                                  className=\"col col-lg-1 PAGE_NOPADDING PAGE_SIDEBAR\",)\n",
    "    \n",
    "    r_sidebar_col_out =  html.Div(children='R sidebar',\n",
    "                                  className=\"col col-lg-1 PAGE_NOPADDING PAGE_SIDEBAR\",)\n",
    "    \n",
    "    \n",
    "    return l_sidebar_col_out, r_sidebar_col_out\n",
    "\n",
    "\n",
    "l_sidebar_col, r_sidebar_col = GetSideBars(l_sidebar_in, r_sidebar_in) "
   ]
  },
  {
   "cell_type": "code",
   "execution_count": null,
   "id": "ff9d5668",
   "metadata": {},
   "outputs": [],
   "source": []
  },
  {
   "cell_type": "code",
   "execution_count": null,
   "id": "3b8f4504",
   "metadata": {},
   "outputs": [],
   "source": []
  },
  {
   "cell_type": "code",
   "execution_count": null,
   "id": "b89324ec",
   "metadata": {},
   "outputs": [],
   "source": [
    "maincolumn = dbc.Col(\n",
    "            [\n",
    "               html.P('Main Column')\n",
    "            ],\n",
    "            width=10,)"
   ]
  },
  {
   "cell_type": "code",
   "execution_count": null,
   "id": "73e99a5b",
   "metadata": {},
   "outputs": [],
   "source": [
    "chartrow = dbc.Row([\n",
    "    dbc.Col([\n",
    "        dcc.Graph(id='basicgraph', responsive=True, style={\n",
    "            'display': 'block'\n",
    "        })\n",
    "    ])\n",
    "], className=\"CONTENT_NOPADDING CHART_ROW\",)"
   ]
  },
  {
   "cell_type": "raw",
   "id": "ede04c1d",
   "metadata": {},
   "source": [
    "charttwotablecolumn = dbc.Col(\n",
    "            [\n",
    "                chartrow,row3_1,row3_2\n",
    "            ],\n",
    "            width=10,)"
   ]
  },
  {
   "cell_type": "code",
   "execution_count": null,
   "id": "c634ec96",
   "metadata": {},
   "outputs": [],
   "source": [
    "fourcolumns =  html.Div(className=\"row ALL_ROW CONTENT_NOPADDING\",\n",
    "                        children=[l_sidebar_col,##column_chart,\n",
    "                                                  maincolumn,\n",
    "                                                  r_sidebar_col,],\n",
    "                       )\n",
    "\n",
    "layout4 = html.Div([headerrow,fourcolumns,footerrow],\n",
    "                   className=\"container-fluid PAGE_PARENT_CONTAINER\",\n",
    "                  )\n",
    "\n",
    "#app.layout = layout4"
   ]
  },
  {
   "cell_type": "code",
   "execution_count": null,
   "id": "fd13e4db",
   "metadata": {},
   "outputs": [],
   "source": [
    "app.layout = layout_empty"
   ]
  },
  {
   "cell_type": "raw",
   "id": "c39a97d2",
   "metadata": {},
   "source": [
    "https://dash.plotly.com/datatable/interactivity"
   ]
  },
  {
   "cell_type": "code",
   "execution_count": null,
   "id": "211fdde8",
   "metadata": {},
   "outputs": [],
   "source": [
    "#app.run_server(host=\"127.0.0.1\", port=8002,debug=True)\n",
    "app.run_server(debug=True,port=5050)"
   ]
  },
  {
   "cell_type": "markdown",
   "id": "610e8b67",
   "metadata": {},
   "source": [
    "{'report_name': 'report_name', 'ad_account': 'ad_account', 'app_id': 'app_id', 'access_token': 'access_token1'}"
   ]
  }
 ],
 "metadata": {
  "kernelspec": {
   "display_name": "Python 3",
   "language": "python",
   "name": "python3"
  },
  "language_info": {
   "codemirror_mode": {
    "name": "ipython",
    "version": 3
   },
   "file_extension": ".py",
   "mimetype": "text/x-python",
   "name": "python",
   "nbconvert_exporter": "python",
   "pygments_lexer": "ipython3",
   "version": "3.8.10"
  }
 },
 "nbformat": 4,
 "nbformat_minor": 5
}

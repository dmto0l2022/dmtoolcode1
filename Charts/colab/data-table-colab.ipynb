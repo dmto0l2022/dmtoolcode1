{
 "cells": [
  {
   "cell_type": "markdown",
   "id": "579eb8ec",
   "metadata": {
    "colab_type": "text",
    "id": "view-in-github"
   },
   "source": [
    "<a href=\"https://colab.research.google.com/github/andrewcgaitskell/dmtoolnotes/blob/main/Charts/data-table-colab.ipynb\" target=\"_parent\"><img src=\"https://colab.research.google.com/assets/colab-badge.svg\" alt=\"Open In Colab\"/></a>"
   ]
  },
  {
   "cell_type": "code",
   "execution_count": null,
   "id": "heul_FQKo52X",
   "metadata": {
    "colab": {
     "base_uri": "https://localhost:8080/"
    },
    "id": "heul_FQKo52X",
    "outputId": "96c6a12a-dcee-4ac4-c75c-bc725a591de8"
   },
   "outputs": [
    {
     "name": "stdout",
     "output_type": "stream",
     "text": [
      "Looking in indexes: https://pypi.org/simple, https://us-python.pkg.dev/colab-wheels/public/simple/\n",
      "Requirement already satisfied: jupyter-dash in /usr/local/lib/python3.7/dist-packages (0.4.2)\n",
      "Requirement already satisfied: ipython in /usr/local/lib/python3.7/dist-packages (from jupyter-dash) (5.5.0)\n",
      "Requirement already satisfied: dash in /usr/local/lib/python3.7/dist-packages (from jupyter-dash) (2.4.1)\n",
      "Requirement already satisfied: ipykernel in /usr/local/lib/python3.7/dist-packages (from jupyter-dash) (4.10.1)\n",
      "Requirement already satisfied: ansi2html in /usr/local/lib/python3.7/dist-packages (from jupyter-dash) (1.7.0)\n",
      "Requirement already satisfied: nest-asyncio in /usr/local/lib/python3.7/dist-packages (from jupyter-dash) (1.5.5)\n",
      "Requirement already satisfied: retrying in /usr/local/lib/python3.7/dist-packages (from jupyter-dash) (1.3.3)\n",
      "Requirement already satisfied: requests in /usr/local/lib/python3.7/dist-packages (from jupyter-dash) (2.23.0)\n",
      "Requirement already satisfied: flask in /usr/local/lib/python3.7/dist-packages (from jupyter-dash) (1.1.4)\n",
      "Requirement already satisfied: importlib-metadata in /usr/local/lib/python3.7/dist-packages (from ansi2html->jupyter-dash) (4.11.3)\n",
      "Requirement already satisfied: dash-html-components==2.0.0 in /usr/local/lib/python3.7/dist-packages (from dash->jupyter-dash) (2.0.0)\n",
      "Requirement already satisfied: flask-compress in /usr/local/lib/python3.7/dist-packages (from dash->jupyter-dash) (1.12)\n",
      "Requirement already satisfied: dash-core-components==2.0.0 in /usr/local/lib/python3.7/dist-packages (from dash->jupyter-dash) (2.0.0)\n",
      "Requirement already satisfied: plotly>=5.0.0 in /usr/local/lib/python3.7/dist-packages (from dash->jupyter-dash) (5.5.0)\n",
      "Requirement already satisfied: dash-table==5.0.0 in /usr/local/lib/python3.7/dist-packages (from dash->jupyter-dash) (5.0.0)\n",
      "Requirement already satisfied: Werkzeug<2.0,>=0.15 in /usr/local/lib/python3.7/dist-packages (from flask->jupyter-dash) (1.0.1)\n",
      "Requirement already satisfied: Jinja2<3.0,>=2.10.1 in /usr/local/lib/python3.7/dist-packages (from flask->jupyter-dash) (2.11.3)\n",
      "Requirement already satisfied: click<8.0,>=5.1 in /usr/local/lib/python3.7/dist-packages (from flask->jupyter-dash) (7.1.2)\n",
      "Requirement already satisfied: itsdangerous<2.0,>=0.24 in /usr/local/lib/python3.7/dist-packages (from flask->jupyter-dash) (1.1.0)\n",
      "Requirement already satisfied: MarkupSafe>=0.23 in /usr/local/lib/python3.7/dist-packages (from Jinja2<3.0,>=2.10.1->flask->jupyter-dash) (2.0.1)\n",
      "Requirement already satisfied: six in /usr/local/lib/python3.7/dist-packages (from plotly>=5.0.0->dash->jupyter-dash) (1.15.0)\n",
      "Requirement already satisfied: tenacity>=6.2.0 in /usr/local/lib/python3.7/dist-packages (from plotly>=5.0.0->dash->jupyter-dash) (8.0.1)\n",
      "Requirement already satisfied: brotli in /usr/local/lib/python3.7/dist-packages (from flask-compress->dash->jupyter-dash) (1.0.9)\n",
      "Requirement already satisfied: typing-extensions>=3.6.4 in /usr/local/lib/python3.7/dist-packages (from importlib-metadata->ansi2html->jupyter-dash) (4.2.0)\n",
      "Requirement already satisfied: zipp>=0.5 in /usr/local/lib/python3.7/dist-packages (from importlib-metadata->ansi2html->jupyter-dash) (3.8.0)\n",
      "Requirement already satisfied: tornado>=4.0 in /usr/local/lib/python3.7/dist-packages (from ipykernel->jupyter-dash) (5.1.1)\n",
      "Requirement already satisfied: jupyter-client in /usr/local/lib/python3.7/dist-packages (from ipykernel->jupyter-dash) (5.3.5)\n",
      "Requirement already satisfied: traitlets>=4.1.0 in /usr/local/lib/python3.7/dist-packages (from ipykernel->jupyter-dash) (5.1.1)\n",
      "Requirement already satisfied: simplegeneric>0.8 in /usr/local/lib/python3.7/dist-packages (from ipython->jupyter-dash) (0.8.1)\n",
      "Requirement already satisfied: decorator in /usr/local/lib/python3.7/dist-packages (from ipython->jupyter-dash) (4.4.2)\n",
      "Requirement already satisfied: setuptools>=18.5 in /usr/local/lib/python3.7/dist-packages (from ipython->jupyter-dash) (57.4.0)\n",
      "Requirement already satisfied: prompt-toolkit<2.0.0,>=1.0.4 in /usr/local/lib/python3.7/dist-packages (from ipython->jupyter-dash) (1.0.18)\n",
      "Requirement already satisfied: pickleshare in /usr/local/lib/python3.7/dist-packages (from ipython->jupyter-dash) (0.7.5)\n",
      "Requirement already satisfied: pygments in /usr/local/lib/python3.7/dist-packages (from ipython->jupyter-dash) (2.6.1)\n",
      "Requirement already satisfied: pexpect in /usr/local/lib/python3.7/dist-packages (from ipython->jupyter-dash) (4.8.0)\n",
      "Requirement already satisfied: wcwidth in /usr/local/lib/python3.7/dist-packages (from prompt-toolkit<2.0.0,>=1.0.4->ipython->jupyter-dash) (0.2.5)\n",
      "Requirement already satisfied: jupyter-core>=4.6.0 in /usr/local/lib/python3.7/dist-packages (from jupyter-client->ipykernel->jupyter-dash) (4.10.0)\n",
      "Requirement already satisfied: python-dateutil>=2.1 in /usr/local/lib/python3.7/dist-packages (from jupyter-client->ipykernel->jupyter-dash) (2.8.2)\n",
      "Requirement already satisfied: pyzmq>=13 in /usr/local/lib/python3.7/dist-packages (from jupyter-client->ipykernel->jupyter-dash) (23.0.0)\n",
      "Requirement already satisfied: ptyprocess>=0.5 in /usr/local/lib/python3.7/dist-packages (from pexpect->ipython->jupyter-dash) (0.7.0)\n",
      "Requirement already satisfied: idna<3,>=2.5 in /usr/local/lib/python3.7/dist-packages (from requests->jupyter-dash) (2.10)\n",
      "Requirement already satisfied: certifi>=2017.4.17 in /usr/local/lib/python3.7/dist-packages (from requests->jupyter-dash) (2022.5.18.1)\n",
      "Requirement already satisfied: chardet<4,>=3.0.2 in /usr/local/lib/python3.7/dist-packages (from requests->jupyter-dash) (3.0.4)\n",
      "Requirement already satisfied: urllib3!=1.25.0,!=1.25.1,<1.26,>=1.21.1 in /usr/local/lib/python3.7/dist-packages (from requests->jupyter-dash) (1.24.3)\n"
     ]
    }
   ],
   "source": [
    "%%sh\n",
    "pip install -q dash\n",
    "pip install -q dash_core_components\n",
    "pip install -q dash_bootstrap_components\n",
    "pip install -q dash_table\n",
    "pip install jupyter-dash"
   ]
  },
  {
   "cell_type": "code",
   "execution_count": null,
   "id": "a9cb6025-cf35-4605-8d76-7c0ec55a001e",
   "metadata": {
    "colab": {
     "base_uri": "https://localhost:8080/"
    },
    "id": "a9cb6025-cf35-4605-8d76-7c0ec55a001e",
    "outputId": "f4be9501-5743-468d-a391-95293c4bc5ff"
   },
   "outputs": [
    {
     "name": "stderr",
     "output_type": "stream",
     "text": [
      "/usr/local/lib/python3.7/dist-packages/jupyter_dash/jupyter_app.py:98: UserWarning:\n",
      "\n",
      "The requests_pathname_prefix argument is ignored when running in Colab\n",
      "\n",
      "/usr/local/lib/python3.7/dist-packages/jupyter_dash/jupyter_app.py:98: UserWarning:\n",
      "\n",
      "The routes_pathname_prefix argument is ignored when running in Colab\n",
      "\n"
     ]
    }
   ],
   "source": [
    "import dash\n",
    "from dash import dcc\n",
    "from dash import html\n",
    "from dash import dash_table\n",
    "\n",
    "import plotly.graph_objects as go\n",
    "from plotly.subplots import make_subplots\n",
    "\n",
    "from dash import Dash, Input, Output, callback\n",
    "\n",
    "from jupyter_dash import JupyterDash\n",
    "\n",
    "import dash_bootstrap_components as dbc\n",
    "COMPONENT_STYLE = \"/assets/my_component.css\"\n",
    "external_stylesheets=[dbc.themes.BOOTSTRAP]\n",
    "\n",
    "app = JupyterDash(__name__,requests_pathname_prefix=\"/dash1/\",routes_pathname_prefix='/dash1/',\n",
    "                  external_stylesheets=external_stylesheets,\n",
    "                  meta_tags=[{'name': 'viewport', 'content': 'width=device-width, initial-scale=1'}],\n",
    "                 suppress_callback_exceptions=True)\n",
    "# Create server variable with Flask server object for use with gunicorn\n",
    "server = app.server"
   ]
  },
  {
   "cell_type": "code",
   "execution_count": null,
   "id": "a1686e01-aad5-4e09-acd3-166388e03c1d",
   "metadata": {
    "id": "a1686e01-aad5-4e09-acd3-166388e03c1d"
   },
   "outputs": [],
   "source": [
    "input_groups = html.Div(\n",
    "    [\n",
    "        dbc.InputGroup(\n",
    "            [dbc.InputGroupText(\"@\"), dbc.Input(placeholder=\"Username\")],\n",
    "            className=\"mb-3\",\n",
    "        ),\n",
    "        dbc.InputGroup(\n",
    "            [\n",
    "                dbc.Input(placeholder=\"Recipient's username\"),\n",
    "                dbc.InputGroupText(\"@example.com\"),\n",
    "            ],\n",
    "            className=\"mb-3\",\n",
    "        ),\n",
    "        dbc.InputGroup(\n",
    "            [\n",
    "                dbc.InputGroupText(\"$\"),\n",
    "                dbc.Input(placeholder=\"Amount\", type=\"number\"),\n",
    "                dbc.InputGroupText(\".00\"),\n",
    "            ],\n",
    "            className=\"mb-3\",\n",
    "        ),\n",
    "        dbc.InputGroup(\n",
    "            [\n",
    "                dbc.InputGroupText(\"Total:\"),\n",
    "                dbc.InputGroupText(\"$\"),\n",
    "                dbc.Input(placeholder=\"Amount\", type=\"number\"),\n",
    "                dbc.InputGroupText(\".00\"),\n",
    "                dbc.InputGroupText(\"only\"),\n",
    "            ],\n",
    "            className=\"mb-3\",\n",
    "        ),\n",
    "        dbc.InputGroup(\n",
    "            [\n",
    "                dbc.InputGroupText(\"With textarea\"),\n",
    "                dbc.Textarea(),\n",
    "            ],\n",
    "            className=\"mb-3\",\n",
    "        ),\n",
    "        dbc.InputGroup(\n",
    "            [\n",
    "                dbc.Select(\n",
    "                    options=[\n",
    "                        {\"label\": \"Option 1\", \"value\": 1},\n",
    "                        {\"label\": \"Option 2\", \"value\": 2},\n",
    "                    ]\n",
    "                ),\n",
    "                dbc.InputGroupText(\"With select\"),\n",
    "            ]\n",
    "        ),\n",
    "    ]\n",
    ")"
   ]
  },
  {
   "cell_type": "code",
   "execution_count": null,
   "id": "98ae824e-980c-48fa-b7bf-51fc655412d3",
   "metadata": {
    "id": "98ae824e-980c-48fa-b7bf-51fc655412d3"
   },
   "outputs": [],
   "source": [
    "newplot_input = html.Div(\n",
    "    [\n",
    "        dbc.Label(\"New Plot\"),\n",
    "        dbc.Input(type=\"text\", id=\"newplot-input1\", placeholder=\"Enter New Plot Name\"),\n",
    "        dbc.FormText(\n",
    "            \"Enter unique name for your plot\",\n",
    "            color=\"secondary\",\n",
    "        ),\n",
    "    ],\n",
    ")\n",
    "\n",
    "\n",
    "email_input = html.Div(\n",
    "    [\n",
    "        dbc.Label(\"Email\", html_for=\"example-email\"),\n",
    "        dbc.Input(type=\"email\", id=\"example-email\", placeholder=\"Enter email\"),\n",
    "        dbc.FormText(\n",
    "            \"Are you on email? You simply have to be these days\",\n",
    "            color=\"secondary\",\n",
    "        ),\n",
    "    ],\n",
    ")\n",
    "\n",
    "password_input = html.Div(\n",
    "    [\n",
    "        dbc.Label(\"Password\", html_for=\"example-password\"),\n",
    "        dbc.Input(\n",
    "            type=\"password\",\n",
    "            id=\"example-password\",\n",
    "            placeholder=\"Enter password\",\n",
    "        ),\n",
    "        dbc.FormText(\n",
    "            \"A password stops mean people taking your stuff\", color=\"secondary\"\n",
    "        ),\n",
    "    ],\n",
    "    className=\"mb-3\",\n",
    ")\n",
    "\n",
    "#newplotform = dbc.Form([newplot_input, newplot_input2, email_input, password_input, input_groups])\n",
    "\n",
    "newplot_input2 = dbc.Row(\n",
    "    [\n",
    "        html.Div(html.H3(children='New Plot')),\n",
    "        dbc.Col([\n",
    "            dbc.Label(\"Name\", width=2),\n",
    "            dbc.Input(\n",
    "                type=\"text\",\n",
    "                id=\"newplot-input2\",\n",
    "                placeholder=\"Enter New Plot Name\",\n",
    "                style={\"width\": \"25vh\", \"height\": \"5vh\", \"color\": \"blue\"},\n",
    "            ),]\n",
    "        ),\n",
    "    ],\n",
    ")\n",
    "\n",
    "newplot_title = html.Div(html.P(children='New Plot'),style={\"padding\":\"0px\",\"background-color\":\"blue\", \"height\": \"auto\"})\n",
    "\n",
    "newplot_input3 = html.Div(\n",
    "    [\n",
    "        dbc.Col(dbc.Label(\"Name\", width=1, style={\"background-color\":\"blue\",\"padding\":\"0px\"}),width=1),\n",
    "        dbc.Col(\n",
    "            dbc.Input(\n",
    "                type=\"text\", id=\"newplot-input3\", placeholder=\"Enter New Plot Name\", style={\"background-color\":\"pink\", \"padding\":\"0px\"}\n",
    "            ),\n",
    "            width=2,\n",
    "            style={\"padding\":\"0px\", \"height\": \"auto\"}\n",
    "        ),\n",
    "    ],\n",
    "    className=\"row\",\n",
    "    style={\"padding\":\"0px\", \"height\": \"auto\", \"margin\":\"0px\"}\n",
    ")\n",
    "\n",
    "#newplotform = html.Div([newplot_title , newplot_input3], style={\"padding\":\"0px\", \"margin\":\"0px\", \"background-color\":\"red\"})\n",
    "\n",
    "newplotform = html.Div([newplot_title , newplot_input3], style={\"padding\":\"0px\", \"margin\":\"0px\", \"background-color\":\"red\"})"
   ]
  },
  {
   "cell_type": "code",
   "execution_count": null,
   "id": "9b77c265-7605-4319-b7ee-58a23916dbe7",
   "metadata": {
    "id": "9b77c265-7605-4319-b7ee-58a23916dbe7"
   },
   "outputs": [],
   "source": [
    "heighttesting = dbc.Container(\n",
    "    [\n",
    "        dbc.Row(\n",
    "            [\n",
    "                dbc.Col(\n",
    "                    html.P(\"This is column 1\"),\n",
    "                    width=8,\n",
    "                    style={\"height\": \"100%\",\"background-color\": \"red\",\"padding\":\"0px\", \"margin\":\"0px\"},\n",
    "                ),\n",
    "                dbc.Col(\n",
    "                    html.P(\"This is column 2\"),\n",
    "                    width=4,\n",
    "                    style={\"height\": \"100%\",\"background-color\": \"green\",\"padding\":\"0px\", \"margin\":\"0px\"},\n",
    "                ),\n",
    "            ],\n",
    "            #className=\"h-25\",\n",
    "            style={\"height\": \"50%\"},\n",
    "        ),\n",
    "        dbc.Row(\n",
    "            [\n",
    "                dbc.Col(\n",
    "                    html.P(\"This is column 3\"),\n",
    "                    width=8,\n",
    "                    style={\"height\": \"100%\",\"background-color\": \"blue\", \"padding\":\"0px\", \"margin\":\"0px\"},\n",
    "                ),\n",
    "                dbc.Col(\n",
    "                    html.P(\"This is column 4\"),\n",
    "                    width=4,\n",
    "                    style={\"height\": \"100%\",\"background-color\": \"cyan\",\"padding\":\"0px\", \"margin\":\"0px\"},\n",
    "                ),\n",
    "            ],\n",
    "            #className=\"h-25\",\n",
    "            style={\"height\": \"50%\"},\n",
    "        ),\n",
    "    ],\n",
    "    style={\"height\": \"50px\"},\n",
    ")"
   ]
  },
  {
   "cell_type": "markdown",
   "id": "7Nc-nBBrvne4",
   "metadata": {
    "id": "7Nc-nBBrvne4"
   },
   "source": [
    "# New Plot\n",
    "\n",
    "# Name : Enter New Plot Name"
   ]
  },
  {
   "cell_type": "code",
   "execution_count": null,
   "id": "4e214742-ca93-4d45-9293-405c05be4962",
   "metadata": {
    "id": "4e214742-ca93-4d45-9293-405c05be4962"
   },
   "outputs": [],
   "source": [
    "newplot_input = dbc.Row(\n",
    "    [\n",
    "        dbc.Label(\"New Plot\", width=2),\n",
    "        dbc.Col(\n",
    "            [dbc.Input(\n",
    "                type=\"text\", id=\"newplot_input\", placeholder=\"Enter New Plot Name\"\n",
    "            ),\n",
    "            dbc.FormText(\"Enter unique name for your plot\",color=\"secondary\")],\n",
    "            width=10,\n",
    "            style={\"height\": \"100%\",\"background-color\": \"blue\", \"padding\":\"0px\", \"margin\":\"0px\"},\n",
    "        ),\n",
    "    ],\n",
    "style={\"height\": \"50%\"},\n",
    ")"
   ]
  },
  {
   "cell_type": "code",
   "execution_count": null,
   "id": "fa73a5c4-8f03-4c3e-9f02-f9fece1c90b8",
   "metadata": {
    "id": "fa73a5c4-8f03-4c3e-9f02-f9fece1c90b8"
   },
   "outputs": [],
   "source": [
    "newplotform = dbc.Container(\n",
    "    [\n",
    "        dbc.Row(\n",
    "            [\n",
    "                dbc.Col(\n",
    "                    html.P(\"New Plot\"),\n",
    "                    width=12,\n",
    "                    style={\"height\": \"100%\",\"background-color\": \"red\",\"padding\":\"0px\", \"margin\":\"0px\"},\n",
    "                ),\n",
    "            ],\n",
    "            #className=\"h-25\",\n",
    "            style={\"height\": \"50%\"},\n",
    "        ),\n",
    "        newplot_input,\n",
    "    ],\n",
    "    style={\"height\": \"50px\"},\n",
    ")"
   ]
  },
  {
   "cell_type": "markdown",
   "id": "XR_QGlhAv6B9",
   "metadata": {
    "id": "XR_QGlhAv6B9"
   },
   "source": [
    "# Edit Existing Plot\n",
    "\n",
    "Plot Name : Testing\n",
    "\n",
    "x range (WIMP mass)  lower bound: 1  to upper bound : 1000 GeV/c^2\n",
    "y range (cross-section) smallest c-s: 10^ : -46 [text entry] to largest c-s: 10^ : -31 [text entry] cm^2 dropdown\n",
    "\n",
    "remember: a larger negative exponent results in a smaller limit! (and vice versa)\n",
    "\n",
    "[X] Check to remove site address/names from plot\n",
    "\n",
    "[Save] [Save & Render]\n",
    "\n",
    "Table - multiple results allowed\n",
    "[Remove] Result Reference PlotAppearance Color\n",
    "\n",
    "Search for limits : Text box\n",
    "\n",
    "5 Column Dropdown\n",
    "\n",
    "Type Spin Experiment Year GreatestHits\n",
    "\n",
    "Result Page Navigation <<Previous>> <<Next>>\n",
    "\n",
    "Table\n",
    "\n",
    "[Add] Result Reference"
   ]
  },
  {
   "cell_type": "markdown",
   "id": "T8VVNkj3woYd",
   "metadata": {
    "id": "T8VVNkj3woYd"
   },
   "source": [
    "## Show Plot Name"
   ]
  },
  {
   "cell_type": "code",
   "execution_count": null,
   "id": "6FkeRrnzwJtJ",
   "metadata": {
    "id": "6FkeRrnzwJtJ"
   },
   "outputs": [],
   "source": [
    "plotname_edit = dbc.Row(\n",
    "    [\n",
    "        dbc.Label(\"Plot Name\", width=2),\n",
    "        dbc.Col(\n",
    "            [dbc.Input(\n",
    "                type=\"text\", id=\"plotname_edit\",\n",
    "            )],\n",
    "            width=10,\n",
    "            style={\"height\": \"100%\",\"background-color\": \"blue\", \"padding\":\"0px\", \"margin\":\"0px\"},\n",
    "        ),\n",
    "    ],\n",
    "style={\"height\": \"15px\"},\n",
    ")"
   ]
  },
  {
   "cell_type": "markdown",
   "id": "5GW77uC8x1VD",
   "metadata": {
    "id": "5GW77uC8x1VD"
   },
   "source": [
    "x range (WIMP mass) lower bound: 1 to upper bound : 1000 GeV/c^2 y range (cross-section) smallest c-s: 10^ : -46 [text entry] to largest c-s: 10^ : -31 [text entry] cm^2 dropdown\n",
    "\n",
    "remember: a larger negative exponent results in a smaller limit! (and vice versa)"
   ]
  },
  {
   "cell_type": "code",
   "execution_count": null,
   "id": "dJ0Q_ofpx2EK",
   "metadata": {
    "id": "dJ0Q_ofpx2EK"
   },
   "outputs": [],
   "source": [
    "range_edit = html.Div(\n",
    "    [\n",
    "        dbc.Col(\n",
    "            [\n",
    "             html.Div([html.P('x range (WIMP mass) lower bound')], style={'color': 'blue', 'fontSize': 13}),\n",
    "             ],\n",
    "            width=3,\n",
    "            style={\"height\": \"100%\",\"background-color\": \"red\", \"padding\":\"0px\", \"margin\":\"0px\"},\n",
    "        ),\n",
    "        dbc.Col(\n",
    "            [dbc.Input(\n",
    "                type=\"number\", id=\"lower_bound\",size=\"sm\",\n",
    "            )],\n",
    "            width=1,\n",
    "            style={\"height\": \"100%\",\"background-color\": \"green\", \"padding\":\"0px\", \"margin\":\"0px\"},\n",
    "        ),\n",
    "     dbc.Col(\n",
    "            [\n",
    "             html.Div([html.P('to upper bound ')], style={'color': 'blue', 'fontSize': 13}),\n",
    "             ],\n",
    "            width=1,\n",
    "            style={\"height\": \"100%\",\"background-color\": \"red\", \"padding\":\"0px\", \"margin\":\"0px\"},\n",
    "        ),\n",
    "      dbc.Col(\n",
    "            [dbc.Input(\n",
    "                type=\"number\", id=\"upper_bound\",size=\"sm\",\n",
    "            )],\n",
    "            width=1,\n",
    "            style={\"height\": \"100%\",\"background-color\": \"green\", \"padding\":\"0px\", \"margin\":\"0px\"},\n",
    "        ),\n",
    "     dbc.Col(\n",
    "            [ dcc.Dropdown(['NYC', 'MTL', 'SF'], 'NYC', id='demo-dropdown', style={'height': '30px', 'width': '100px', 'display': 'inline-block'}),],\n",
    "            width=1,\n",
    "            style={\"height\": \"100%\",\"background-color\": \"blue\", \"padding\":\"0px\", \"margin\":\"0px\"},\n",
    "        ),\n",
    "\n",
    "        #dbc.Col(\n",
    "        #    [\n",
    "        #     html.Div([html.P('to upper bound '),\n",
    "        #    ],\n",
    "        #    width=2,\n",
    "        #    style={\"height\": \"100%\",\"background-color\": \"blue\", \"padding\":\"0px\", \"margin\":\"0px\"},\n",
    "        #),\n",
    "        #dbc.Col(\n",
    "        #    [dbc.Input(\n",
    "        #        type=\"number\", id=\"upper_bound\",\n",
    "        #    )],\n",
    "        #    width=2,\n",
    "        #    style={\"height\": \"100%\",\"background-color\": \"blue\", \"padding\":\"0px\", \"margin\":\"0px\"},\n",
    "        #),\n",
    "    ],\n",
    "#style={\"height\": \"15px\"},)\n",
    "className=\"row\",\n",
    "    style={\"padding\":\"0px\", \"height\": \"30px\", \"margin\":\"0px\", \"background-color\": \"pink\"},)\n",
    "\n",
    "comment1 = html.Div(\n",
    "    dbc.Col(\n",
    "            [\n",
    "             html.Div([html.P('remember: a larger negative exponent results in a smaller limit! (and vice versa)')], style={'color': 'blue', 'fontSize': 13}),\n",
    "             ],\n",
    "            width=12,\n",
    "            style={\"height\": \"100%\",\"background-color\": \"red\", \"padding\":\"0px\", \"margin\":\"0px\"},\n",
    "        ),\n",
    "    className=\"row\",\n",
    "    style={\"padding\":\"0px\", \"height\": \"30px\", \"margin\":\"0px\", \"background-color\": \"pink\"},)\n",
    "\n",
    "range_form = html.Div([range_edit, comment1])\n",
    "        "
   ]
  },
  {
   "cell_type": "markdown",
   "id": "8buWAj5VLSE7",
   "metadata": {
    "id": "8buWAj5VLSE7"
   },
   "source": [
    "[X] Check to remove site address/names from plot"
   ]
  },
  {
   "cell_type": "code",
   "execution_count": null,
   "id": "AZuLlzLiLPzp",
   "metadata": {
    "id": "AZuLlzLiLPzp"
   },
   "outputs": [],
   "source": [
    "checkbox = html.Div(\n",
    "    [\n",
    "       dcc.Checklist(\n",
    "    ['Check to remove site address/names from plot'],\n",
    "    inline=True\n",
    ")\n",
    "     ],\n",
    "    className=\"row\",\n",
    "    style={\"padding\":\"0px\", \"height\": \"30px\", \"margin\":\"0px\", \"background-color\": \"pink\"},)"
   ]
  },
  {
   "cell_type": "code",
   "execution_count": null,
   "id": "fpMz6p4vLP2r",
   "metadata": {
    "id": "fpMz6p4vLP2r"
   },
   "outputs": [],
   "source": []
  },
  {
   "cell_type": "code",
   "execution_count": null,
   "id": "bkl3PZqXLP6W",
   "metadata": {
    "id": "bkl3PZqXLP6W"
   },
   "outputs": [],
   "source": []
  },
  {
   "cell_type": "code",
   "execution_count": null,
   "id": "TDN4x4I5u_jC",
   "metadata": {
    "colab": {
     "base_uri": "https://localhost:8080/",
     "height": 672
    },
    "id": "TDN4x4I5u_jC",
    "outputId": "8b3365ba-5694-4bd8-ec9e-ed4b22c641c6"
   },
   "outputs": [
    {
     "data": {
      "application/javascript": [
       "(async (port, path, width, height, cache, element) => {\n",
       "    if (!google.colab.kernel.accessAllowed && !cache) {\n",
       "      return;\n",
       "    }\n",
       "    element.appendChild(document.createTextNode(''));\n",
       "    const url = await google.colab.kernel.proxyPort(port, {cache});\n",
       "    const iframe = document.createElement('iframe');\n",
       "    iframe.src = new URL(path, url).toString();\n",
       "    iframe.height = height;\n",
       "    iframe.width = width;\n",
       "    iframe.style.border = 0;\n",
       "    element.appendChild(iframe);\n",
       "  })(8050, \"/\", \"100%\", 650, false, window.element)"
      ],
      "text/plain": [
       "<IPython.core.display.Javascript object>"
      ]
     },
     "metadata": {},
     "output_type": "display_data"
    }
   ],
   "source": [
    "testform = checkbox\n",
    "app.layout = testform\n",
    "app.run_server(mode='inline')"
   ]
  },
  {
   "cell_type": "code",
   "execution_count": null,
   "id": "ea6c516e-959f-4b18-ac36-5e290de12bcf",
   "metadata": {
    "id": "ea6c516e-959f-4b18-ac36-5e290de12bcf"
   },
   "outputs": [],
   "source": [
    "mainpanel = html.Div(\n",
    "            [\n",
    "                html.Div(\n",
    "            [\n",
    "            #html.H3(children='Left Full Height'),\n",
    "                #heighttesting,\n",
    "                testform,\n",
    "                #dcc.Graph(id=\"graph_out\",style={'width': '80vh', 'height': '70vh'})\n",
    "            ],\n",
    "            style={\"height\":\"70vh\", \"width\": \"50vw\", \"background-color\":\"grey\", \"padding\":\"0px\"})\n",
    "            ],\n",
    "            className=\"col\", style={\"height\":\"70vh\",\"width\": \"50vw\", \"padding\":\"0px\"}##,\"background-color\":\"purple\"}\n",
    "        )\n",
    "\n",
    "rightrow1 =          html.Div(\n",
    "            [\n",
    "                html.Div(\n",
    "            [\n",
    "                html.H3(children='Panel 1'),\n",
    "                ##form,\n",
    "            ],\n",
    "            className=\"short-div\", style={\"height\":\"35vh\",\"background-color\":\"green\"}\n",
    "        ), \n",
    "                 html.Div(\n",
    "            [\n",
    "                html.H3(children='Panel 2'),\n",
    "            ],\n",
    "            className=\"short-div\", style={\"height\":\"35vh\",\"background-color\":\"yellow\"}\n",
    "        ), \n",
    "            ],\n",
    "            className=\"col\", style={\"width\": \"30vw\",\"padding\":\"0px\",}\n",
    "        )\n",
    "\n",
    "rightrow2 = html.Div(\n",
    "            [\n",
    "                html.Div(\n",
    "            [\n",
    "                html.H3(children='Panel 3'),\n",
    "            ],\n",
    "            className=\"short-div\", style={\"height\":\"35vh\",\"background-color\":\"red\"}\n",
    "        ), \n",
    "                 html.Div(\n",
    "            [\n",
    "                html.H3(children='Panel 4'),\n",
    "            ],\n",
    "            className=\"short-div\", style={\"height\":\"35vh\",\"background-color\":\"blue\"}\n",
    "        ), \n",
    "            ],\n",
    "            className=\"col\", style={\"width\": \"30vw\", \"padding\":\"0px\"}\n",
    "        )\n",
    "\n",
    "layout6 =  html.Div(className=\"row\",children=[mainpanel,rightrow1,rightrow2,], style={\"padding\":\"0px\"})"
   ]
  },
  {
   "cell_type": "code",
   "execution_count": null,
   "id": "45436239-59f1-4350-8c34-6c854f1f2cde",
   "metadata": {
    "id": "45436239-59f1-4350-8c34-6c854f1f2cde"
   },
   "outputs": [],
   "source": [
    "\n",
    "header_height, footer_height = \"7vh\", \"7vh\"\n",
    "sidebar_width, adbar_width = \"9vh\", \"9vh\"\n",
    "table_height = \"20vh\"\n",
    "headerplustable_height = \"25vh\"\n",
    "\n",
    "HEADER_STYLE = {\n",
    "    \"position\": \"fixed\",\n",
    "    \"top\": 0,\n",
    "    \"left\": 0,\n",
    "    \"right\": 0,\n",
    "    \"height\": header_height,\n",
    "    \"padding\": \"0rem 0rem\",\n",
    "    \"background-color\": \"lightblue\",\n",
    "}\n",
    "\n",
    "TABLE_STYLE = {\n",
    "    \"position\": \"fixed\",\n",
    "    \"top\": header_height,\n",
    "    \"margin-left\": sidebar_width,\n",
    "    \"margin-right\": adbar_width,\n",
    "    \"margin-bottom\": footer_height,\n",
    "    \"left\": 0,\n",
    "    \"right\": 0,\n",
    "    \"height\": table_height,\n",
    "    \"padding\": \"0rem 0rem\",\n",
    "    \"background-color\": \"white\",\n",
    "}\n",
    "\n",
    "SIDEBAR_STYLE = {\n",
    "    \"position\": \"fixed\",\n",
    "    \"top\": header_height,\n",
    "    \"left\": 0,\n",
    "    \"bottom\": footer_height,\n",
    "    \"width\": sidebar_width,\n",
    "    \"padding\": \"0rem 0rem\",\n",
    "    \"background-color\": \"lightgreen\",\n",
    "}\n",
    "\n",
    "ADBAR_STYLE = {\n",
    "    \"position\": \"fixed\",\n",
    "    \"top\": header_height,\n",
    "    \"right\": 0,\n",
    "    \"bottom\": footer_height,\n",
    "    \"width\": adbar_width,\n",
    "    \"padding\": \"0rem 0rem\",\n",
    "    \"background-color\": \"lightgreen\",\n",
    "}\n",
    "\n",
    "FOOTER_STYLE = {\n",
    "    \"position\": \"fixed\",\n",
    "    \"bottom\": 0,\n",
    "    \"left\": 0,\n",
    "    \"right\": 0,\n",
    "    \"height\": footer_height,\n",
    "    \"padding\": \"0rem 0rem\",\n",
    "    \"background-color\": \"gray\",\n",
    "}\n",
    "\n",
    "CONTENT_STYLE = {\n",
    "    \"position\": \"fixed\",\n",
    "    \"top\": header_height,\n",
    "    \"height\" : \"80vh\",\n",
    "    #\"margin-top\": headerplustable_height,\n",
    "    \"margin-left\": \"10vh\" , ## sidebar_width,\n",
    "    \"margin-right\": \"10vh\", # adbar_width,\n",
    "    \"margin-bottom\": footer_height,\n",
    "    \"padding\": \"0vh 0vh\",\n",
    "}\n",
    "\n",
    "#header = html.Div([\n",
    "#    html.P('Dashboard Template')], style=HEADER_STYLE,\n",
    "#)\n",
    "\n"
   ]
  },
  {
   "cell_type": "code",
   "execution_count": null,
   "id": "3f4ccecb-f79b-4d60-9c19-e8c061595146",
   "metadata": {
    "id": "3f4ccecb-f79b-4d60-9c19-e8c061595146"
   },
   "outputs": [],
   "source": [
    "##header1 = html.Div(\n",
    "header1 =  dbc.Row(\n",
    "            [\n",
    "                dbc.Col(\n",
    "                    html.P(\"Need Help\", style={\"color\":\"#a569bd\"}),\n",
    "                    width=3,\n",
    "                    style={\"height\": \"100%\",\"background-color\": \"black\",\"padding\":\"0px\", \"margin\":\"0px\", \"textAlign\": \"center\"},\n",
    "                ),\n",
    "                dbc.Col(\n",
    "                    html.P(\"FAQ\", style={\"color\":\"#a569bd\"}),\n",
    "                    width=3,\n",
    "                    style={\"height\": \"100%\",\"background-color\": \"black\",\"padding\":\"0px\", \"margin\":\"0px\", \"textAlign\": \"center\"},\n",
    "                ),\n",
    "                dbc.Col(\n",
    "                    html.P(\"Found A Bug\", style={\"color\":\"#a569bd\"}),\n",
    "                    width=3,\n",
    "                    style={\"height\": \"100%\",\"background-color\": \"black\",\"padding\":\"0px\", \"margin\":\"0px\", \"textAlign\": \"center\"},\n",
    "                ),\n",
    "                dbc.Col(\n",
    "                    html.P(\"What's New\", style={\"color\":\"#a569bd\"}),\n",
    "                    width=3,\n",
    "                    style={\"height\": \"100%\",\"background-color\": \"black\",\"padding\":\"0px\", \"margin\":\"0px\", \"textAlign\": \"center\"},\n",
    "                ),\n",
    "            ],\n",
    "            #className=\"h-25\",\n",
    "            style={\"height\": \"50%\",\"padding\":\"0px\", \"margin\":\"0px\"},\n",
    "        )\n",
    "##, style=HEADER_STYLE,)"
   ]
  },
  {
   "cell_type": "code",
   "execution_count": null,
   "id": "260a11d9-4aa5-4802-974c-8b083ec995a2",
   "metadata": {
    "id": "260a11d9-4aa5-4802-974c-8b083ec995a2"
   },
   "outputs": [],
   "source": [
    "#header2 = html.Div(\n",
    "header2 = dbc.Row(\n",
    "            [\n",
    "                dbc.Col(\n",
    "                    html.P(\"Plots\", style={\"color\":\"#a569bd\"}),\n",
    "                    width=3,\n",
    "                    style={\"height\": \"100%\",\"background-color\": \"black\",\"padding\":\"0px\", \"margin\":\"0px\", \"textAlign\": \"center\"},\n",
    "                ),\n",
    "                dbc.Col(\n",
    "                    html.P(\"Data\", style={\"color\":\"#a569bd\"}),\n",
    "                    width=3,\n",
    "                    style={\"height\": \"100%\",\"background-color\": \"black\",\"padding\":\"0px\", \"margin\":\"0px\", \"textAlign\": \"center\"},\n",
    "                ),\n",
    "                 dbc.Col(\n",
    "                    html.P(\"Logged in as pauser (log out)\", style={\"color\":\"#a569bd\"}),\n",
    "                    width=6,\n",
    "                    style={\"height\": \"100%\",\"background-color\": \"black\",\"padding\":\"0px\", \"margin\":\"0px\", \"textAlign\": \"right\"},\n",
    "                ),\n",
    "            ],\n",
    "            #className=\"h-25\",\n",
    "            style={\"height\": \"50%\",\"padding\":\"0px\", \"margin\":\"0px\"},\n",
    "        )\n",
    "##, style=HEADER_STYLE,)"
   ]
  },
  {
   "cell_type": "code",
   "execution_count": null,
   "id": "f56580db-a4b9-4799-b780-18ae55a61b03",
   "metadata": {
    "id": "f56580db-a4b9-4799-b780-18ae55a61b03"
   },
   "outputs": [],
   "source": [
    "header = html.Div([header1, header2] , style=HEADER_STYLE,)"
   ]
  },
  {
   "cell_type": "code",
   "execution_count": null,
   "id": "8d434503-952c-4cb7-8684-2a54c2963dea",
   "metadata": {
    "id": "8d434503-952c-4cb7-8684-2a54c2963dea"
   },
   "outputs": [],
   "source": [
    "\n",
    "\n",
    "fdivs = [html.P(\"ACG Data Engineering\")]\n",
    "footer = html.Div(fdivs, style=FOOTER_STYLE,)\n",
    "#footer = html.Div(filters, style=FOOTER_STYLE,)\n",
    "\n",
    "adbar = html.Div([\n",
    "    html.P('R')],\n",
    "    style=ADBAR_STYLE,\n",
    ")\n",
    "\n",
    "sidebar = html.Div(\n",
    "    [html.P(\"L\", className=\"lead\")],\n",
    "    #filters,\n",
    "    style=SIDEBAR_STYLE,\n",
    ")\n",
    "\n",
    "#cdivs = [html.P(\"content\")]\n",
    "cdivs = [layout6]\n",
    "\n",
    "\n",
    "\n",
    "content = html.Div(cdivs, style=CONTENT_STYLE)"
   ]
  },
  {
   "cell_type": "code",
   "execution_count": null,
   "id": "d17eeb2f-04c5-4ab5-9a07-0cdcc4987498",
   "metadata": {
    "id": "d17eeb2f-04c5-4ab5-9a07-0cdcc4987498"
   },
   "outputs": [],
   "source": [
    "tabledivs = [html.P(\"Table\")]\n",
    "table = html.Div(tabledivs,style=TABLE_STYLE,)"
   ]
  },
  {
   "cell_type": "code",
   "execution_count": null,
   "id": "135b800a-b91a-4a53-b2e4-f5a3f11ddda5",
   "metadata": {
    "id": "135b800a-b91a-4a53-b2e4-f5a3f11ddda5"
   },
   "outputs": [],
   "source": [
    "layout3 = html.Div([header, sidebar, adbar, content, footer])"
   ]
  },
  {
   "cell_type": "code",
   "execution_count": null,
   "id": "bbd24908-bfbc-4cd8-adfb-6fe5ace005cf",
   "metadata": {
    "id": "bbd24908-bfbc-4cd8-adfb-6fe5ace005cf"
   },
   "outputs": [],
   "source": [
    "app.layout = layout3"
   ]
  },
  {
   "cell_type": "code",
   "execution_count": null,
   "id": "3d5e1f79-a90c-4d51-b013-0086758efca8",
   "metadata": {
    "colab": {
     "base_uri": "https://localhost:8080/",
     "height": 672
    },
    "id": "3d5e1f79-a90c-4d51-b013-0086758efca8",
    "outputId": "4b5a3398-72a6-499a-d6fb-d1b777aa43a5"
   },
   "outputs": [
    {
     "data": {
      "application/javascript": [
       "(async (port, path, width, height, cache, element) => {\n",
       "    if (!google.colab.kernel.accessAllowed && !cache) {\n",
       "      return;\n",
       "    }\n",
       "    element.appendChild(document.createTextNode(''));\n",
       "    const url = await google.colab.kernel.proxyPort(port, {cache});\n",
       "    const iframe = document.createElement('iframe');\n",
       "    iframe.src = new URL(path, url).toString();\n",
       "    iframe.height = height;\n",
       "    iframe.width = width;\n",
       "    iframe.style.border = 0;\n",
       "    element.appendChild(iframe);\n",
       "  })(8050, \"/\", \"100%\", 650, false, window.element)"
      ],
      "text/plain": [
       "<IPython.core.display.Javascript object>"
      ]
     },
     "metadata": {},
     "output_type": "display_data"
    }
   ],
   "source": [
    "#app.config.suppress_callback_exceptions = True\n",
    "#app.run_server(host=\"0.0.0.0\", port=5051, debug=True, use_reloader=False) \n",
    "app.run_server(mode='inline')"
   ]
  }
 ],
 "metadata": {
  "colab": {
   "include_colab_link": true,
   "name": "data-table-colab.ipynb",
   "provenance": []
  },
  "kernelspec": {
   "display_name": "Python 3",
   "language": "python",
   "name": "python3"
  },
  "language_info": {
   "codemirror_mode": {
    "name": "ipython",
    "version": 3
   },
   "file_extension": ".py",
   "mimetype": "text/x-python",
   "name": "python",
   "nbconvert_exporter": "python",
   "pygments_lexer": "ipython3",
   "version": "3.8.10"
  }
 },
 "nbformat": 4,
 "nbformat_minor": 5
}

{
 "cells": [
  {
   "cell_type": "code",
   "execution_count": 1,
   "id": "b7703b90-70f0-478a-a337-43414b2e489b",
   "metadata": {},
   "outputs": [],
   "source": [
    "import os\n",
    "import pandas as pd"
   ]
  },
  {
   "cell_type": "code",
   "execution_count": 2,
   "id": "33818c06-e077-4cb3-8070-253b91b5e18d",
   "metadata": {},
   "outputs": [],
   "source": [
    "cwd = os.getcwd()"
   ]
  },
  {
   "cell_type": "code",
   "execution_count": 3,
   "id": "ce319a82",
   "metadata": {},
   "outputs": [],
   "source": [
    "import dash\n",
    "from dash import dcc\n",
    "from dash import html\n",
    "from dash import dash_table\n",
    "\n",
    "from dash.exceptions import PreventUpdate\n",
    "\n",
    "from collections import OrderedDict\n",
    "\n",
    "import plotly.graph_objects as go\n",
    "from plotly.validators.scatter.marker import SymbolValidator\n",
    "from plotly.subplots import make_subplots\n",
    "\n",
    "from dash import Dash, Input, Output,State, callback\n",
    "\n",
    "from jupyter_dash import JupyterDash\n",
    "\n",
    "import dash_bootstrap_components as dbc\n",
    "COMPONENT_STYLE = \"/assets/my_component.css\"\n",
    "external_stylesheets=[dbc.themes.BOOTSTRAP]\n",
    "\n",
    "app = JupyterDash(__name__,requests_pathname_prefix=\"/dash1/\",routes_pathname_prefix='/dash1/',\n",
    "                  external_stylesheets=external_stylesheets,\n",
    "                  meta_tags=[{'name': 'viewport', 'content': 'width=device-width, initial-scale=1'}],\n",
    "                 suppress_callback_exceptions=True)\n",
    "# Create server variable with Flask server object for use with gunicorn\n",
    "server = app.server"
   ]
  },
  {
   "cell_type": "markdown",
   "id": "9972b098",
   "metadata": {},
   "source": [
    "# Styles"
   ]
  },
  {
   "cell_type": "code",
   "execution_count": 4,
   "id": "394bdcf6",
   "metadata": {},
   "outputs": [],
   "source": [
    "\n",
    "#########################################################\n",
    "## New Styles\n",
    "#########################################################\n",
    "\n",
    "NOPADDING =  {\"padding\": \"0 !important\",\n",
    "             \"padding-left\": \"0\",\n",
    "             \"padding-right\":\"0\",\n",
    "             \"margin-left\":\"0\",\n",
    "             \"margin-right\": \"0\",\n",
    "             \"border\":\"1px solid black\"}\n",
    "\n",
    "MASTER_CONTAINER_STYLE = {\"height\":\"100vh\",\n",
    "                          \"width\":\"100vw\",\n",
    "                          \"background-color\":\"pink\"}\n",
    "\n",
    "\n",
    "FULL_DIV={\"height\":\"100%\",\"width\": \"100%\",\"background-color\":\"black\",\n",
    "          \"border\":\"1px solid black\",\n",
    "          \"color\": \"purple\"}\n",
    "\n",
    "SIDE_COLUMN={\"width\":\"10%\",\"height\":\"100%\"}\n",
    "\n",
    "\n",
    "HALF_COLUMN={\"width\":\"50%\",\"height\":\"100%\",\"background-color\":\"green\"}\n",
    "\n",
    "QUARTER_COLUMN={\"width\":\"25%\",\"height\":\"100%\",\"background-color\":\"green\"}\n",
    "\n",
    "FULL_HEIGHT_ROW={\"width\":\"100%\",\"height\":\"100%\"}\n",
    "\n",
    "SIDEBAR_DIV={\"height\":\"100%\", \"background-color\":\"black\", \"border\":\"1px solid black\",  \"color\": \"purple\"}\n",
    "\n",
    "CHART_DIV={\"width\":\"100%\",\"height\":\"100%\",\n",
    "           \"background-color\":\"red\", \"border\":\"1px solid black\",  \"color\": \"purple\"}\n",
    "\n",
    "\n",
    "TABLE_DIV={\"height\":\"100%\",\n",
    "           \"background-color\":\"green\", \"border\":\"2px solid green\",  \"color\": \"green\"}\n",
    "\n",
    "ALL_ROW={\"width\":\"100%\",\"height\":\"90%\"}\n",
    "\n",
    "CONTENT_ROW={\"width\":\"100%\",\"height\":\"90%\"}\n",
    "\n",
    "HEADER_ROW={\"width\":\"100%\",\"height\":\"5%\"}\n",
    "\n",
    "FOOTER_ROW={\"width\":\"100%\",\"height\":\"5%\"}\n",
    "\n",
    "CHART_ROW={\"width\":\"100%\",\"height\":\"100%\"}\n",
    "LEGEND_ROW={\"width\":\"100%\",\"height\":\"50%\"}\n",
    "STYLE_ROW={\"width\":\"100%\",\"height\":\"50%\"}\n"
   ]
  },
  {
   "cell_type": "code",
   "execution_count": 5,
   "id": "54b5eea4",
   "metadata": {},
   "outputs": [
    {
     "data": {
      "text/html": [
       "<div>\n",
       "<style scoped>\n",
       "    .dataframe tbody tr th:only-of-type {\n",
       "        vertical-align: middle;\n",
       "    }\n",
       "\n",
       "    .dataframe tbody tr th {\n",
       "        vertical-align: top;\n",
       "    }\n",
       "\n",
       "    .dataframe thead th {\n",
       "        text-align: right;\n",
       "    }\n",
       "</style>\n",
       "<table border=\"1\" class=\"dataframe\">\n",
       "  <thead>\n",
       "    <tr style=\"text-align: right;\">\n",
       "      <th></th>\n",
       "      <th>Numbers</th>\n",
       "    </tr>\n",
       "  </thead>\n",
       "  <tbody>\n",
       "    <tr>\n",
       "      <th>0</th>\n",
       "      <td>10</td>\n",
       "    </tr>\n",
       "    <tr>\n",
       "      <th>1</th>\n",
       "      <td>20</td>\n",
       "    </tr>\n",
       "    <tr>\n",
       "      <th>2</th>\n",
       "      <td>30</td>\n",
       "    </tr>\n",
       "    <tr>\n",
       "      <th>3</th>\n",
       "      <td>40</td>\n",
       "    </tr>\n",
       "    <tr>\n",
       "      <th>4</th>\n",
       "      <td>50</td>\n",
       "    </tr>\n",
       "  </tbody>\n",
       "</table>\n",
       "</div>"
      ],
      "text/plain": [
       "   Numbers\n",
       "0       10\n",
       "1       20\n",
       "2       30\n",
       "3       40\n",
       "4       50"
      ]
     },
     "execution_count": 5,
     "metadata": {},
     "output_type": "execute_result"
    }
   ],
   "source": [
    "## test table data\n",
    "\n",
    "# initialize list elements\n",
    "data = [10,20,30,40,50,60,10,20,30,40,50,60,10,20,30,40,50,60,10,20,30,40,50,60,10,20,30,40,50,60]\n",
    "  \n",
    "# Create the pandas DataFrame with column name is provided explicitly\n",
    "data_df = pd.DataFrame(data, columns=['Numbers'])\n",
    "  \n",
    "# print dataframe.\n",
    "data_df.head(5)"
   ]
  },
  {
   "cell_type": "code",
   "execution_count": 6,
   "id": "1d3e6812",
   "metadata": {},
   "outputs": [],
   "source": [
    "style_table={\n",
    "                #'maxHeight': '50ex',\n",
    "                'height': '44vh', ## does not know any detail about parent container\n",
    "                'overflowY': 'scroll', # 'auto'\n",
    "                'width': '100%',\n",
    "                'minWidth': '100%',\n",
    "            }\n",
    "\n",
    "# style cell\n",
    "style_cell={\n",
    "    'fontFamily': 'Open Sans',\n",
    "    'textAlign': 'center',\n",
    "    #'height': '60px',\n",
    "    #'padding': '2px 22px',\n",
    "    ##'height': '11px', ### this did not have any impact, see css in DataTable Definition\n",
    "    'padding': '0px 0px',\n",
    "    'whiteSpace': 'inherit',\n",
    "    'overflow': 'hidden',\n",
    "    'textOverflow': 'ellipsis',\n",
    "    \"padding-left\": 0,\n",
    "     \"padding-right\":0,\n",
    "     \"margin-left\":0,\n",
    "     \"margin-right\": 0,\n",
    "     \"fontSize\":10,\n",
    "}"
   ]
  },
  {
   "cell_type": "code",
   "execution_count": 7,
   "id": "409efda2",
   "metadata": {},
   "outputs": [],
   "source": [
    "legenddatatable = dash_table.DataTable(\n",
    "    id='legend_datatable',\n",
    "    columns=[{\"name\": i, \"id\": i} for i in data_df.columns],\n",
    "    data=data_df.to_dict('records'),\n",
    "    #page_size=9,\n",
    "    fixed_rows={'headers': True},\n",
    "    style_table=style_table,  # defaults to 500\n",
    "    #style_cell={'fontSize':10,'height':11} ,\n",
    "    style_cell=style_cell,\n",
    "    fill_width=False,\n",
    "    #style_table={'overflowY': 'auto'},\n",
    "    #virtualization=True\n",
    "    css=[{'selector': '.dash-spreadsheet tr', 'rule': 'height: 11px;'}], ## this is how row heights are compact\n",
    ")\n",
    "\n",
    "## thank you to https://community.plotly.com/t/datatable-row-height/17451"
   ]
  },
  {
   "cell_type": "code",
   "execution_count": 8,
   "id": "6811f911",
   "metadata": {},
   "outputs": [],
   "source": [
    "styledatatable = dash_table.DataTable(\n",
    "    id='style_datatable',\n",
    "    columns=[{\"name\": i, \"id\": i} for i in data_df.columns],\n",
    "    data=data_df.to_dict('records'),\n",
    "    #page_size=9,\n",
    "    fixed_rows={'headers': True},\n",
    "    style_table=style_table,  # defaults to 500\n",
    "    #style_cell={'fontSize':10,'height':11} ,\n",
    "    style_cell=style_cell,\n",
    "    fill_width=False,\n",
    "    #style_table={'overflowY': 'auto'},\n",
    "    #virtualization=True\n",
    "    css=[{'selector': '.dash-spreadsheet tr', 'rule': 'height: 11px;'}], ## this is how row heights are compact\n",
    ")\n"
   ]
  },
  {
   "cell_type": "code",
   "execution_count": 9,
   "id": "7191d9a1",
   "metadata": {},
   "outputs": [],
   "source": [
    "#emptytable"
   ]
  },
  {
   "cell_type": "code",
   "execution_count": 10,
   "id": "5ba07799",
   "metadata": {},
   "outputs": [],
   "source": [
    "# legend table"
   ]
  },
  {
   "cell_type": "raw",
   "id": "7227011c",
   "metadata": {},
   "source": [
    "legendtable_in = html.Div(\n",
    "    legenddatatable,\n",
    "    #newgentable,\n",
    "    style={**TABLE_DIV,**NOPADDING},\n",
    "    #html.Div(id='datatable-row-ids-container')\n",
    ")"
   ]
  },
  {
   "cell_type": "code",
   "execution_count": 11,
   "id": "206da722",
   "metadata": {},
   "outputs": [],
   "source": [
    "# Style Table"
   ]
  },
  {
   "cell_type": "raw",
   "id": "080ae9ec",
   "metadata": {},
   "source": [
    "styletable_in = html.Div(\n",
    "    styledatatable,\n",
    "    #newgentable,\n",
    "    style={**TABLE_DIV,**NOPADDING},\n",
    "    #html.Div(id='datatable-row-ids-container')\n",
    ")\n"
   ]
  },
  {
   "cell_type": "code",
   "execution_count": 12,
   "id": "82443508",
   "metadata": {},
   "outputs": [],
   "source": [
    "# Style & Legend Column"
   ]
  },
  {
   "cell_type": "code",
   "execution_count": 13,
   "id": "c8710216",
   "metadata": {},
   "outputs": [],
   "source": [
    "def GetStyleAndLegendColumn(styledatatable_in, legenddatatable_in):\n",
    "    \n",
    "    styletable_div = html.Div(styledatatable_in,\n",
    "                        style={**TABLE_DIV,**NOPADDING})\n",
    "    \n",
    "    legendtable_div = html.Div(legenddatatable_in,\n",
    "                        style={**TABLE_DIV,**NOPADDING})\n",
    "\n",
    "    style_col =  html.Div(children=[styletable_div],\n",
    "                          className=\"col col-lg-12\" , style={**TABLE_DIV,**NOPADDING})\n",
    "    legend_col =  html.Div(children=[legendtable_div],\n",
    "                           className=\"col col-lg-12\" , style={**TABLE_DIV,**NOPADDING})\n",
    "\n",
    "    stylerow = html.Div([style_col],\n",
    "                    className=\"row\",  style={**STYLE_ROW,**NOPADDING})\n",
    "    legendrow = html.Div([legend_col,],\n",
    "                    className=\"row\",  style={**LEGEND_ROW,**NOPADDING})\n",
    "\n",
    "    styleandlegendcolumn_out = html.Div(\n",
    "                [stylerow, legendrow],\n",
    "                #[row1],\n",
    "                className=\"col col-lg-5\",\n",
    "                #style={**CONTENT_ROW,**NOPADDING}\n",
    "            )\n",
    "    return  styleandlegendcolumn_out\n",
    "\n",
    "styleandlegendcolumn = GetStyleAndLegendColumn(styledatatable,legenddatatable)"
   ]
  },
  {
   "cell_type": "markdown",
   "id": "a7682bd9",
   "metadata": {},
   "source": [
    "# Header"
   ]
  },
  {
   "cell_type": "code",
   "execution_count": 14,
   "id": "ccf644b4",
   "metadata": {},
   "outputs": [],
   "source": [
    "headertext = 'Dark Matter Tool'\n",
    "footertext = \"ACG / WT\"\n",
    "\n",
    "def GetHeaderAndFooter(headertext, footertext):\n",
    "\n",
    "\n",
    "    hdivs = html.P(headertext)\n",
    "    header1 = html.Div([hdivs], style={**FULL_DIV,**NOPADDING},)\n",
    "\n",
    "    fdivs = [html.P(footertext)]\n",
    "    \n",
    "    footer1 = html.Div(fdivs, style={**FULL_DIV,**NOPADDING},)\n",
    "\n",
    "    headerrow_out =  html.Div(className=\"row\",children=[header1],\n",
    "                           style={**HEADER_ROW,**NOPADDING})\n",
    "\n",
    "    footerrow_out =  html.Div(className=\"row\",children=[footer1],\n",
    "                           style={**FOOTER_ROW,**NOPADDING})\n",
    "    \n",
    "    return headerrow_out, footerrow_out\n",
    "\n",
    "headerrow, footerrow = GetHeaderAndFooter(headertext, footertext)"
   ]
  },
  {
   "cell_type": "code",
   "execution_count": null,
   "id": "2c0a9c28",
   "metadata": {},
   "outputs": [],
   "source": []
  },
  {
   "cell_type": "markdown",
   "id": "0ea86dfe",
   "metadata": {},
   "source": [
    "# Chart"
   ]
  },
  {
   "cell_type": "code",
   "execution_count": 15,
   "id": "3fc7861a",
   "metadata": {},
   "outputs": [],
   "source": [
    "chart_in = 'chart here'\n",
    "\n",
    "def GetChart(chart_in):\n",
    "\n",
    "    chartdiv = html.P(chart_in)\n",
    "\n",
    "    chart_col =  html.Div(children=[chartdiv],className=\"col col-lg-12\",style={**NOPADDING, **CHART_DIV})\n",
    "\n",
    "    chart_row = html.Div([chart_col],\n",
    "                    className=\"row\",  style={**CHART_ROW,**NOPADDING})\n",
    "\n",
    "    column_chart_out = html.Div(\n",
    "                [chart_row]  ,\n",
    "                className=\"col col-lg-5\"\n",
    "            )\n",
    "    return column_chart_out\n",
    "\n",
    "column_chart = GetChart(chart_in)"
   ]
  },
  {
   "cell_type": "markdown",
   "id": "9b260c3a",
   "metadata": {},
   "source": [
    "# Side Bars"
   ]
  },
  {
   "cell_type": "code",
   "execution_count": 16,
   "id": "ba3e6973",
   "metadata": {},
   "outputs": [],
   "source": [
    "l_sidebar_in = 'L sidebar'\n",
    "r_sidebar_in = 'R sidebar'\n",
    "\n",
    "def GetSideBars(l_sidebar_in, r_sidebar_in):\n",
    "\n",
    "    l_sidebar_col_out =  html.Div(children='L sidebar',\n",
    "                                  className=\"col col-lg-1\",\n",
    "                                  style={**NOPADDING, **SIDEBAR_DIV})\n",
    "    \n",
    "    r_sidebar_col_out =  html.Div(children='R sidebar',\n",
    "                                  className=\"col col-lg-1\",\n",
    "                                  style={**NOPADDING, **SIDEBAR_DIV})\n",
    "    \n",
    "    \n",
    "    return l_sidebar_col_out, r_sidebar_col_out\n",
    "\n",
    "\n",
    "l_sidebar_col, r_sidebar_col = GetSideBars(l_sidebar_in, r_sidebar_in) "
   ]
  },
  {
   "cell_type": "markdown",
   "id": "3a54903f",
   "metadata": {},
   "source": [
    "# Middle Row"
   ]
  },
  {
   "cell_type": "code",
   "execution_count": 17,
   "id": "4bf001f9",
   "metadata": {},
   "outputs": [],
   "source": [
    "fourcolumns =  html.Div(className=\"row\",children=[l_sidebar_col,column_chart,\n",
    "                                                  styleandlegendcolumn,r_sidebar_col,],\n",
    "                        style={**ALL_ROW,**NOPADDING})\n"
   ]
  },
  {
   "cell_type": "markdown",
   "id": "ea9be1a4",
   "metadata": {},
   "source": [
    "# Full Layout"
   ]
  },
  {
   "cell_type": "code",
   "execution_count": 18,
   "id": "0242a2f7",
   "metadata": {},
   "outputs": [],
   "source": [
    "layout4 = html.Div([headerrow,fourcolumns,footerrow],\n",
    "                   className=\"container-fluid\",\n",
    "                   style=MASTER_CONTAINER_STYLE,\n",
    "                  )"
   ]
  },
  {
   "cell_type": "code",
   "execution_count": 19,
   "id": "29527f42",
   "metadata": {},
   "outputs": [],
   "source": [
    "app.layout = layout4"
   ]
  },
  {
   "cell_type": "markdown",
   "id": "87d9e450",
   "metadata": {},
   "source": [
    "# Run App"
   ]
  },
  {
   "cell_type": "code",
   "execution_count": 20,
   "id": "4096b2fd",
   "metadata": {},
   "outputs": [
    {
     "name": "stdout",
     "output_type": "stream",
     "text": [
      "Dash app running on http://0.0.0.0:5051/dash1/\n"
     ]
    }
   ],
   "source": [
    "app.run_server(host=\"0.0.0.0\", port=5051, debug=True) "
   ]
  },
  {
   "cell_type": "code",
   "execution_count": null,
   "id": "c4faf177",
   "metadata": {},
   "outputs": [],
   "source": []
  },
  {
   "cell_type": "code",
   "execution_count": null,
   "id": "5370e727",
   "metadata": {},
   "outputs": [],
   "source": []
  }
 ],
 "metadata": {
  "kernelspec": {
   "display_name": "Python 3",
   "language": "python",
   "name": "python3"
  },
  "language_info": {
   "codemirror_mode": {
    "name": "ipython",
    "version": 3
   },
   "file_extension": ".py",
   "mimetype": "text/x-python",
   "name": "python",
   "nbconvert_exporter": "python",
   "pygments_lexer": "ipython3",
   "version": "3.8.10"
  }
 },
 "nbformat": 4,
 "nbformat_minor": 5
}

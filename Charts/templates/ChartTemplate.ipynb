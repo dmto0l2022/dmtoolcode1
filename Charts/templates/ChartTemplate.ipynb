{
 "cells": [
  {
   "cell_type": "code",
   "execution_count": 273,
   "id": "e2be797e",
   "metadata": {},
   "outputs": [],
   "source": [
    "import itertools\n",
    "from pprint import pprint\n",
    "import os\n",
    "import numpy as np"
   ]
  },
  {
   "cell_type": "code",
   "execution_count": 274,
   "id": "8501315c",
   "metadata": {},
   "outputs": [],
   "source": [
    "import json\n",
    "import pandas as pd\n",
    "import plotly.express as px\n",
    "import plotly\n",
    "import plotly.graph_objects as go\n",
    "from plotly.subplots import make_subplots\n",
    "#import pyproj"
   ]
  },
  {
   "cell_type": "code",
   "execution_count": 275,
   "id": "3abb5840",
   "metadata": {},
   "outputs": [],
   "source": [
    "from jupyter_dash import JupyterDash\n",
    "import dash\n",
    "from dash import dcc\n",
    "from dash import html\n",
    "from dash import Input, Output\n",
    "import dash_bootstrap_components as dbc"
   ]
  },
  {
   "cell_type": "code",
   "execution_count": 276,
   "id": "b4ab26c2-0aed-4686-bcf4-0dbc59073216",
   "metadata": {},
   "outputs": [],
   "source": [
    "COMPONENT_STYLE = \"/assets/my_component.css\"\n",
    "external_stylesheets=[dbc.themes.BOOTSTRAP]\n",
    "\n",
    "app = JupyterDash(__name__,requests_pathname_prefix=\"/dash1/\",routes_pathname_prefix='/dash1/',\n",
    "                  external_stylesheets=external_stylesheets,\n",
    "                  meta_tags=[{'name': 'viewport', 'content': 'width=device-width, initial-scale=1'}],\n",
    "                 suppress_callback_exceptions=True)\n",
    "# Create server variable with Flask server object for use with gunicorn\n",
    "server = app.server"
   ]
  },
  {
   "cell_type": "code",
   "execution_count": 277,
   "id": "fb924c5c",
   "metadata": {},
   "outputs": [
    {
     "data": {
      "text/plain": [
       "'/srv/jupyterhub/notebooks/dmtoolnotes/Charts'"
      ]
     },
     "execution_count": 277,
     "metadata": {},
     "output_type": "execute_result"
    }
   ],
   "source": [
    "cwd = os.getcwd()\n",
    "cwd"
   ]
  },
  {
   "cell_type": "code",
   "execution_count": 278,
   "id": "ec0ca7d5-205b-45da-84ce-6df5a25886f3",
   "metadata": {},
   "outputs": [],
   "source": [
    "mainpanel = html.Div(\n",
    "            [\n",
    "                html.Div(\n",
    "            [\n",
    "            html.H3(children='Left Full Height'),\n",
    "            ],\n",
    "            style={\"height\":\"70vh\", \"width\": \"60vw\", \"background-color\":\"purple\", \"padding\":\"0px\"})\n",
    "            ],\n",
    "            className=\"col\", style={\"height\":\"70vh\",\"width\": \"60vw\", \"padding\":\"0px\"}##,\"background-color\":\"purple\"}\n",
    "        )\n",
    "\n",
    "rightrow1 =          html.Div(\n",
    "            [\n",
    "                html.Div(\n",
    "            [\n",
    "                html.H3(children='Panel 1'),\n",
    "            ],\n",
    "            className=\"short-div\", style={\"height\":\"35vh\",\"background-color\":\"green\"}\n",
    "        ), \n",
    "                 html.Div(\n",
    "            [\n",
    "                html.H3(children='Panel 2'),\n",
    "            ],\n",
    "            className=\"short-div\", style={\"height\":\"35vh\",\"background-color\":\"yellow\"}\n",
    "        ), \n",
    "            ],\n",
    "            className=\"col\", style={\"width\": \"20vw\",\"padding\":\"0px\",}\n",
    "        )\n",
    "\n",
    "rightrow2 = html.Div(\n",
    "            [\n",
    "                html.Div(\n",
    "            [\n",
    "                html.H3(children='Panel 3'),\n",
    "            ],\n",
    "            className=\"short-div\", style={\"height\":\"35vh\",\"background-color\":\"red\"}\n",
    "        ), \n",
    "                 html.Div(\n",
    "            [\n",
    "                html.H3(children='Panel 4'),\n",
    "            ],\n",
    "            className=\"short-div\", style={\"height\":\"35vh\",\"background-color\":\"blue\"}\n",
    "        ), \n",
    "            ],\n",
    "            className=\"col\", style={\"width\": \"20vw\", \"padding\":\"0px\"}\n",
    "        )\n",
    "\n",
    "layout6 =  html.Div(className=\"row\",children=[mainpanel,rightrow1,rightrow2,], style={\"padding\":\"0px\"})"
   ]
  },
  {
   "cell_type": "code",
   "execution_count": 279,
   "id": "70f5a207",
   "metadata": {},
   "outputs": [],
   "source": [
    "\n",
    "header_height, footer_height = \"5vh\", \"5vh\"\n",
    "sidebar_width, adbar_width = \"9vh\", \"9vh\"\n",
    "table_height = \"20vh\"\n",
    "headerplustable_height = \"25vh\"\n",
    "\n",
    "HEADER_STYLE = {\n",
    "    \"position\": \"fixed\",\n",
    "    \"top\": 0,\n",
    "    \"left\": 0,\n",
    "    \"right\": 0,\n",
    "    \"height\": header_height,\n",
    "    \"padding\": \"0rem 0rem\",\n",
    "    \"background-color\": \"lightblue\",\n",
    "}\n",
    "\n",
    "TABLE_STYLE = {\n",
    "    \"position\": \"fixed\",\n",
    "    \"top\": header_height,\n",
    "    \"margin-left\": sidebar_width,\n",
    "    \"margin-right\": adbar_width,\n",
    "    \"margin-bottom\": footer_height,\n",
    "    \"left\": 0,\n",
    "    \"right\": 0,\n",
    "    \"height\": table_height,\n",
    "    \"padding\": \"0rem 0rem\",\n",
    "    \"background-color\": \"white\",\n",
    "}\n",
    "\n",
    "SIDEBAR_STYLE = {\n",
    "    \"position\": \"fixed\",\n",
    "    \"top\": header_height,\n",
    "    \"left\": 0,\n",
    "    \"bottom\": footer_height,\n",
    "    \"width\": sidebar_width,\n",
    "    \"padding\": \"0rem 0rem\",\n",
    "    \"background-color\": \"lightgreen\",\n",
    "}\n",
    "\n",
    "ADBAR_STYLE = {\n",
    "    \"position\": \"fixed\",\n",
    "    \"top\": header_height,\n",
    "    \"right\": 0,\n",
    "    \"bottom\": footer_height,\n",
    "    \"width\": adbar_width,\n",
    "    \"padding\": \"0rem 0rem\",\n",
    "    \"background-color\": \"lightgreen\",\n",
    "}\n",
    "\n",
    "FOOTER_STYLE = {\n",
    "    \"position\": \"fixed\",\n",
    "    \"bottom\": 0,\n",
    "    \"left\": 0,\n",
    "    \"right\": 0,\n",
    "    \"height\": footer_height,\n",
    "    \"padding\": \"0rem 0rem\",\n",
    "    \"background-color\": \"gray\",\n",
    "}\n",
    "\n",
    "CONTENT_STYLE = {\n",
    "    \"position\": \"fixed\",\n",
    "    \"top\": headerplustable_height,\n",
    "    \"height\" : \"68vh\",\n",
    "    #\"margin-top\": headerplustable_height,\n",
    "    \"margin-left\": \"10vh\" , ## sidebar_width,\n",
    "    \"margin-right\": \"10vh\", # adbar_width,\n",
    "    \"margin-bottom\": footer_height,\n",
    "    \"padding\": \"0vh 0vh\",\n",
    "}\n",
    "\n",
    "header = html.Div([\n",
    "    html.P('Dashboard Template')], style=HEADER_STYLE,\n",
    ")\n",
    "\n",
    "fdivs = [html.P(\"ACG Data Engineering\")]\n",
    "footer = html.Div(fdivs, style=FOOTER_STYLE,)\n",
    "#footer = html.Div(filters, style=FOOTER_STYLE,)\n",
    "\n",
    "adbar = html.Div([\n",
    "    html.P('R')],\n",
    "    style=ADBAR_STYLE,\n",
    ")\n",
    "\n",
    "sidebar = html.Div(\n",
    "    [html.P(\"L\", className=\"lead\")],\n",
    "    #filters,\n",
    "    style=SIDEBAR_STYLE,\n",
    ")\n",
    "\n",
    "#cdivs = [html.P(\"content\")]\n",
    "cdivs = [layout6]\n",
    "\n",
    "tabledivs = [html.P(\"Table\")]\n",
    "table = html.Div(tabledivs,style=TABLE_STYLE,)\n",
    "\n",
    "content = html.Div(cdivs, style=CONTENT_STYLE)\n",
    "\n",
    "layout3 = html.Div([header, table, sidebar, adbar, content, footer])"
   ]
  },
  {
   "cell_type": "code",
   "execution_count": 280,
   "id": "3756acbd",
   "metadata": {},
   "outputs": [
    {
     "name": "stdout",
     "output_type": "stream",
     "text": [
      "Dash app running on http://0.0.0.0:5051/dash1/\n"
     ]
    }
   ],
   "source": [
    "app.layout = layout3\n",
    "#app.config.suppress_callback_exceptions = True\n",
    "app.run_server(host=\"0.0.0.0\", port=5051, debug=True, use_reloader=False) "
   ]
  },
  {
   "cell_type": "code",
   "execution_count": null,
   "id": "eb70c939",
   "metadata": {},
   "outputs": [],
   "source": []
  }
 ],
 "metadata": {
  "kernelspec": {
   "display_name": "Python 3 (ipykernel)",
   "language": "python",
   "name": "python3"
  },
  "language_info": {
   "codemirror_mode": {
    "name": "ipython",
    "version": 3
   },
   "file_extension": ".py",
   "mimetype": "text/x-python",
   "name": "python",
   "nbconvert_exporter": "python",
   "pygments_lexer": "ipython3",
   "version": "3.10.2"
  }
 },
 "nbformat": 4,
 "nbformat_minor": 5
}
